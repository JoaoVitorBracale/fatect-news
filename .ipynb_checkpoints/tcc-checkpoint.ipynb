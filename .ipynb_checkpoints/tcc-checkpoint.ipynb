{
 "cells": [
  {
   "cell_type": "markdown",
   "metadata": {},
   "source": [
    "<div align=\"center\">\n",
    " <img src=\"https://raw.githubusercontent.com/matheusmota/facens-dataviz/master/resources/images/logo_facens_pos.png\" width=\"150px\">\n",
    "</div>\n",
    "<p style=\"text-align: center;\"><strong> FACULDADE DE ENGENHARIA DE SOROCABA - FACENS</strong>\n",
    "    <br />\n",
    "    PÓS GRADUAÇÃO EM ESPECIALIZAÇÃO EM CIÊNCIA DE DADOS\n",
    "</p>\n",
    "<h2>&nbsp;</h2>"
   ]
  },
  {
   "cell_type": "markdown",
   "metadata": {},
   "source": [
    "<p style=\"text-align: center;\"><strong>ALEX COELHO ABRANTES</strong></p>\n",
    "<p style=\"text-align: center;\"><strong>BRUNO ALVES COMITRE</strong></p>\n",
    "<h2>&nbsp;</h2>\n",
    "<p style=\"text-align: center;\"><strong>DETECÇÃO AUTOMATIZADA DE NOTÍCIAS FALSAS:</strong></p>\n",
    "<p style=\"text-align: center;\"><strong>UM ESTUDO SOBRE O RECONHECIMENTO DE INTEGRIDADE DAS INFORMAÇÕES</strong></p>\n",
    "<h2>&nbsp;</h2>"
   ]
  },
  {
   "cell_type": "markdown",
   "metadata": {},
   "source": [
    "<p style=\"text-align: right;\">Tese apresentada ao Programa de P&oacute;s-Gradua&ccedil;&atilde;o <br />\n",
    "em Ci&ecirc;ncias de Dados da Faculdade de Engenharia de <br />\n",
    "Sorocaba - FACENS, como requisito parcial para a obten&ccedil;&atilde;o <br />\n",
    "do t&iacute;tulo de P&oacute;s Graduado em Ci&ecirc;ncia de Dados. <br />\n",
    "</p>\n",
    "\n",
    "<p style=\"text-align: right;\"> <b>Orientador:</b> Prof. Matheus Mota<br>\n",
    "                               <b>Coordenador:</b> Prof. Fernando Vieira da Silva </p>\n",
    "<h2>&nbsp;</h2>"
   ]
  },
  {
   "cell_type": "markdown",
   "metadata": {},
   "source": [
    "<p style=\"text-align: center;\">SOROCABA</p>\n",
    "<p style=\"text-align: center;\">2019</p>\n",
    "<h2>&nbsp;</h2>"
   ]
  },
  {
   "cell_type": "markdown",
   "metadata": {},
   "source": [
    "***"
   ]
  },
  {
   "cell_type": "markdown",
   "metadata": {},
   "source": [
    "# Preâmbulo"
   ]
  },
  {
   "cell_type": "markdown",
   "metadata": {},
   "source": [
    "## Dedicatória\n",
    "\n",
    "<p style=\"text-align: center;\">&nbsp;</p>\n",
    "<p style=\"text-align: justify;\">\n",
    "    Este trabalho é dedicado a Alan Turing, gênio que dedicou sua vida ao avanço da ciência da computação, que entregou sua história à evolução tecnológica que, hoje, nos permite viver melhor e sonhar cada vez mais alto. Dedicamos este trabalho a ele como forma de reiterar nossa profunda gratidão e admiração por sua dedicação, já que, em vida, estes sentimentos lhes foram tão negligenciados. </br>\n",
    "    Dedicamos este trabalho, também, aos nossos pais, que a despeito das nossas muitas ausências, sempre estiveram presentes.</p>\n",
    "<h2>&nbsp;</h2>"
   ]
  },
  {
   "cell_type": "markdown",
   "metadata": {},
   "source": [
    "## Agradecimentos\n",
    "<p style=\"text-align: center;\">&nbsp;</p>\n",
    "<p style=\"text-align: justify;\"> \n",
    "Gostaríamos de aproveitar este espaço para agradecer: <br> <br>\n",
    "&nbsp;&nbsp;&nbsp;&nbsp;&nbsp;À FACENS, por nos proporcionar dias de muita aprendizagem.\n",
    "</p>\n",
    "<p style=\"text-align: justify;\">\n",
    "&nbsp;&nbsp;&nbsp;&nbsp;&nbsp;Aos professores, pelo esforço <i>gigante</i>, pela paciência, pela sabedoria e, principalmente, pelos recursos técnicos e pessoais a nós ofertados através da exposição à novas experiências.\n",
    "</p>\n",
    "<p style=\"text-align: justify;\">\n",
    "&nbsp;&nbsp;&nbsp;&nbsp;&nbsp;Às nossas queridas famílias e queridos amigos, pelos incentivos, inspirações, gestos e palavras  que nos ajudaram a superar todas as dificuldades e ausências.\n",
    "</p>\n",
    "<p style=\"text-align: justify;\">\n",
    "&nbsp;&nbsp;&nbsp;&nbsp;&nbsp;À todas as pessoas que de alguma forma nos ajudaram e nos inspiraram, acreditaram, torceram, mas que, injustamente, aparecem anônimas nestes gradecimentos. À cada um de vocês, o nosso sincero e profundo agradecimento.\n",
    "</p>\n",
    "<h2>&nbsp;</h2>"
   ]
  },
  {
   "cell_type": "markdown",
   "metadata": {},
   "source": [
    "## RESUMO\n",
    "<p style=\"text-align: center;\">&nbsp;</p>\n",
    "\n",
    "<p style=\"text-align: justify;\">\n",
    "Abrir o Google, digitar “fake news”, pesquisar, encontraremos diversas definições, mas, resumidamente “fake news” que em português significa “Notícia Falsa”, é a forma de propagação de desinformações por meio de comunicação com a intenção de enganar a fim de obter algum tipo de vantagem. São abordadas principalmente no contexto político, científico, social e valores cívicos, geralmente atraindo grupos de pessoas que buscam a princípio a atenção por informações rápidas e curtas, ou seja, notícias prontas sobre determinados assuntos que explana toda informação e opinião.\n",
    "</p>\n",
    "\n",
    "<p style=\"text-align: justify;\">Além do alto impacto da propagação, existe a questão dos robôs de internet, são aplicações autônomas que rodam na internet executando algum tipo de tarefa pré-determinada. Criminosos e pessoas mal-intencionadas utilizam esses robôs para propagar conteúdos falsos pela internet, e foi muito utilizado nas campanhas eleitorais norte-americanas. Atualmente existe uma preocupação global no combate dessas \"fábricas de mentiras\". A questão agora está em como intervir para diminuir esse tipo de propagação? Como identificar uma notícia falsa? Como impedir uma disseminação viral de notícias?\n",
    "</p>\n",
    "\n",
    "<p style=\"text-align: justify;\">Além do contexto educacional, temos como abordagem deste trabalho a detecção e intervenção com base em algoritmo de aprendizado de máquina identificar textos caracterizados como uma notícia falsa.</p>\n",
    "\n",
    "<p><strong>PALAVRAS-CHAVE: <em>Fake News</em>. Dados. Comunicação. Aprendizado de Máquina.</strong></p>\n",
    "<h2>&nbsp;</h2>"
   ]
  },
  {
   "cell_type": "markdown",
   "metadata": {},
   "source": [
    "## ABSTRACT\n",
    "\n",
    "<p style=\"text-align: center;\">&nbsp;</p>\n",
    "\n",
    "<p style=\"text-align: justify;\">\n",
    "Opening Google, typing “fake news”, searching, we will find several definitions, but in short “fake news” which in Portuguese means “False News”, is the form of spreading misinformation through communication intended to mislead in order to to gain some kind of advantage. They are mainly addressed in the political, scientific, social and civic context, generally attracting groups of people who seek attention at first for quick and short information, ie ready-made news on certain subjects that explain all information and opinion.\n",
    "</p>\n",
    "<p style=\"text-align: justify;\">\n",
    "Besides the high impact of propagation, there is the issue of internet robots, they are standalone applications that run on the internet performing some kind of predetermined task. Criminals and malicious people use these robots to spread fake content over the Internet, and it has been widely used in US election campaigns. There is currently a global concern in fighting these \"lie factories\". The question now is how to intervene to slow this kind of spread? How to identify fake news? How to prevent a viral spread of news?\n",
    "</p>\n",
    "<p style=\"text-align: justify;\">\n",
    "In addition to the educational context, we have as approach to this work the detection and intervention based on machine learning algorithm identify texts characterized as false news.\n",
    "</p>\n",
    "\n",
    "<p><strong>KEYWORDS: Fake News. Data. Communication. Machine Learning.</strong></p>\n",
    "<h2>&nbsp;</h2>"
   ]
  },
  {
   "cell_type": "markdown",
   "metadata": {},
   "source": [
    "<p style=\"text-align: lesft;\"><strong>SUMÁRIO</strong></p>\n",
    "<p style=\"text-align: center;\">&nbsp;</p>\n",
    "\n",
    "REFAZER\n",
    "\n",
    "<!-- <ul>\n",
    "    <li><a href='#fake_news'>1. FAKE NEWS</a></li>\n",
    "    <li><a href='#redes_neurais'>2. REDES NEURAIS</a></li>\n",
    "    <ul>\n",
    "        <li><a href='#rnn'>2.1 Redes Neurais Recorrentes</a></li>\n",
    "        <li><a href='#aprendizado'>2.2 Métodos de Aprendizado</a></li>\n",
    "        <li><a href='#lstm'>2.3 Long Short-term Memory</a></li>\n",
    "        <li><a href='#padrao_texto'>2.4 Padrões de Texto com Python</a></li>\n",
    "    </ul>\n",
    "    <li><a href='#redes_neurais'>3. ANÁLISE EXPLORATÓRIA DOS DADOS</a></li>\n",
    "    <ul>\n",
    "        <li><a href='#rnn'>3.1 Dados Faltantes</a></li>\n",
    "        <li><a href='#aprendizado'>3.2 Novos Recursos (Features)</a></li>\n",
    "        <li><a href='#lstm'>3.3 Dados Desiquilibrados e Randon Shuffle</a></li> \n",
    "    </ul>\n",
    "    <li><a href='#informacao'>4. ANÁLISE GRÁFICA DOS DADOS</a></li>\n",
    "    <ul>\n",
    "        <li><a href='#wordcloud'>4.1 Word Cloud</a></li>\n",
    "        <li><a href='#histograma'>4.2 Histograma</a></li> \n",
    "        <li><a href='#boxplot'>4.3 Boxplot</a></li> \n",
    "        <li><a href='#dispersao'>4.4 Dispersão</a></li>\n",
    "        <li><a href='#correlacao'>4.5 Correlação</a></li> \n",
    "    </ul>\n",
    "    <li><a href='#implementacao'>5. IMPLEMENTAÇÃO</a></li> \n",
    "    <ul>\n",
    "        <li><a href='#codigo_keras'>5.1 Modelo em Keras TensorFlow</a></li> \n",
    "    </ul>\n",
    "    <li><a href='#resultados'>6. RESULTADO FINAL</a></li>\n",
    "    <li><a href='#referencias'>REFERÊNCIAS</a></li>\n",
    "</ul> -->\n",
    "\n",
    "<h2>&nbsp;</h2>"
   ]
  },
  {
   "cell_type": "markdown",
   "metadata": {},
   "source": [
    "***"
   ]
  },
  {
   "cell_type": "markdown",
   "metadata": {},
   "source": [
    "# Introdução e Contextualização\n",
    "\n",
    "<a id='fake_news'></a>\n",
    "\n",
    "<p style=\"text-align: justify;\">\n",
    "Réflexions d’Un Historien Sur les Fausses Nouvelles de la Guerre, que em português significa (“Reflexões de um historiador sobre as falsas notícias da guerra”, Allia, 2012) é o título de um texto publicado originalmente em 1921 por Marc Bloch, um dos mais influentes historiadores do século XX, após retornar da Primeira Guerra Mundial alucinado com a importância que as notícias falsas haviam tido, ao refletir sobre escreveu: “Histórias falsas aumentaram a multidão. As notícias falsas, em toda a multiplicidade de suas formas - contos simples, imposturas, lendas - encheram a vida da humanidade. “, continuou, “Como elas nascem? De quais elementos elas extraem? Como elas se espalham, ganhando impulso quando passam de boca em boca ou escrevendo por escrito? Não há dúvida mais do que aqueles que merecem fascinar quem gosta de pensar em história. ” E afirmou, “Um erro só se propaga e se amplifica, só ganha vida com uma condição: encontrar um caldo de cultivo favorável na sociedade onde se expande. Nele, de forma inconsciente, os homens expressam seus preconceitos, seus ódios, seus temores, todas as suas emoções”. Em outras palavras, as notícias falsas necessitam de pessoas que preferem informações que confirmam suas atitudes preexistentes, veem as informações consistentes com suas crenças como mais persuasivas do que as dissonantes e tendem a aceitar informações que as agradam.\n",
    "</p>\n",
    "\n",
    "<p style=\"text-align: justify;\">\n",
    "Um estudo que avaliou a divulgação de importantes notícias falsas estimou que o americano encontrou entre uma a três notícias falsas durante o mês anterior às eleições americanas de 2016. Outro estudo relatou que informações falsas no Twitter são normalmente retuitadas por muito mais pessoas, e muito mais rapidamente, do que informações verdadeiras, especialmente quando o assunto é política, as pessoas têm muito mais probabilidade de acreditar em histórias que favorecem seu candidato preferido. Pesquisadores das universidades do Sul da Califórnia e de Indiana estimaram que haja entre 9% a 15% de robôs no Twitter e o Facebook estimou que 60 milhões de robôs podem estar infestando sua plataforma. Eles foram responsáveis por uma parte substancial do conteúdo político publicado durante a campanha nos EUA de 2016, e alguns dos mesmos robôs foram usados mais tarde para tentar influenciar a eleição francesa de 2017. Portanto, a identificação dessas notícias falsas e a tentativa de impedir que não se tornem virais nas mídias sociais, é um grande desafio de pesquisa.</p>\n",
    "\n",
    "<p style=\"text-align: justify;\">\n",
    "O desafio proposto é criar um modelo em aprendizado de máquina para reconhecimento de linguagem humana ou natural sobre um conjunto de dados que contenha textos, e seja capaz de identificar se o texto se referência a notícia verdadeira ou se trata de uma notícia falsa, as chamadas <b>Fake News</b>.\n",
    "</p>\n",
    "\n",
    "<p style=\"text-align: justify;\">\n",
    "    No início dos estudos nosso desafio era extrair tais informações por meio de sites jornalísticos e blogs, mas, entendemos que a demanda de tempo seria grande e o foco do trabalho é o desenvolvendo de um modelo para aprendizado de máquina que seja capaz de identificar uma notícia falsa, então a tarefa de scraping foi cancelada e procuramos encontrar algum conjunto de dados que atendesse a estrutura que havíamos planejado: </p>\n",
    "    \n",
    "```json\n",
    "{\"article\": {\n",
    "   \"id\": \"number sequencial\",\n",
    "   \"type\": \"object\",\n",
    "   \"url\": \"string\",\n",
    "   \"base_url\": \"string\",\n",
    "   \"main_language\": \"string\",\n",
    "   \"authors\": \"string\",\n",
    "   \"title\": \"string\",\n",
    "   \"subtitle\": \"string\",\n",
    "   \"body\": {\n",
    "        \"paragraphs\": \"qtdy paragraphs\",\n",
    "        \"paragraphs_body\": \"array each paragraphs\",\n",
    "        \"paragraphs_main_entities\": \"array each main entities\",\n",
    "        \"number_of_words\": \"string\",\n",
    "        \"tags\": \"string\",\n",
    "        \"images_url\": \"string\",\n",
    "        \"image_legends\": \"string\",\n",
    "        \"datetime\": \"string\"\n",
    "    }\n",
    " }\n",
    "}\n",
    "```\n",
    "\n",
    "<p style=\"text-align: justify;\">Segundo Victoria L. Rubin et al. 9 pontos são importantes para a coleta dos dados:</p>\n",
    "<p style=\"text-align: justify;\">\n",
    "<li>\n",
    "    <ul>- Paridade de notícias verdadeiras e falsas</ul>\n",
    "    <ul>- Notícias em versão texto</ul>\n",
    "    <ul>- Possibilidade de confirmar a verdade</ul>\n",
    "    <ul>- Homogeneidade no tamanho dos artigos</ul>\n",
    "    <ul>- Homogeneidade no estilo de escrita</ul>\n",
    "    <ul>- Janela de tempo bem definida para coleta</ul>\n",
    "    <ul>- Definir o estilo de notícia</ul>\n",
    "    <ul>- Fatores pragmáticos, como custo de aquisição e disponibilidade das notícias</ul>\n",
    "    <ul>- Definir idioma e cultura das notícias</ul>\n",
    "</li>\n",
    "</p>\n",
    "\n",
    "<h2>&nbsp;</h2>\n",
    "\n",
    "\n",
    "<p style=\"text-align: justify;\"> Encontramos um conjunto de dados em um desafio do site Kaggle, intitulado: Fake News - Build a system to identify unreliable news articles. A pesquisa contém 20.000 dados extraídos na web e estão rotulados como confiável e não confiável. O conjunto de dados é composto por artigos de âmbito político  e no idioma inglês, portanto todo o estudo será com base neste idioma. \n",
    "<p style=\"text-align: justify;\">\n",
    "<li>\n",
    "    <ul><div class=\"alert alert-block alert-info\" role=\"alert\">\n",
    "          <a href=\"https://www.kaggle.com/c/fake-news/data\"><b>Link: https://www.kaggle.com/c/fake-news/data</b></a>\n",
    "        </div>\n",
    "    </ul>\n",
    "</li>\n",
    "</p>\n",
    "<p>O Schema do conjunto de dados se aproximou com o que estávamos planejando, e por esse motivo nos ajudou na escolha desse desafio:</b></p>\n",
    "\n",
    "```json\n",
    "{\n",
    " \"article\": {\n",
    "   \"id\": \"number sequencial\",\n",
    "   \"author\": \"string\",\n",
    "   \"title\": \"string\",\n",
    "   \"text\": \"string\",\n",
    "   \"target\": \"boolean\"\n",
    " }\n",
    "}\n",
    "```\n",
    "\n",
    "<h2>&nbsp;</h2>"
   ]
  },
  {
   "cell_type": "markdown",
   "metadata": {
    "toc-hr-collapsed": false
   },
   "source": [
    "# Conceitos e Trabalhos Relacionados"
   ]
  },
  {
   "cell_type": "markdown",
   "metadata": {
    "toc-hr-collapsed": true
   },
   "source": [
    "## Redes Neurais"
   ]
  },
  {
   "cell_type": "markdown",
   "metadata": {},
   "source": [
    "<p style=\"text-align: justify;\">\n",
    "Biologicamente o cérebro humano ao qual possui bilhões de neurônios conectados entre si, constituído por um corpo celular ligado por ramificações, chamadas de dendritos, onde conhecidos como axônio, possuem um terminal denominado de telodendro. E esta sinapse que faz a ligação entre dois neurônios, ligados e através de pulsos nervosos se comunicam. Estes impulsos recebidos são processados até atingir um limiar de ação, que produz uma substância neurotransmissora que flui do corpo celular para o axônio que está conectada a um dendrito de outro neurônio. Inspirado pelo sistema nervoso central a ciência da computação desenvolveu técnicas computacionais que apresentam modelos matemáticos capazes de adquirirem conhecimentos através de experiências e padrões.\n",
    "</p>\n",
    "<p style=\"text-align: justify;\">\n",
    "O reconhecimento de padrões funciona como um algoritmo de aprendizado de máquina que ajustam a saída para que os neurônios ou nós interconectados entre si, formam uma rede complexa de processamento ao qual essas informações a fim de serem utilizadas para aplicações em controle de processos em diversas áreas, desde o reconhecimento de fala, quanto escrita e padrões.\n",
    "</p>\n",
    "\n",
    "<h2>&nbsp;</h2>"
   ]
  },
  {
   "cell_type": "markdown",
   "metadata": {},
   "source": [
    "### Redes Neurais Recorrentes\n",
    "\n",
    "<p style=\"text-align: justify;\">\n",
    "Através dos estudos das Redes Neurais biológicas caracterizaram-se as Redes Neurais Recorrentes (RNN). Perceberam que com esta metodologia poderia resolver problemas de finalidades não algorítmicas ao simular reconhecimento de resolução de problemas que apenas o cérebro humano seria capaz de realizar. Com isso criou-se o conceito das RNNs. Geralmente esta rede é conectada por canais de comunicação associados em operações de entrada e saída entre as conexões, gerando interações entre os nós desta rede a fim de criar um comportamento inteligente. As Redes Neurais Recorrentes têm como características sua capacidade de fazer armazenamento associativo.\n",
    "</p> \n",
    "<p style=\"text-align: justify;\">\n",
    "O objetivo do campo é criar modelos que se aproximem do funcionamento de sistemas biológicos dos seres humanos. E para isso são realizados modelos de redes neurais voltados a teoria biológica para o aprendizado estatístico e teoria da informação.\n",
    "</p>\n",
    "\n",
    "<h2>&nbsp;</h2>"
   ]
  },
  {
   "cell_type": "markdown",
   "metadata": {},
   "source": [
    "### Métodos de Aprendizado\n",
    "\n",
    "<p style=\"text-align: justify;\">\n",
    "Existem inúmeros tipos de algoritmo de aprendizado de máquinas e ao estudo de RNNs. Estes algoritmos se diferenciam entre si pelo método de classificação e modificação dos pesos de suas conexões. Entre os métodos mais conhecidos podemos ter como referências:\n",
    "</p>\n",
    "\n",
    "<p style=\"text-align: justify;\">\n",
    "    \n",
    "- Aprendizado Supervisionado;\n",
    "- Aprendizado Não Supervisionado;\n",
    "- Aprendizado Hebbiano;\n",
    "- Aprendizado por Reforço;\n",
    "- Aprendizado por Competição.\n",
    "</p>\n",
    "\n",
    "<p style=\"text-align: justify;\">O método utilizado nesta pesquisa teve como base o aprendizado de máquina supervisionado e por reforço.</p>\n",
    "\n",
    "<h2>&nbsp;</h2>"
   ]
  },
  {
   "cell_type": "markdown",
   "metadata": {},
   "source": [
    "### Long Short-term Memory\n",
    "\n",
    "<p style=\"text-align: justify;\">\n",
    "A sigla LSTM, em inglês (Long Short Term Memory), é  a arquitetura de rede neural recorrente de memória  longa, ou seja,  em determinado intervalo arbitrário de valores, é guardado valores antigos, ao qual a rede “lembra\" destes valores. Sendo assim a rede recorrente de longo prazo é adequada para classificar, processar e prever séries temporais com intervalos de tempo de duração desconhecida.\n",
    "</p>\n",
    "\n",
    "<p style=\"text-align: justify;\">\n",
    "Assim sendo uma vantagem da LSTM em relação a RNNs tradicionais. Uma arquitetura comum em LSTM é composta por uma célula (a parte da memória da unidade LSTM) e três \"reguladores\", do fluxo de informações dentro da unidade LSTM, composta ainda por uma porta de entrada, uma porta de saída e uma porta de esquecimento. \n",
    "</p>\n",
    "\n",
    "<p style=\"text-align: justify;\">\n",
    "Existem variações, este não é um modelo exclusivo de uso, possuindo assim mais portões ou mais saídas. Algumas das famosas aplicações das LSTMs incluem, Modelagem de Linguagem, Tradução de Idiomas, Legendas em Imagens, Geração de Texto, e Chatbots.\n",
    "</p>\n",
    "\n",
    "<h2>&nbsp;</h2>\n",
    "\n",
    "\n",
    "<img src=\"https://raw.githubusercontent.com/BrunoComitre/fatect-news/review/imagens/model_lstm.png\" width=\"40%\"/>\n",
    "\n",
    "<h2>&nbsp;</h2>"
   ]
  },
  {
   "cell_type": "markdown",
   "metadata": {},
   "source": [
    "## Padrões de Texto com Python\n",
    "\n",
    "<p style=\"text-align: justify;\">\n",
    "Este trabalho utilizou a linguagem de programação Python. Assim como nos gráficos, insights e no modelo de aprendizagem de máquina para o reconhecimento de padrões de texto e caracteres utilizados a fim identificar de forma mais abstratos conceitos linguísticos com a abordagem das RNNs para separar orações completas e através de neurônios de saída e assim classificar seus significados. \n",
    "</p>\n",
    "\n",
    "<h2>&nbsp;</h2>"
   ]
  },
  {
   "cell_type": "markdown",
   "metadata": {
    "toc-hr-collapsed": false
   },
   "source": [
    "# Overview do Dataset Alvo\n",
    "\n",
    "<p style=\"text-align: justify;\">\n",
    "Inicialmente, foi aplicado de técnicas para manusear valores faltantes e fazer transformações de variáveis. Os dados serão ajustados e estreitando os pressupostos para empregar técnicas gráficas e quantitativas, visando maximizar a obtenção de informações, tendências e detecção de comportamentos.\n",
    "</p>\n",
    "\n",
    "<p style=\"text-align: justify;\">\n",
    "Ao importar os dados, é importante entender e identificar o intervalo de preditores específicos, identificar o tipo de dados de cada preditor, bem como calcular o número ou a porcentagem de valores omissos para cada preditor. Foi utilizado a biblioteca pandas_profiling, esta biblioteca fornece muitas funções extremamente úteis para a análise exploratória de dados.\n",
    "</p>\n",
    "\n",
    "\n",
    "<h2>&nbsp;</h2>\n",
    "\n",
    "<img src=\"https://raw.githubusercontent.com/BrunoComitre/fatect-news/review/imagens/Overview.png\" width=\"60%\"/>\n",
    "\n",
    "<img src=\"https://raw.githubusercontent.com/BrunoComitre/fatect-news/review/imagens/Overview_Var_1.png\" width=\"60%\"/>\n",
    "\n",
    "<img src=\"https://raw.githubusercontent.com/BrunoComitre/fatect-news/review/imagens/Overview_Var_2.png\" width=\"60%\"/>\n",
    "\n",
    "<img src=\"https://raw.githubusercontent.com/BrunoComitre/fatect-news/review/imagens/Overview_Correlacao.png\" width=\"60%\"/>\n",
    "\n",
    "<img src=\"https://raw.githubusercontent.com/BrunoComitre/fatect-news/review/imagens/Overview_Missing_Values.png\" width=\"60%\"/>\n",
    "\n",
    "\n",
    "<h2>&nbsp;</h2>"
   ]
  },
  {
   "cell_type": "markdown",
   "metadata": {},
   "source": [
    "## Incompletude no Dataset\n",
    "\n",
    "<p style=\"text-align: justify;\">\n",
    "A falta de dados pode afetar a análise e o treinamento, que poderá levar a falhas no aprendizado. É possível explorar se há dados ausentes no conjunto de dados através do relatório gerado do pandas_profiting. Observando o relatório identificou:\n",
    "</p>\n",
    "<p style=\"text-align: justify;\">\n",
    "O título do atributo tem 558 amostras (2,68%) com valores ausentes.\n",
    "</p>\n",
    "<p style=\"text-align: justify;\">\n",
    "O autor do atributo possui 1957 amostras (9,41%) com valores ausentes.\n",
    "</p>\n",
    "<p style=\"text-align: justify;\">\n",
    "O texto do atributo tem 39 amostras (0,19%) com valores ausentes.\n",
    "</p>\n",
    "<p style=\"text-align: justify;\">\n",
    "Como existe dados faltantes nos 3 recursos do dataset (Title, Author e Text) eliminar as linhas em que há dados ausentes neste caso é a melhor opção para não comprometer a análise e o treinamento.\n",
    "</p>\n",
    "<p style=\"text-align: justify;\">\n",
    "O resultado da eliminação de 20.800 para 18.285 registros.\n",
    "</p>\n",
    "\n",
    "<h2>&nbsp;</h2>"
   ]
  },
  {
   "cell_type": "markdown",
   "metadata": {},
   "source": [
    "## Derivação de Features \n",
    "\n",
    "<p style=\"text-align: justify;\">\n",
    "Após o tratamento dos dados, identificou-se a necessidade de criar novos recursos (features). A Análise de texto não é uma das tarefas mais fácil a se realizar quando os textos são muito extensos, embora, seja possível através de extração de informações por palavras obter uma melhor compreensão do corpus do texto. Podemos então criar novos recursos para estudar o comportamento do texto a fim de extrair informações como quantidade de palavras, comprimento do artigo e idenficar as classes gramaticais como: substantivos, adjetivos e verbos.</p>\n",
    "<p style=\"text-align: justify;\">\n",
    "Esses novos recursos serão utilizados nas análises gráficas procurando encontrar algum fenômeno ou padrão.\n",
    "</p>\n",
    "\n",
    "```python\n",
    "Index(['id', 'title', 'author', 'text', 'label', 'title_token',\n",
    "       'title_token_distint', 'title_comprimento', 'title_num_palavras',\n",
    "       'title_num_palavras_unicas', 'title_palavras_vs_unico',\n",
    "       'title_substantivos', 'title_adjetivos', 'title_verbos',\n",
    "       'title_contagem_substantivos', 'title_contagem_adjetivos',\n",
    "       'title_contagem_verbos', 'text_token', 'text_token_distint',\n",
    "       'text_comprimento', 'text_num_palavras', 'text_num_palavras_unicas',\n",
    "       'text_palavras_vs_unico', 'text_substantivos', 'text_adjetivos',\n",
    "       'text_verbos', 'text_contagem_substantivos', 'text_contagem_adjetivos',\n",
    "       'text_contagem_verbos'],\n",
    "      dtype='object')\n",
    "```\n",
    "\n"
   ]
  },
  {
   "cell_type": "markdown",
   "metadata": {},
   "source": [
    "## Desbalanceamento de Classes e Random Shuffle\n",
    "\n",
    "<p style=\"text-align: justify;\">\n",
    "Continuando o tratamento nos dados após a eliminação dos registros faltantes, aplicou-se uma análise descritiva para verificar se houve desequilíbrio dos 18.285 registros. Analisando o valor da média do recurso \"Label\", responsável por armazenar os targets, 0 (zero) representa os artigos classificados como não confiáveis e 1 (um) representa os confiáveis, resultou em 43%, isso significa que os dados estão em desequilíbrio. Verificando a diferença têm 2.437 registros a mais para dados confiáveis. Para manter o conjunto de dados equilibrado aplicou-se a técnica de Random Shuffle nos registros com valor 1 assumindo o valor de 7.924 o número total de dados não confiáveis. Agora o conjunto de dados contém total de 15.848 registros distribuídos igualmente em 7.924 confiáveis e 7.924 não confiáveis. </p>\n",
    "\n",
    "<pre>\n",
    "count    18285.000000\n",
    "mean         0.433361\n",
    "std          0.495553\n",
    "min          0.000000\n",
    "25%          0.000000\n",
    "50%          0.000000\n",
    "75%          1.000000\n",
    "max          1.000000\n",
    "Name: label, dtype: float64\n",
    "\n",
    "Não confiável： 7924\n",
    "Confiável： 10361\n",
    "Desequilibrio nos dados de 2437 a mais para registros considerados confiáveis\n",
    "\n",
    "Random Shuffle aplicado no conjunto\n",
    "Não confiável： 7924\n",
    "Confiável： 7924\n",
    "\n",
    "</pre>\n",
    "\n",
    "<h2>&nbsp;</h2>"
   ]
  },
  {
   "cell_type": "markdown",
   "metadata": {
    "toc-hr-collapsed": true
   },
   "source": [
    "## Análise Gráfica do Dataset\n",
    "\n",
    "<p style=\"text-align: justify;\">\n",
    "Os gráficos são recursos importante para identificação de fenômeno que possa ser mensurado, quantificado ou ilustrado, fornecendo uma dimensão estatística sobre um determinado fato. Existem diversos tipos de gráficos e interpretar corretamente é de grande importância para compreender determinados fenômenos. Neste trabalho abordaremos apenas alguns tipos para responder a questões levantadas:\n",
    "</p>\n",
    "\n",
    "<p style=\"text-align: justify;\">\n",
    "<ul>\n",
    "    <li>Gerar um WordCloud com todos os títulos e textos e analisar as palavras mais utilizadas.</li>\n",
    "    <li>Gerar um histograma referente ao tamanho dos títulos e textos. Será que existe diferença de tamanho (caracteres) para os títulos e textos confiáveis e não confiáveis?</li>\n",
    "    <li>Gerar um boxplot referente a quantidade de palavras dos títulos e textos e analisar os valores mínimos, máximos, primeiro e terceiro quartil, mediana e existência de outliers. Será que existe diferença de entre confiáveis e não confiáveis?</li>\n",
    "    <li>Podemos verificar alguma correlação entre os novos recursos?</li>\n",
    "    <li>A forma de escrita do texto (exemplos: educado, rude, gírias, etc…) tem influência no sentimento Confiável e Não Confiável?</li>    \n",
    "</ul>\n",
    "</p>\n",
    "\n",
    "\n",
    "<h2>&nbsp;</h2>"
   ]
  },
  {
   "cell_type": "markdown",
   "metadata": {},
   "source": [
    "### Word Cloud\n",
    "\n",
    "<p style=\"text-align: justify;\">\n",
    "A ideia central ao plotar o gráfico de nuvem de palavras, é encontrar o volume de vezes que determinadas palavra se repetem dentro do corpus do texto. Este tipo de gráfico se trata de um método heurístico a fim de encontrar respostas viáveis, ainda que imperfeitas, pois mesmo observando as palavras de destaques não há muito resultado para nosso problema, porém nos guiam para alguns questionamentos.\n",
    "</p>\n",
    "\n",
    "<p style=\"text-align: justify;\">\n",
    "Plotamos 10 gráficos para compreender algum padrão entre os textos. Notamos que as palavras mais relacionadas quando se trata de fake news são ligadas a pessoa. Na observação notamos a frequência de Hilarry Clinton e Trump. Não é por menos, pesquisas relatam que nas eleições norte americanas de 2016 muito se especulou o uso de bots e grupos disseminando notícias falsas atacando cada candidato.\n",
    "</p>\n",
    "\n",
    "<h2>&nbsp;</h2>"
   ]
  },
  {
   "cell_type": "markdown",
   "metadata": {},
   "source": [
    "<img src=\"https://raw.githubusercontent.com/BrunoComitre/fatect-news/review/imagens/nuvem_titulos.png\" width=\"60%\"/>\n",
    "<img src=\"https://raw.githubusercontent.com/BrunoComitre/fatect-news/review/imagens/nuvem_textos.png\" width=\"60%\"/>\n",
    "<img src=\"https://raw.githubusercontent.com/BrunoComitre/fatect-news/review/imagens/nuvem_substantivos.png\" width=\"60%\"/>\n",
    "<img src=\"https://raw.githubusercontent.com/BrunoComitre/fatect-news/review/imagens/nuvem_verbos.png\" width=\"60%\"/>\n"
   ]
  },
  {
   "cell_type": "markdown",
   "metadata": {},
   "source": [
    " Histograma</strong></p>\n",
    "<p style=\"text-align: justify;\">A construção de histogramas tem caráter preliminar em qualquer estudo e é um importante indicador da distribuição de dados. Neste estudo utilizamos a frequência absoluta, que é o número que representa a quantidade de dados em uma determinada amostra ou o intervalo de classe específico, indicando a frequência (absoluta) com que uma classe aparece no conjunto de dados.</p>\n",
    "<p style=\"text-align: justify;\">A seguir, os gráficos plotados abaixo representam os histogramas da frequência de palavras e adjetivos encontrados nos títulos e textos. Estes gráficos facilitam no entendimento e na análise da existência de influência na avaliação: Confiável ou Não Confiável.</p>\n",
    "<p style=\"text-align: justify;\">\n",
    "Quando exploramos a frequência de palavras encontramos uma distribuição normal nos títulos que foram classificados como falsos, uma diferença em comparação aos títulos rotulados como confiáveis. Notamos que quando se trata de títulos confiáveis, tem tendência de ser maiores que 10 palavras e maiores que 50 caracteres, no qual os títulos mais curtos, são propícios a uma notícia falsa. Há uma evidência que notícias verdadeiras utilizam muito mais adjetivos em seus textos.\n",
    "</p>\n"
   ]
  },
  {
   "cell_type": "markdown",
   "metadata": {},
   "source": [
    "<img src=\"https://raw.githubusercontent.com/BrunoComitre/fatect-news/review/imagens/histograma_palavras.png\" width=\"60%\"/>\n",
    "<img src=\"https://raw.githubusercontent.com/BrunoComitre/fatect-news/review/imagens/histograma_adjetivos.png\" width=\"60%\"/>\n",
    "<img src=\"https://raw.githubusercontent.com/BrunoComitre/fatect-news/review/imagens/histograma_texto.png\" width=\"60%\"/>\n"
   ]
  },
  {
   "cell_type": "markdown",
   "metadata": {},
   "source": [
    "### Boxplot\n",
    "<p style=\"text-align: justify;\">\n",
    "O diagrama de caixa é construído utilizando as referências de valores mínimos e máximos, primeiro e terceiro quartil, mediana e os outliers da base de dados. Diferentemente do histograma que possibilita ter uma melhor visualização das médias e desvio padrão, o diagrama de caixa têm como objetivo estudar as medidas estatísticas e identificar os valores atípicos dentro do conjunto de dados.\n",
    "</p>\n",
    "<p style=\"text-align: justify;\">\n",
    "Com os gráficos de caixa plotados, confirmamos nossa tese de que notícias verdadeiras são mais elaboradas utilizando mais palavras, adjetivos e um padrão de comprimento nos textos, assim como nos títulos. Sendo assim visto a relação com o diagrama de caixa de notícias confiáveis, observamos que textos possuem mais informações, contrariando as fake news que são compostas de títulos pequenos com objetivo de fornecer informações objetivas ao público alvo. Os números levantados no gráfico nos orientam que a mediana das notícias verdadeiras remete ao número do terceiro quartil relacionada as notícias falsas, mostrando a diferença de escalonamento entre o conteúdo dos textos.\n",
    "</p>\n",
    "\n",
    "<h2>&nbsp;</h2>"
   ]
  },
  {
   "cell_type": "markdown",
   "metadata": {},
   "source": [
    "<img src=\"https://raw.githubusercontent.com/BrunoComitre/fatect-news/review/imagens/boxplot_textos.png\" width=\"60%\"/>\n",
    "<img src=\"https://raw.githubusercontent.com/BrunoComitre/fatect-news/review/imagens/boxplot_titulos.png\" width=\"60%\"/>"
   ]
  },
  {
   "cell_type": "markdown",
   "metadata": {},
   "source": [
    "### Dispersão\n",
    "\n",
    "<p style=\"text-align: justify;\">\n",
    "Gráfico de Dispersão é utilizado para pontuar dados em um eixo vertical e horizontal com a intenção de exibir quanto uma variável é afetada por outra. Existem vários tipos de associações entre parâmetros que podem ser demonstradas pelo gráfico de dispersão. A relação pode ser positiva ou negativa (quando um cresce o outro decresce), fraca ou forte, linear ou não linear.\n",
    "</p>\n",
    "\n",
    "<p style=\"text-align: justify;\">\n",
    "A seguir, os gráficos abaixo representam a dispersão de total de palavras x total de comprimento do texto confiável e não confiável. A relação pode ser devida a outro parâmetro que esteja associado a cada um dos parâmetros estudados.\n",
    "</p>\n",
    "<p style=\"text-align: justify;\">\n",
    "A associação demonstrada influência na confiança do texto, quando o texto apresenta uma estrutura maior no conteúdo a chance de ser uma notícia verdadeira é maior, desta maneira podemos decifrar que o método das fake news é almejar informar a notícia de forma curta e rápida.\n",
    "</p>\n",
    "\n",
    "<h2>&nbsp;</h2>"
   ]
  },
  {
   "cell_type": "markdown",
   "metadata": {},
   "source": [
    "<img src=\"https://raw.githubusercontent.com/BrunoComitre/fatect-news/review/imagens/dispersao_textos.png\" width=\"70%\"/>"
   ]
  },
  {
   "cell_type": "markdown",
   "metadata": {},
   "source": [
    "### Correlação\n",
    "<p style=\"text-align: justify;\">\n",
    "A matriz de correlação mostra os valores de correlação de Pearson, que medem o grau de relação linear entre cada par de itens ou variáveis. Os valores de correlação podem cair entre -1 e +1. Uma vez feita a segmentação das variáveis, pudemos efetuar uma verificação de correlação mais concisa entre as variáveis de cada segmento, assim obtendo uma compreenção dos dados positivamente e negativamente relacionadas.\n",
    "</p>\n",
    "<p style=\"text-align: justify;\">\n",
    "Com as variáveis extraídas por meio da análise por palavra, se tornou possível criar relacionamentos e identicar quais desses relacionamentos se correlacionam entre si.\n",
    "</p>\n",
    "<p style=\"text-align: justify;\">\n",
    "Não identificamos um fato relevante no levantamento das correlações além háviamos constatado nos gráficos anteriores. Existe uma forte correlação entre texto e as classes gramaticais verbos e adjetivos, caso que não ocorre nos títulos, que correlaciona melhor com substantivos. A quantidade de palavras também tem forte correlação tanto nos títulos quanto nos textos.\n",
    "</p>\n",
    "\n",
    "<h2>&nbsp;</h2>"
   ]
  },
  {
   "cell_type": "markdown",
   "metadata": {},
   "source": [
    "<img src=\"https://raw.githubusercontent.com/BrunoComitre/fatect-news/review/imagens/correlacao_confiavel.png\" width=\"70%\"/>\n",
    "<img src=\"https://raw.githubusercontent.com/BrunoComitre/fatect-news/review/imagens/correlacao_nao_confiavel.png\" width=\"70%\"/>"
   ]
  },
  {
   "cell_type": "markdown",
   "metadata": {
    "toc-hr-collapsed": false
   },
   "source": [
    "# Desenvolvimento\n",
    "\n",
    "<p style=\"text-align: justify;\">\n",
    "Na etapa de aprendizado de máquina, decidimos utilizar um modelo em Deep Learning para treinar uma rede LSTM (Long Short Term Memory), uma variação de rede neural recorrente (RNN) utilizado em processamento de linguagem natural. Utilizaremos a biblioteca Keras TensorFlow para a criação desse modelo.\n",
    "</p>\n",
    "<p style=\"text-align: justify;\">\n",
    "Inicialmente separamos os dados em treino e teste, o conjunto de dados que contém 15.848 registros, foi dividido em 80% de treinamento e 20% de teste, sendo assim, 12.678 registros para treinamento e 3.170 registros para testes.\n",
    "</p>\n",
    "<p style=\"text-align: justify;\">\n",
    "Na tokenização das palavras, definiu-se um dicionário com no máximo 10.000 palavras. As sequências de entrada foram truncadas para ter o mesmo comprimento de 10.000, isso é necessário para executar o cálculo em Keras.\n",
    "</p>\n",
    "<p style=\"text-align: justify;\">\n",
    "O modelo terá duas camadas LSTM, sendo uma com 128 e a outra com 64 unidades de memória <b>(LSTM(128)), (LSTM(64))</b> e adicionado uma camada incorporada que utiliza 32 vetores por palavras <b>(embedding_vector_length = 32)</b>. Para o Keras realizar o treinamento com duas camadas LSTM é necessário utilizar o parâmetro <b>(return_sequences = True)</b> responsável por permitir a conectividade entre camadas LSTM.\n",
    "</p>\n",
    "<p style=\"text-align: justify;\">\n",
    "A escolha de 128 e 64, se refere sobre o número de células utilizadas, pois há um equilíbrio nos ajustes, resolvendo um problema conhecido como vanishing gradient, o qual ocorre quando os pesos computados nas partes iniciais da sequência perdem influência ao longo das iterações, sendo sensíveis às novas entradas, porém pode sofrer com sobre ajuste (overfitting).\n",
    "</p>\n",
    "<p style=\"text-align: justify;\">\n",
    "Como se trata de redes neurais recorrentes, geralmente têm o problema de sobre ajuste (overfitting), para diminuir esse problema foi utilizada técnica de eliminação (dropout) em que os neurônios selecionados aleatoriamente são ignorados durante o treinamento. A ativação do neurônio é removida na passagem para frente e quaisquer atualizações de peso não são aplicadas ao neurônio na passagem para trás. Adicionamos três camadas de eliminação com 30% <b>(dropout = 0.3)</b>.\n",
    "</p>\n",
    "<p style=\"text-align: justify;\">\n",
    "Em nosso estudo enfrentamos um problema de classificação, queremos descobrir se determinado texto é Confiável ou Não Confiável. Para realizar as previsões 0 ou 1 para as classes (0 - Não confiável e 1 - Confiável) adicionou-se uma camada densa com 64 neurônios intermediários <b>(Dense(64, activation='relu'))</b> que nos ajuda a lidar com as saídas não-lineares, e um único neurônio de saída com função de ativação sigmoide <b>(Dense(1, activation='sigmoid'))</b> que classificará binariamente a saída, referenciada(1,).\n",
    "</p>\n",
    "<p style=\"text-align: justify;\">\n",
    "Para analisar os resultados utilizamos as métricas logloss e acurácia e para compilação o algoritmo de otimização do ADAM <b>(loss='binary_crossentropy', optimizer='adam', metrics=['accuracy'])</b>.\n",
    "</p>\n",
    "<p style=\"text-align: justify;\">\n",
    "O treinamento foi realizado em 3 épocas com lote de 64 classificações para espaçar as atualizações de pesos <b>(X_train_seq, y_train, nb_epoch=3, batch_size=64, validation_data=(X_test_seq,y_test))</b>\n",
    "</p>\n",
    "<h2>&nbsp;</h2>"
   ]
  },
  {
   "cell_type": "markdown",
   "metadata": {},
   "source": [
    "## Modelo em Keras TensorFlow\n",
    "\n",
    "```python\n",
    "import numpy as np\n",
    "import pandas as pd\n",
    "from sklearn.model_selection import train_test_split\n",
    "from keras.models import Sequential\n",
    "from keras.layers import Dense\n",
    "from keras.layers import LSTM\n",
    "from keras.layers import Dropout\n",
    "from keras.layers.embeddings import Embedding\n",
    "from keras.preprocessing import sequence\n",
    "from keras.preprocessing.text import Tokenizer\n",
    "\n",
    "\n",
    "## Recebendo Conjunto de Dados\n",
    "path_train = 'train.csv'\n",
    "train_data = pd.read_csv(path_train, encoding='utf-8')\n",
    "\n",
    "## Criando novos recursos\n",
    "train_data['title_author_text'] = train_data['title'] + ' ' + train_data['author'] + ' ' + train_data['text']\n",
    "train_data['len_title_author_text'] = [len(str(x)) for x in train_data['title_author_text']]\n",
    "\n",
    "## Iniciando Modelo em Keras TensorFlow\n",
    "np.random.seed(7)\n",
    "\n",
    "train_features = train_data['title_author_text']\n",
    "train_targets = train_data['label']\n",
    "\n",
    "X_train, X_test, y_train, y_test = train_test_split(train_features, train_targets, test_size=0.2, random_state=42)\n",
    "\n",
    "print('Dados de Treino - Feature: {}'.format(len(X_train)))\n",
    "print('Dados de Treino - Label: {}'.format(len(y_train)))\n",
    "print(' ')\n",
    "print('Dados de Teste - Feature: {}'.format(len(X_test)))\n",
    "print('Dados de Teste - Label: {}'.format(len(y_test)))\n",
    "\n",
    "num_token = int(detail['75%'])\n",
    "token = Tokenizer(num_words = num_token, filters = '!\"#$%&()*+,-./:;<=>?@[\\\\]^_`{|}~\\t\\n')\n",
    "token.fit_on_texts(X_train.astype(str))\n",
    "\n",
    "max_review_length = int(detail['75%'])\n",
    "\n",
    "x_train_token = token.texts_to_sequences(X_train.astype(str))\n",
    "x_test_token = token.texts_to_sequences(X_test.astype(str))\n",
    "\n",
    "X_train_seq = sequence.pad_sequences(x_train_token, maxlen=max_review_length)\n",
    "X_test_seq = sequence.pad_sequences(x_test_token, maxlen=max_review_length)\n",
    "\n",
    "embedding_vector_length = 32\n",
    "dropout = 0.3\n",
    "batch_size = 64\n",
    "epochs = 3\n",
    "\n",
    "model_lstm = Sequential()\n",
    "model_lstm.add(Embedding(input_dim=num_token, output_dim=embedding_vector_length, input_length=max_review_length))\n",
    "model_lstm.add(LSTM(128,return_sequences=True))\n",
    "model_lstm.add(Dropout(dropout))\n",
    "model_lstm.add(LSTM(64))\n",
    "model_lstm.add(Dropout(dropout))\n",
    "model_lstm.add(Dense(64, activation='relu'))\n",
    "model_lstm.add(Dropout(dropout))\n",
    "model_lstm.add(Dense(1, activation='sigmoid'))\n",
    "model_lstm.compile(loss='binary_crossentropy', optimizer='adam', metrics=['accuracy'] )\n",
    "print(model_lstm.summary())\n",
    "\n",
    "history = model_lstm.fit( X_train_seq, y_train,\n",
    "                         nb_epoch=epochs, batch_size=batch_size,\n",
    "                         validation_data=(X_test_seq,y_test))\n",
    "```                         "
   ]
  },
  {
   "cell_type": "markdown",
   "metadata": {},
   "source": [
    "## Resultados\n",
    "<p style=\"text-align: justify;\">\n",
    "Após construir o modelo de treinamento, foi possível demonstrar os resultados conforme nosso Kernel, onde obtivemos resultados de 80% de acerto em nossos testes, consideramos um resultado satisfatório para o início da pesquisa.\n",
    "</p>\n",
    "\n",
    "<p style=\"text-align: justify;\">\n",
    "Durante a criação do modelo realizamos diversas modelagens, inclusive, testamos outras formas de aprendizado de máquina, como : SVC, KNN, Árvore de Decisão, RandomForest e Gradient Boosting Classifier, porém, de acordo com as observações feitas, a rede neural LSTM apresentou melhor resultado para a nossa aplicação. Não descartamos que ao usar uma gama maior de notícias e atributos distintos de análise sintática e semântica a necessidade de modificações neste escopo. Porém, em alguns métodos como de soma de sufixo, onde se soma sempre o vetor da próxima palavra observamos problemas em relação a tempo de execução. Infelizmente por falta de tempo hábil não foi possível representar esta funcionalidade neste trabalho.\n",
    "</p>\n",
    "<p style=\"text-align: justify;\">\n",
    "Mas como visto foi possível provar que através de um mapa auto organizável de uma Rede Neural Recorrente podemos separar textos através de seus padrões de entrada e gerar classificações semelhantes as apresentadas no córtex cerebral humano.\n",
    "</p>\n",
    "<p style=\"text-align: justify;\"></p>\n",
    "Com base nos critérios e resultados do presente estudo, onde o objetivo era apresentar uma maneira de classificar notícias falsas desenvolvida por meio de uma Redes Neural, concluímos que o objetivo foi alcançado de maneira satisfatória. Através dos conceitos aplicados e nos agrupamentos das informações, foi possível verificar que ao apresentar um padrão de limpeza nos dados, associação entre termos, padrões verbais, o modelo conseguiu um resultado bem-sucedido na classificação, de forma que será possível classificar uma informação sendo como notícia falsa ou não com chance de acerto em 75.00%.\n",
    "</p>\n",
    "<p style=\"text-align: justify;\">\n",
    "Para que isso fosse possível as ferramentas utilizadas foram a linguagem Python e biblioteca Keras TensorFlow utilizando a função de redes neurais LSTM, por fim todos os processos foram executados com sucesso.\n",
    "</p>\n",
    "<p style=\"text-align: justify;\">\n",
    "O que reforça a afirmação feita no início do trabalho, quando classificou que redes neurais recorrentes permitem um reconhecimento padrões de texto, sempre com uma alta taxa de assertividade.\n",
    "</p>\n",
    "\n",
    "<h2>&nbsp;</h2>"
   ]
  },
  {
   "cell_type": "markdown",
   "metadata": {
    "toc-hr-collapsed": true
   },
   "source": [
    "## Análise Explorátoria Detalhada"
   ]
  },
  {
   "cell_type": "markdown",
   "metadata": {},
   "source": [
    "<p style=\"text-align: justify;\"> \n",
    "Nesta fase do trabalho, inicialmente, faz necessário a aplicação de técnicas para manusear valores faltantes e fazer transformações de variáveis. Os dados serão ajustados e estreitando os presupostos para empregar técnicas gráficas e quantitativas, visando maximizar a obtenção de informações, tendências e detectação decomportamentos.\n",
    "</p>"
   ]
  },
  {
   "cell_type": "markdown",
   "metadata": {},
   "source": [
    "### Bibliotecas e preparação do ambiente\n"
   ]
  },
  {
   "cell_type": "code",
   "execution_count": null,
   "metadata": {},
   "outputs": [],
   "source": [
    "!pip install names\n",
    "\n",
    "import numpy as np\n",
    "import pandas as pd\n",
    "import csv\n",
    "import random \n",
    "import pandas_profiling #conda install -c conda-forge pandas-profiling\n",
    "import names #pip install names\n",
    "import nltk\n",
    "import matplotlib.pyplot as plt\n",
    "import plotly.offline as py\n",
    "import plotly.graph_objs as go\n",
    "import seaborn as sns\n",
    "import string\n",
    "import spacy\n",
    "from spacy import displacy\n",
    "from nltk import pos_tag\n",
    "from nltk.corpus import stopwords\n",
    "from nltk.tokenize import word_tokenize\n",
    "from nltk.tokenize import RegexpTokenizer\n",
    "from nltk.tokenize import TweetTokenizer\n",
    "from wordcloud import WordCloud, STOPWORDS, ImageColorGenerator\n",
    "from pandas.io.json import json_normalize\n",
    "from plotly import tools\n",
    "from tqdm import tqdm\n",
    "\n",
    "\n",
    "nltk.download('averaged_perceptron_tagger')"
   ]
  },
  {
   "cell_type": "markdown",
   "metadata": {},
   "source": [
    "### Leitura do Dataset"
   ]
  },
  {
   "cell_type": "code",
   "execution_count": null,
   "metadata": {},
   "outputs": [],
   "source": [
    "# Train Dataset\n",
    "PATH_DATA_TRAIN = 'train.csv'\n",
    "\n",
    "## arquivo disponivel em: https://drive.google.com/drive/folders/1LqNzxY8l0EgznlCD-g873VD-ys1BRN2-?fbclid=IwAR3PPLu4hgNdKfQDJzrLGwV6L42Vm3xBrrcquuCOR4ySS97bVvU46JDaR2s\n",
    "\n",
    "train_data = pd.read_csv(PATH_DATA_TRAIN)\n",
    "train_data = train_data.sample(frac = 1) # Randomly Smaple data, ratio is 100%\n",
    "train_data.head()"
   ]
  },
  {
   "cell_type": "markdown",
   "metadata": {},
   "source": [
    "### Classificação das Features"
   ]
  },
  {
   "cell_type": "code",
   "execution_count": null,
   "metadata": {},
   "outputs": [],
   "source": [
    "table = [[\"id\",\"Nominal Qualitativo\"],[\"title\",\"Nominal Qualitativo\"],\n",
    "         [\"author\",\"Nominal Qualitativo\"],[\"text\",\"Nominal Qualitativo\"],\n",
    "         [\"label\",\"Quantitativo Discreto\"]]\n",
    "\n",
    "filing = pd.DataFrame(table, columns=[\"Variável\", \"Classificação\"])\n",
    "filing"
   ]
  },
  {
   "cell_type": "markdown",
   "metadata": {},
   "source": [
    "### Dicionário dos dados"
   ]
  },
  {
   "cell_type": "markdown",
   "metadata": {},
   "source": [
    "O Dataset \"fake news\" contém as seguintes informações:\n",
    "\n",
    "\n",
    "- **ID:** id único da notícia\n",
    "\n",
    "\n",
    "- **TITLE:** título da notícia\n",
    "\n",
    "\n",
    "- **AUTHOR:** autor da notícia\n",
    "\n",
    "\n",
    "- **TEXT:** texto da notícia\n",
    "\n",
    "\n",
    "- **LABEL:** rótulo que marca se a notícia é potencialmente não confiável\n",
    " - 1: não confiável\n",
    " - 0: confiável"
   ]
  },
  {
   "cell_type": "markdown",
   "metadata": {},
   "source": [
    "### Análise dos dados"
   ]
  },
  {
   "cell_type": "markdown",
   "metadata": {},
   "source": [
    "<p style=\"text-align: justify;\">\n",
    "Ao importar os dados, é importante entender e identificar o intervalo de preditores específicos, identificar o tipo de dados de cada preditor, bem como calcular o número ou a porcentagem de valores omissos para cada preditor. Usaremos a biblioteca pandas_profiling, que fornece muitas funções extremamente úteis para a análise exploratória de dados.\n",
    "</p>"
   ]
  },
  {
   "cell_type": "markdown",
   "metadata": {},
   "source": [
    "Observação: Foi retitado para demonstração a aleatoriedade dos dados"
   ]
  },
  {
   "cell_type": "code",
   "execution_count": null,
   "metadata": {},
   "outputs": [],
   "source": [
    "train_data_profiling = pd.read_csv(PATH_DATA_TRAIN)"
   ]
  },
  {
   "cell_type": "code",
   "execution_count": null,
   "metadata": {},
   "outputs": [],
   "source": [
    "profile = pandas_profiling.ProfileReport(train_data_profiling)\n",
    "display(profile)"
   ]
  },
  {
   "cell_type": "markdown",
   "metadata": {},
   "source": [
    "### Incompletude no Dataset"
   ]
  },
  {
   "cell_type": "markdown",
   "metadata": {},
   "source": [
    "<p style=\"text-align: justify;\">\n",
    "A falta de dados pode afetar a análise e o treinamento, que poderá levar a falhas no aprendizado. Então, é possível dizer se há dados ausentes no conjunto de dados? Sim, pelo relatório gerado por pandas_profiting, identificou-se:\n",
    "</p>\n",
    "\n",
    "<p style=\"text-align: justify;\">\n",
    "O título do atributo tem 558 amostras (2,68%) com valores ausentes.\n",
    "</p>\n",
    "<p style=\"text-align: justify;\">\n",
    "O autor do atributo possui 1957 amostras (9,41%) com valores ausentes.\n",
    "</p>\n",
    "<p style=\"text-align: justify;\">\n",
    "O texto do atributo tem 39 amostras (0,19%) com valores ausentes.\n",
    "</p>\n",
    "<p style=\"text-align: justify;\">\n",
    "Como existe dados faltantes nas 3 features do dataset (title, Author e Text) eliminar as linhas em que há dados ausentes neste caso é a melhor opção para não comprometer a análise e o treimento.\n",
    "</p>"
   ]
  },
  {
   "cell_type": "code",
   "execution_count": null,
   "metadata": {},
   "outputs": [],
   "source": [
    "print('Antes do dropna tínhamos {} registros'.format(train_data.shape[0]))\n",
    "train_data.dropna(inplace=True)\n",
    "print('Depois do dropna temos {} registro'.format(train_data.shape[0]))"
   ]
  },
  {
   "cell_type": "markdown",
   "metadata": {},
   "source": [
    "### Novos Recursos (Features)"
   ]
  },
  {
   "cell_type": "markdown",
   "metadata": {},
   "source": [
    "<p style=\"text-align: justify;\">\n",
    "Por fim, após os tratamentos dos dados, identificou-se a necessidade de criar novos recursos (features).\n",
    "A Análise de texto não é uma das tarefas mais fácil a se fazer, embora, seja possível por meio de extração de informações por palavras obter uma melhor compreensão da construção de um texto. O objetivo da análise foi identificar o volume de vezes que determinado texto contém: exclamação, questão, simbolo, palavras únicas e suas classes gramaticais como: substantivos, adjetivos e verbos.\n",
    "Entendemos ser importante identificar as entidades dentro dos contextos como: Pessoas, Grupos Politicos, Organizações, Valores monetários, Nações. Para extrair essas informações utilizou-se a biblioteca Spacy.\n",
    "Com esses novos recursos serão utilizados nas análises gráficas e no aprendizado de máquina.\n",
    "</p>"
   ]
  },
  {
   "cell_type": "markdown",
   "metadata": {},
   "source": [
    "### Recursos por Palavras (Tokens) e Entidades"
   ]
  },
  {
   "cell_type": "code",
   "execution_count": null,
   "metadata": {},
   "outputs": [],
   "source": [
    "print('Função retorna a POS TAG')\n",
    "def tag_part_of_speech(text):\n",
    "    text_splited = text.split(' ')\n",
    "    text_splited = [''.join(c for c in s if c not in string.punctuation) for s in text_splited]\n",
    "    text_splited = [s for s in text_splited if s]\n",
    "    pos_list = pos_tag(text_splited)\n",
    "    #palavra\n",
    "    noun = [w[0] for w in pos_list if w[1] in ('NN','NNP','NNPS','NNS')]\n",
    "    adjective = [w[0] for w in pos_list if w[1] in ('JJ','JJR','JJS')]\n",
    "    verb = [w[0] for w in pos_list if w[1] in ('VB','VBD','VBG','VBN','VBP','VBZ')]\n",
    "    #quantidade\n",
    "    noun_count = len([w for w in pos_list if w[1] in ('NN','NNP','NNPS','NNS')])\n",
    "    adjective_count = len([w for w in pos_list if w[1] in ('JJ','JJR','JJS')])\n",
    "    verb_count = len([w for w in pos_list if w[1] in ('VB','VBD','VBG','VBN','VBP','VBZ')])\n",
    "    \n",
    "    return[noun, adjective, verb, noun_count, adjective_count, verb_count]\n",
    "\n",
    "tokenizer = RegexpTokenizer(r'\\w+')"
   ]
  },
  {
   "cell_type": "code",
   "execution_count": null,
   "metadata": {},
   "outputs": [],
   "source": [
    "print('Função retorna tokens unicos')\n",
    "def token_distint(df):\n",
    "    list_words = []\n",
    "    tokenizer = RegexpTokenizer(r'\\w+')\n",
    "    for item in df:\n",
    "        for token in tokenizer.tokenize(item.lower()):        \n",
    "            if not token in list_words:\n",
    "                list_words.append(token)\n",
    "    return list_words"
   ]
  },
  {
   "cell_type": "code",
   "execution_count": null,
   "metadata": {},
   "outputs": [],
   "source": [
    "print(\"Geração de recursos baseados nos titulos\")\n",
    "tokenizer = RegexpTokenizer(r'\\w+')\n",
    "for df in ([train_data]):\n",
    "    df['title_token'] = df['title'].apply(lambda x : tokenizer.tokenize(x.lower()))\n",
    "    df['title_token_distint'] = df['title'].apply(lambda x : token_distint(x)) \n",
    "    df['title_comprimento'] = df['title'].apply(lambda x : len(str(x)))\n",
    "    df['title_num_palavras'] = df['title'].apply(lambda x: len(str(x).split()))                                         \n",
    "    df['title_num_palavras_unicas'] = df['title'].apply(lambda x: len(set(w for w in str(x).split())))                                      \n",
    "    df['title_palavras_vs_unico'] = df['title_num_palavras_unicas'] / df['title_num_palavras']\n",
    "    df['title_substantivos'], df['title_adjetivos'], df['title_verbos'], df['title_contagem_substantivos'], df['title_contagem_adjetivos'], df['title_contagem_verbos'] = zip(*df['title'].apply(lambda text: tag_part_of_speech(str(text))))\n"
   ]
  },
  {
   "cell_type": "code",
   "execution_count": null,
   "metadata": {},
   "outputs": [],
   "source": [
    "print(\"Geração de recursos baseados nos textos\")\n",
    "tokenizer = RegexpTokenizer(r'\\w+')\n",
    "for df in ([train_data]):\n",
    "    df['text_token'] = df['text'].apply(lambda x : tokenizer.tokenize(x.lower()))\n",
    "    df['text_token_distint'] = df['text'].apply(lambda x : token_distint(x))\n",
    "    df['text_comprimento'] = df['text'].apply(lambda x : len(str(x)))\n",
    "    df['text_num_palavras'] = df['text'].apply(lambda x: len(str(x).split()))                                         \n",
    "    df['text_num_palavras_unicas'] = df['text'].apply(lambda x: len(set(w for w in str(x).split())))                                      \n",
    "    df['text_palavras_vs_unico'] = df['text_num_palavras_unicas'] / df['text_num_palavras']\n",
    "    df['text_substantivos'], df['text_adjetivos'], df['text_verbos'], df['text_contagem_substantivos'], df['text_contagem_adjetivos'], df['text_contagem_verbos'] = zip(*df['text'].apply(lambda text: tag_part_of_speech(str(text))))\n",
    "    "
   ]
  },
  {
   "cell_type": "markdown",
   "metadata": {},
   "source": [
    "### Desbalanceamento de Classes e Random Shuffle"
   ]
  },
  {
   "cell_type": "markdown",
   "metadata": {},
   "source": [
    "<p style=\"text-align: justify;\">\n",
    "Após eliminar as linhas de dados faltantes, aplicou-se uma análise descritiva para verificar se houve desequilíbrio nos dados, constatou-se que a média de 43% da feature Label, na qual armazena valores de 0 ou 1 (não confiáveis e confiáveis) mostra que os dados estão em desequilibrio, constando uma diferença de 2437 registros com o valor 1 (confiáveis) a mais que o valor 0 (não confiáveis). Para manter o conjunto de dados equilibrado aplicou-se o Random Shuffle nos registros com valor 1 (confiáveis) considerando o valor de 7924 registros que é o número total de dados (não confiáveis). \n",
    "</p>"
   ]
  },
  {
   "cell_type": "code",
   "execution_count": null,
   "metadata": {},
   "outputs": [],
   "source": [
    "train_data.label.describe()"
   ]
  },
  {
   "cell_type": "code",
   "execution_count": null,
   "metadata": {},
   "outputs": [],
   "source": [
    "unreliable = train_data[train_data['label'] == 1]\n",
    "print('Não confiável：', len(unreliable))\n",
    "\n",
    "reliable = train_data[train_data['label'] == 0]\n",
    "print('Confiável：', len(reliable))\n",
    "\n",
    "print('Desequilibrio nos dados de {} registros confiáveis'.format(len(reliable) - len(unreliable)))"
   ]
  },
  {
   "cell_type": "code",
   "execution_count": null,
   "metadata": {},
   "outputs": [],
   "source": [
    "print('aplicando Random Shuffle')\n",
    "mean = min(len(unreliable), len(reliable))\n",
    "\n",
    "un_data = unreliable.sample(n = mean)\n",
    "print('Não confiável：', len(un_data))\n",
    "r_data = reliable.sample(n = mean)\n",
    "print('Confiável：', len(r_data))\n",
    "\n",
    "train_data = pd.concat([un_data, r_data])"
   ]
  },
  {
   "cell_type": "markdown",
   "metadata": {},
   "source": [
    "### Exportando Dataframe Refatorado Dataframe"
   ]
  },
  {
   "cell_type": "markdown",
   "metadata": {},
   "source": [
    "<p style=\"text-align: justify;\">\n",
    "A saída de todos os tratamentos dos dados será utilizada na próxima etapa que será o desenvolvimento de um aprendizado de máquina com deep leraning.\n",
    "</p>"
   ]
  },
  {
   "cell_type": "code",
   "execution_count": null,
   "metadata": {},
   "outputs": [],
   "source": [
    "train_data.to_csv ('train_refatorado.csv', index = None, header=True)"
   ]
  },
  {
   "cell_type": "markdown",
   "metadata": {
    "toc-hr-collapsed": true
   },
   "source": [
    "### Análise Gráfica"
   ]
  },
  {
   "cell_type": "markdown",
   "metadata": {},
   "source": [
    "<p style=\"text-align: justify;\">\n",
    "<ul>\n",
    "    <li>Gerar um WordCloud com todos os títulos e textos e analisar as palavras mais utilizadas.</li>\n",
    "    <li>Gerar um histograma referente ao tamanho dos títulos e textos. Será que existe diferença de tamanho (caracteres) para os títulos e textos confiáveis e não confiáveis?</li>\n",
    "    <li>Gerar um boxplot referente a quantidade de palavras dos títulos e textos e analisar os valores mínimos, máximos, primeiro e terceiro quartil, mediana e existência de outliers. Será que existe diferença de entre confiáveis e não confiáveis?</li>\n",
    "    <li>Podemos verificar alguma correlação entre os novos recursos?</li>\n",
    "    <li>A forma de escrita do texto (exemplos: educado, rude, gírias, etc…) tem influência no sentimento Confiável e Não Confiável?</li>    \n",
    "</ul>\n",
    "</p>"
   ]
  },
  {
   "cell_type": "markdown",
   "metadata": {},
   "source": [
    "<p style=\"text-align: justify;\">\n",
    "Utilizamos o arquivo de saída da análise explorátoria, train_refatorado.csv para utilizar os novos recursos criados. Primeiramente, repetimos o processo de importação do dataset e separamos os textos confiáveis e não confiáveis.\n",
    "</p>"
   ]
  },
  {
   "cell_type": "markdown",
   "metadata": {},
   "source": [
    "#### WordCloud"
   ]
  },
  {
   "cell_type": "markdown",
   "metadata": {},
   "source": [
    "<p style=\"text-align: justify;\">\n",
    "A ideia central ao plotar o gráfico de nuvem de palavras, é encontrar o volume de vezes que determinadas palavra se repetem dentro do corpus do texto. Este tipo de gráfico se trata de um método heurístico a fim de encontrar respostas viáveis, ainda que imperfeitas, pois mesmo observando as palavras de destaques não há muito resultado para nosso problema, porém nos guiam para alguns questionamentos.\n",
    "</p>"
   ]
  },
  {
   "cell_type": "code",
   "execution_count": null,
   "metadata": {},
   "outputs": [],
   "source": [
    "print('Função para listar as palavras')\n",
    "def list_words(data):\n",
    "    l_words = []\n",
    "    tokenizer = RegexpTokenizer(r'\\w+')\n",
    "    for tokens in data:\n",
    "        for token in tokens:\n",
    "            l_words.append(token)    \n",
    "    return l_words"
   ]
  },
  {
   "cell_type": "code",
   "execution_count": null,
   "metadata": {},
   "outputs": [],
   "source": [
    "print('Função que plota o gráfico de Words Cloud')\n",
    "def words_cloud(confiavel, nao_confiavel, title):\n",
    "    \n",
    "\n",
    "    ## Palavras dentro do texto\n",
    "    words = list_words(confiavel)\n",
    "    text_confiavel = \" \".join(review for review in words)\n",
    "    \n",
    "    words = list_words(nao_confiavel)\n",
    "    text_nao_confiavel = \" \".join(review for review in words)\n",
    "\n",
    "    ## Carregando a lista de stopwords\n",
    "    stopwords = nltk.corpus.stopwords.words('english')\n",
    "\n",
    "    # Generate a word cloud image\n",
    "    wordcloud_confiavel = WordCloud(stopwords=stopwords, background_color=\"white\", width=1000, height=800, margin=0, collocations=False).generate(text_confiavel)\n",
    "    wordcloud_nao_confiavel = WordCloud(stopwords=stopwords, background_color=\"white\", width=1000, height=800, margin=0, collocations=False).generate(text_nao_confiavel)\n",
    "\n",
    "    ## plotagem\n",
    "    #plt.figure(1)\n",
    "    plt.figure(figsize=(12,8))\n",
    "    \n",
    "    plt.subplot(121)\n",
    "    plt.imshow(wordcloud_confiavel, interpolation='bilinear')\n",
    "    plt.axis('off')\n",
    "    plt.margins(x=0,y=0)\n",
    "    plt.title(title + ' Confiáveis')\n",
    "    plt.legend()\n",
    "\n",
    "    plt.subplot(122)\n",
    "    plt.imshow(wordcloud_nao_confiavel, interpolation='bilinear')\n",
    "    plt.axis('off')\n",
    "    plt.margins(x=0,y=0)\n",
    "    plt.title(title + ' Não Confiáveis')\n",
    "    plt.legend()\n",
    "\n",
    "    plt.show()"
   ]
  },
  {
   "cell_type": "code",
   "execution_count": null,
   "metadata": {},
   "outputs": [],
   "source": [
    "words_cloud(reliable['title_token'], unreliable['title_token'], 'Nuvem de Palavras dos Títulos')\n",
    "words_cloud(reliable['text_token'], unreliable['text_token'], 'Nuvem de Palavras dos Textos')\n",
    "words_cloud(reliable['title_substantivos'], unreliable['title_substantivos'], 'Nuvem de Palavras Substantivos nos Textos')\n",
    "words_cloud(reliable['title_verbos'], unreliable['title_verbos'], 'Nuvem de Palavras Verbos nos Textos')\n",
    "words_cloud(reliable['title_adjetivos'], unreliable['title_adjetivos'], 'Nuvem de Palavras Adjetivos nos Textos')"
   ]
  },
  {
   "cell_type": "markdown",
   "metadata": {},
   "source": [
    "#### Histograma"
   ]
  },
  {
   "cell_type": "markdown",
   "metadata": {},
   "source": [
    "<p style=\"text-align: justify;\">\n",
    "A construção de histogramas tem caráter preliminar em qualquer estudo e é um importante indicador da distribuição de dados. Neste estudo utilizamos a frequência absoluta, que é o número que representa a quantidade de dados em uma determinada amostra ou o intervalo de classe especifico, indicando a frequência (absoluta) com que uma classe aparece no conjunto de dados.\n",
    "</p>\n",
    "\n"
   ]
  },
  {
   "cell_type": "markdown",
   "metadata": {},
   "source": [
    "#### Histograma da Quantidade de Palavras"
   ]
  },
  {
   "cell_type": "code",
   "execution_count": null,
   "metadata": {},
   "outputs": [],
   "source": [
    "labels = ['Não Confiáveis','Confiáveis']\n",
    "colors = ['#fb7082','#80b1d3']\n",
    "\n",
    "plt.figure(figsize=(18,8))\n",
    "plt.subplot(121)\n",
    "plt.hist([unreliable.title_num_palavras,reliable.title_num_palavras], bins=int(180/5), normed=False, color = colors, label=labels)\n",
    "plt.xlabel('Quantidade de Caracteres')\n",
    "plt.ylabel('Quantidade de Títulos')\n",
    "plt.title('Histograma Palavras no Título')\n",
    "plt.legend()\n",
    "\n",
    "\n",
    "plt.subplot(122)\n",
    "plt.hist([unreliable.text_num_palavras,reliable.text_num_palavras], bins=int(180/5), normed=False, color = colors, label=labels)\n",
    "plt.xlabel('Quantidade de Caracteres')\n",
    "plt.ylabel('Quantidade de Textos')\n",
    "plt.title('Histograma Palavras no Texto')\n",
    "plt.legend()\n",
    "\n",
    "plt.show()"
   ]
  },
  {
   "cell_type": "markdown",
   "metadata": {},
   "source": [
    "#### Histograma do Comprimento de Palavras"
   ]
  },
  {
   "cell_type": "code",
   "execution_count": null,
   "metadata": {},
   "outputs": [],
   "source": [
    "labels = ['Não Confiáveis','Confiáveis']\n",
    "colors = ['#fb7082','#80b1d3']\n",
    "\n",
    "plt.figure(figsize=(18,8))\n",
    "plt.subplot(121)\n",
    "plt.hist([unreliable.title_comprimento,reliable.title_comprimento], bins=int(180/5), normed=False, color = colors, label=labels)\n",
    "plt.xlabel('Quantidade de Caracteres')\n",
    "plt.ylabel('Quantidade de Títulos')\n",
    "plt.title('Histograma do Comprimento de Palavras no Título')\n",
    "plt.legend()\n",
    "\n",
    "plt.subplot(122)\n",
    "plt.hist([unreliable.text_comprimento,reliable.text_comprimento], bins=int(180/5), normed=False, color = colors, label=labels)\n",
    "plt.xlabel('Quantidade de Caracteres')\n",
    "plt.ylabel('Quantidade de Textos')\n",
    "plt.title('Histograma do Comprimento de Palavras no Texto')\n",
    "plt.legend()\n",
    "\n",
    "plt.show()"
   ]
  },
  {
   "cell_type": "markdown",
   "metadata": {},
   "source": [
    "#### Histograma da Quantidade de Adjetivos"
   ]
  },
  {
   "cell_type": "code",
   "execution_count": null,
   "metadata": {},
   "outputs": [],
   "source": [
    "labels = ['Não Confiáveis','Confiáveis']\n",
    "colors = ['#fb7082','#80b1d3']\n",
    "\n",
    "plt.figure(figsize=(18,8))\n",
    "plt.subplot(121)\n",
    "plt.hist([unreliable.title_contagem_adjetivos,reliable.title_contagem_adjetivos], bins=int(180/5), normed=False, color = colors, label=labels)\n",
    "plt.xlabel('Quantidade de Caracteres')\n",
    "plt.ylabel('Quantidade de Títulos')\n",
    "plt.title('Histograma de Adjetivos no Título')\n",
    "plt.legend()\n",
    "\n",
    "plt.subplot(122)\n",
    "plt.hist([unreliable.text_contagem_adjetivos,reliable.text_contagem_adjetivos], bins=int(180/5), normed=False, color = colors, label=labels)\n",
    "plt.xlabel('Quantidade de Caracteres')\n",
    "plt.ylabel('Quantidade de Textos')\n",
    "plt.title('Histograma de Adjetivos no Texto')\n",
    "plt.legend()\n",
    "\n",
    "plt.show()"
   ]
  },
  {
   "cell_type": "markdown",
   "metadata": {},
   "source": [
    "#### Boxplot"
   ]
  },
  {
   "cell_type": "markdown",
   "metadata": {},
   "source": [
    "<p style=\"text-align: justify;\">\n",
    "O diagrama de caixa é construído utilizando as referências de valores mínimos e máximos, primeiro e terceiro quartil, mediana e os outliers da base de dados. Diferentemente do histograma que possibilita ter uma melhor visualização das médias e desvio padrão, o diagrama de caixa têm como objetivo estudar as medidas estatística e identificar os valores atípicos dentro do conjunto de dados.\n",
    "</p>"
   ]
  },
  {
   "cell_type": "markdown",
   "metadata": {},
   "source": [
    "#### Diagrama de Caixa da Quantidade de Palavras"
   ]
  },
  {
   "cell_type": "code",
   "execution_count": null,
   "metadata": {},
   "outputs": [],
   "source": [
    "confiavel = go.Box(y=reliable.title_comprimento, name = 'confiável', boxmean=True)\n",
    "nao_confiavel = go.Box(y=unreliable.title_comprimento, name = 'não confiáveis', boxmean=True)\n",
    "data = [confiavel, nao_confiavel]\n",
    "layout = go.Layout(title = \"Diagrama de Caixa da Quantidade de Palavras dos Títulos\")\n",
    "fig = go.Figure(data=data,layout=layout)\n",
    "py.iplot(fig)"
   ]
  },
  {
   "cell_type": "code",
   "execution_count": null,
   "metadata": {},
   "outputs": [],
   "source": [
    "confiavel = go.Box(y=reliable.text_comprimento, name = 'confiável', boxmean=True)\n",
    "nao_confiavel = go.Box(y=unreliable.text_comprimento, name = 'não confiáveis', boxmean=True)\n",
    "data = [confiavel, nao_confiavel]\n",
    "layout = go.Layout(title = \"Diagrama de Caixa da Quantidade de Palavras dos Textos\")\n",
    "fig = go.Figure(data=data,layout=layout)\n",
    "py.iplot(fig)"
   ]
  },
  {
   "cell_type": "markdown",
   "metadata": {
    "toc-hr-collapsed": true
   },
   "source": [
    "#### Gráfico de Dispersão"
   ]
  },
  {
   "cell_type": "markdown",
   "metadata": {},
   "source": [
    "<p style=\"text-align: justify;\">\n",
    "Gráfico de Dispersão é utilizado para pontuar dados em um eixo vertical e horizontal com a intenção de exibir quanto uma variável é afetada por outra. Existem vários tipos de associações entre parâmetros que podem ser demonstradas pelo gráfico de dispersão. A relação pode ser positiva ou negativa (quando um cresce o outro decresce), fraca ou forte, linear ou não linear.\n",
    "</p>"
   ]
  },
  {
   "cell_type": "markdown",
   "metadata": {},
   "source": [
    "#### Dispersão Palavras x Comprimento"
   ]
  },
  {
   "cell_type": "code",
   "execution_count": null,
   "metadata": {},
   "outputs": [],
   "source": [
    "alpha = 0.03\n",
    "plt.figure(figsize=(16,8))\n",
    "\n",
    "# loc_x and loc_y\n",
    "plt.subplot(121)\n",
    "plt.scatter(reliable.text_num_palavras, reliable.text_comprimento, color='blue', alpha=alpha)\n",
    "plt.title('Dispersão de Total de Palavras x Total de Comprimento do Texto Confiável')\n",
    "\n",
    "# lat and lon\n",
    "plt.subplot(122)\n",
    "plt.scatter(unreliable.text_num_palavras, unreliable.text_comprimento, color='red', alpha=alpha)\n",
    "plt.title('Dispersão de Total de Palavras x Total de Comprimento do Texto Não Confiável')"
   ]
  },
  {
   "cell_type": "markdown",
   "metadata": {},
   "source": [
    "#### Matriz de correlação"
   ]
  },
  {
   "cell_type": "markdown",
   "metadata": {},
   "source": [
    "<p style=\"text-align: justify;\">\n",
    "A matriz de correlação mostra os valores de correlação de Pearson, que medem o grau de relação linear entre cada par de itens ou variáveis. Os valores de correlação podem cair entre -1 e +1. Uma vez feita a segmentação das variáveis, podemos efetuar uma verificação de correlação mais concisa entre as variáveis de cada segmento, assim obtendo uma compreensção dos dados positivamente e negativamente relacionadas.\n",
    "</p>"
   ]
  },
  {
   "cell_type": "code",
   "execution_count": null,
   "metadata": {},
   "outputs": [],
   "source": [
    "py.init_notebook_mode(connected=True)\n",
    "pd.options.mode.chained_assignment = None\n",
    "np.random.seed(13)\n",
    "\n",
    "color = sns.color_palette()\n",
    "%matplotlib inline"
   ]
  },
  {
   "cell_type": "markdown",
   "metadata": {},
   "source": [
    "<p style=\"text-align: justify;\">\n",
    "Com as variáveis extraídas por meio da análise por palavra, se tornou possível criar relacionamentos e identicar quais desses relacionamento se correlacionam entre si.\n",
    "</p>"
   ]
  },
  {
   "cell_type": "code",
   "execution_count": null,
   "metadata": {},
   "outputs": [],
   "source": [
    "corr_reliable = reliable.drop(columns=['id', 'title', 'author', 'text', 'title_token','text_token','title_substantivos','title_adjetivos','title_verbos','text_substantivos',\n",
    "                              'text_adjetivos','text_verbos'])\n",
    "\n",
    "f, ax = plt.subplots(figsize= [20,15])\n",
    "sns.heatmap(corr_reliable.corr(), annot=True, fmt=\".2f\", ax=ax, \n",
    "            cbar_kws={'label': 'Coeficiente de correlação'}, cmap='OrRd')\n",
    "ax.set_title(\"Matriz de Correlação da Análise entre os Recursos dos Confiáveis\", fontsize=18)\n",
    "plt.show()"
   ]
  },
  {
   "cell_type": "code",
   "execution_count": null,
   "metadata": {},
   "outputs": [],
   "source": [
    "corr_unreliable = unreliable.drop(columns=['id', 'title', 'author', 'text', 'title_token','text_token','title_substantivos','title_adjetivos','title_verbos','text_substantivos',\n",
    "                              'text_adjetivos','text_verbos'])\n",
    "\n",
    "f, ax = plt.subplots(figsize= [20,15])\n",
    "sns.heatmap(corr_unreliable.corr(), annot=True, fmt=\".2f\", ax=ax, \n",
    "            cbar_kws={'label': 'Coeficiente de correlação'}, cmap='OrRd')\n",
    "ax.set_title(\"Matriz de Correlação da Análise entre os Recursos dos Não Confiáveis\", fontsize=18)\n",
    "plt.show()"
   ]
  },
  {
   "cell_type": "code",
   "execution_count": null,
   "metadata": {},
   "outputs": [],
   "source": [
    "train_data.columns"
   ]
  },
  {
   "cell_type": "markdown",
   "metadata": {},
   "source": [
    "*INSTALLED VERSIONS*"
   ]
  },
  {
   "cell_type": "code",
   "execution_count": null,
   "metadata": {},
   "outputs": [],
   "source": [
    "pd.show_versions()"
   ]
  },
  {
   "cell_type": "markdown",
   "metadata": {},
   "source": [
    "## Detalhamento do Desenvolvimento"
   ]
  },
  {
   "cell_type": "markdown",
   "metadata": {
    "colab_type": "text",
    "id": "hpzPjxP9dqTn"
   },
   "source": [
    "### Preparação do Ambiente"
   ]
  },
  {
   "cell_type": "code",
   "execution_count": 1,
   "metadata": {
    "colab": {},
    "colab_type": "code",
    "id": "Jd0PGahidqTp"
   },
   "outputs": [],
   "source": [
    "import numpy as np\n",
    "import pandas as pd\n",
    "from sklearn.model_selection import train_test_split"
   ]
  },
  {
   "cell_type": "code",
   "execution_count": 2,
   "metadata": {
    "colab": {},
    "colab_type": "code",
    "id": "Vf9u8PiOdqT9"
   },
   "outputs": [],
   "source": [
    "path_train = 'train_refatorado.csv'\n",
    "\n",
    "# arquivo disponivel em: https://drive.google.com/drive/folders/1LqNzxY8l0EgznlCD-g873VD-ys1BRN2-?fbclid=IwAR3PPLu4hgNdKfQDJzrLGwV6L42Vm3xBrrcquuCOR4ySS97bVvU46JDaR2s\n",
    "\n",
    "train_data = pd.read_csv(path_train, encoding='utf-8')"
   ]
  },
  {
   "cell_type": "markdown",
   "metadata": {
    "colab_type": "text",
    "id": "Eie4Lq_IdqUE"
   },
   "source": [
    "### Classifica&ccedil;&atilde;o das Vari&aacute;veis"
   ]
  },
  {
   "cell_type": "code",
   "execution_count": 3,
   "metadata": {
    "colab": {
     "base_uri": "https://localhost:8080/",
     "height": 206
    },
    "colab_type": "code",
    "id": "A23OzhqMdqUH",
    "outputId": "4b24b6fb-29d6-4765-d559-d37f8a6740af"
   },
   "outputs": [
    {
     "data": {
      "text/html": [
       "<div>\n",
       "<style scoped>\n",
       "    .dataframe tbody tr th:only-of-type {\n",
       "        vertical-align: middle;\n",
       "    }\n",
       "\n",
       "    .dataframe tbody tr th {\n",
       "        vertical-align: top;\n",
       "    }\n",
       "\n",
       "    .dataframe thead th {\n",
       "        text-align: right;\n",
       "    }\n",
       "</style>\n",
       "<table border=\"1\" class=\"dataframe\">\n",
       "  <thead>\n",
       "    <tr style=\"text-align: right;\">\n",
       "      <th></th>\n",
       "      <th>Variável</th>\n",
       "      <th>Classificação</th>\n",
       "    </tr>\n",
       "  </thead>\n",
       "  <tbody>\n",
       "    <tr>\n",
       "      <th>0</th>\n",
       "      <td>id</td>\n",
       "      <td>Nominal Qualitativo</td>\n",
       "    </tr>\n",
       "    <tr>\n",
       "      <th>1</th>\n",
       "      <td>title</td>\n",
       "      <td>Nominal Qualitativo</td>\n",
       "    </tr>\n",
       "    <tr>\n",
       "      <th>2</th>\n",
       "      <td>author</td>\n",
       "      <td>Nominal Qualitativo</td>\n",
       "    </tr>\n",
       "    <tr>\n",
       "      <th>3</th>\n",
       "      <td>text</td>\n",
       "      <td>Nominal Qualitativo</td>\n",
       "    </tr>\n",
       "    <tr>\n",
       "      <th>4</th>\n",
       "      <td>label</td>\n",
       "      <td>Quantitativo Discreto</td>\n",
       "    </tr>\n",
       "  </tbody>\n",
       "</table>\n",
       "</div>"
      ],
      "text/plain": [
       "  Variável          Classificação\n",
       "0       id    Nominal Qualitativo\n",
       "1    title    Nominal Qualitativo\n",
       "2   author    Nominal Qualitativo\n",
       "3     text    Nominal Qualitativo\n",
       "4    label  Quantitativo Discreto"
      ]
     },
     "execution_count": 3,
     "metadata": {},
     "output_type": "execute_result"
    }
   ],
   "source": [
    "table = [[\"id\",\"Nominal Qualitativo\"],[\"title\",\"Nominal Qualitativo\"],\n",
    "         [\"author\",\"Nominal Qualitativo\"],[\"text\",\"Nominal Qualitativo\"],\n",
    "         [\"label\",\"Quantitativo Discreto\"]]\n",
    "\n",
    "filing = pd.DataFrame(table, columns=[\"Variável\", \"Classificação\"])\n",
    "filing"
   ]
  },
  {
   "cell_type": "markdown",
   "metadata": {
    "colab_type": "text",
    "id": "FexNEBledqUO"
   },
   "source": [
    "### Dicion&aacute;rio dos Dados"
   ]
  },
  {
   "cell_type": "markdown",
   "metadata": {
    "colab_type": "text",
    "id": "JoII-P7rdqUR"
   },
   "source": [
    "- **ID:** ID exclusivo para um artigo de notícias\n",
    "\n",
    "\n",
    "- **TITLE:** título de uma notícia\n",
    "\n",
    "\n",
    "- **AUTHOR:** autor da notícia\n",
    "\n",
    "\n",
    "- **TEXT:** texto do artigo (pode estar incompleto)\n",
    "\n",
    "\n",
    "- **LABEL:** rótulo que marca se a notícia é potencialmente não confiável\n",
    " - 1: não confiável\n",
    " - 0: confiável"
   ]
  },
  {
   "cell_type": "markdown",
   "metadata": {
    "colab_type": "text",
    "id": "Fx0IWRkLdqUS"
   },
   "source": [
    "### Perfil do Conjunto de Dados"
   ]
  },
  {
   "cell_type": "markdown",
   "metadata": {
    "colab_type": "text",
    "id": "0W6HycLqdqUT"
   },
   "source": [
    "<p>Visualizando os cinco primeiros registros</p>"
   ]
  },
  {
   "cell_type": "code",
   "execution_count": 4,
   "metadata": {
    "colab": {
     "base_uri": "https://localhost:8080/",
     "height": 98
    },
    "colab_type": "code",
    "id": "c9F-j3ZEdqUX",
    "outputId": "c5db6a03-3a64-421b-f738-559d2f7d6fcc"
   },
   "outputs": [
    {
     "data": {
      "text/html": [
       "<div>\n",
       "<style scoped>\n",
       "    .dataframe tbody tr th:only-of-type {\n",
       "        vertical-align: middle;\n",
       "    }\n",
       "\n",
       "    .dataframe tbody tr th {\n",
       "        vertical-align: top;\n",
       "    }\n",
       "\n",
       "    .dataframe thead th {\n",
       "        text-align: right;\n",
       "    }\n",
       "</style>\n",
       "<table border=\"1\" class=\"dataframe\">\n",
       "  <thead>\n",
       "    <tr style=\"text-align: right;\">\n",
       "      <th></th>\n",
       "      <th>id</th>\n",
       "      <th>title</th>\n",
       "      <th>author</th>\n",
       "      <th>text</th>\n",
       "      <th>label</th>\n",
       "      <th>title_token</th>\n",
       "      <th>title_comprimento</th>\n",
       "      <th>title_num_exclamação</th>\n",
       "      <th>title_num_questao</th>\n",
       "      <th>title_num_puntuacao</th>\n",
       "      <th>...</th>\n",
       "      <th>text_verbos</th>\n",
       "      <th>text_substantivos_vs_comprimento</th>\n",
       "      <th>text_adjetivos_vs_comprimento</th>\n",
       "      <th>text_verbos_vs_comprimento</th>\n",
       "      <th>text_substantivos_vs_palavras</th>\n",
       "      <th>text_adjetivos_vs_palavras</th>\n",
       "      <th>text_verbos_vs_palavras</th>\n",
       "      <th>text_contagem_palavras</th>\n",
       "      <th>text_media_palavras_len</th>\n",
       "      <th>text_por_cento</th>\n",
       "    </tr>\n",
       "  </thead>\n",
       "  <tbody>\n",
       "    <tr>\n",
       "      <th>0</th>\n",
       "      <td>4146</td>\n",
       "      <td>Att’y General Loretta Lynch Pleads The 5th Whe...</td>\n",
       "      <td>Geoffrey Grider</td>\n",
       "      <td>NTEB Ads Privacy Policy Att’y General Loretta ...</td>\n",
       "      <td>1</td>\n",
       "      <td>['att', 'y', 'general', 'loretta', 'lynch', 'p...</td>\n",
       "      <td>97</td>\n",
       "      <td>0</td>\n",
       "      <td>0</td>\n",
       "      <td>0</td>\n",
       "      <td>...</td>\n",
       "      <td>175</td>\n",
       "      <td>0.059651</td>\n",
       "      <td>0.009376</td>\n",
       "      <td>0.028290</td>\n",
       "      <td>0.377301</td>\n",
       "      <td>0.059305</td>\n",
       "      <td>0.178937</td>\n",
       "      <td>193</td>\n",
       "      <td>5.310838</td>\n",
       "      <td>8.179959</td>\n",
       "    </tr>\n",
       "    <tr>\n",
       "      <th>1</th>\n",
       "      <td>18452</td>\n",
       "      <td>AMAZON.CON – ROFLMAO</td>\n",
       "      <td>admin</td>\n",
       "      <td>If this is the case, the true reality beneath ...</td>\n",
       "      <td>1</td>\n",
       "      <td>['amazon', 'con', 'roflmao']</td>\n",
       "      <td>20</td>\n",
       "      <td>0</td>\n",
       "      <td>0</td>\n",
       "      <td>1</td>\n",
       "      <td>...</td>\n",
       "      <td>26</td>\n",
       "      <td>0.057604</td>\n",
       "      <td>0.019585</td>\n",
       "      <td>0.029954</td>\n",
       "      <td>0.354610</td>\n",
       "      <td>0.120567</td>\n",
       "      <td>0.184397</td>\n",
       "      <td>13</td>\n",
       "      <td>5.134752</td>\n",
       "      <td>9.219858</td>\n",
       "    </tr>\n",
       "    <tr>\n",
       "      <th>2</th>\n",
       "      <td>18107</td>\n",
       "      <td>Liberal CNN Commentator Blames Republicans for...</td>\n",
       "      <td>admin</td>\n",
       "      <td>Washington Free Beacon October 27, 2016 \\nCNN ...</td>\n",
       "      <td>1</td>\n",
       "      <td>['liberal', 'cnn', 'commentator', 'blames', 'r...</td>\n",
       "      <td>74</td>\n",
       "      <td>0</td>\n",
       "      <td>0</td>\n",
       "      <td>0</td>\n",
       "      <td>...</td>\n",
       "      <td>39</td>\n",
       "      <td>0.056772</td>\n",
       "      <td>0.005677</td>\n",
       "      <td>0.031630</td>\n",
       "      <td>0.341463</td>\n",
       "      <td>0.034146</td>\n",
       "      <td>0.190244</td>\n",
       "      <td>33</td>\n",
       "      <td>4.980488</td>\n",
       "      <td>7.804878</td>\n",
       "    </tr>\n",
       "    <tr>\n",
       "      <th>3</th>\n",
       "      <td>3975</td>\n",
       "      <td>Naval Air Forces ‘Doomsday Plane’ Circled Over...</td>\n",
       "      <td>Geoffrey Grider</td>\n",
       "      <td>NTEB Ads Privacy Policy Naval Air Forces ‘Doom...</td>\n",
       "      <td>1</td>\n",
       "      <td>['naval', 'air', 'forces', 'doomsday', 'plane'...</td>\n",
       "      <td>100</td>\n",
       "      <td>0</td>\n",
       "      <td>0</td>\n",
       "      <td>1</td>\n",
       "      <td>...</td>\n",
       "      <td>90</td>\n",
       "      <td>0.063022</td>\n",
       "      <td>0.010935</td>\n",
       "      <td>0.025899</td>\n",
       "      <td>0.382199</td>\n",
       "      <td>0.066318</td>\n",
       "      <td>0.157068</td>\n",
       "      <td>128</td>\n",
       "      <td>5.043630</td>\n",
       "      <td>10.296684</td>\n",
       "    </tr>\n",
       "    <tr>\n",
       "      <th>4</th>\n",
       "      <td>15503</td>\n",
       "      <td>Trump Wrote A Book About Sexually Assaulting W...</td>\n",
       "      <td>Lou Colagiovanni</td>\n",
       "      <td>Comments \\nAs it happens Republican presidenti...</td>\n",
       "      <td>1</td>\n",
       "      <td>['trump', 'wrote', 'a', 'book', 'about', 'sexu...</td>\n",
       "      <td>68</td>\n",
       "      <td>0</td>\n",
       "      <td>0</td>\n",
       "      <td>0</td>\n",
       "      <td>...</td>\n",
       "      <td>123</td>\n",
       "      <td>0.053253</td>\n",
       "      <td>0.015422</td>\n",
       "      <td>0.029639</td>\n",
       "      <td>0.314815</td>\n",
       "      <td>0.091168</td>\n",
       "      <td>0.175214</td>\n",
       "      <td>110</td>\n",
       "      <td>4.887464</td>\n",
       "      <td>14.387464</td>\n",
       "    </tr>\n",
       "  </tbody>\n",
       "</table>\n",
       "<p>5 rows × 47 columns</p>\n",
       "</div>"
      ],
      "text/plain": [
       "      id                                              title            author  \\\n",
       "0   4146  Att’y General Loretta Lynch Pleads The 5th Whe...   Geoffrey Grider   \n",
       "1  18452                               AMAZON.CON – ROFLMAO             admin   \n",
       "2  18107  Liberal CNN Commentator Blames Republicans for...             admin   \n",
       "3   3975  Naval Air Forces ‘Doomsday Plane’ Circled Over...   Geoffrey Grider   \n",
       "4  15503  Trump Wrote A Book About Sexually Assaulting W...  Lou Colagiovanni   \n",
       "\n",
       "                                                text  label  \\\n",
       "0  NTEB Ads Privacy Policy Att’y General Loretta ...      1   \n",
       "1  If this is the case, the true reality beneath ...      1   \n",
       "2  Washington Free Beacon October 27, 2016 \\nCNN ...      1   \n",
       "3  NTEB Ads Privacy Policy Naval Air Forces ‘Doom...      1   \n",
       "4  Comments \\nAs it happens Republican presidenti...      1   \n",
       "\n",
       "                                         title_token  title_comprimento  \\\n",
       "0  ['att', 'y', 'general', 'loretta', 'lynch', 'p...                 97   \n",
       "1                       ['amazon', 'con', 'roflmao']                 20   \n",
       "2  ['liberal', 'cnn', 'commentator', 'blames', 'r...                 74   \n",
       "3  ['naval', 'air', 'forces', 'doomsday', 'plane'...                100   \n",
       "4  ['trump', 'wrote', 'a', 'book', 'about', 'sexu...                 68   \n",
       "\n",
       "   title_num_exclamação  title_num_questao  title_num_puntuacao  ...  \\\n",
       "0                     0                  0                    0  ...   \n",
       "1                     0                  0                    1  ...   \n",
       "2                     0                  0                    0  ...   \n",
       "3                     0                  0                    1  ...   \n",
       "4                     0                  0                    0  ...   \n",
       "\n",
       "   text_verbos  text_substantivos_vs_comprimento  \\\n",
       "0          175                          0.059651   \n",
       "1           26                          0.057604   \n",
       "2           39                          0.056772   \n",
       "3           90                          0.063022   \n",
       "4          123                          0.053253   \n",
       "\n",
       "   text_adjetivos_vs_comprimento  text_verbos_vs_comprimento  \\\n",
       "0                       0.009376                    0.028290   \n",
       "1                       0.019585                    0.029954   \n",
       "2                       0.005677                    0.031630   \n",
       "3                       0.010935                    0.025899   \n",
       "4                       0.015422                    0.029639   \n",
       "\n",
       "   text_substantivos_vs_palavras  text_adjetivos_vs_palavras  \\\n",
       "0                       0.377301                    0.059305   \n",
       "1                       0.354610                    0.120567   \n",
       "2                       0.341463                    0.034146   \n",
       "3                       0.382199                    0.066318   \n",
       "4                       0.314815                    0.091168   \n",
       "\n",
       "   text_verbos_vs_palavras  text_contagem_palavras  text_media_palavras_len  \\\n",
       "0                 0.178937                     193                 5.310838   \n",
       "1                 0.184397                      13                 5.134752   \n",
       "2                 0.190244                      33                 4.980488   \n",
       "3                 0.157068                     128                 5.043630   \n",
       "4                 0.175214                     110                 4.887464   \n",
       "\n",
       "   text_por_cento  \n",
       "0        8.179959  \n",
       "1        9.219858  \n",
       "2        7.804878  \n",
       "3       10.296684  \n",
       "4       14.387464  \n",
       "\n",
       "[5 rows x 47 columns]"
      ]
     },
     "execution_count": 4,
     "metadata": {},
     "output_type": "execute_result"
    }
   ],
   "source": [
    "train_data.head()"
   ]
  },
  {
   "cell_type": "markdown",
   "metadata": {
    "colab_type": "text",
    "id": "YsBkMTw0dqUe"
   },
   "source": [
    "<p style=\"text-align: justify;\">\n",
    "Foi criado dois novos recursos denominados \"title_author_text\" e \"len_title_author_text\" para armazenar a concatenação do título, autor, texto e determinar o seu tamanho.\n",
    "</p>"
   ]
  },
  {
   "cell_type": "code",
   "execution_count": 5,
   "metadata": {
    "colab": {},
    "colab_type": "code",
    "id": "MIo0E0L4dqUj"
   },
   "outputs": [],
   "source": [
    "train_data['title_author_text'] = train_data['title'] + ' ' + train_data['author'] + ' ' + train_data['text']\n",
    "train_data['len_title_author_text'] = [len(str(x)) for x in train_data['title_author_text']]"
   ]
  },
  {
   "cell_type": "markdown",
   "metadata": {},
   "source": [
    "<p style=\"text-align: justify;\">\n",
    "Visualização da análise estatística dos novos recursos:\n",
    "</p>"
   ]
  },
  {
   "cell_type": "code",
   "execution_count": 6,
   "metadata": {
    "colab": {
     "base_uri": "https://localhost:8080/",
     "height": 182
    },
    "colab_type": "code",
    "id": "vL9safIcdqUs",
    "outputId": "455fbd9f-02ff-477b-d770-8a101117d3d5"
   },
   "outputs": [
    {
     "name": "stdout",
     "output_type": "stream",
     "text": [
      "count     15848.000000\n",
      "mean       4838.590295\n",
      "std        5385.324186\n",
      "min          23.000000\n",
      "25%        1834.750000\n",
      "50%        3648.000000\n",
      "75%        6531.000000\n",
      "max      143053.000000\n",
      "Name: len_title_author_text, dtype: float64\n"
     ]
    }
   ],
   "source": [
    "detail = train_data['len_title_author_text'].describe()\n",
    "print(detail)"
   ]
  },
  {
   "cell_type": "markdown",
   "metadata": {
    "colab_type": "text",
    "id": "1oIY260mdqU1"
   },
   "source": [
    "### Aprendizado de Máquina com Deep Learning"
   ]
  },
  {
   "cell_type": "markdown",
   "metadata": {
    "colab_type": "text",
    "id": "wNxTmDj5dqU4"
   },
   "source": [
    "<p style=\"text-align: justify;\">\n",
    "Na etapa de aprendizado de máquina, decidimos utilizar um modelo em Deep Learning para treinar uma rede LSTM (Long Short Term Memory), uma variação de rede neural recorrente (RNN) utilizado em processamento de linguagem natural. Utilizaremos a biblioteca Keras TensorFlow para a criação desse modelo.\n",
    "</p>\n",
    "<p style=\"text-align: justify;\">\n",
    "Inicialmente separamos os dados em treino e teste, o conjunto de dados que contém 15.848 registros, foi dividido em 80% de treinamento e 20% de teste, sendo assim, 12.678 registros para treinamento e 3.170 registros para testes.\n",
    "</p>\n",
    "<p style=\"text-align: justify;\">\n",
    "Na tokenização das palavras, definiu-se um dicionário com no máximo 10.000 palavras. As sequências de entrada foram truncadas para ter o mesmo comprimento de 10.000, isso é necessário para executar o cálculo em Keras.\n",
    "</p>\n",
    "<p style=\"text-align: justify;\">\n",
    "O modelo terá duas camadas LSTM, sendo uma com 128 e a outra com 64 unidades de memória <b>(LSTM(128)), (LSTM(64))</b> e adicionado uma camada incorporada que utiliza 32 vetores por palavras <b>(embedding_vector_length = 32)</b>. Para o Keras realizar o treinamento com duas camadas LSTM é necessário utilizar o parâmetro <b>(return_sequences = True)</b> responsável por permitir a conectividade entre camadas LSTM.\n",
    "</p>\n",
    "<p style=\"text-align: justify;\">\n",
    "A escolha de 128 e 64, se refere sobre o número de células utilizadas, pois há um equilíbrio nos ajustes, resolvendo um problema conhecido como vanishing gradient, o qual ocorre quando os pesos computados nas partes iniciais da sequência perdem influência ao longo das iterações, sendo sensíveis às novas entradas, porém pode sofrer com sobre ajuste (overfitting).\n",
    "</p>\n",
    "<p style=\"text-align: justify;\">\n",
    "Como se trata de redes neurais recorrentes, geralmente têm o problema de sobre ajuste (overfitting), para diminuir esse problema foi utilizada técnica de eliminação (dropout) em que os neurônios selecionados aleatoriamente são ignorados durante o treinamento. A ativação do neurônio é removida na passagem para frente e quaisquer atualizações de peso não são aplicadas ao neurônio na passagem para trás. Adicionamos três camadas de eliminação com 30% <b>(dropout = 0.3)</b>.\n",
    "</p>\n",
    "<p style=\"text-align: justify;\">\n",
    "Em nosso estudo enfrentamos um problema de classificação, queremos descobrir se determinado texto é Confiável ou Não Confiável. Para realizar as previsões 0 ou 1 para as classes (0 - Não confiável e 1 - Confiável) adicionou-se uma camada densa com 64 neurônios intermediários <b>(Dense(64, activation='relu'))</b> que nos ajuda a lidar com as saídas não-lineares, e um único neurônio de saída com função de ativação sigmoide <b>(Dense(1, activation='sigmoid'))</b> que classificará binariamente a saída, referenciada(1,).\n",
    "</p>\n",
    "<p style=\"text-align: justify;\">\n",
    "Para analisar os resultados utilizamos as métricas logloss e acurácia e para compilação o algoritmo de otimização do ADAM <b>(loss='binary_crossentropy', optimizer='adam', metrics=['accuracy'])</b>.\n",
    "</p>\n",
    "<p style=\"text-align: justify;\">\n",
    "O treinamento foi realizado em 3 épocas com lote de 64 classificações para espaçar as atualizações de pesos <b>(X_train_seq, y_train, nb_epoch=3, batch_size=64, validation_data=(X_test_seq,y_test))</b>\n",
    "</p>"
   ]
  },
  {
   "cell_type": "code",
   "execution_count": 7,
   "metadata": {
    "colab": {
     "base_uri": "https://localhost:8080/",
     "height": 35
    },
    "colab_type": "code",
    "id": "MKFEYOzCdqU5",
    "outputId": "151673f6-54cc-4894-c155-c67ba2b47b19"
   },
   "outputs": [
    {
     "name": "stderr",
     "output_type": "stream",
     "text": [
      "Using TensorFlow backend.\n"
     ]
    }
   ],
   "source": [
    "from keras.models import Sequential\n",
    "from keras.layers import Dense\n",
    "from keras.layers import LSTM\n",
    "from keras.layers import Dropout\n",
    "from keras.layers.embeddings import Embedding\n",
    "from keras.preprocessing import sequence\n",
    "from keras.preprocessing.text import Tokenizer\n",
    "\n",
    "# Corrigir seed aleatório para qualidade de reprodução\n",
    "# Este método é chamado quando o RandomState é inicializado.\n",
    "np.random.seed(7)"
   ]
  },
  {
   "cell_type": "code",
   "execution_count": 8,
   "metadata": {
    "colab": {
     "base_uri": "https://localhost:8080/",
     "height": 109
    },
    "colab_type": "code",
    "id": "pQHvCCR9dqU_",
    "outputId": "eb09014b-f5bc-44eb-c97c-218bfb119b5d"
   },
   "outputs": [
    {
     "name": "stdout",
     "output_type": "stream",
     "text": [
      "Dados de Treino - Feature: 12678\n",
      "Dados de Treino - Label: 12678\n",
      " \n",
      "Dados de Teste - Feature: 3170\n",
      "Dados de Teste - Label: 3170\n"
     ]
    }
   ],
   "source": [
    "train_features = train_data['title_author_text']\n",
    "train_targets = train_data['label']\n",
    "\n",
    "X_train, X_test, y_train, y_test = train_test_split(train_features, train_targets, test_size=0.2, random_state=42)\n",
    "\n",
    "print('Dados de Treino - Feature: {}'.format(len(X_train)))\n",
    "print('Dados de Treino - Label: {}'.format(len(y_train)))\n",
    "print(' ')\n",
    "print('Dados de Teste - Feature: {}'.format(len(X_test)))\n",
    "print('Dados de Teste - Label: {}'.format(len(y_test)))"
   ]
  },
  {
   "cell_type": "code",
   "execution_count": 9,
   "metadata": {
    "colab": {},
    "colab_type": "code",
    "id": "Z2LC1ZHwdqVK",
    "scrolled": true
   },
   "outputs": [],
   "source": [
    "num_token = int(detail['75%'])\n",
    "token = Tokenizer(num_words = num_token, filters = '!\"#$%&()*+,-./:;<=>?@[\\\\]^_`{|}~\\t\\n')\n",
    "token.fit_on_texts(X_train.astype(str))"
   ]
  },
  {
   "cell_type": "code",
   "execution_count": 10,
   "metadata": {
    "colab": {},
    "colab_type": "code",
    "id": "LFwGFukWdqVQ"
   },
   "outputs": [],
   "source": [
    "max_review_length = int(detail['75%'])\n",
    "\n",
    "x_train_token = token.texts_to_sequences(X_train.astype(str))\n",
    "x_test_token = token.texts_to_sequences(X_test.astype(str))\n",
    "\n",
    "X_train_seq = sequence.pad_sequences(x_train_token, maxlen=max_review_length)\n",
    "X_test_seq = sequence.pad_sequences(x_test_token, maxlen=max_review_length)"
   ]
  },
  {
   "cell_type": "code",
   "execution_count": 11,
   "metadata": {
    "colab": {
     "base_uri": "https://localhost:8080/",
     "height": 570
    },
    "colab_type": "code",
    "id": "AVdQ6gJ-dqVn",
    "outputId": "a8d492fa-8504-4e34-afd2-99371f643bf9",
    "scrolled": true
   },
   "outputs": [
    {
     "name": "stdout",
     "output_type": "stream",
     "text": [
      "WARNING:tensorflow:From C:\\Users\\cliente\\Anaconda3\\envs\\University\\lib\\site-packages\\tensorflow\\python\\framework\\op_def_library.py:263: colocate_with (from tensorflow.python.framework.ops) is deprecated and will be removed in a future version.\n",
      "Instructions for updating:\n",
      "Colocations handled automatically by placer.\n",
      "WARNING:tensorflow:From C:\\Users\\cliente\\Anaconda3\\envs\\University\\lib\\site-packages\\keras\\backend\\tensorflow_backend.py:3445: calling dropout (from tensorflow.python.ops.nn_ops) with keep_prob is deprecated and will be removed in a future version.\n",
      "Instructions for updating:\n",
      "Please use `rate` instead of `keep_prob`. Rate should be set to `rate = 1 - keep_prob`.\n",
      "_________________________________________________________________\n",
      "Layer (type)                 Output Shape              Param #   \n",
      "=================================================================\n",
      "embedding_1 (Embedding)      (None, 6531, 32)          208992    \n",
      "_________________________________________________________________\n",
      "lstm_1 (LSTM)                (None, 6531, 128)         82432     \n",
      "_________________________________________________________________\n",
      "dropout_1 (Dropout)          (None, 6531, 128)         0         \n",
      "_________________________________________________________________\n",
      "lstm_2 (LSTM)                (None, 64)                49408     \n",
      "_________________________________________________________________\n",
      "dropout_2 (Dropout)          (None, 64)                0         \n",
      "_________________________________________________________________\n",
      "dense_1 (Dense)              (None, 64)                4160      \n",
      "_________________________________________________________________\n",
      "dropout_3 (Dropout)          (None, 64)                0         \n",
      "_________________________________________________________________\n",
      "dense_2 (Dense)              (None, 1)                 65        \n",
      "=================================================================\n",
      "Total params: 345,057\n",
      "Trainable params: 345,057\n",
      "Non-trainable params: 0\n",
      "_________________________________________________________________\n",
      "None\n",
      "WARNING:tensorflow:From C:\\Users\\cliente\\Anaconda3\\envs\\University\\lib\\site-packages\\tensorflow\\python\\ops\\math_ops.py:3066: to_int32 (from tensorflow.python.ops.math_ops) is deprecated and will be removed in a future version.\n",
      "Instructions for updating:\n",
      "Use tf.cast instead.\n"
     ]
    },
    {
     "name": "stderr",
     "output_type": "stream",
     "text": [
      "C:\\Users\\cliente\\Anaconda3\\envs\\University\\lib\\site-packages\\ipykernel_launcher.py:21: UserWarning: The `nb_epoch` argument in `fit` has been renamed `epochs`.\n"
     ]
    },
    {
     "name": "stdout",
     "output_type": "stream",
     "text": [
      "Train on 12678 samples, validate on 3170 samples\n",
      "Epoch 1/3\n",
      "12678/12678 [==============================] - 5210s 411ms/step - loss: 0.3893 - acc: 0.8352 - val_loss: 0.7731 - val_acc: 0.7890\n",
      "Epoch 2/3\n",
      "12678/12678 [==============================] - 4605s 363ms/step - loss: 0.1895 - acc: 0.9372 - val_loss: 0.2470 - val_acc: 0.8991\n",
      "Epoch 3/3\n",
      "12678/12678 [==============================] - 4635s 366ms/step - loss: 0.1275 - acc: 0.9576 - val_loss: 0.1348 - val_acc: 0.9603\n"
     ]
    }
   ],
   "source": [
    "embedding_vector_length = 32\n",
    "dropout = 0.3\n",
    "batch_size = 64\n",
    "epochs = 3\n",
    "\n",
    "model_lstm = Sequential()\n",
    "model_lstm.add(Embedding(input_dim=num_token, output_dim=embedding_vector_length, input_length=max_review_length))\n",
    "model_lstm.add(LSTM(128,return_sequences=True))\n",
    "model_lstm.add(Dropout(dropout))\n",
    "model_lstm.add(LSTM(64))\n",
    "model_lstm.add(Dropout(dropout))\n",
    "model_lstm.add(Dense(64, activation='relu'))\n",
    "model_lstm.add(Dropout(dropout))\n",
    "model_lstm.add(Dense(1, activation='sigmoid'))\n",
    "model_lstm.compile(loss='binary_crossentropy', optimizer='adam', metrics=['accuracy'] )\n",
    "print(model_lstm.summary())\n",
    "\n",
    "\n",
    "history = model_lstm.fit( X_train_seq, y_train,\n",
    "                         nb_epoch=epochs, batch_size=batch_size,\n",
    "                         validation_data=(X_test_seq,y_test))"
   ]
  },
  {
   "cell_type": "markdown",
   "metadata": {},
   "source": [
    "**Serializar modelo para JSON**"
   ]
  },
  {
   "cell_type": "code",
   "execution_count": 12,
   "metadata": {},
   "outputs": [],
   "source": [
    "model_json = model_lstm.to_json()\n",
    "with open(\"model_lstm.json\", \"w\") as json_file:\n",
    "    json_file.write(model_json)"
   ]
  },
  {
   "cell_type": "markdown",
   "metadata": {},
   "source": [
    "**Serializar pesos em HDF5**"
   ]
  },
  {
   "cell_type": "code",
   "execution_count": 13,
   "metadata": {},
   "outputs": [
    {
     "name": "stdout",
     "output_type": "stream",
     "text": [
      "Modelo Salvo\n"
     ]
    }
   ],
   "source": [
    "model_lstm.save_weights(\"model_ltsm.h5\")\n",
    "print(\"Modelo Salvo\")"
   ]
  },
  {
   "cell_type": "markdown",
   "metadata": {},
   "source": [
    "**Verificação dos Históricos**"
   ]
  },
  {
   "cell_type": "code",
   "execution_count": 14,
   "metadata": {
    "colab": {
     "base_uri": "https://localhost:8080/",
     "height": 35
    },
    "colab_type": "code",
    "id": "f8VTCrlCdqVs",
    "outputId": "0a395adc-749b-474b-b586-a304358d7733"
   },
   "outputs": [
    {
     "name": "stdout",
     "output_type": "stream",
     "text": [
      "dict_keys(['val_loss', 'val_acc', 'loss', 'acc'])\n"
     ]
    }
   ],
   "source": [
    "print(history.history.keys())"
   ]
  },
  {
   "cell_type": "markdown",
   "metadata": {},
   "source": [
    "**Verificação Resultados modo Gráfico**"
   ]
  },
  {
   "cell_type": "code",
   "execution_count": 16,
   "metadata": {
    "colab": {
     "base_uri": "https://localhost:8080/",
     "height": 573
    },
    "colab_type": "code",
    "id": "lf95JCksdqVz",
    "outputId": "cd42cb08-e478-49c2-9eff-06ade043037b"
   },
   "outputs": [
    {
     "data": {
      "image/png": "[encoded data removed]",
      "text/plain": [
       "<Figure size 432x288 with 1 Axes>"
      ]
     },
     "metadata": {
      "needs_background": "light"
     },
     "output_type": "display_data"
    },
    {
     "data": {
      "image/png": "[encoded data removed]",
      "text/plain": [
       "<Figure size 432x288 with 1 Axes>"
      ]
     },
     "metadata": {
      "needs_background": "light"
     },
     "output_type": "display_data"
    }
   ],
   "source": [
    "import matplotlib.pyplot as plt\n",
    "from matplotlib.legend_handler import HandlerLine2D\n",
    "\n",
    "# resumir o histórico para precisão (accuracy)\n",
    "plt.plot(history.history['acc'])\n",
    "plt.plot(history.history['val_acc'])\n",
    "plt.title('model accuracy')\n",
    "plt.ylabel('acc')\n",
    "plt.xlabel('epoch')\n",
    "plt.legend(['train', 'test'], loc='upper left')\n",
    "plt.show()\n",
    "\n",
    "# resumir o histórico de perda (loss)\n",
    "plt.plot(history.history['loss'])\n",
    "plt.plot(history.history['val_loss'])\n",
    "plt.title('model loss')\n",
    "plt.ylabel('loss')\n",
    "plt.xlabel('epoch')\n",
    "plt.legend(['train', 'test'], loc='upper left')\n",
    "plt.show()"
   ]
  },
  {
   "cell_type": "markdown",
   "metadata": {
    "colab_type": "text",
    "id": "2kXgBm-IdqV8"
   },
   "source": [
    "<a id='resultado_um'></a>\n",
    "<h3><strong>6.1 Resultado</strong></h3>"
   ]
  },
  {
   "cell_type": "code",
   "execution_count": 17,
   "metadata": {
    "colab": {
     "base_uri": "https://localhost:8080/",
     "height": 35
    },
    "colab_type": "code",
    "id": "AUP0Q2XLdqV9",
    "outputId": "03028707-4d47-4ea0-c6f6-23ece7d9d285"
   },
   "outputs": [
    {
     "name": "stdout",
     "output_type": "stream",
     "text": [
      "Accuracy: 96.03%\n"
     ]
    }
   ],
   "source": [
    "scores = model_lstm.evaluate(X_test_seq, y_test, verbose=0)\n",
    "print(\"Accuracy: %.2f%%\" % (scores[1]*100))"
   ]
  },
  {
   "cell_type": "markdown",
   "metadata": {
    "colab_type": "text",
    "id": "aowF7H-KnntL"
   },
   "source": [
    "<a id='testando'></a>\n",
    "<h2><strong>7. Testando Modelo</strong></h2>"
   ]
  },
  {
   "cell_type": "markdown",
   "metadata": {},
   "source": [
    "<p style=\"text-align: justify;\">\n",
    "Após a conclusão do modelo de predição, foi criado um pequeno conjunto de dados para testes, composto de 20 notícias, sendo 10 notícias consideradas verdades extraídas de sites confiáveis como CNN, The New York Times, Aljazeera, Bloomberg, Reuters, e 10 notícias de sites não conhecidos, ou pouco confiáveis como, Viral Cord, The Onion, Real News Right Now, Empire News, National Report. Estas notícias foram retiradas do site chamado FACTITIOUS, uma plataforma de jogos, onde o desafio é identificar se a notícia falsa ou não. \n",
    "<p style=\"text-align: justify;\">\n",
    "A estrutura do conjunto de dados para teste segue abaixo:\n",
    "</p>\n",
    "\n",
    "  id  |  title  |  author  |  text  |    label    |  journal  |\n",
    "----- | ------- | -------- | ------ | ----------- | --------- |\n",
    " 0-20 | notícia | escritor | matéria| fake ou não |   local   |\n"
   ]
  },
  {
   "cell_type": "markdown",
   "metadata": {},
   "source": [
    "**Recebendo Conjunto de Dados**"
   ]
  },
  {
   "cell_type": "code",
   "execution_count": 28,
   "metadata": {},
   "outputs": [
    {
     "data": {
      "text/html": [
       "<div>\n",
       "<style scoped>\n",
       "    .dataframe tbody tr th:only-of-type {\n",
       "        vertical-align: middle;\n",
       "    }\n",
       "\n",
       "    .dataframe tbody tr th {\n",
       "        vertical-align: top;\n",
       "    }\n",
       "\n",
       "    .dataframe thead th {\n",
       "        text-align: right;\n",
       "    }\n",
       "</style>\n",
       "<table border=\"1\" class=\"dataframe\">\n",
       "  <thead>\n",
       "    <tr style=\"text-align: right;\">\n",
       "      <th></th>\n",
       "      <th>id</th>\n",
       "      <th>title</th>\n",
       "      <th>author</th>\n",
       "      <th>text</th>\n",
       "      <th>label</th>\n",
       "      <th>journal</th>\n",
       "    </tr>\n",
       "  </thead>\n",
       "  <tbody>\n",
       "    <tr>\n",
       "      <th>0</th>\n",
       "      <td>0</td>\n",
       "      <td>Bernie Sanders had a heart attack</td>\n",
       "      <td>Deanna Hackney and Caroline Kelly</td>\n",
       "      <td>(CNN)Democratic presidential candidate Sen. Be...</td>\n",
       "      <td>0</td>\n",
       "      <td>cnn</td>\n",
       "    </tr>\n",
       "    <tr>\n",
       "      <th>1</th>\n",
       "      <td>1</td>\n",
       "      <td>Alabama Requires Birth Certificate To Use Publ...</td>\n",
       "      <td>Viral Cords</td>\n",
       "      <td>Alabama is the first country to enact insane b...</td>\n",
       "      <td>1</td>\n",
       "      <td>Viral Cords</td>\n",
       "    </tr>\n",
       "    <tr>\n",
       "      <th>2</th>\n",
       "      <td>2</td>\n",
       "      <td>Iranian Hackers Target Trump Campaign as Threa...</td>\n",
       "      <td>Nicole Perlroth and David E. Sanger</td>\n",
       "      <td>SAN FRANCISCO  The 2020 presidential election...</td>\n",
       "      <td>0</td>\n",
       "      <td>the new york times</td>\n",
       "    </tr>\n",
       "    <tr>\n",
       "      <th>3</th>\n",
       "      <td>3</td>\n",
       "      <td>Buckingham Palace Guards Impressed By First La...</td>\n",
       "      <td>the onion</td>\n",
       "      <td>LONDONSaying the first ladys skills were of ...</td>\n",
       "      <td>1</td>\n",
       "      <td>the onion</td>\n",
       "    </tr>\n",
       "    <tr>\n",
       "      <th>4</th>\n",
       "      <td>4</td>\n",
       "      <td>Los Angeles Tap Water Contains 18% Xanax and 7...</td>\n",
       "      <td>Viral Cords</td>\n",
       "      <td>In new Environmental Protection Agency (EPA) f...</td>\n",
       "      <td>1</td>\n",
       "      <td>Viral Cords</td>\n",
       "    </tr>\n",
       "  </tbody>\n",
       "</table>\n",
       "</div>"
      ],
      "text/plain": [
       "   id                                              title  \\\n",
       "0   0                  Bernie Sanders had a heart attack   \n",
       "1   1  Alabama Requires Birth Certificate To Use Publ...   \n",
       "2   2  Iranian Hackers Target Trump Campaign as Threa...   \n",
       "3   3  Buckingham Palace Guards Impressed By First La...   \n",
       "4   4  Los Angeles Tap Water Contains 18% Xanax and 7...   \n",
       "\n",
       "                                author  \\\n",
       "0    Deanna Hackney and Caroline Kelly   \n",
       "1                          Viral Cords   \n",
       "2  Nicole Perlroth and David E. Sanger   \n",
       "3                            the onion   \n",
       "4                          Viral Cords   \n",
       "\n",
       "                                                text  label  \\\n",
       "0  (CNN)Democratic presidential candidate Sen. Be...      0   \n",
       "1  Alabama is the first country to enact insane b...      1   \n",
       "2  SAN FRANCISCO  The 2020 presidential election...      0   \n",
       "3  LONDONSaying the first ladys skills were of ...      1   \n",
       "4  In new Environmental Protection Agency (EPA) f...      1   \n",
       "\n",
       "              journal  \n",
       "0                 cnn  \n",
       "1         Viral Cords  \n",
       "2  the new york times  \n",
       "3           the onion  \n",
       "4         Viral Cords  "
      ]
     },
     "execution_count": 28,
     "metadata": {},
     "output_type": "execute_result"
    }
   ],
   "source": [
    "path_test = 'resources/datasets/test.csv'\n",
    "\n",
    "# arquivo disponivel em: https://github.com/BrunoComitre/fatect-news/blob/master/resources/datasets/test.csv\n",
    "\n",
    "test_data = pd.read_csv(path_test, header=0, encoding = 'unicode_escape',sep=';')\n",
    "test_data.head()"
   ]
  },
  {
   "cell_type": "code",
   "execution_count": 29,
   "metadata": {
    "colab": {
     "base_uri": "https://localhost:8080/",
     "height": 182
    },
    "colab_type": "code",
    "id": "JWt8_QpsnsqA",
    "outputId": "0a5b9896-fcde-48cb-f6b9-3274d5cbb690"
   },
   "outputs": [],
   "source": [
    "test_data ['title_author_text'] = test_data ['title'] + ' ' + test_data ['author'] + ' ' + test_data ['text']\n",
    "test_data ['len_title_author_text'] = [len(str(x)) for x in test_data ['title_author_text']]"
   ]
  },
  {
   "cell_type": "markdown",
   "metadata": {},
   "source": [
    "**Detalhes do Dataset**"
   ]
  },
  {
   "cell_type": "code",
   "execution_count": 30,
   "metadata": {},
   "outputs": [
    {
     "name": "stdout",
     "output_type": "stream",
     "text": [
      "count      20.000000\n",
      "mean     3441.100000\n",
      "std      2768.796126\n",
      "min       908.000000\n",
      "25%      1437.500000\n",
      "50%      2155.500000\n",
      "75%      4816.500000\n",
      "max      9677.000000\n",
      "Name: len_title_author_text, dtype: float64\n"
     ]
    }
   ],
   "source": [
    "detail = test_data['len_title_author_text'].describe()\n",
    "print(detail)"
   ]
  },
  {
   "cell_type": "markdown",
   "metadata": {},
   "source": [
    "**Separação**"
   ]
  },
  {
   "cell_type": "code",
   "execution_count": 31,
   "metadata": {},
   "outputs": [],
   "source": [
    "X_test = test_data['title_author_text']\n",
    "Y_test = test_data['label']"
   ]
  },
  {
   "cell_type": "markdown",
   "metadata": {},
   "source": [
    "**Tokenização**"
   ]
  },
  {
   "cell_type": "code",
   "execution_count": 32,
   "metadata": {
    "colab": {},
    "colab_type": "code",
    "id": "ZTVORJaanxF6"
   },
   "outputs": [],
   "source": [
    "num_token = 6531\n",
    "token = Tokenizer(num_words = num_token, filters = '!\"#$%&()*+,-./:;<=>?@[\\\\]^_`{|}~\\t\\n')\n",
    "token.fit_on_texts(X_train.astype(str))"
   ]
  },
  {
   "cell_type": "markdown",
   "metadata": {},
   "source": [
    "**Sequência**"
   ]
  },
  {
   "cell_type": "code",
   "execution_count": 33,
   "metadata": {},
   "outputs": [],
   "source": [
    "max_review_length = 6531\n",
    "\n",
    "X_train_token = token.texts_to_sequences(X_train.astype(str))\n",
    "X_test_token = token.texts_to_sequences(X_test.astype(str))\n",
    "\n",
    "X_train_seq = sequence.pad_sequences(X_train_token, maxlen=max_review_length)\n",
    "X_test_seq = sequence.pad_sequences(X_test_token, maxlen=max_review_length)"
   ]
  },
  {
   "cell_type": "markdown",
   "metadata": {},
   "source": [
    "# Conclusão"
   ]
  },
  {
   "cell_type": "markdown",
   "metadata": {},
   "source": [
    "**Utilizando Modelo**"
   ]
  },
  {
   "cell_type": "code",
   "execution_count": 34,
   "metadata": {
    "colab": {
     "base_uri": "https://localhost:8080/",
     "height": 54
    },
    "colab_type": "code",
    "id": "EHhu0B2pnxyK",
    "outputId": "143507e3-559b-4df6-d0f3-e3cbf046e625"
   },
   "outputs": [
    {
     "name": "stdout",
     "output_type": "stream",
     "text": [
      "Modelo carregado do Arquivo\n"
     ]
    }
   ],
   "source": [
    "from keras.models import model_from_json\n",
    "\n",
    "# arquivo disponivel em: https://github.com/BrunoComitre/fatect-news/blob/master/model_lstm.json\n",
    "# arquivo disponivel em: https://github.com/BrunoComitre/fatect-news/blob/master/model_ltsm.h5\n",
    "\n",
    "json_file = open('model_lstm.json', 'r')\n",
    "loaded_model_json = json_file.read()\n",
    "json_file.close()\n",
    "loaded_model = model_from_json(loaded_model_json)\n",
    "\n",
    "loaded_model.load_weights(\"model_ltsm.h5\")\n",
    "print(\"Modelo carregado do Arquivo\")\n",
    "\n",
    "loaded_model.compile(loss='binary_crossentropy', optimizer='adam', metrics=['accuracy'])"
   ]
  },
  {
   "cell_type": "markdown",
   "metadata": {},
   "source": [
    "**Resultado**"
   ]
  },
  {
   "cell_type": "code",
   "execution_count": 35,
   "metadata": {},
   "outputs": [
    {
     "name": "stdout",
     "output_type": "stream",
     "text": [
      "acc: 75.00%\n"
     ]
    }
   ],
   "source": [
    "scores = loaded_model.evaluate(X_test_seq, Y_test, verbose=0)\n",
    "print(\"%s: %.2f%%\" % (loaded_model.metrics_names[1], scores[1]*100))"
   ]
  },
  {
   "cell_type": "markdown",
   "metadata": {},
   "source": [
    "**Predição**"
   ]
  },
  {
   "cell_type": "code",
   "execution_count": 36,
   "metadata": {
    "colab": {},
    "colab_type": "code",
    "id": "5GHLFN4Wn0pg"
   },
   "outputs": [],
   "source": [
    "predictions = loaded_model.predict_classes(X_test_seq)"
   ]
  },
  {
   "cell_type": "code",
   "execution_count": 37,
   "metadata": {
    "colab": {},
    "colab_type": "code",
    "id": "CWg7f-Dcn3yr"
   },
   "outputs": [
    {
     "name": "stdout",
     "output_type": "stream",
     "text": [
      "(20, 1)\n"
     ]
    }
   ],
   "source": [
    "print(predictions.shape)"
   ]
  },
  {
   "cell_type": "code",
   "execution_count": 38,
   "metadata": {},
   "outputs": [
    {
     "data": {
      "text/plain": [
       "[array([1]),\n",
       " array([1]),\n",
       " array([0]),\n",
       " array([1]),\n",
       " array([1]),\n",
       " array([0]),\n",
       " array([1]),\n",
       " array([1]),\n",
       " array([1]),\n",
       " array([1]),\n",
       " array([1]),\n",
       " array([0]),\n",
       " array([1]),\n",
       " array([1]),\n",
       " array([0]),\n",
       " array([1]),\n",
       " array([0]),\n",
       " array([1]),\n",
       " array([1]),\n",
       " array([1])]"
      ]
     },
     "execution_count": 38,
     "metadata": {},
     "output_type": "execute_result"
    }
   ],
   "source": [
    "rounded = [np.round(x) for x in predictions]\n",
    "rounded"
   ]
  },
  {
   "cell_type": "markdown",
   "metadata": {
    "colab_type": "text",
    "id": "qEEM2Al7dqWE"
   },
   "source": [
    "<p style=\"text-align: justify;\">\n",
    "Os dados têm a seguinte informação:\n",
    "</p>\n",
    "\n",
    "- 0 Notícia Verdadeira\n",
    "- 1 Notícia Falsa\n",
    "\n",
    "\n",
    "  id |   Dado do Dataset  |  Resultado do Teste  | \n",
    " --- | ------------------ | -------------------- |\n",
    "   0 |          0         |           1          |\n",
    "   1 |          1         |           1          |\n",
    "   2 |          0         |           0          |\n",
    "   3 |          1         |           1          |\n",
    "   4 |          1         |           1          |\n",
    "   5 |          0         |           0          |\n",
    "   6 |          1         |           1          |\n",
    "   7 |          1         |           1          |\n",
    "   8 |          0         |           1          |\n",
    "   9 |          1         |           1          |\n",
    "  10 |          1         |           1          |\n",
    "  11 |          0         |           0          |\n",
    "  12 |          0         |           1          |\n",
    "  13 |          1         |           1          |\n",
    "  14 |          0         |           0          |\n",
    "  15 |          1         |           1          |\n",
    "  16 |          0         |           0          |\n",
    "  17 |          1         |           1          |\n",
    "  18 |          0         |           1          |\n",
    "  19 |          0         |           1          |\n",
    "  \n",
    "<p style=\"text-align: justify;\">\n",
    "Conforme visto acima obtivemos 15 acertos de 20. Um resultado satisfatório para o projeto proposto.\n",
    "</p>"
   ]
  },
  {
   "cell_type": "markdown",
   "metadata": {},
   "source": [
    "*INSTALLED VERSIONS*"
   ]
  },
  {
   "cell_type": "code",
   "execution_count": 39,
   "metadata": {},
   "outputs": [
    {
     "name": "stdout",
     "output_type": "stream",
     "text": [
      "\n",
      "INSTALLED VERSIONS\n",
      "------------------\n",
      "commit: None\n",
      "python: 3.7.1.final.0\n",
      "python-bits: 64\n",
      "OS: Windows\n",
      "OS-release: 10\n",
      "machine: AMD64\n",
      "processor: AMD64 Family 23 Model 8 Stepping 2, AuthenticAMD\n",
      "byteorder: little\n",
      "LC_ALL: None\n",
      "LANG: None\n",
      "LOCALE: None.None\n",
      "\n",
      "pandas: 0.24.2\n",
      "pytest: 5.0.1\n",
      "pip: 19.1.1\n",
      "setuptools: 41.0.1\n",
      "Cython: None\n",
      "numpy: 1.16.4\n",
      "scipy: 1.2.1\n",
      "pyarrow: None\n",
      "xarray: None\n",
      "IPython: 7.5.0\n",
      "sphinx: None\n",
      "patsy: None\n",
      "dateutil: 2.8.0\n",
      "pytz: 2019.1\n",
      "blosc: None\n",
      "bottleneck: None\n",
      "tables: None\n",
      "numexpr: None\n",
      "feather: None\n",
      "matplotlib: 3.1.1\n",
      "openpyxl: None\n",
      "xlrd: None\n",
      "xlwt: None\n",
      "xlsxwriter: None\n",
      "lxml.etree: 4.3.4\n",
      "bs4: None\n",
      "html5lib: None\n",
      "sqlalchemy: None\n",
      "pymysql: None\n",
      "psycopg2: None\n",
      "jinja2: 2.10.1\n",
      "s3fs: None\n",
      "fastparquet: None\n",
      "pandas_gbq: None\n",
      "pandas_datareader: None\n",
      "gcsfs: None\n"
     ]
    }
   ],
   "source": [
    "pd.show_versions()"
   ]
  },
  {
   "cell_type": "markdown",
   "metadata": {},
   "source": [
    "# Trabalhos Futuros"
   ]
  },
  {
   "cell_type": "markdown",
   "metadata": {},
   "source": [
    "***"
   ]
  },
  {
   "cell_type": "markdown",
   "metadata": {},
   "source": [
    "# Referências"
   ]
  },
  {
   "cell_type": "markdown",
   "metadata": {},
   "source": [
    "\n",
    "<p style=\"text-align: justify;\">[1] SHAHEBAZ, Mohammad. Hand Crafted Feature Engineering For Insincerity. Dispon&iacute;vel em: &lt;https://www.kaggle.com/shaz13/feature-engineering-for-nlp-classification/notebook#Tagging-Parts-Of-Speech-And-More-Feature-Engineering;. Acesso em: 14 set. 2019.</p>\n",
    "\n",
    "\n",
    "\n",
    "\n",
    "\n",
    "\n",
    "<p style=\"text-align: justify;\">[1] UTK Machine Learning Club. Fake News - Build a system to identify unreliable news articles. 2017. Dispon&iacute;vel em: &lt;https://www.kaggle.com/c/fake-news/data.&gt;. Acesso em: 28 jul. 2019.</p>\n",
    "\n",
    "<p style=\"text-align: justify;\">[2] BROWNLEE, Jason. Display Deep Learning Model Training History in Keras. Dispon&iacute;vel em: &lt;https://machinelearningmastery.com/display-deep-learning-model-training-history-in-keras/. Acesso em: 02 out. 2019.</p>\n",
    "\n",
    "<p style=\"text-align: justify;\">[3] AQUINO, Bruno. 5-fold LSTM Attention (fully commented). Dispon&iacute;vel em: &lt;https://www.kaggle.com/braquino/5-fold-lstm-attention-fully-commented-0-694/. Acesso em: 03 out. 2019.</p>\n",
    "\n",
    "<p style=\"text-align: justify;\">[4] AU Game Lab, the JoLT program. factitious project. Dispon&iacute;vel em: &lt;http://factitious.augamestudio.com/#/. Acesso em: 04 out. 2019.</p>\n",
    "\n",
    "<p style=\"text-align: justify;\">[5] SUHANKO, Djames. Como salvar um model treinado com Keras. Dispon&iacute;vel em: &lt;https://www.dobitaobyte.com.br/como-salvar-um-model-treinado-com-keras/. Acesso em: 04 out. 2019.</p>\n",
    "\n",
    "\n",
    "\n",
    "\n",
    "\n",
    "\n",
    "\n",
    "\n",
    "\n",
    "<p style=\"text-align: justify;\">[1] DAVIDSON, Thomas et al. Hate Speech and Offensive Language: 24k tweets labeled as hate speech, offensive language, or neither. 2017. Dispon&iacute;vel em: &lt;https://data.world/thomasrdavidson/hate-speech-and-offensive-language&gt;. Acesso em: 14 set. 2018.</p>\n",
    "<p style=\"text-align: justify;\">[2] SANTANA, Felipe. Fake news, not&iacute;cias em texto e oportunidades. 2018. Dispon&iacute;vel em: &lt;http://minerandodados.com.br/index.php/2018/10/09/fake-news-noticias-em-texto-e-oportunidades/&gt;. Acesso em: 12 out. 2018.</p>\n",
    "<p style=\"text-align: justify;\">\n",
    "[3] PEREZ-ROSAS, Ver&ocirc;nica et al. Automatic Detection of Fake News. 2016. 10 f. Department of Psychology (Computer Science and Engineering,) - University of Michigan, [S.l.], 2016.</p>\n",
    "<p style=\"text-align: justify;\">\n",
    "[4] W. PENNEBAKER, James. Lying Words: Predicting Deception From Linguistic Styles. In: L. NEWMAN, Mathew et al. Lying Words: Predicting Deception From Linguistic Styles. 2003. ed. [S.l.]: PSPB, 2009. p. 665-675. v. 1.</p>\n",
    "<p style=\"text-align: justify;\">\n",
    "[5] PEREZ-ROSAS, Ver&ocirc;nica; MIHALCEA, Rada. Experiments in Open Domain Deception Detection. 2008. 6 p. Computer Science (Computer Science and Engineering) - University of Michigan, [S.l.], 2008.</p>\n",
    "<p style=\"text-align: justify;\">[6] DA ROCHA, Bernardo Abbad et al. O avan&ccedil;o das fake news e sua retrata&ccedil;&atilde;o na m&iacute;dia de refer&ecirc;ncia. 2018. 15 p. Sociedade Brasileira de Estudos Interdisciplinares da Comunica&ccedil;&atilde;o (Congresso de Ci&ecirc;ncias da Comunica&ccedil;&atilde;o na Regi&atilde;o Sul) - Universidade Federal de Santa Maria, Santa Maria, RS, Cascavel-PR, 2018.</p>\n",
    "<p style=\"text-align: justify;\">[7] RUBIN, Victoria L. et al. Fake News or Truth? Using Satirical Cues to Detect Potentially Misleading News. 2015. 11 p. Language and Information Technology Research Lab (Faculty of Information and Media Studies) - University of Western Ontario, London, Ontario, CANADA, 2015.</p>\n",
    "<p style=\"text-align: justify;\">[8] SHAFQAT, Wafa et al. The Language of Deceivers: Linguistic Features of Crowdfunding Scams. 2015. 2 p. Sangmyung University (Sangmyung University)- Sangmyung University, Cheonan, South Korea, 2015.</p>\n",
    "<p style=\"text-align: justify;\">[9] CONROY, Niall J.; RUBIN, Victoria L.; CHEN, Yimin. Automatic Deception Detection: Methods for Finding Fake News. 2014. 4 f. Language and Information Technology Research Lab (LIT.RL) (Faculty of Information and Media Studies) - University of Western Ontario, London, Ontario, CANADA, 2014.</p>\n",
    "<p style=\"text-align: justify;\">[10] DAVIDSON, Thomas et al. Automated Hate Speech Detection and the Problem of Offensive Language. 2013. 4 f. Department of Applied Mathematics (Qatar Computing Research Institute) - Cornell University, 3Department of Information Science, Ithaca, NY, USA, 2013.</p>\n",
    "<p style=\"text-align: justify;\">\n",
    "[11] MIN H. Kao Department of Electrical Engineering &amp; Computer Science. [S. l.], 2019. Dispon&iacute;vel em: https://www.eecs.utk.edu/people/student-organizations/. Acesso em: 9 jul. 2019.</p>\n",
    "<p style=\"text-align: justify;\">\n",
    "[12] BROWNLEE , Jason. A Gentle Introduction to the Rectified Linear Unit (ReLU). [S. l.], 9 jan. 2019. Dispon&iacute;vel em: https://machinelearningmastery.com/rectified-linear-activation-function-for-deep-learning-neural-networks/. Acesso em: 9 jul. 2019.</p>\n",
    "<p style=\"text-align: justify;\">\n",
    "[13] DEPARTMENT of Electrical Engineering and Computer Science - UTK. [S. l.], 2019. Dispon&iacute;vel em: https://www.facebook.com/EECS.UTK/. Acesso em: 9 jul. 2019.</p>\n",
    "<p style=\"text-align: justify;\">\n",
    "[14] BROWNLEE, Jason. Dropout Regularization in Deep Learning Models With Keras. [S. l.], 20 jun. 2016. Dispon&iacute;vel em: https://machinelearningmastery.com/dropout-regularization-deep-learning-models-keras/. Acesso em: 9 jul. 2019.</p>\n",
    "<p style=\"text-align: justify;\">\n",
    "[15] BIDIRECTIONAL Long Short-Term Memory (BI-LSTM) with Attention Mechanism. [S. l.], 30 jun. 2019. Dispon&iacute;vel em: http://primo.ai/index.php?title=Bidirectional_Long_Short-Term_Memory_(BI-LSTM)_with_Attention_Mechanism. Acesso em: 9 jul. 2019.</p>\n",
    "<p style=\"text-align: justify;\">\n",
    "[16] BROWNLEE, Jason. Sequence Classification with LSTM Recurrent Neural Networks in Python with Keras. [S. l.], 26 jul. 2016. Dispon&iacute;vel em: https://machinelearningmastery.com/sequence-classification-lstm-recurrent-neural-networks-python-keras/. Acesso em: 9 jul. 2019.</p>\n",
    "<p style=\"text-align: justify;\">\n",
    "[17] BIDIRECTIONAL recurrent neural networks. [S. l.], 7 jul. 2019. Dispon&iacute;vel em: https://en.wikipedia.org/wiki/Bidirectional_recurrent_neural_networks. Acesso em: 9 jul. 2019.</p>\n",
    "<p style=\"text-align: justify;\">\n",
    " [18] A BEGINNER&lsquo;S Guide to LSTMs and Recurrent Neural Networks. [S. l.], 2019. Dispon&iacute;vel em: https://skymind.ai/wiki/lstm. Acesso em: 9 jul. 2019.</p>\n",
    "<p style=\"text-align: justify;\">\n",
    "[19] OLAH, Christopher. Understanding LSTM Networks. [S. l.], 27 ago. 2015. Dispon&iacute;vel em: https://colah.github.io/posts/2015-08-Understanding-LSTMs/. Acesso em: 9 jul. 2019.</p>\n",
    "<p style=\"text-align: justify;\">\n",
    "[20] HE, Lang He et al. Multimodal Affective Dimension Prediction Using Deep Bidirectional Long Short-Term Memory Recurrent Neural Networks. Proceeding AVEC &lsquo;15 Proceedings of the 5th International Workshop on Audio/Visual Emotion Challenge Pages 73-80, 26 out. 2015. Dispon&iacute;vel em: https://dl.acm.org/citation.cfm?id=2811641. Acesso em: 9 jul. 2019.</p>\n",
    "<p style=\"text-align: justify;\">\n",
    "[21] GUAN, Zhonghui et al. Integration of Long-Term-Memory-Related SynapticPlasticity Involves Bidirectional Regulationof Gene Expression and Chromatin Structure. [S. l.], 15 nov. 2002. Dispon&iacute;vel em: https://reader.elsevier.com/reader/sd/pii/S0092867402010747?token=73DB87FE6A1527FD3EF86124A1AC74C4D12672A129141DEEE0E768066DC0E8118D7D\n",
    "E4A039BB31A75FE45A3EE126C6C3. Acesso em: 9 jul. 2019.</p>\n",
    "<p style=\"text-align: justify;\">\n",
    "[22] LIWICKI, Marcus et al. A Novel Approach to On-Line Handwriting Recognition Based on Bidirectional Long Short-Term Memory Networks. [S. l.], 2019. Dispon&iacute;vel em: https://mediatum.ub.tum.de/doc/1289961/file.pdf. Acesso em: 9 jul. 2019.</p>\n",
    "<p style=\"text-align: justify;\">\n",
    "[23] ZHOU, Peng et al. Attention-Based Bidirectional Long Short-Term Memory Networks for Relation Classification. [S. l.], 2019. Dispon&iacute;vel em: https://www.aclweb.org/anthology/P16-2034. Acesso em: 9 jul. 2019.</p>\n",
    "<p style=\"text-align: justify;\">\n",
    "[24] Frei , Lukas. Speed Up Your Exploratory Data Analysis With Pandas-Profiling. [S. l.], 25 apr. 2019. Dispon&iacute;vel em: https://towardsdatascience.com/speed-up-your-exploratory-data-analysis-with-pandas-profiling-88b33dc53625. Acesso em: 9 jul. 2019.\n",
    "</p>\n",
    "<p style=\"text-align: justify;\">\n",
    "[25] Lucendo, Guillermo Altares. A longa história das notícias falsas, 18 jun 2018. Dispon&iacute;vel em:  https://brasil.elpais.com/brasil/2018/06/08/cultura/1528467298_389944.html. Acesso em: 01 out. 2019.\n",
    "</p>\n",
    "<p style=\"text-align: justify;\">\n",
    "[26] Réflexions d’un historien sur les fausses nouvelles de la guerre.  Dispon&iacute;vel em: https://fr.wikisource.org/wiki/R%C3%A9flexions_d%E2%80%99un_historien_sur_les\n",
    "_fausses_nouvelles_de_la_guerre. Acesso em: 01 out. 2019.\n",
    "</p>\n",
    "<p style=\"text-align: justify;\">\n",
    "[27] David M. J. Lazer, Matthew A. Baum, Yochai Benkler, Adam J. Berinsky, Kelly M. Greenhill, Filippo Menczer, Miriam J.Metzger, Brendan Nyhan, Gordon Pennycook, David Rothschild, Michael Schudson, Steven A. Sloman, Cass R. Sunstein, Emily A. Thorson, Duncan J. Watts and Jonathan L. Zittrain. The science of fake news.  Dispon&iacute;vel em: https://scholar.harvard.edu/files/mbaum/files/science_of_fake_news.pdf. Acesso em: 01 out. 2019.\n",
    "</p>"
   ]
  },
  {
   "cell_type": "markdown",
   "metadata": {},
   "source": [
    "***"
   ]
  }
 ],
 "metadata": {
  "kernelspec": {
   "display_name": "Python 3",
   "language": "python",
   "name": "python3"
  },
  "language_info": {
   "codemirror_mode": {
    "name": "ipython",
    "version": 3
   },
   "file_extension": ".py",
   "mimetype": "text/x-python",
   "name": "python",
   "nbconvert_exporter": "python",
   "pygments_lexer": "ipython3",
   "version": "3.7.3"
  },
  "toc-autonumbering": true,
  "toc-showmarkdowntxt": false,
  "toc-showtags": false
 },
 "nbformat": 4,
 "nbformat_minor": 4
}
