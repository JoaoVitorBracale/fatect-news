{
 "cells": [
  {
   "cell_type": "markdown",
   "metadata": {},
   "source": [
    "# Conclusion"
   ]
  },
  {
   "cell_type": "markdown",
   "metadata": {},
   "source": [
    "About our analysis, we will describe here all that we can absorb and observe about the understanding of the algorithm.\n",
    "\n",
    "Next, let's talk about the exploratory analysis of visualizations.\n",
    "\n",
    "So I could not get information and generated such results\n",
    "\n",
    "Another relevant issue is added here.\n",
    "\n",
    "Describe if possible and necessary, future work, and continuation of this project."
   ]
  },
  {
   "cell_type": "markdown",
   "metadata": {},
   "source": [
    "***"
   ]
  },
  {
   "cell_type": "markdown",
   "metadata": {},
   "source": [
    "### Backup"
   ]
  },
  {
   "cell_type": "markdown",
   "metadata": {},
   "source": [
    "<div class=\"alert alert-block alert-success\">\n",
    "The exploratory analysis aimed at identifying several things.\n",
    "</div>\n",
    "\n",
    "<div class=\"alert alert-block alert-info\">\n",
    "<b>Tip:</b>We identify the events..\n",
    "</div>\n",
    "\n",
    "The insights will be described here.\n",
    "\n",
    "<div class=\"alert alert-block alert-warning\">\n",
    "<b>Example:</b> Other things have also been identified.\n",
    "</div>\n",
    "\n",
    "This study can be continued with an analysis of other variables, exploring and finding new insights using the database as the database for the new variables.\n",
    "\n",
    "<div class=\"alert alert-block alert-danger\">\n",
    "<b>IMPORTANT:</b> It is important to note that your responsibilities are not definitive, but are not likely to implement statistics to conduct this study.\n",
    "</div>"
   ]
  }
 ],
 "metadata": {
  "kernelspec": {
   "display_name": "Python 3",
   "language": "python",
   "name": "python3"
  },
  "language_info": {
   "codemirror_mode": {
    "name": "ipython",
    "version": 3
   },
   "file_extension": ".py",
   "mimetype": "text/x-python",
   "name": "python",
   "nbconvert_exporter": "python",
   "pygments_lexer": "ipython3",
   "version": "3.7.3"
  }
 },
 "nbformat": 4,
 "nbformat_minor": 2
}
