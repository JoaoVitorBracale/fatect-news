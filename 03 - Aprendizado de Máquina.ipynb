{
 "cells": [
  {
   "cell_type": "markdown",
   "metadata": {
    "colab_type": "text",
    "id": "TqV8VH_OdqTM"
   },
   "source": [
    "<p style=\"text-align: center;\"><strong> FACULDADE DE ENGENHARIA DE SOROCABA - FACENS</strong>\n",
    "    <br />\n",
    "    PÓS GRADUAÇÃO EM ESPECIALIZAÇÃO EM CIÊNCIA DE DADOS\n",
    "</p>\n",
    "<h2>&nbsp;</h2>"
   ]
  },
  {
   "cell_type": "markdown",
   "metadata": {
    "colab_type": "text",
    "id": "bRBk4PjedqTS"
   },
   "source": [
    "<p style=\"text-align: center;\"><strong>ALEX COELHO ABRANTES</strong></p>\n",
    "<p style=\"text-align: center;\"><strong>BRUNO ALVES COMITRE</strong></p>\n",
    "<h2>&nbsp;</h2>\n",
    "<p style=\"text-align: center;\"><strong>DETECÇÃO AUTOMATIZADA DE NOTÍCIAS FALSAS:</strong></p>\n",
    "<p style=\"text-align: center;\"><strong>PESQUISA COM RECONHECIMENTO DE INTEGRIDADE DAS INFORMAÇÕES</strong></p>\n",
    "<h2>&nbsp;</h2>"
   ]
  },
  {
   "cell_type": "markdown",
   "metadata": {
    "colab_type": "text",
    "id": "c1pQPFNhdqTV"
   },
   "source": [
    "<p style=\"text-align: right;\">Tese apresentada ao Programa de P&oacute;s-Gradua&ccedil;&atilde;o <br />\n",
    "em Ci&ecirc;ncias de Dados da Faculdade de Engenharia de <br />\n",
    "Sorocaba - FACENS, como requisito parcial para a obten&ccedil;&atilde;o <br />\n",
    "do t&iacute;tulo de P&oacute;s Graduado em Ci&ecirc;ncia de Dados. <br />\n",
    "</p>\n",
    "\n",
    "<p style=\"text-align: right;\"> Orientado: Prof. Matheus Mota</p>\n",
    "<p style=\"text-align: right;\"> Coord.: Prof. Fernando Vieira da Silva </p>\n",
    "<h2>&nbsp;</h2>"
   ]
  },
  {
   "cell_type": "markdown",
   "metadata": {
    "colab_type": "text",
    "id": "OqneZ-BPdqTY"
   },
   "source": [
    "<p style=\"text-align: center;\">SOROCABA</p>\n",
    "<p style=\"text-align: center;\">2019</p>\n",
    "<h2>&nbsp;</h2>"
   ]
  },
  {
   "cell_type": "markdown",
   "metadata": {
    "colab_type": "text",
    "id": "_8ICgHkadqTb"
   },
   "source": [
    "***"
   ]
  },
  {
   "cell_type": "markdown",
   "metadata": {
    "colab_type": "text",
    "id": "3ymnXx94dqTk"
   },
   "source": [
    "<p style=\"text-align: center;\"><strong>SUMÁRIO</strong></p>\n",
    "<p style=\"text-align: center;\">&nbsp;</p>\n",
    "\n",
    "<ul>\n",
    "    <li><a href='#imports'>1. Imports</a></li>\n",
    "    <li><a href='#recebendo_dados'>2. Recebendo Conjunto de Dados</a></li>\n",
    "    <li><a href='#classificacao_variaveis'>3. Classificação da Variáveis</a></li>\n",
    "    <li><a href='#dicionario_dados'>4. Dicionário dos Dados</a></li>\n",
    "    <li><a href='#conjunto_dados'>5. Perfil do Conjunto de Dados</a></li>\n",
    "    <li><a href='#aprendizado_deep'>6. Aprendizado de Máquina com Deep Learning</a></li>\n",
    "    <ul>\n",
    "        <li><a href='#resultado_treino'>6.1 Resultado do treinamento</a></li>\n",
    "    </ul>\n",
    "    <li><a href='#testando'>7. Testando Modelo</a></li>\n",
    "    <li><a href='#referencias'>REFERÊNCIAS</a></li>\n",
    "</ul>"
   ]
  },
  {
   "cell_type": "markdown",
   "metadata": {
    "colab_type": "text",
    "id": "hpzPjxP9dqTn"
   },
   "source": [
    "<a id='imports'></a>\n",
    "<h2><strong>1. Imports</strong></h2>"
   ]
  },
  {
   "cell_type": "code",
   "execution_count": 1,
   "metadata": {
    "colab": {},
    "colab_type": "code",
    "id": "Jd0PGahidqTp"
   },
   "outputs": [],
   "source": [
    "import numpy as np\n",
    "import pandas as pd\n",
    "from sklearn.model_selection import train_test_split"
   ]
  },
  {
   "cell_type": "markdown",
   "metadata": {
    "colab_type": "text",
    "id": "HP7kYBpGdqT5"
   },
   "source": [
    "<a id='recebendo_dados'></a>\n",
    "<h2><strong>2. Recebendo Conjunto de Dados</strong></h2>"
   ]
  },
  {
   "cell_type": "code",
   "execution_count": 2,
   "metadata": {
    "colab": {},
    "colab_type": "code",
    "id": "Vf9u8PiOdqT9"
   },
   "outputs": [],
   "source": [
    "path_train = 'train_refatorado.csv'\n",
    "\n",
    "train_data = pd.read_csv(path_train, encoding='utf-8')"
   ]
  },
  {
   "cell_type": "markdown",
   "metadata": {
    "colab_type": "text",
    "id": "Eie4Lq_IdqUE"
   },
   "source": [
    "<a id='classificacao_variaveis'></a>\n",
    "<h2><strong>3. Classifica&ccedil;&atilde;o da Vari&aacute;veis</strong></h2>"
   ]
  },
  {
   "cell_type": "code",
   "execution_count": 3,
   "metadata": {
    "colab": {
     "base_uri": "https://localhost:8080/",
     "height": 206
    },
    "colab_type": "code",
    "id": "A23OzhqMdqUH",
    "outputId": "4b24b6fb-29d6-4765-d559-d37f8a6740af"
   },
   "outputs": [
    {
     "data": {
      "text/html": [
       "<div>\n",
       "<style scoped>\n",
       "    .dataframe tbody tr th:only-of-type {\n",
       "        vertical-align: middle;\n",
       "    }\n",
       "\n",
       "    .dataframe tbody tr th {\n",
       "        vertical-align: top;\n",
       "    }\n",
       "\n",
       "    .dataframe thead th {\n",
       "        text-align: right;\n",
       "    }\n",
       "</style>\n",
       "<table border=\"1\" class=\"dataframe\">\n",
       "  <thead>\n",
       "    <tr style=\"text-align: right;\">\n",
       "      <th></th>\n",
       "      <th>Variável</th>\n",
       "      <th>Classificação</th>\n",
       "    </tr>\n",
       "  </thead>\n",
       "  <tbody>\n",
       "    <tr>\n",
       "      <th>0</th>\n",
       "      <td>id</td>\n",
       "      <td>Nominal Qualitativo</td>\n",
       "    </tr>\n",
       "    <tr>\n",
       "      <th>1</th>\n",
       "      <td>title</td>\n",
       "      <td>Nominal Qualitativo</td>\n",
       "    </tr>\n",
       "    <tr>\n",
       "      <th>2</th>\n",
       "      <td>author</td>\n",
       "      <td>Nominal Qualitativo</td>\n",
       "    </tr>\n",
       "    <tr>\n",
       "      <th>3</th>\n",
       "      <td>text</td>\n",
       "      <td>Nominal Qualitativo</td>\n",
       "    </tr>\n",
       "    <tr>\n",
       "      <th>4</th>\n",
       "      <td>label</td>\n",
       "      <td>Quantitativo Discreto</td>\n",
       "    </tr>\n",
       "  </tbody>\n",
       "</table>\n",
       "</div>"
      ],
      "text/plain": [
       "  Variável          Classificação\n",
       "0       id    Nominal Qualitativo\n",
       "1    title    Nominal Qualitativo\n",
       "2   author    Nominal Qualitativo\n",
       "3     text    Nominal Qualitativo\n",
       "4    label  Quantitativo Discreto"
      ]
     },
     "execution_count": 3,
     "metadata": {},
     "output_type": "execute_result"
    }
   ],
   "source": [
    "table = [[\"id\",\"Nominal Qualitativo\"],[\"title\",\"Nominal Qualitativo\"],\n",
    "         [\"author\",\"Nominal Qualitativo\"],[\"text\",\"Nominal Qualitativo\"],\n",
    "         [\"label\",\"Quantitativo Discreto\"]]\n",
    "\n",
    "filing = pd.DataFrame(table, columns=[\"Variável\", \"Classificação\"])\n",
    "filing"
   ]
  },
  {
   "cell_type": "markdown",
   "metadata": {
    "colab_type": "text",
    "id": "FexNEBledqUO"
   },
   "source": [
    "<a id='dicionario_dados'></a>\n",
    "<h2><strong>4. Dicion&aacute;rio dos Dados</strong></h2>"
   ]
  },
  {
   "cell_type": "markdown",
   "metadata": {
    "colab_type": "text",
    "id": "JoII-P7rdqUR"
   },
   "source": [
    "- **ID:** ID exclusivo para um artigo de notícias\n",
    "\n",
    "\n",
    "- **TITLE:** título de uma notícia\n",
    "\n",
    "\n",
    "- **AUTHOR:** autor da notícia\n",
    "\n",
    "\n",
    "- **TEXT:** texto do artigo (pode estar incompleto)\n",
    "\n",
    "\n",
    "- **LABEL:** rótulo que marca se a notícia é potencialmente não confiável\n",
    " - 1: não confiável\n",
    " - 0: confiável"
   ]
  },
  {
   "cell_type": "markdown",
   "metadata": {
    "colab_type": "text",
    "id": "Fx0IWRkLdqUS"
   },
   "source": [
    "<a id='conjunto_dados'></a>\n",
    "<h2><strong>5. Perfil do Conjunto de Dados</strong></h2>"
   ]
  },
  {
   "cell_type": "markdown",
   "metadata": {
    "colab_type": "text",
    "id": "0W6HycLqdqUT"
   },
   "source": [
    "<p>Visualizando os cinco primeiros registros</p>"
   ]
  },
  {
   "cell_type": "code",
   "execution_count": 4,
   "metadata": {
    "colab": {
     "base_uri": "https://localhost:8080/",
     "height": 98
    },
    "colab_type": "code",
    "id": "c9F-j3ZEdqUX",
    "outputId": "c5db6a03-3a64-421b-f738-559d2f7d6fcc"
   },
   "outputs": [
    {
     "data": {
      "text/html": [
       "<div>\n",
       "<style scoped>\n",
       "    .dataframe tbody tr th:only-of-type {\n",
       "        vertical-align: middle;\n",
       "    }\n",
       "\n",
       "    .dataframe tbody tr th {\n",
       "        vertical-align: top;\n",
       "    }\n",
       "\n",
       "    .dataframe thead th {\n",
       "        text-align: right;\n",
       "    }\n",
       "</style>\n",
       "<table border=\"1\" class=\"dataframe\">\n",
       "  <thead>\n",
       "    <tr style=\"text-align: right;\">\n",
       "      <th></th>\n",
       "      <th>id</th>\n",
       "      <th>title</th>\n",
       "      <th>author</th>\n",
       "      <th>text</th>\n",
       "      <th>label</th>\n",
       "      <th>title_token</th>\n",
       "      <th>title_comprimento</th>\n",
       "      <th>title_num_exclamação</th>\n",
       "      <th>title_num_questao</th>\n",
       "      <th>title_num_puntuacao</th>\n",
       "      <th>...</th>\n",
       "      <th>text_verbos</th>\n",
       "      <th>text_substantivos_vs_comprimento</th>\n",
       "      <th>text_adjetivos_vs_comprimento</th>\n",
       "      <th>text_verbos_vs_comprimento</th>\n",
       "      <th>text_substantivos_vs_palavras</th>\n",
       "      <th>text_adjetivos_vs_palavras</th>\n",
       "      <th>text_verbos_vs_palavras</th>\n",
       "      <th>text_contagem_palavras</th>\n",
       "      <th>text_media_palavras_len</th>\n",
       "      <th>text_por_cento</th>\n",
       "    </tr>\n",
       "  </thead>\n",
       "  <tbody>\n",
       "    <tr>\n",
       "      <th>0</th>\n",
       "      <td>4146</td>\n",
       "      <td>Att’y General Loretta Lynch Pleads The 5th Whe...</td>\n",
       "      <td>Geoffrey Grider</td>\n",
       "      <td>NTEB Ads Privacy Policy Att’y General Loretta ...</td>\n",
       "      <td>1</td>\n",
       "      <td>['att', 'y', 'general', 'loretta', 'lynch', 'p...</td>\n",
       "      <td>97</td>\n",
       "      <td>0</td>\n",
       "      <td>0</td>\n",
       "      <td>0</td>\n",
       "      <td>...</td>\n",
       "      <td>175</td>\n",
       "      <td>0.059651</td>\n",
       "      <td>0.009376</td>\n",
       "      <td>0.028290</td>\n",
       "      <td>0.377301</td>\n",
       "      <td>0.059305</td>\n",
       "      <td>0.178937</td>\n",
       "      <td>193</td>\n",
       "      <td>5.310838</td>\n",
       "      <td>8.179959</td>\n",
       "    </tr>\n",
       "    <tr>\n",
       "      <th>1</th>\n",
       "      <td>18452</td>\n",
       "      <td>AMAZON.CON – ROFLMAO</td>\n",
       "      <td>admin</td>\n",
       "      <td>If this is the case, the true reality beneath ...</td>\n",
       "      <td>1</td>\n",
       "      <td>['amazon', 'con', 'roflmao']</td>\n",
       "      <td>20</td>\n",
       "      <td>0</td>\n",
       "      <td>0</td>\n",
       "      <td>1</td>\n",
       "      <td>...</td>\n",
       "      <td>26</td>\n",
       "      <td>0.057604</td>\n",
       "      <td>0.019585</td>\n",
       "      <td>0.029954</td>\n",
       "      <td>0.354610</td>\n",
       "      <td>0.120567</td>\n",
       "      <td>0.184397</td>\n",
       "      <td>13</td>\n",
       "      <td>5.134752</td>\n",
       "      <td>9.219858</td>\n",
       "    </tr>\n",
       "    <tr>\n",
       "      <th>2</th>\n",
       "      <td>18107</td>\n",
       "      <td>Liberal CNN Commentator Blames Republicans for...</td>\n",
       "      <td>admin</td>\n",
       "      <td>Washington Free Beacon October 27, 2016 \\nCNN ...</td>\n",
       "      <td>1</td>\n",
       "      <td>['liberal', 'cnn', 'commentator', 'blames', 'r...</td>\n",
       "      <td>74</td>\n",
       "      <td>0</td>\n",
       "      <td>0</td>\n",
       "      <td>0</td>\n",
       "      <td>...</td>\n",
       "      <td>39</td>\n",
       "      <td>0.056772</td>\n",
       "      <td>0.005677</td>\n",
       "      <td>0.031630</td>\n",
       "      <td>0.341463</td>\n",
       "      <td>0.034146</td>\n",
       "      <td>0.190244</td>\n",
       "      <td>33</td>\n",
       "      <td>4.980488</td>\n",
       "      <td>7.804878</td>\n",
       "    </tr>\n",
       "    <tr>\n",
       "      <th>3</th>\n",
       "      <td>3975</td>\n",
       "      <td>Naval Air Forces ‘Doomsday Plane’ Circled Over...</td>\n",
       "      <td>Geoffrey Grider</td>\n",
       "      <td>NTEB Ads Privacy Policy Naval Air Forces ‘Doom...</td>\n",
       "      <td>1</td>\n",
       "      <td>['naval', 'air', 'forces', 'doomsday', 'plane'...</td>\n",
       "      <td>100</td>\n",
       "      <td>0</td>\n",
       "      <td>0</td>\n",
       "      <td>1</td>\n",
       "      <td>...</td>\n",
       "      <td>90</td>\n",
       "      <td>0.063022</td>\n",
       "      <td>0.010935</td>\n",
       "      <td>0.025899</td>\n",
       "      <td>0.382199</td>\n",
       "      <td>0.066318</td>\n",
       "      <td>0.157068</td>\n",
       "      <td>128</td>\n",
       "      <td>5.043630</td>\n",
       "      <td>10.296684</td>\n",
       "    </tr>\n",
       "    <tr>\n",
       "      <th>4</th>\n",
       "      <td>15503</td>\n",
       "      <td>Trump Wrote A Book About Sexually Assaulting W...</td>\n",
       "      <td>Lou Colagiovanni</td>\n",
       "      <td>Comments \\nAs it happens Republican presidenti...</td>\n",
       "      <td>1</td>\n",
       "      <td>['trump', 'wrote', 'a', 'book', 'about', 'sexu...</td>\n",
       "      <td>68</td>\n",
       "      <td>0</td>\n",
       "      <td>0</td>\n",
       "      <td>0</td>\n",
       "      <td>...</td>\n",
       "      <td>123</td>\n",
       "      <td>0.053253</td>\n",
       "      <td>0.015422</td>\n",
       "      <td>0.029639</td>\n",
       "      <td>0.314815</td>\n",
       "      <td>0.091168</td>\n",
       "      <td>0.175214</td>\n",
       "      <td>110</td>\n",
       "      <td>4.887464</td>\n",
       "      <td>14.387464</td>\n",
       "    </tr>\n",
       "  </tbody>\n",
       "</table>\n",
       "<p>5 rows × 47 columns</p>\n",
       "</div>"
      ],
      "text/plain": [
       "      id                                              title            author  \\\n",
       "0   4146  Att’y General Loretta Lynch Pleads The 5th Whe...   Geoffrey Grider   \n",
       "1  18452                               AMAZON.CON – ROFLMAO             admin   \n",
       "2  18107  Liberal CNN Commentator Blames Republicans for...             admin   \n",
       "3   3975  Naval Air Forces ‘Doomsday Plane’ Circled Over...   Geoffrey Grider   \n",
       "4  15503  Trump Wrote A Book About Sexually Assaulting W...  Lou Colagiovanni   \n",
       "\n",
       "                                                text  label  \\\n",
       "0  NTEB Ads Privacy Policy Att’y General Loretta ...      1   \n",
       "1  If this is the case, the true reality beneath ...      1   \n",
       "2  Washington Free Beacon October 27, 2016 \\nCNN ...      1   \n",
       "3  NTEB Ads Privacy Policy Naval Air Forces ‘Doom...      1   \n",
       "4  Comments \\nAs it happens Republican presidenti...      1   \n",
       "\n",
       "                                         title_token  title_comprimento  \\\n",
       "0  ['att', 'y', 'general', 'loretta', 'lynch', 'p...                 97   \n",
       "1                       ['amazon', 'con', 'roflmao']                 20   \n",
       "2  ['liberal', 'cnn', 'commentator', 'blames', 'r...                 74   \n",
       "3  ['naval', 'air', 'forces', 'doomsday', 'plane'...                100   \n",
       "4  ['trump', 'wrote', 'a', 'book', 'about', 'sexu...                 68   \n",
       "\n",
       "   title_num_exclamação  title_num_questao  title_num_puntuacao  ...  \\\n",
       "0                     0                  0                    0  ...   \n",
       "1                     0                  0                    1  ...   \n",
       "2                     0                  0                    0  ...   \n",
       "3                     0                  0                    1  ...   \n",
       "4                     0                  0                    0  ...   \n",
       "\n",
       "   text_verbos  text_substantivos_vs_comprimento  \\\n",
       "0          175                          0.059651   \n",
       "1           26                          0.057604   \n",
       "2           39                          0.056772   \n",
       "3           90                          0.063022   \n",
       "4          123                          0.053253   \n",
       "\n",
       "   text_adjetivos_vs_comprimento  text_verbos_vs_comprimento  \\\n",
       "0                       0.009376                    0.028290   \n",
       "1                       0.019585                    0.029954   \n",
       "2                       0.005677                    0.031630   \n",
       "3                       0.010935                    0.025899   \n",
       "4                       0.015422                    0.029639   \n",
       "\n",
       "   text_substantivos_vs_palavras  text_adjetivos_vs_palavras  \\\n",
       "0                       0.377301                    0.059305   \n",
       "1                       0.354610                    0.120567   \n",
       "2                       0.341463                    0.034146   \n",
       "3                       0.382199                    0.066318   \n",
       "4                       0.314815                    0.091168   \n",
       "\n",
       "   text_verbos_vs_palavras  text_contagem_palavras  text_media_palavras_len  \\\n",
       "0                 0.178937                     193                 5.310838   \n",
       "1                 0.184397                      13                 5.134752   \n",
       "2                 0.190244                      33                 4.980488   \n",
       "3                 0.157068                     128                 5.043630   \n",
       "4                 0.175214                     110                 4.887464   \n",
       "\n",
       "   text_por_cento  \n",
       "0        8.179959  \n",
       "1        9.219858  \n",
       "2        7.804878  \n",
       "3       10.296684  \n",
       "4       14.387464  \n",
       "\n",
       "[5 rows x 47 columns]"
      ]
     },
     "execution_count": 4,
     "metadata": {},
     "output_type": "execute_result"
    }
   ],
   "source": [
    "train_data.head()"
   ]
  },
  {
   "cell_type": "markdown",
   "metadata": {
    "colab_type": "text",
    "id": "YsBkMTw0dqUe"
   },
   "source": [
    "<p style=\"text-align: justify;\">\n",
    "Foi criado duas novos recursos denominadas \"title_author_text\" e \"len_title_author_text\" para armazenar a concatenação do título, autor, texto e determinar o seu tamanho.\n",
    "</p>"
   ]
  },
  {
   "cell_type": "code",
   "execution_count": 5,
   "metadata": {
    "colab": {},
    "colab_type": "code",
    "id": "MIo0E0L4dqUj"
   },
   "outputs": [],
   "source": [
    "train_data['title_author_text'] = train_data['title'] + ' ' + train_data['author'] + ' ' + train_data['text']\n",
    "train_data['len_title_author_text'] = [len(str(x)) for x in train_data['title_author_text']]"
   ]
  },
  {
   "cell_type": "markdown",
   "metadata": {},
   "source": [
    "<p style=\"text-align: justify;\">\n",
    "Visulização da análise estatística dos novos recursos:\n",
    "</p>"
   ]
  },
  {
   "cell_type": "code",
   "execution_count": 6,
   "metadata": {
    "colab": {
     "base_uri": "https://localhost:8080/",
     "height": 182
    },
    "colab_type": "code",
    "id": "vL9safIcdqUs",
    "outputId": "455fbd9f-02ff-477b-d770-8a101117d3d5"
   },
   "outputs": [
    {
     "name": "stdout",
     "output_type": "stream",
     "text": [
      "count     15848.000000\n",
      "mean       4838.590295\n",
      "std        5385.324186\n",
      "min          23.000000\n",
      "25%        1834.750000\n",
      "50%        3648.000000\n",
      "75%        6531.000000\n",
      "max      143053.000000\n",
      "Name: len_title_author_text, dtype: float64\n"
     ]
    }
   ],
   "source": [
    "detail = train_data['len_title_author_text'].describe()\n",
    "print(detail)"
   ]
  },
  {
   "cell_type": "markdown",
   "metadata": {
    "colab_type": "text",
    "id": "1oIY260mdqU1"
   },
   "source": [
    "<a id='aprendizado_deep'></a>\n",
    "<h2><strong>6. Aprendizado de Máquina com Deep Learning</strong></h2>"
   ]
  },
  {
   "cell_type": "markdown",
   "metadata": {
    "colab_type": "text",
    "id": "wNxTmDj5dqU4"
   },
   "source": [
    "<p style=\"text-align: justify;\">\n",
    "Na etapa de aprendizado de máquina, decidimos utilizar um modelo em Deep Learning para treinar uma rede LSTM (Long Short Term Memory), uma variação de rede neural recorrente (RNN) utilizado em processamento de linguagem natural. Utilizaremos a biblioteca Keras TensorFlow para a criação desse modelo.\n",
    "</p>\n",
    "<p style=\"text-align: justify;\">\n",
    "Inicialmente separamos os dados em treino e teste, o conjunto de dados que contém 15.848 regsitros, foi divididos em 80% de treinamento e 20% de teste, sendo assim, 12.678 registros para treinamento e 3.170 registros para testes.\n",
    "</p>\n",
    "<p style=\"text-align: justify;\">\n",
    "Na tokenização das palavras, definiu-se um dicionário com no máximo 10.000 palavras. As sequências de entrada foram truncadas para ter o mesmo comprimento de 10.000, isso é necessário para executar o cálculo em Keras.\n",
    "</p>\n",
    "<p style=\"text-align: justify;\">\n",
    "O modelo terá duas camadas LSTM, sendo uma com 128 e a outra com 64 unidades de memória <b>(LSTM(128)), (LSTM(64))</b> e adicionado uma camada incorporada que utiliza 32 vetores por palavras <b>(embedding_vector_length = 32)</b>. Para o Keras realizar o treinamento com duas camadas LSTM é necessário utilizar o parâmetro <b>(return_sequences = True)</b> responsável por permitir a conectividade entre camadas LSTM.\n",
    "</p>\n",
    "<p style=\"text-align: justify;\">\n",
    "A escolha de 128 e 64, se refere sobre o número de células utilizadas, pois há um equilibrio nos ajustes, resolvendo um problema conhecido como vanishing gradient, o qual ocorre quando os pesos computados nas partes iniciais da sequência perdem influência ao longo das iterações, sendo sensíveis às novas entradas, porém pode sofrer com sobreajuste (overfitting).\n",
    "</p>\n",
    "<p style=\"text-align: justify;\">\n",
    "Como se trata de redes neurais recorrentes, geralmente têm o problema de sobreajuste (overfitting), para diminuir esse problema foi utilizada técnica de eliminação (dropout) em que os neurônios selecionados aleatoriamente são ignorados durante o treinamento. A ativação do neurônio é removida na passagem para frente e quaisquer atualizações de peso não são aplicadas ao neurônio na passagem para trás. Adicionamos três camadas de eliminação com 30% <b>(dropout = 0.3)</b>.\n",
    "</p>\n",
    "<p style=\"text-align: justify;\">\n",
    "Em nosso estudo enfrentamos um problema de classificação, queremos descobrir se determinado texto é Confiável ou Não Confiável. Para realizar as previsões 0 ou 1 para as classes (0 - Não confiável e 1 - Confiável) adicionou-se uma camada densa com 64 neurônios intermediários <b>(Dense(64, activation='relu'))</b> que nos ajuda a lidar com as saídas não-lineares, e um único neurônio de saída com função de ativação sigmóide <b>(Dense(1, activation='sigmoid'))</b> que classificará binariamente a saída, referenciada(1,).\n",
    "</p>\n",
    "<p style=\"text-align: justify;\">\n",
    "Para analisar os resultados utilizamos as métricas logloss e acurácia e para compilação o algoritmo de otimização do ADAM <b>(loss='binary_crossentropy', optimizer='adam', metrics=['accuracy'])</b>.\n",
    "</p>\n",
    "<p style=\"text-align: justify;\">\n",
    "O treinamento foi realizado em 3 épocas com lote de 64 classificações para espaçar as atualizações de pesos <b>(X_train_seq, y_train, nb_epoch=3, batch_size=64,validation_data=(X_test_seq,y_test))</b>\n",
    "</p>"
   ]
  },
  {
   "cell_type": "code",
   "execution_count": 7,
   "metadata": {
    "colab": {
     "base_uri": "https://localhost:8080/",
     "height": 35
    },
    "colab_type": "code",
    "id": "MKFEYOzCdqU5",
    "outputId": "151673f6-54cc-4894-c155-c67ba2b47b19"
   },
   "outputs": [
    {
     "name": "stderr",
     "output_type": "stream",
     "text": [
      "Using TensorFlow backend.\n"
     ]
    }
   ],
   "source": [
    "from keras.models import Sequential\n",
    "from keras.layers import Dense\n",
    "from keras.layers import LSTM\n",
    "from keras.layers import Dropout\n",
    "from keras.layers.embeddings import Embedding\n",
    "from keras.preprocessing import sequence\n",
    "from keras.preprocessing.text import Tokenizer\n",
    "\n",
    "# Corrigir seed aleatório para qualidade de reprodução\n",
    "# Este método é chamado quando o RandomState é inicializado.\n",
    "np.random.seed(7)"
   ]
  },
  {
   "cell_type": "code",
   "execution_count": 8,
   "metadata": {
    "colab": {
     "base_uri": "https://localhost:8080/",
     "height": 109
    },
    "colab_type": "code",
    "id": "pQHvCCR9dqU_",
    "outputId": "eb09014b-f5bc-44eb-c97c-218bfb119b5d"
   },
   "outputs": [
    {
     "name": "stdout",
     "output_type": "stream",
     "text": [
      "Dados de Treino - Feature: 12678\n",
      "Dados de Treino - Label: 12678\n",
      " \n",
      "Dados de Teste - Feature: 3170\n",
      "Dados de Teste - Label: 3170\n"
     ]
    }
   ],
   "source": [
    "train_features = train_data['title_author_text']\n",
    "train_targets = train_data['label']\n",
    "\n",
    "X_train, X_test, y_train, y_test = train_test_split(train_features, train_targets, test_size=0.2, random_state=42)\n",
    "\n",
    "print('Dados de Treino - Feature: {}'.format(len(X_train)))\n",
    "print('Dados de Treino - Label: {}'.format(len(y_train)))\n",
    "print(' ')\n",
    "print('Dados de Teste - Feature: {}'.format(len(X_test)))\n",
    "print('Dados de Teste - Label: {}'.format(len(y_test)))"
   ]
  },
  {
   "cell_type": "code",
   "execution_count": 9,
   "metadata": {
    "colab": {},
    "colab_type": "code",
    "id": "Z2LC1ZHwdqVK",
    "scrolled": true
   },
   "outputs": [],
   "source": [
    "num_token = int(detail['75%'])\n",
    "token = Tokenizer(num_words = num_token, filters = '!\"#$%&()*+,-./:;<=>?@[\\\\]^_`{|}~\\t\\n')\n",
    "token.fit_on_texts(X_train.astype(str))"
   ]
  },
  {
   "cell_type": "code",
   "execution_count": 10,
   "metadata": {
    "colab": {},
    "colab_type": "code",
    "id": "LFwGFukWdqVQ"
   },
   "outputs": [],
   "source": [
    "max_review_length = int(detail['75%'])\n",
    "\n",
    "x_train_token = token.texts_to_sequences(X_train.astype(str))\n",
    "x_test_token = token.texts_to_sequences(X_test.astype(str))\n",
    "\n",
    "X_train_seq = sequence.pad_sequences(x_train_token, maxlen=max_review_length)\n",
    "X_test_seq = sequence.pad_sequences(x_test_token, maxlen=max_review_length)"
   ]
  },
  {
   "cell_type": "code",
   "execution_count": 11,
   "metadata": {
    "colab": {
     "base_uri": "https://localhost:8080/",
     "height": 570
    },
    "colab_type": "code",
    "id": "AVdQ6gJ-dqVn",
    "outputId": "a8d492fa-8504-4e34-afd2-99371f643bf9",
    "scrolled": true
   },
   "outputs": [
    {
     "name": "stdout",
     "output_type": "stream",
     "text": [
      "WARNING:tensorflow:From C:\\Users\\cliente\\Anaconda3\\envs\\University\\lib\\site-packages\\tensorflow\\python\\framework\\op_def_library.py:263: colocate_with (from tensorflow.python.framework.ops) is deprecated and will be removed in a future version.\n",
      "Instructions for updating:\n",
      "Colocations handled automatically by placer.\n",
      "WARNING:tensorflow:From C:\\Users\\cliente\\Anaconda3\\envs\\University\\lib\\site-packages\\keras\\backend\\tensorflow_backend.py:3445: calling dropout (from tensorflow.python.ops.nn_ops) with keep_prob is deprecated and will be removed in a future version.\n",
      "Instructions for updating:\n",
      "Please use `rate` instead of `keep_prob`. Rate should be set to `rate = 1 - keep_prob`.\n",
      "_________________________________________________________________\n",
      "Layer (type)                 Output Shape              Param #   \n",
      "=================================================================\n",
      "embedding_1 (Embedding)      (None, 6531, 32)          208992    \n",
      "_________________________________________________________________\n",
      "lstm_1 (LSTM)                (None, 6531, 128)         82432     \n",
      "_________________________________________________________________\n",
      "dropout_1 (Dropout)          (None, 6531, 128)         0         \n",
      "_________________________________________________________________\n",
      "lstm_2 (LSTM)                (None, 64)                49408     \n",
      "_________________________________________________________________\n",
      "dropout_2 (Dropout)          (None, 64)                0         \n",
      "_________________________________________________________________\n",
      "dense_1 (Dense)              (None, 64)                4160      \n",
      "_________________________________________________________________\n",
      "dropout_3 (Dropout)          (None, 64)                0         \n",
      "_________________________________________________________________\n",
      "dense_2 (Dense)              (None, 1)                 65        \n",
      "=================================================================\n",
      "Total params: 345,057\n",
      "Trainable params: 345,057\n",
      "Non-trainable params: 0\n",
      "_________________________________________________________________\n",
      "None\n",
      "WARNING:tensorflow:From C:\\Users\\cliente\\Anaconda3\\envs\\University\\lib\\site-packages\\tensorflow\\python\\ops\\math_ops.py:3066: to_int32 (from tensorflow.python.ops.math_ops) is deprecated and will be removed in a future version.\n",
      "Instructions for updating:\n",
      "Use tf.cast instead.\n"
     ]
    },
    {
     "name": "stderr",
     "output_type": "stream",
     "text": [
      "C:\\Users\\cliente\\Anaconda3\\envs\\University\\lib\\site-packages\\ipykernel_launcher.py:21: UserWarning: The `nb_epoch` argument in `fit` has been renamed `epochs`.\n"
     ]
    },
    {
     "name": "stdout",
     "output_type": "stream",
     "text": [
      "Train on 12678 samples, validate on 3170 samples\n",
      "Epoch 1/3\n",
      "12678/12678 [==============================] - 5210s 411ms/step - loss: 0.3893 - acc: 0.8352 - val_loss: 0.7731 - val_acc: 0.7890\n",
      "Epoch 2/3\n",
      "12678/12678 [==============================] - 4605s 363ms/step - loss: 0.1895 - acc: 0.9372 - val_loss: 0.2470 - val_acc: 0.8991\n",
      "Epoch 3/3\n",
      "12678/12678 [==============================] - 4635s 366ms/step - loss: 0.1275 - acc: 0.9576 - val_loss: 0.1348 - val_acc: 0.9603\n"
     ]
    }
   ],
   "source": [
    "embedding_vector_length = 32\n",
    "dropout = 0.3\n",
    "batch_size = 64\n",
    "epochs = 3\n",
    "\n",
    "model_lstm = Sequential()\n",
    "model_lstm.add(Embedding(input_dim=num_token, output_dim=embedding_vector_length, input_length=max_review_length))\n",
    "model_lstm.add(LSTM(128,return_sequences=True))\n",
    "model_lstm.add(Dropout(dropout))\n",
    "model_lstm.add(LSTM(64))\n",
    "model_lstm.add(Dropout(dropout))\n",
    "model_lstm.add(Dense(64, activation='relu'))\n",
    "model_lstm.add(Dropout(dropout))\n",
    "model_lstm.add(Dense(1, activation='sigmoid'))\n",
    "model_lstm.compile(loss='binary_crossentropy', optimizer='adam', metrics=['accuracy'] )\n",
    "print(model_lstm.summary())\n",
    "\n",
    "\n",
    "history = model_lstm.fit( X_train_seq, y_train,\n",
    "                         nb_epoch=epochs, batch_size=batch_size,\n",
    "                         validation_data=(X_test_seq,y_test))"
   ]
  },
  {
   "cell_type": "markdown",
   "metadata": {},
   "source": [
    "**Serializar modelo para JSON**"
   ]
  },
  {
   "cell_type": "code",
   "execution_count": 12,
   "metadata": {},
   "outputs": [],
   "source": [
    "model_json = model_lstm.to_json()\n",
    "with open(\"model_lstm.json\", \"w\") as json_file:\n",
    "    json_file.write(model_json)"
   ]
  },
  {
   "cell_type": "markdown",
   "metadata": {},
   "source": [
    "**Serializar pesos em HDF5**"
   ]
  },
  {
   "cell_type": "code",
   "execution_count": 13,
   "metadata": {},
   "outputs": [
    {
     "name": "stdout",
     "output_type": "stream",
     "text": [
      "Modelo Salvo\n"
     ]
    }
   ],
   "source": [
    "model_lstm.save_weights(\"model_ltsm.h5\")\n",
    "print(\"Modelo Salvo\")"
   ]
  },
  {
   "cell_type": "markdown",
   "metadata": {},
   "source": [
    "**Verificação dos Históricos**"
   ]
  },
  {
   "cell_type": "code",
   "execution_count": 14,
   "metadata": {
    "colab": {
     "base_uri": "https://localhost:8080/",
     "height": 35
    },
    "colab_type": "code",
    "id": "f8VTCrlCdqVs",
    "outputId": "0a395adc-749b-474b-b586-a304358d7733"
   },
   "outputs": [
    {
     "name": "stdout",
     "output_type": "stream",
     "text": [
      "dict_keys(['val_loss', 'val_acc', 'loss', 'acc'])\n"
     ]
    }
   ],
   "source": [
    "print(history.history.keys())"
   ]
  },
  {
   "cell_type": "markdown",
   "metadata": {},
   "source": [
    "**Verificação Resultados modo Gráfico**"
   ]
  },
  {
   "cell_type": "code",
   "execution_count": 16,
   "metadata": {
    "colab": {
     "base_uri": "https://localhost:8080/",
     "height": 573
    },
    "colab_type": "code",
    "id": "lf95JCksdqVz",
    "outputId": "cd42cb08-e478-49c2-9eff-06ade043037b"
   },
   "outputs": [
    {
     "data": {
      "image/png": "[encoded data removed]",
      "text/plain": [
       "<Figure size 432x288 with 1 Axes>"
      ]
     },
     "metadata": {
      "needs_background": "light"
     },
     "output_type": "display_data"
    },
    {
     "data": {
      "image/png": "[encoded data removed]",
      "text/plain": [
       "<Figure size 432x288 with 1 Axes>"
      ]
     },
     "metadata": {
      "needs_background": "light"
     },
     "output_type": "display_data"
    }
   ],
   "source": [
    "import matplotlib.pyplot as plt\n",
    "from matplotlib.legend_handler import HandlerLine2D\n",
    "\n",
    "# resumir o histórico para precisão (accuracy)\n",
    "plt.plot(history.history['acc'])\n",
    "plt.plot(history.history['val_acc'])\n",
    "plt.title('model accuracy')\n",
    "plt.ylabel('acc')\n",
    "plt.xlabel('epoch')\n",
    "plt.legend(['train', 'test'], loc='upper left')\n",
    "plt.show()\n",
    "\n",
    "# resumir o histórico de perda (loss)\n",
    "plt.plot(history.history['loss'])\n",
    "plt.plot(history.history['val_loss'])\n",
    "plt.title('model loss')\n",
    "plt.ylabel('loss')\n",
    "plt.xlabel('epoch')\n",
    "plt.legend(['train', 'test'], loc='upper left')\n",
    "plt.show()"
   ]
  },
  {
   "cell_type": "markdown",
   "metadata": {
    "colab_type": "text",
    "id": "2kXgBm-IdqV8"
   },
   "source": [
    "<a id='resultado_um'></a>\n",
    "<h3><strong>6.1 Resultado</strong></h3>"
   ]
  },
  {
   "cell_type": "code",
   "execution_count": 17,
   "metadata": {
    "colab": {
     "base_uri": "https://localhost:8080/",
     "height": 35
    },
    "colab_type": "code",
    "id": "AUP0Q2XLdqV9",
    "outputId": "03028707-4d47-4ea0-c6f6-23ece7d9d285"
   },
   "outputs": [
    {
     "name": "stdout",
     "output_type": "stream",
     "text": [
      "Accuracy: 96.03%\n"
     ]
    }
   ],
   "source": [
    "scores = model_lstm.evaluate(X_test_seq, y_test, verbose=0)\n",
    "print(\"Accuracy: %.2f%%\" % (scores[1]*100))"
   ]
  },
  {
   "cell_type": "markdown",
   "metadata": {
    "colab_type": "text",
    "id": "aowF7H-KnntL"
   },
   "source": [
    "<a id='testando'></a>\n",
    "<h2><strong>7. Testando Modelo</strong></h2>"
   ]
  },
  {
   "cell_type": "markdown",
   "metadata": {},
   "source": [
    "<p style=\"text-align: justify;\">\n",
    "Após a conclusão do modelo de predição, foi criado um pequeno conjunto de dados para testes, composto de 20 notícias, sendo 10 notícias consideradas verdades extraidas de sites confiáveis como CNN, The New York Times, Aljazeera, Bloomberg, Reuters, e 10 notícias de sites não conhecidos, ou pouco confiáveis como, Viral Cord, The Onion, Real News Right Now, Empire News, National Report. Estas notícias foram retiradas do site chamado FACTITIOUS, uma plataforma de jogos, onde o desafio é identificar se a notícia falsa ou não. \n",
    "<p style=\"text-align: justify;\">\n",
    "A estrutura do conjunto de dados para teste segue abaixo:\n",
    "</p>\n",
    "\n",
    "  id  |  title  |  author  |  text  |    label    |  journal  |\n",
    "----- | ------- | -------- | ------ | ----------- | --------- |\n",
    " 0-20 | notícia | escritor | matéria| fake ou não |   local   |\n"
   ]
  },
  {
   "cell_type": "markdown",
   "metadata": {},
   "source": [
    "**Recebendo Conjunto de Dados**"
   ]
  },
  {
   "cell_type": "code",
   "execution_count": 28,
   "metadata": {},
   "outputs": [
    {
     "data": {
      "text/html": [
       "<div>\n",
       "<style scoped>\n",
       "    .dataframe tbody tr th:only-of-type {\n",
       "        vertical-align: middle;\n",
       "    }\n",
       "\n",
       "    .dataframe tbody tr th {\n",
       "        vertical-align: top;\n",
       "    }\n",
       "\n",
       "    .dataframe thead th {\n",
       "        text-align: right;\n",
       "    }\n",
       "</style>\n",
       "<table border=\"1\" class=\"dataframe\">\n",
       "  <thead>\n",
       "    <tr style=\"text-align: right;\">\n",
       "      <th></th>\n",
       "      <th>id</th>\n",
       "      <th>title</th>\n",
       "      <th>author</th>\n",
       "      <th>text</th>\n",
       "      <th>label</th>\n",
       "      <th>journal</th>\n",
       "    </tr>\n",
       "  </thead>\n",
       "  <tbody>\n",
       "    <tr>\n",
       "      <th>0</th>\n",
       "      <td>0</td>\n",
       "      <td>Bernie Sanders had a heart attack</td>\n",
       "      <td>Deanna Hackney and Caroline Kelly</td>\n",
       "      <td>(CNN)Democratic presidential candidate Sen. Be...</td>\n",
       "      <td>0</td>\n",
       "      <td>cnn</td>\n",
       "    </tr>\n",
       "    <tr>\n",
       "      <th>1</th>\n",
       "      <td>1</td>\n",
       "      <td>Alabama Requires Birth Certificate To Use Publ...</td>\n",
       "      <td>Viral Cords</td>\n",
       "      <td>Alabama is the first country to enact insane b...</td>\n",
       "      <td>1</td>\n",
       "      <td>Viral Cords</td>\n",
       "    </tr>\n",
       "    <tr>\n",
       "      <th>2</th>\n",
       "      <td>2</td>\n",
       "      <td>Iranian Hackers Target Trump Campaign as Threa...</td>\n",
       "      <td>Nicole Perlroth and David E. Sanger</td>\n",
       "      <td>SAN FRANCISCO  The 2020 presidential election...</td>\n",
       "      <td>0</td>\n",
       "      <td>the new york times</td>\n",
       "    </tr>\n",
       "    <tr>\n",
       "      <th>3</th>\n",
       "      <td>3</td>\n",
       "      <td>Buckingham Palace Guards Impressed By First La...</td>\n",
       "      <td>the onion</td>\n",
       "      <td>LONDONSaying the first ladys skills were of ...</td>\n",
       "      <td>1</td>\n",
       "      <td>the onion</td>\n",
       "    </tr>\n",
       "    <tr>\n",
       "      <th>4</th>\n",
       "      <td>4</td>\n",
       "      <td>Los Angeles Tap Water Contains 18% Xanax and 7...</td>\n",
       "      <td>Viral Cords</td>\n",
       "      <td>In new Environmental Protection Agency (EPA) f...</td>\n",
       "      <td>1</td>\n",
       "      <td>Viral Cords</td>\n",
       "    </tr>\n",
       "  </tbody>\n",
       "</table>\n",
       "</div>"
      ],
      "text/plain": [
       "   id                                              title  \\\n",
       "0   0                  Bernie Sanders had a heart attack   \n",
       "1   1  Alabama Requires Birth Certificate To Use Publ...   \n",
       "2   2  Iranian Hackers Target Trump Campaign as Threa...   \n",
       "3   3  Buckingham Palace Guards Impressed By First La...   \n",
       "4   4  Los Angeles Tap Water Contains 18% Xanax and 7...   \n",
       "\n",
       "                                author  \\\n",
       "0    Deanna Hackney and Caroline Kelly   \n",
       "1                          Viral Cords   \n",
       "2  Nicole Perlroth and David E. Sanger   \n",
       "3                            the onion   \n",
       "4                          Viral Cords   \n",
       "\n",
       "                                                text  label  \\\n",
       "0  (CNN)Democratic presidential candidate Sen. Be...      0   \n",
       "1  Alabama is the first country to enact insane b...      1   \n",
       "2  SAN FRANCISCO  The 2020 presidential election...      0   \n",
       "3  LONDONSaying the first ladys skills were of ...      1   \n",
       "4  In new Environmental Protection Agency (EPA) f...      1   \n",
       "\n",
       "              journal  \n",
       "0                 cnn  \n",
       "1         Viral Cords  \n",
       "2  the new york times  \n",
       "3           the onion  \n",
       "4         Viral Cords  "
      ]
     },
     "execution_count": 28,
     "metadata": {},
     "output_type": "execute_result"
    }
   ],
   "source": [
    "path_test = 'resources/datasets/test.csv'\n",
    "test_data = pd.read_csv(path_test, header=0, encoding = 'unicode_escape',sep=';')\n",
    "test_data.head()"
   ]
  },
  {
   "cell_type": "code",
   "execution_count": 29,
   "metadata": {
    "colab": {
     "base_uri": "https://localhost:8080/",
     "height": 182
    },
    "colab_type": "code",
    "id": "JWt8_QpsnsqA",
    "outputId": "0a5b9896-fcde-48cb-f6b9-3274d5cbb690"
   },
   "outputs": [],
   "source": [
    "test_data ['title_author_text'] = test_data ['title'] + ' ' + test_data ['author'] + ' ' + test_data ['text']\n",
    "test_data ['len_title_author_text'] = [len(str(x)) for x in test_data ['title_author_text']]"
   ]
  },
  {
   "cell_type": "markdown",
   "metadata": {},
   "source": [
    "**Detalhes do Dataset**"
   ]
  },
  {
   "cell_type": "code",
   "execution_count": 30,
   "metadata": {},
   "outputs": [
    {
     "name": "stdout",
     "output_type": "stream",
     "text": [
      "count      20.000000\n",
      "mean     3441.100000\n",
      "std      2768.796126\n",
      "min       908.000000\n",
      "25%      1437.500000\n",
      "50%      2155.500000\n",
      "75%      4816.500000\n",
      "max      9677.000000\n",
      "Name: len_title_author_text, dtype: float64\n"
     ]
    }
   ],
   "source": [
    "detail = test_data['len_title_author_text'].describe()\n",
    "print(detail)"
   ]
  },
  {
   "cell_type": "markdown",
   "metadata": {},
   "source": [
    "**Separação**"
   ]
  },
  {
   "cell_type": "code",
   "execution_count": 31,
   "metadata": {},
   "outputs": [],
   "source": [
    "X_test = test_data['title_author_text']\n",
    "Y_test = test_data['label']"
   ]
  },
  {
   "cell_type": "markdown",
   "metadata": {},
   "source": [
    "**Tokenização**"
   ]
  },
  {
   "cell_type": "code",
   "execution_count": 32,
   "metadata": {
    "colab": {},
    "colab_type": "code",
    "id": "ZTVORJaanxF6"
   },
   "outputs": [],
   "source": [
    "num_token = 6531\n",
    "token = Tokenizer(num_words = num_token, filters = '!\"#$%&()*+,-./:;<=>?@[\\\\]^_`{|}~\\t\\n')\n",
    "token.fit_on_texts(X_train.astype(str))"
   ]
  },
  {
   "cell_type": "markdown",
   "metadata": {},
   "source": [
    "**Sequência**"
   ]
  },
  {
   "cell_type": "code",
   "execution_count": 33,
   "metadata": {},
   "outputs": [],
   "source": [
    "max_review_length = 6531\n",
    "\n",
    "X_train_token = token.texts_to_sequences(X_train.astype(str))\n",
    "X_test_token = token.texts_to_sequences(X_test.astype(str))\n",
    "\n",
    "X_train_seq = sequence.pad_sequences(X_train_token, maxlen=max_review_length)\n",
    "X_test_seq = sequence.pad_sequences(X_test_token, maxlen=max_review_length)"
   ]
  },
  {
   "cell_type": "markdown",
   "metadata": {},
   "source": [
    "**Utilizando Modelo**"
   ]
  },
  {
   "cell_type": "code",
   "execution_count": 34,
   "metadata": {
    "colab": {
     "base_uri": "https://localhost:8080/",
     "height": 54
    },
    "colab_type": "code",
    "id": "EHhu0B2pnxyK",
    "outputId": "143507e3-559b-4df6-d0f3-e3cbf046e625"
   },
   "outputs": [
    {
     "name": "stdout",
     "output_type": "stream",
     "text": [
      "Modelo carregado do Arquivo\n"
     ]
    }
   ],
   "source": [
    "from keras.models import model_from_json\n",
    "\n",
    "json_file = open('model_lstm.json', 'r')\n",
    "loaded_model_json = json_file.read()\n",
    "json_file.close()\n",
    "loaded_model = model_from_json(loaded_model_json)\n",
    "\n",
    "loaded_model.load_weights(\"model_ltsm.h5\")\n",
    "print(\"Modelo carregado do Arquivo\")\n",
    "\n",
    "loaded_model.compile(loss='binary_crossentropy', optimizer='adam', metrics=['accuracy'])"
   ]
  },
  {
   "cell_type": "markdown",
   "metadata": {},
   "source": [
    "**Resultado**"
   ]
  },
  {
   "cell_type": "code",
   "execution_count": 35,
   "metadata": {},
   "outputs": [
    {
     "name": "stdout",
     "output_type": "stream",
     "text": [
      "acc: 75.00%\n"
     ]
    }
   ],
   "source": [
    "scores = loaded_model.evaluate(X_test_seq, Y_test, verbose=0)\n",
    "print(\"%s: %.2f%%\" % (loaded_model.metrics_names[1], scores[1]*100))"
   ]
  },
  {
   "cell_type": "markdown",
   "metadata": {},
   "source": [
    "**Predição**"
   ]
  },
  {
   "cell_type": "code",
   "execution_count": 36,
   "metadata": {
    "colab": {},
    "colab_type": "code",
    "id": "5GHLFN4Wn0pg"
   },
   "outputs": [],
   "source": [
    "predictions = loaded_model.predict_classes(X_test_seq)"
   ]
  },
  {
   "cell_type": "code",
   "execution_count": 37,
   "metadata": {
    "colab": {},
    "colab_type": "code",
    "id": "CWg7f-Dcn3yr"
   },
   "outputs": [
    {
     "name": "stdout",
     "output_type": "stream",
     "text": [
      "(20, 1)\n"
     ]
    }
   ],
   "source": [
    "print(predictions.shape)"
   ]
  },
  {
   "cell_type": "code",
   "execution_count": 38,
   "metadata": {},
   "outputs": [
    {
     "data": {
      "text/plain": [
       "[array([1]),\n",
       " array([1]),\n",
       " array([0]),\n",
       " array([1]),\n",
       " array([1]),\n",
       " array([0]),\n",
       " array([1]),\n",
       " array([1]),\n",
       " array([1]),\n",
       " array([1]),\n",
       " array([1]),\n",
       " array([0]),\n",
       " array([1]),\n",
       " array([1]),\n",
       " array([0]),\n",
       " array([1]),\n",
       " array([0]),\n",
       " array([1]),\n",
       " array([1]),\n",
       " array([1])]"
      ]
     },
     "execution_count": 38,
     "metadata": {},
     "output_type": "execute_result"
    }
   ],
   "source": [
    "rounded = [np.round(x) for x in predictions]\n",
    "rounded"
   ]
  },
  {
   "cell_type": "markdown",
   "metadata": {
    "colab_type": "text",
    "id": "qEEM2Al7dqWE"
   },
   "source": [
    "<p style=\"text-align: justify;\">\n",
    "Os dados tem a seguinte informação:\n",
    "</p>\n",
    "\n",
    "- 0 Notícia Verdadeira\n",
    "- 1 Notícia Falsa\n",
    "\n",
    "\n",
    "  id |   Dado do Dataset  |  Resultado do Teste  | \n",
    " --- | ------------------ | -------------------- |\n",
    "   0 |          0         |           1          |\n",
    "   1 |          1         |           1          |\n",
    "   2 |          0         |           0          |\n",
    "   3 |          1         |           1          |\n",
    "   4 |          1         |           1          |\n",
    "   5 |          0         |           0          |\n",
    "   6 |          1         |           1          |\n",
    "   7 |          1         |           1          |\n",
    "   8 |          0         |           1          |\n",
    "   9 |          1         |           1          |\n",
    "  10 |          1         |           1          |\n",
    "  11 |          0         |           0          |\n",
    "  12 |          0         |           1          |\n",
    "  13 |          1         |           1          |\n",
    "  14 |          0         |           0          |\n",
    "  15 |          1         |           1          |\n",
    "  16 |          0         |           0          |\n",
    "  17 |          1         |           1          |\n",
    "  18 |          0         |           1          |\n",
    "  19 |          0         |           1          |\n",
    "  \n",
    "<p style=\"text-align: justify;\">\n",
    "Conforme visto acima obtivemos 15 acertos de 20. Um resultado satisfatório para o projeto proposto.\n",
    "</p>"
   ]
  },
  {
   "cell_type": "markdown",
   "metadata": {
    "colab_type": "text",
    "id": "4Ki5dDUfdqWG"
   },
   "source": [
    "<h2>&nbsp;</h2>"
   ]
  },
  {
   "cell_type": "markdown",
   "metadata": {
    "colab_type": "text",
    "id": "R0y0X7exdqWI"
   },
   "source": [
    "<a id='referencias'></a>\n",
    "<h2><strong>REFERÊNCIAS</strong></h2>"
   ]
  },
  {
   "cell_type": "markdown",
   "metadata": {
    "colab_type": "text",
    "id": "wUqSUcV6dqWL"
   },
   "source": [
    "<p style=\"text-align: justify;\">[1] UTK Machine Learning Club. Fake News - Build a system to identify unreliable news articles. 2017. Dispon&iacute;vel em: &lt;https://www.kaggle.com/c/fake-news/data.&gt;. Acesso em: 28 jul. 2019.</p>\n",
    "\n",
    "<p style=\"text-align: justify;\">[2] BROWNLEE, Jason. Display Deep Learning Model Training History in Keras. Dispon&iacute;vel em: &lt;https://machinelearningmastery.com/display-deep-learning-model-training-history-in-keras/. Acesso em: 02 out. 2019.</p>\n",
    "\n",
    "<p style=\"text-align: justify;\">[3] AQUINO, Bruno. 5-fold LSTM Attention (fully commented). Dispon&iacute;vel em: &lt;https://www.kaggle.com/braquino/5-fold-lstm-attention-fully-commented-0-694/. Acesso em: 03 out. 2019.</p>\n",
    "\n",
    "<p style=\"text-align: justify;\">[4] AU Game Lab, the JoLT program. factitious project. Dispon&iacute;vel em: &lt;http://factitious.augamestudio.com/#/. Acesso em: 04 out. 2019.</p>\n",
    "\n",
    "<p style=\"text-align: justify;\">[5] SUHANKO, Djames. Como salvar um model treinado com Keras. Dispon&iacute;vel em: &lt;https://www.dobitaobyte.com.br/como-salvar-um-model-treinado-com-keras/. Acesso em: 04 out. 2019.</p>"
   ]
  },
  {
   "cell_type": "markdown",
   "metadata": {
    "colab_type": "text",
    "id": "ywd1ROxPdqWN"
   },
   "source": [
    "<h2>&nbsp;</h2>"
   ]
  },
  {
   "cell_type": "markdown",
   "metadata": {},
   "source": [
    "*INSTALLED VERSIONS*"
   ]
  },
  {
   "cell_type": "code",
   "execution_count": 39,
   "metadata": {},
   "outputs": [
    {
     "name": "stdout",
     "output_type": "stream",
     "text": [
      "\n",
      "INSTALLED VERSIONS\n",
      "------------------\n",
      "commit: None\n",
      "python: 3.7.1.final.0\n",
      "python-bits: 64\n",
      "OS: Windows\n",
      "OS-release: 10\n",
      "machine: AMD64\n",
      "processor: AMD64 Family 23 Model 8 Stepping 2, AuthenticAMD\n",
      "byteorder: little\n",
      "LC_ALL: None\n",
      "LANG: None\n",
      "LOCALE: None.None\n",
      "\n",
      "pandas: 0.24.2\n",
      "pytest: 5.0.1\n",
      "pip: 19.1.1\n",
      "setuptools: 41.0.1\n",
      "Cython: None\n",
      "numpy: 1.16.4\n",
      "scipy: 1.2.1\n",
      "pyarrow: None\n",
      "xarray: None\n",
      "IPython: 7.5.0\n",
      "sphinx: None\n",
      "patsy: None\n",
      "dateutil: 2.8.0\n",
      "pytz: 2019.1\n",
      "blosc: None\n",
      "bottleneck: None\n",
      "tables: None\n",
      "numexpr: None\n",
      "feather: None\n",
      "matplotlib: 3.1.1\n",
      "openpyxl: None\n",
      "xlrd: None\n",
      "xlwt: None\n",
      "xlsxwriter: None\n",
      "lxml.etree: 4.3.4\n",
      "bs4: None\n",
      "html5lib: None\n",
      "sqlalchemy: None\n",
      "pymysql: None\n",
      "psycopg2: None\n",
      "jinja2: 2.10.1\n",
      "s3fs: None\n",
      "fastparquet: None\n",
      "pandas_gbq: None\n",
      "pandas_datareader: None\n",
      "gcsfs: None\n"
     ]
    }
   ],
   "source": [
    "pd.show_versions()"
   ]
  },
  {
   "cell_type": "markdown",
   "metadata": {},
   "source": [
    "<h2>&nbsp;</h2>"
   ]
  },
  {
   "cell_type": "markdown",
   "metadata": {},
   "source": [
    "***"
   ]
  }
 ],
 "metadata": {
  "colab": {
   "name": "03 - Aprendizado de Máquina.ipynb",
   "provenance": [],
   "toc_visible": true
  },
  "kernelspec": {
   "display_name": "Python 3",
   "language": "python",
   "name": "python3"
  },
  "language_info": {
   "codemirror_mode": {
    "name": "ipython",
    "version": 3
   },
   "file_extension": ".py",
   "mimetype": "text/x-python",
   "name": "python",
   "nbconvert_exporter": "python",
   "pygments_lexer": "ipython3",
   "version": "3.7.1"
  }
 },
 "nbformat": 4,
 "nbformat_minor": 1
}
