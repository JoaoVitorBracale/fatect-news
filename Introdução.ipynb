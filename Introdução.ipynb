{
 "cells": [
  {
   "cell_type": "markdown",
   "metadata": {},
   "source": [
    "<p>&nbsp;</p>\n",
    "</p><h1 style=\"text-align: center;\"><strong>Detec&ccedil;&atilde;o automatizada de Fake News</strong></h1>\n",
    "<h1 style=\"text-align: center;\"><strong>e o problema da linguagem ofensiva</strong></h1>\n",
    "<h1 style=\"text-align: center;\"><strong>e &oacute;dio</strong></h1>\n",
    "<p>&nbsp;</p><p>&nbsp;</p>"
   ]
  },
  {
   "cell_type": "markdown",
   "metadata": {},
   "source": [
    "</p><h4 style=\"text-align: center;\"><strong>Proposta de Tema para Trabalho de Conclusão do Curso de Especialização em Ciência de Dados.</strong></h4>"
   ]
  },
  {
   "cell_type": "markdown",
   "metadata": {},
   "source": [
    "</p><h3 style=\"text-align: center;\"><strong>Faculdade de Engenharia de Sorocaba</strong></h3>"
   ]
  },
  {
   "cell_type": "markdown",
   "metadata": {},
   "source": [
    "Proposto por Bruno Alves e Alex Cozer\n",
    "\n",
    "Alunos: Alex Cozer Abrantes RA:183150\n",
    "\n",
    "Bruno Alves Comitre RA:183141"
   ]
  },
  {
   "cell_type": "markdown",
   "metadata": {},
   "source": [
    "***"
   ]
  },
  {
   "cell_type": "markdown",
   "metadata": {},
   "source": [
    "# 1. Motivação:"
   ]
  },
  {
   "cell_type": "markdown",
   "metadata": {},
   "source": [
    "<p style=\"text-align: justify;\">Atualmente estamos num per&iacute;odo conturbado em todo mundo. Em per&iacute;odos como de elei&ccedil;&otilde;es, e combate a igualdade, somos abarrotados de informa&ccedil;&atilde;o, muitas verdades e muitas FAKE NEWS.<br />Toda hora t&ecirc;m uma discuss&atilde;o, e como se n&atilde;o bastasse os &aacute;udios, muitos ainda atacam com uma avalanche de not&iacute;cia com textos estratosf&eacute;ricos. E isso se torna um turbilh&atilde;o de dados que est&atilde;o sendo gerados a todo minuto.<br />E como identificar uma not&iacute;cia falsa usando Ci&ecirc;ncia de Dados? O que constitui o discurso de &oacute;dio e quando difere da linguagem ofensiva? Nenhuma defini&ccedil;&atilde;o formal existe, mas h&aacute; um consenso de que &eacute; discurso que se destina a desfavorecidos grupos de forma potencialmente prejudicial para eles. Empresas ligadas ao mercado financeiro que usam not&iacute;cias para tomarem decis&otilde;es e se posicionarem. Jornais e ag&ecirc;ncias que utilizam not&iacute;cias e eventos para gerar oportunidades de engajamento. Empresas da ind&uacute;stria que querem predizer demanda e trabalham com dados de not&iacute;cias para criar produtos ou servi&ccedil;os.<br />Basicamente, voc&ecirc; precisa de uma forma automatizada de classificar not&iacute;cias, ent&atilde;o precisamos ter uma forma de manipular esses dados. Seja para extrair informa&ccedil;&otilde;es de textos ou para criar modelos que consigam identificar as tais fake news. Pensando em dados de texto, pensamos em NLP (Natural Language Processing). An&aacute;lise pr&oacute;xima das previs&otilde;es nos mostra erros quando n&oacute;s podemos confiantemente separar o discurso do &oacute;dio de outra l&iacute;ngua ofensiva e quando esta diferencia&ccedil;&atilde;o &eacute; mais dificultada. Algumas empresas est&atilde;o muito interessadas em processar dados de not&iacute;cias, tornando esta condi&ccedil;&atilde;o de contorno crucial para qualquer detec&ccedil;&atilde;o utiliz&aacute;vel para o uso da Empresa.</p>"
   ]
  },
  {
   "cell_type": "markdown",
   "metadata": {},
   "source": [
    "# 2. Objetivos:"
   ]
  },
  {
   "cell_type": "markdown",
   "metadata": {},
   "source": [
    "<p style=\"text-align: justify;\">O objetivo principal deste trabalho &eacute; utilizar uma t&eacute;cnica para extrair informa&ccedil;&otilde;es (NLP &ndash; Processamento de Linguagem Natural), para extrair automaticamente as pesquisas j&aacute; existentes, que indicam a exist&ecirc;ncia de tr&ecirc;s principais tipos: Cunho humor&iacute;stico, Farsas, ou \"hoaxes\", Boatos, palavras ofensivas. Com esse modelo, ser&aacute; poss&iacute;vel usar intelig&ecirc;ncia artificial para analisar o texto de not&iacute;cias e dessa forma estimar a veracidade dos fatos apresentados. Para com isso encontrar resultados Machine Learning junto a lingu&iacute;stica para facilitar a legibilidade no julgamento e cita&ccedil;&otilde;es de not&iacute;cias falsas.</p>"
   ]
  },
  {
   "cell_type": "markdown",
   "metadata": {},
   "source": [
    "# 3. Fonte de Dados:"
   ]
  },
  {
   "cell_type": "markdown",
   "metadata": {},
   "source": [
    "<p style=\"text-align: justify;\">&Eacute; necess&aacute;rio acessar conjuntos de dados j&aacute; extra&iacute;dos de sites, ou de redes sociais. Para alcan&ccedil;ar esse objetivo, &eacute; necess&aacute;rio que sejam criados bancos de dados com not&iacute;cias para treinamento dos algoritmos. Victoria L. Rubin et al. apresentam uma lista de 9 pontos importantes para essa coleta de dados: Paridade de not&iacute;cias verdadeiras e falsas, Vers&atilde;o em texto das not&iacute;cias, Possibilidade de confirmar a verdade, Homogeneidade no tamanho dos artigos, Homogeneidade no estilo de escrita, Janela de tempo bem definida para coleta, Definir o estilo de not&iacute;cia, Fatores pragm&aacute;ticos, como custo de aquisi&ccedil;&atilde;o e disponibilidade das not&iacute;cias, Definir idioma e cultura das not&iacute;cias.</p>"
   ]
  },
  {
   "cell_type": "markdown",
   "metadata": {},
   "source": [
    "<p style=\"text-align: justify;\">Os m&eacute;todos de coleta de dados diferem entre cada um dos grupos de cientistas. Para isso, pode-se utilizar os dados dos seguintes datasets:</p>"
   ]
  },
  {
   "cell_type": "markdown",
   "metadata": {},
   "source": [
    "- [publico] Hate Speech and Offensive Language - 24k tweets labeled as hate speech, offensive language, or neither. Disponível em: https://data.world/thomasrdavidson/hate-speech-and-offensive-language/workspace/file?filename=labeled_data.csv"
   ]
  },
  {
   "cell_type": "markdown",
   "metadata": {},
   "source": [
    "- [publico] Ficando Real sobre Notícias Falsas - Texto e metadados de fontes de notícias falsas e tendenciosas na Web. Disponível em: https://www.kaggle.com/mrisdal/fake-news"
   ]
  },
  {
   "cell_type": "markdown",
   "metadata": {},
   "source": [
    "- [publico] Notícias falsas - Construa um sistema para identificar artigos de notícias não confiáveis. Disponível em: https://www.kaggle.com/c/fake-news/data"
   ]
  },
  {
   "cell_type": "markdown",
   "metadata": {},
   "source": [
    "- [publico] Através de pesquisa ainda em andamentos: Quais são alguns conjuntos de dados sobre notícias falsas? Disponível em: https://www.quora.com/What-are-some-datasets-about-fake-news"
   ]
  },
  {
   "cell_type": "markdown",
   "metadata": {},
   "source": [
    "- [publico] FakeNewsNet - Lançamos uma ferramenta FakeNewsTracker, para coletar, analisar e visualizar notícias falsas e a divulgação relacionada nas mídias sociais. Disponível em: https://github.com/KaiDMML/FakeNewsNet"
   ]
  },
  {
   "cell_type": "markdown",
   "metadata": {},
   "source": [
    "### academic-research"
   ]
  },
  {
   "cell_type": "markdown",
   "metadata": {},
   "source": [
    "WARNING: The dataset used, lexicon, and notebooks contain racist, sexist, homophobic, and offensive content in many other ways.\n",
    "\n",
    "```\n",
    "  @inproceedings{hateoffensive,\n",
    "    title={Automated Hate Speech Detection and the Problem of Offensive Language},\n",
    "    author={Davidson, Thomas and Warmsley, Dana and Macy, Michael and Weber, Ingmar},\n",
    "    booktitle={Proceedings of the 11th International AAAI Conference on Weblogs and Social Media},\n",
    "    series={ICWSM '17},\n",
    "    year={2017},\n",
    "    location = {Montreal, Canada}\n",
    "    }\n",
    " ```\n",
    "    \n",
    "Repository for Thomas Davidson, Dana Warmsley, Michael Macy and Ingmar Weber. 2017. \\\"Automatic hate speech detection and offensive language problem\\\". ICWSM. You have read the article [here](https://aaai.org/ocs/index.php/ICWSM/ICWSM17/paper/view/15665) or our pre-press in the[Arxiv](https://arxiv.org/abs/1703.04009). You can find more information on our [Github page](https://github.com/t-davidson/hate-speech-and-offensive-language)."
   ]
  },
  {
   "cell_type": "markdown",
   "metadata": {},
   "source": [
    "<div class=\"alert alert-block alert-info\">\n",
    "<b>Tip:</b>Arquivo labeled_data.csv dentro da pasta Datasets\n",
    "</div>"
   ]
  },
  {
   "cell_type": "markdown",
   "metadata": {},
   "source": [
    "### FakeNewsNet"
   ]
  },
  {
   "cell_type": "markdown",
   "metadata": {},
   "source": [
    "This is a repository for an ongoing data collection project for fake news research at ASU. We describe and compare FakeNewsNet with other existing datasets in Fake News Detection on Social Media: A Data Mining Perspective. We also perform a detail analysis of FakeNewsNet dataset, and build a fake news detection model on this dataset in Exploiting Tri-Relationship for Fake News Detection\n",
    "\n",
    "JSON version of this dataset is available in github here. The new version of this dataset described in FakeNewNet will be published soon or you can email authors for more info.\n",
    "\n",
    "News Content\n",
    "It includes all the fake news articles, with the news content attributes as follows:\n",
    "\n",
    "source: It indicates the author or publisher of the news article\n",
    "headline: It refers to the short text that aims to catch the attention of readers and relates well to the major of the news topic.\n",
    "_body_text_: It elaborates the details of news story. Usually there is a major claim which shaped the angle of the publisher and is specifically highlighted and elaborated upon.\n",
    "_image_video_: It is an important part of body content of news article, which provides visual cues to frame the story.\n",
    "Social Context\n",
    "It includes the social engagements of fake news articles from Twitter. We extract profiles, posts and social network information for all relevant users.\n",
    "\n",
    "_user_profile_: It includes a set of profile fields that describe the users' basic information\n",
    "_user_content_: It collects the users' recent posts on Twitter\n",
    "_user_followers_: It includes the follower list of the relevant users\n",
    "_user_followees_: It includes list of users that are followed by relevant users\n",
    "References\n",
    "If you use this dataset, please cite the following papers:\n",
    "\n",
    "@article{shu2017fake, title={Fake News Detection on Social Media: A Data Mining Perspective}, author={Shu, Kai and Sliva, Amy and Wang, Suhang and Tang, Jiliang and Liu, Huan}, journal={ACM SIGKDD Explorations Newsletter}, volume={19}, number={1}, pages={22--36}, year={2017}, publisher={ACM} }\n",
    "\n",
    "@article{shu2017exploiting, title={Exploiting Tri-Relationship for Fake News Detection}, author={Shu, Kai and Wang, Suhang and Liu, Huan}, journal={arXiv preprint arXiv:1712.07709}, year={2017} }\n",
    "\n",
    "@article{shu2018fakenewsnet, title={FakeNewsNet: A Data Repository with News Content, Social Context and Dynamic Information for Studying Fake News on Social Media}, author={Shu, Kai and Mahudeswaran, Deepak and Wang, Suhang and Lee, Dongwon and Liu, Huan}, journal={arXiv preprint arXiv:1809.01286}, year={2018} }"
   ]
  },
  {
   "cell_type": "markdown",
   "metadata": {},
   "source": [
    "<div class=\"alert alert-block alert-info\">\n",
    "<b>Tip:</b>São os arquivos da pasta fakenewsnet dentro da pasta Datasets\n",
    "</div>"
   ]
  },
  {
   "cell_type": "markdown",
   "metadata": {},
   "source": [
    "### DATASET USADO NO LSTM"
   ]
  },
  {
   "cell_type": "markdown",
   "metadata": {},
   "source": [
    "UTK Machine Learning Club:\n",
    "\n",
    "    Machine Learning Student Organization (UTKML)– The ML Group is a University of Tennessee student driven organization focused on machine learning. We believe in the value of interdisciplinary collaboration between people of diverse backgrounds. Whether you have never written a line of code or have been on the cutting edge of neural network research since before the great AI winter, you have a place with us!\n",
    "\n",
    "DEPARTMENT OF ELECTRICAL ENGINEERING AND COMPUTER SCIENCE - UTK\n",
    "\n",
    "    The Department of Electrical Engineering and Computer Science was formed on July 1, 2007, with the merger of the Computer Science Department and the Electrical and Computer Engineering Department. EECS offer three academic programs: electrical engineering; computer engineering and computer science. Each program provides degrees at the B.S., M.S. and Ph.D. levels.\n",
    " "
   ]
  },
  {
   "cell_type": "markdown",
   "metadata": {},
   "source": [
    "<div class=\"alert alert-block alert-info\">\n",
    "<b>Tip:</b>São os arquivos da pasta fake-news dentro da pasta Datasets\n",
    "</div>"
   ]
  },
  {
   "cell_type": "markdown",
   "metadata": {},
   "source": [
    "<colocar nome do dataset que esta na pasta>"
   ]
  },
  {
   "cell_type": "markdown",
   "metadata": {},
   "source": [
    "# 4. Ideia do Projeto:"
   ]
  },
  {
   "cell_type": "markdown",
   "metadata": {},
   "source": [
    "A principio a ideia era criar um site, ou uma extensão para web, com o seguinte pensamento:\n",
    "\n",
    "Definir o melhor o escopo a se abordar. Foco é extremamente importante."
   ]
  },
  {
   "cell_type": "markdown",
   "metadata": {},
   "source": [
    "\n",
    "Por exemplo: serão reportagens/artigos? Imagens/textos em imagens? Textos soltos (aquelas boas e velha mensagens de WhatsApp)?\n",
    "Para o(s) target(s) que vocês definirem, vocês vão ter que elaborar a meta representação (aquilo que discutimos) e propor uma estratégia inicial de features que abordaremos em cada ou em conjunto de elementos.\n",
    "Por exemplo: supondo que a gente defina artigos/reportagens, poderíamos ter:\n",
    "\n",
    "Article\n",
    " - url = <string>\n",
    " - base_url = <string>\n",
    " - main_language = LANGUAGES\n",
    " - authors = []\n",
    " - title = <string>\n",
    " - subtitle = <string>\n",
    " - body\n",
    "    - paragraphs = [Paragraph]\n",
    "    - number_of_words\n",
    " - tags = []\n",
    " - main_entities\n",
    "\n",
    "Paragraph:\n",
    " - body\n",
    " - main_entities\n",
    "\n",
    "Image:\n",
    " - images = urls\n",
    " - legend  = <string>  \n",
    "\n",
    "Para definir isso, sugiro já fazermos usando https://json-schema.org/learn/\n",
    "Uma coisa importante é: muito provavelmente alguém já pensou nisso. Podemos subir nos ombros de gigantes e adotar alguma proposta. Essa não é a grande contribuição do nosso trabalho\n"
   ]
  },
  {
   "cell_type": "markdown",
   "metadata": {},
   "source": [
    "#### Mapeamento\n",
    "\n",
    "Fizemos um modelo json. Baseamos em suas dicas e concordamos que seriam basicamente essas features mais importantes.\n",
    "Precisamos definir os pesos de cada uma, mas, gostaríamos de saber se estamos no caminho certo:\n",
    "\n",
    "```\n",
    "{\n",
    " \"article\": {\n",
    "    \"id\": \"number sequencial\",\n",
    "    \"type\": \"object\",\n",
    "   \"url\": \"string\",\n",
    "   \"base_url\": \"string\",\n",
    "   \"main_language\": \"string\",\n",
    "   \"authors\": \"string\",\n",
    "   \"title\": \"string\",\n",
    "   \"subtitle\": \"string\",\n",
    "   \"body\": {\n",
    "        \"paragraphs\": \"qtdy paragraphs\",\n",
    "        \"paragraphs_body\": \"array each paragraphs\",\n",
    "        \"paragraphs_main_entities\": \"array each main entities\",\n",
    "        \"number_of_words\": \"string\",\n",
    "        \"tags\": \"string\",\n",
    "        \"images_url\": \"string\",\n",
    "        \"image_legends\": \"string\",\n",
    "        \"datetime\": \"string\"\n",
    "    }\n",
    " }\n",
    "}\n",
    "```"
   ]
  },
  {
   "cell_type": "markdown",
   "metadata": {},
   "source": [
    "***"
   ]
  },
  {
   "cell_type": "markdown",
   "metadata": {},
   "source": [
    "# Referências"
   ]
  },
  {
   "cell_type": "markdown",
   "metadata": {},
   "source": [
    "[1] DAVIDSON, Thomas et al. Hate Speech and Offensive Language: 24k tweets labeled as hate speech, offensive language, or neither. 2017. Disponível em: <https://data.world/thomasrdavidson/hate-speech-and-offensive-language>. Acesso em: 14 set. 2018.\n",
    "\n",
    "[2] SANTANA, Felipe. Fake news, notícias em texto e oportunidades. 2018. Disponível em: <http://minerandodados.com.br/index.php/2018/10/09/fake-news-noticias-em-texto-e-oportunidades/>. Acesso em: 12 out. 2018.\n",
    "\n",
    "[3] PEREZ-ROSAS, Verônica et al. Automatic Detection of Fake News. 2016. 10 f. Department of Psychology (Computer Science and Engineering,) - University of Michigan, [S.l.], 2016.\n",
    "\n",
    "[4] W. PENNEBAKER, James. Lying Words: Predicting Deception From Linguistic Styles. In: L. NEWMAN, Mathew et al. Lying Words: Predicting Deception From Linguistic Styles. 2003. ed. [S.l.]: PSPB, 2009. p. 665-675. v. 1.\n",
    "\n",
    "[5] PEREZ-ROSAS, Verônica; MIHALCEA, Rada. Experiments in Open Domain Deception Detection. 2008. 6 p. Computer Science (Computer Science and Engineering) - University of Michigan, [S.l.], 2008.\n",
    "\n",
    "[6] DA ROCHA, Bernardo Abbad et al. O avanço das fake news e sua retratação na mídia de referência. 2018. 15 p. Sociedade Brasileira de Estudos Interdisciplinares da Comunicação (Congresso de Ciências da Comunicação na Região Sul) - Universidade Federal de Santa Maria, Santa Maria, RS, Cascavel-PR, 2018.\n",
    "\n",
    "[7] RUBIN, Victoria L. et al. Fake News or Truth? Using Satirical Cues to Detect Potentially Misleading News. 2015. 11 p. Language and Information Technology Research Lab (Faculty of Information and Media Studies) - University of Western Ontario, London, Ontario, CANADA, 2015.\n",
    "\n",
    "[8] SHAFQAT, Wafa et al. The Language of Deceivers: Linguistic Features of Crowdfunding Scams. 2015. 2 p. Sangmyung University (Sangmyung University)- Sangmyung University, Cheonan, South Korea, 2015.\n",
    "\n",
    "[9] CONROY, Niall J.; RUBIN, Victoria L.; CHEN, Yimin. Automatic Deception Detection: Methods for Finding Fake News. 2014. 4 f. Language and Information Technology Research Lab (LIT.RL) (Faculty of Information and Media Studies) - University of Western Ontario, London, Ontario, CANADA, 2014.\n",
    "\n",
    "[10] DAVIDSON, Thomas et al. Automated Hate Speech Detection and the Problem of Offensive Language. 2013. 4 f. Department of Applied Mathematics (Qatar Computing Research Institute) - Cornell University, 3Department of Information Science, Ithaca, NY, USA, 2013.\n",
    "\n",
    "[11] MIN H. Kao Department of Electrical Engineering & Computer Science. [S. l.], 2019. Available in: https://www.eecs.utk.edu/people/student-organizations/. Accessed in: 9 jul. 2019.\n",
    "\n",
    "[12] BROWNLEE , Jason. A Gentle Introduction to the Rectified Linear Unit (ReLU). [S. l.], 9 jan. 2019. Available in: https://machinelearningmastery.com/rectified-linear-activation-function-for-deep-learning-neural-networks/. Accessed in: 9 jul. 2019.\n",
    "\n",
    "[13] DEPARTMENT of Electrical Engineering and Computer Science - UTK. [S. l.], 2019. Disponível em: https://www.facebook.com/EECS.UTK/. Accessed in: 9 jul. 2019.\n",
    "\n",
    "[14] BROWNLEE, Jason. Dropout Regularization in Deep Learning Models With Keras. [S. l.], 20 jun. 2016. Available in: https://machinelearningmastery.com/dropout-regularization-deep-learning-models-keras/. Accessed in: 9 jul. 2019.\n",
    "\n",
    "[15] BIDIRECTIONAL Long Short-Term Memory (BI-LSTM) with Attention Mechanism. [S. l.], 30 jun. 2019. Available in: http://primo.ai/index.php?title=Bidirectional_Long_Short-Term_Memory_(BI-LSTM)_with_Attention_Mechanism. Accessed in: 9 jul. 2019.\n",
    "\n",
    "[16] BROWNLEE, Jason. Sequence Classification with LSTM Recurrent Neural Networks in Python with Keras. [S. l.], 26 jul. 2016. Available in: https://machinelearningmastery.com/sequence-classification-lstm-recurrent-neural-networks-python-keras/. Accessed in: 9 jul. 2019.\n",
    "\n",
    "[17] BIDIRECTIONAL recurrent neural networks. [S. l.], 7 jul. 2019. Available in: https://en.wikipedia.org/wiki/Bidirectional_recurrent_neural_networks. Accessed in: 9 jul. 2019.\n",
    "\n",
    "[18] A BEGINNER‘S Guide to LSTMs and Recurrent Neural Networks. [S. l.], 2019. Available in: https://skymind.ai/wiki/lstm. Accessed in: 9 jul. 2019.\n",
    "\n",
    "[19] OLAH, Christopher. Understanding LSTM Networks. [S. l.], 27 ago. 2015. Available in: https://colah.github.io/posts/2015-08-Understanding-LSTMs/. Accessed in: 9 jul. 2019.\n",
    "\n",
    "[20] HE, Lang He et al. Multimodal Affective Dimension Prediction Using Deep Bidirectional Long Short-Term Memory Recurrent Neural Networks. Proceeding AVEC ‘15 Proceedings of the 5th International Workshop on Audio/Visual Emotion Challenge Pages 73-80, 26 out. 2015. Available in: https://dl.acm.org/citation.cfm?id=2811641. Accessed in: 9 jul. 2019.\n",
    "\n",
    "[21] GUAN, Zhonghui et al. Integration of Long-Term-Memory-Related SynapticPlasticity Involves Bidirectional Regulationof Gene Expression and Chromatin Structure. [S. l.], 15 nov. 2002. Disponível em: https://reader.elsevier.com/reader/sd/pii/S0092867402010747?token=73DB87FE6A1527FD3EF86124A1AC74C4D12672A129141DEEE0E768066DC0E8118D7DE4A039BB31A75FE45A3EE126C6C3. Accessed in: 9 jul. 2019.\n",
    "\n",
    "[22] LIWICKI, Marcus et al. A Novel Approach to On-Line Handwriting Recognition Based on Bidirectional Long Short-Term Memory Networks. [S. l.], 2019. Available in: https://mediatum.ub.tum.de/doc/1289961/file.pdf. Accessed in: 9 jul. 2019.\n",
    "\n",
    "[23] ZHOU, Peng et al. Attention-Based Bidirectional Long Short-Term Memory Networks for Relation Classification. [S. l.], 2019. Disponível em: https://www.aclweb.org/anthology/P16-2034. Accessed in: 9 jul. 2019.\n",
    "\n",
    "[24] Frei , Lukas. Speed Up Your Exploratory Data Analysis With Pandas-Profiling. [S. l.], 25 apr. 2019. Available in: https://towardsdatascience.com/speed-up-your-exploratory-data-analysis-with-pandas-profiling-88b33dc53625. Accessed in: 9 jul. 2019."
   ]
  }
 ],
 "metadata": {
  "kernelspec": {
   "display_name": "Python 3",
   "language": "python",
   "name": "python3"
  },
  "language_info": {
   "codemirror_mode": {
    "name": "ipython",
    "version": 3
   },
   "file_extension": ".py",
   "mimetype": "text/x-python",
   "name": "python",
   "nbconvert_exporter": "python",
   "pygments_lexer": "ipython3",
   "version": "3.7.3"
  }
 },
 "nbformat": 4,
 "nbformat_minor": 2
}
