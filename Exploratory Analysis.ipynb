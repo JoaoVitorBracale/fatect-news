{
 "cells": [
  {
   "cell_type": "markdown",
   "metadata": {
    "_uuid": "f7e6a38106f2e6db444b15696978cd77b2be45b1"
   },
   "source": [
    "<h1 class=\"md-end-block md-heading md-focus\" style=\"text-align: center;\" contenteditable=\"true\">An&aacute;lise Explorat&oacute;ria</h1>"
   ]
  },
  {
   "cell_type": "markdown",
   "metadata": {
    "_uuid": "cee71f9e462d45d65195f3b6b5c147a7519ad2ad"
   },
   "source": [
    "<p style=\"text-align: justify;\">O objetivo deste trabalho &eacute; explorar e entender melhor as caracter&iacute;sticas dos dados que ser&atilde;o utilizados durante o Trabalho de Conclus&atilde;o do Curso. Use os conhecimentos adquiridos nas disciplinas de Visualiza&ccedil;&atilde;o de Dados, Estat&iacute;stica e Programa&ccedil;&atilde;o em Python para Ci&ecirc;ncia de Dados. Dica: aproveite essa oportunidade para tirar suas pr&oacute;prias d&uacute;vidas sobre os dados e conhecer melhor o problema que voc&ecirc; escolheu estudar. Este trabalho deve ser entregue em forma de um notebook Jupyter.</p>\n"
   ]
  },
  {
   "cell_type": "markdown",
   "metadata": {
    "_uuid": "e19a59e389df78e92e2ef9ffcada638e02a80072"
   },
   "source": [
    "***"
   ]
  },
  {
   "cell_type": "markdown",
   "metadata": {
    "_uuid": "17ebcf90e17174a9dd53b2db0f97ab39594c897e",
    "colab_type": "text",
    "id": "OkEHVK1IN-Pb"
   },
   "source": [
    "<h2 style=\"text-align: center;\">An&aacute;lise Dataset Twitter</h2>\n",
    "<h2 style=\"text-align: center;\">Detec&ccedil;&atilde;o automatizada de Fake News e o problema da linguagem ofensiva e &oacute;dio</h2>"
   ]
  },
  {
   "cell_type": "markdown",
   "metadata": {
    "_uuid": "0169bd904c575674a952eac263e30bf88fad6302"
   },
   "source": [
    "<p style=\"text-align: center;\"><span style=\"color: #ff0000;\"><strong>AVISO: Os dados utilizados, l&eacute;xicos e cadernos cont&ecirc;m conte&uacute;do racista, sexista, homof&oacute;bico e ofensivo de muitas outras maneiras.</strong></span></p>"
   ]
  },
  {
   "cell_type": "markdown",
   "metadata": {
    "_uuid": "59ce94a043855ae7477ccf66690029a4166575bf"
   },
   "source": [
    "***"
   ]
  },
  {
   "cell_type": "markdown",
   "metadata": {
    "_uuid": "a7aef2fe4a684861b0ce49ea8b919681c31ec3bf"
   },
   "source": [
    "### **1. Observe os dados inconsistentes. Quais campos possuem registros faltantes? (Zero, vazio, negativo, NaN, etc). Quais possuem valores fora da faixa esperada? (ex: em um dataset com dados de pessoas, há registros de altura maior que 2,5m?). Qual a proporção em relação aos dados corretos? Para cada uma das campos com dados faltantes, qual sua proposta para tratar os dados? (ex: pretende preencher de alguma forma? Se sim, como?)**"
   ]
  },
  {
   "cell_type": "markdown",
   "metadata": {
    "_uuid": "cd5360d00b381d692e70a880668b73cec13107b6"
   },
   "source": [
    "#### Dados ausentes\n",
    "\n",
    "Existem algumas maneiras de lidar com dados perdidos em pandas:\n",
    "\n",
    "Verificar valores ausentes em seus dados; isso detecta “NaN” e “None”\n",
    "> ```\n",
    "pd.isnull(object)\n",
    "> ```\n",
    "\n",
    "Descartar dados contendo NaNs para serem removidos.\n",
    "> ```\n",
    "df.dropna(axis=0, how='any')\n",
    "> ```\n",
    "\n",
    "Substituir os valores fornecidos em \"to_replace\" por \"value\".\n",
    "> ```\n",
    "df.replace(to_replace=None, value=None)\n",
    "> ```\n",
    "\n",
    "Descarte algumas variáveis de recurso têm> 90% dos valores NaN no conjunto de dados.\n",
    "> ```\n",
    "df.drop('feature_variable_name', axis=1)\n",
    "> ```"
   ]
  },
  {
   "cell_type": "markdown",
   "metadata": {
    "_uuid": "20499a439c9e0a5c6c3cc2e86bc08026a44073e2",
    "hide_input": true
   },
   "source": [
    "#### Outliers\n",
    "\n",
    "Os outliers no seu conjunto de dados são um saco misto. Por um lado, eles podem conter informações importantes, pois são muito diferentes do grupo principal. Por outro lado eles jogam fora nossa visão do grupo principal desde que nós temos que olhar tão longe fora só ver os outliers.\n",
    "\n",
    "Além disso, se você quiser filtrar esses valores discrepantes, poderá usar o seguinte método:\n",
    "> ```\n",
    "upper_limit = np.percentile (dataset.logerror.values, 68) \n",
    "lower_limit = np.percentile (dataset.logerror.values, 28)\n",
    "> ```\n",
    "\n",
    "> ```\n",
    "dados do dataframe ['direct message']. Loc [dataset ['direct message']> upper_limit] = limite_de_limite de dados ['direct message']. Loc [train_df ['direct message'] <lower_limit] = lower_limit\n",
    "> ```"
   ]
  },
  {
   "cell_type": "markdown",
   "metadata": {
    "_uuid": "bb144457ad5b3b978011f9cfafb71fd5cdced2fc"
   },
   "source": [
    "#### Dados e duplicados ruins\n",
    "\n",
    "Dados inválidos significam quaisquer pontos ou valores de dados que não deveriam estar lá ou estão simplesmente errados.\n",
    "\n",
    "Podemos observar os pontos de dados que têm 1234 para o block e ver que, para todos eles, o valor correto deve ser \"block\". Assim, nós simplesmente converteríamos todos os valores 1234 para “class”.\n",
    "\n",
    "Você pode fazer essa conversão em pandas assim:\n",
    "> ```\n",
    "value_map = {'class': 'class', '1234': 'class'}\n",
    "pd_dataframe['block'].map(value_map)\n",
    "> ```\n",
    "\n",
    "Remova linhas ou colunas, especificando nomes de rótulos e eixos correspondentes:\n",
    "> ```\n",
    "df.drop('feature_variable_class', axis=1)\n",
    "> ```"
   ]
  },
  {
   "cell_type": "markdown",
   "metadata": {
    "_uuid": "7c889413e64ef93d98336c9462b0bda054450cd7"
   },
   "source": [
    "#### Estandardização\n",
    "\n",
    "Todos os seus dados em cada variável de recurso devem estar no mesmo formato padronizado. Isso tornará os aspectos técnicos da exploração e modelagem de dados muito mais fáceis.\n",
    "\n",
    "Por exemplo, vamos pegar termos usados nesse ambiente e suas funções dentro da mídia digital:\n",
    "- Arroba ou @\n",
    "- Block\n",
    "- Direct Message ou DM\n",
    "- Followers\n",
    "- Hashtag ou #\n",
    "- Tweet ou TT\n",
    "- Retweet ou RT\n",
    "- Capitalizados, erros de digitação e CAPS LOCK\n",
    "\n",
    "Se fossemos apenas seguir em frente e converter a variável de característica em floats categóricas, obteríamos mais do que os 2 valores de 0 e 1, como algo do tipo:\n",
    "> ```\n",
    "{ \n",
    "    'retweet': 0, \n",
    "    'rt': 1, \n",
    "    'RETWEET': 2, \n",
    "    'RT': 3, \n",
    "    'Retweet': 4, \n",
    "    'Rt': 5, \n",
    "    'Retwit': 6, \n",
    "    'rd': 7 \n",
    "}\n",
    "> ```\n",
    "\n",
    "Existem algumas maneiras de lidar com esse caso. Se é algo simples que fazer algo em letras minúsculas ou capitalizar a primeira letra, faça algo assim:\n",
    "> ```\n",
    "s.lower()\n",
    "s.capitalize()\n",
    "> ```\n",
    "\n",
    "Se houver erros de digitação, você vai querer usar a função de mapeamento que vimos antes:\n",
    "> ```\n",
    "value_map = {'Retwit': 'retweet', 'rd': 'rt'}\n",
    "pd_dataframe['retweet'].map(value_map)\n",
    "> ```"
   ]
  },
  {
   "cell_type": "markdown",
   "metadata": {
    "_uuid": "6d107a75c66c58612ee2d73629c88735fc2074fc"
   },
   "source": [
    "***"
   ]
  },
  {
   "cell_type": "markdown",
   "metadata": {
    "_uuid": "b0d5f7de1de509e17d68a52610aa653ed4430fce"
   },
   "source": [
    "### **2. Liste as principais dúvidas sobre os dados (pelo menos 5). Seja específico e faça perguntas que possam te ajudar a escolher quais campos serão úteis e podem te ajudar a ter ideias de como montar sua solução no futuro. Também faça perguntas que te ajudem a identificar campos irrelevantes e que devem ser descartadas no futuro. Questões simples como “Qual a média/variância/desvio padrão do campo X?” não serão aceitas, mas perceba que pode ser interessante realizar esses cálculos para ter respostas de questões mais elaboradas. Você também pode elaborar uma questão como essa, desde faça esses cálculos para todos os campos, por exemplo: “Qual é a média, variância e desvio padrão de cada campo numérico do dataset?”**\n",
    "**Exemplos:**\n",
    "\n",
    "\n",
    "- Em um dataset com histórico de preços de ações, qual a correlação entre o volume comercializado e o preço?\n",
    "\n",
    "\n",
    "- Em um dataset com tweets anotados com sentimentos positivo e negativo, quais palavras que estão entre as 10 mais frequentes em um subset que não estão entre as 10 mais frequentes de outro?\n",
    "\n",
    "\n",
    "- Em um dataset de imagens, todas as imagens possuem a mesma resolução?\n",
    "\n",
    "\n",
    "- Em um dataset com dados de temperatura por dia, a média, variância e desvio padrão mudam de mês a mês para máxima e mínima diárias? E de ano a ano?\n",
    "\n",
    "\n",
    "- Em um dataset com dados de venda de um produto por dia, qual é a distribuição mensal da quantia e do valor total de produtos vendidas por mês para cada categoria de produto?\n",
    "\n",
    "\n",
    "- Em um dataset de mensagens trocadas em chat, quais as 20 palavras mais frequentes que não existem no vocabulário do idioma estudado?"
   ]
  },
  {
   "cell_type": "markdown",
   "metadata": {
    "_uuid": "bf127f0b2fd2314ee5b563b76446d8ea8dc2b168"
   },
   "source": [
    "### Questionamentos"
   ]
  },
  {
   "cell_type": "markdown",
   "metadata": {
    "_uuid": "5eddf956bc2f4137e7a8b1e5fb818e4a8365f2e7"
   },
   "source": [
    "**Questionamento 1:** Existe dados faltantes, espaços em brancos, tabulação, caracteres especiais?"
   ]
  },
  {
   "cell_type": "markdown",
   "metadata": {
    "_uuid": "273f86162e11cddc161c20e67f7dc66765eb0cb6"
   },
   "source": [
    "**Questionamento 2:** Como saber os tipos de notícias falsas. O que são Farsas, ou \"hoaxes\", Cunho humorístico, Boatos?"
   ]
  },
  {
   "cell_type": "markdown",
   "metadata": {
    "_uuid": "3b6ec7ce21c57b6e73b501dd1722b478e7239f78"
   },
   "source": [
    "**Questionamento 3:** Como evitar palavras repetida com inicial Maíscula e Minúscula?"
   ]
  },
  {
   "cell_type": "markdown",
   "metadata": {
    "_uuid": "a5c46f184edb9be8c1640d824b601d980f69cf83"
   },
   "source": [
    "**Questionamento 4:** Porque definir as palavras de paradas, conhecido como stopwords?"
   ]
  },
  {
   "cell_type": "markdown",
   "metadata": {
    "_uuid": "3adc63780e4687ba8aef3665d9bace9eac64a5ab"
   },
   "source": [
    "**Questionamento 5:** Como mapear distribuição de frequência de frases, expressões, pronomes, sujeito?"
   ]
  },
  {
   "cell_type": "markdown",
   "metadata": {
    "_uuid": "532170d18d71c166f700033acc0a6a0d46afe9f5"
   },
   "source": [
    "**Questionamento 6:** O que é um bom valor nGram e como devo levar isso em conta ao usar uma ferramenta como o TextBlob?"
   ]
  },
  {
   "cell_type": "markdown",
   "metadata": {
    "_uuid": "ab3fae9f4e36cfbd5dd467d0240046baac91812b"
   },
   "source": [
    "***"
   ]
  },
  {
   "cell_type": "markdown",
   "metadata": {
    "_uuid": "af32ed626f61b6051b69fae1cb9c3d7be1c25723"
   },
   "source": [
    "### **3. Plote gráficos para responder às questões levantadas acima. Escolha os gráficos mais adequados para cada questão. Seja convincente e didático: pense que o observador pode não entender sobre o problema, como convencê-lo das suas afirmações? Capriche na apresentação! Faça uso de cores, legendas e outros recursos que deixem os gráficos visualmente agradáveis.**"
   ]
  },
  {
   "cell_type": "markdown",
   "metadata": {
    "_uuid": "4dc7ac97e971f53f874fad917ccfd0172136f088"
   },
   "source": [
    "**Importações e Leitura do Dataset**"
   ]
  },
  {
   "cell_type": "code",
   "execution_count": 1,
   "metadata": {
    "_uuid": "bdc66c07bb8392231975b018cfe468febc8abb74"
   },
   "outputs": [
    {
     "data": {
      "text/html": [
       "<script>requirejs.config({paths: { 'plotly': ['https://cdn.plot.ly/plotly-latest.min']},});if(!window.Plotly) {{require(['plotly'],function(plotly) {window.Plotly=plotly;});}}</script>"
      ],
      "text/vnd.plotly.v1+html": [
       "<script>requirejs.config({paths: { 'plotly': ['https://cdn.plot.ly/plotly-latest.min']},});if(!window.Plotly) {{require(['plotly'],function(plotly) {window.Plotly=plotly;});}}</script>"
      ]
     },
     "metadata": {},
     "output_type": "display_data"
    }
   ],
   "source": [
    "%matplotlib inline\n",
    "\n",
    "import re\n",
    "import sys\n",
    "import numpy as np\n",
    "import pandas as pd\n",
    "import matplotlib.pyplot as plt\n",
    "import warnings\n",
    "warnings.filterwarnings('ignore')\n",
    "\n",
    "import nltk\n",
    "from nltk.stem.porter import *\n",
    "from nltk.corpus import stopwords\n",
    "\n",
    "from textblob import TextBlob\n",
    "from collections import Counter\n",
    "from gensim.models import word2vec\n",
    "from subprocess import check_output\n",
    "from wordcloud import WordCloud, STOPWORDS\n",
    "\n",
    "import sklearn\n",
    "from sklearn import metrics\n",
    "from sklearn.manifold import TSNE\n",
    "from sklearn.cluster import KMeans\n",
    "from sklearn.feature_extraction.text import TfidfVectorizer\n",
    "from sklearn.feature_extraction.text import CountVectorizer\n",
    "from sklearn.metrics import jaccard_similarity_score\n",
    "cv = CountVectorizer()\n",
    "from sklearn.metrics.pairwise import cosine_similarity\n",
    "stop = set(stopwords.words(\"english\"))\n",
    "\n",
    "#GRÁFICOS\n",
    "\n",
    "from plotly import tools\n",
    "import plotly.plotly as py\n",
    "import plotly.plotly as pyplot\n",
    "import plotly.graph_objs as go\n",
    "import plotly.figure_factory as ff\n",
    "from plotly.offline import download_plotlyjs, init_notebook_mode, plot, iplot\n",
    "init_notebook_mode(connected=True)"
   ]
  },
  {
   "cell_type": "markdown",
   "metadata": {
    "_uuid": "be7fbd56e54187c5b64c4ee302f2f73971c7f8d5"
   },
   "source": [
    "**Leitura do Dataset**"
   ]
  },
  {
   "cell_type": "code",
   "execution_count": 2,
   "metadata": {
    "_uuid": "de68c697d04dc9dfda489fd7e052c4dfdf90f70f"
   },
   "outputs": [
    {
     "data": {
      "text/html": [
       "<div>\n",
       "<style scoped>\n",
       "    .dataframe tbody tr th:only-of-type {\n",
       "        vertical-align: middle;\n",
       "    }\n",
       "\n",
       "    .dataframe tbody tr th {\n",
       "        vertical-align: top;\n",
       "    }\n",
       "\n",
       "    .dataframe thead th {\n",
       "        text-align: right;\n",
       "    }\n",
       "</style>\n",
       "<table border=\"1\" class=\"dataframe\">\n",
       "  <thead>\n",
       "    <tr style=\"text-align: right;\">\n",
       "      <th></th>\n",
       "      <th>Unnamed: 0</th>\n",
       "      <th>count</th>\n",
       "      <th>hate_speech</th>\n",
       "      <th>offensive_language</th>\n",
       "      <th>neither</th>\n",
       "      <th>class</th>\n",
       "      <th>tweet</th>\n",
       "    </tr>\n",
       "  </thead>\n",
       "  <tbody>\n",
       "    <tr>\n",
       "      <th>0</th>\n",
       "      <td>0</td>\n",
       "      <td>3</td>\n",
       "      <td>0</td>\n",
       "      <td>0</td>\n",
       "      <td>3</td>\n",
       "      <td>2</td>\n",
       "      <td>!!! RT @mayasolovely: As a woman you shouldn't...</td>\n",
       "    </tr>\n",
       "    <tr>\n",
       "      <th>1</th>\n",
       "      <td>1</td>\n",
       "      <td>3</td>\n",
       "      <td>0</td>\n",
       "      <td>3</td>\n",
       "      <td>0</td>\n",
       "      <td>1</td>\n",
       "      <td>!!!!! RT @mleew17: boy dats cold...tyga dwn ba...</td>\n",
       "    </tr>\n",
       "  </tbody>\n",
       "</table>\n",
       "</div>"
      ],
      "text/plain": [
       "   Unnamed: 0  count  hate_speech  offensive_language  neither  class  \\\n",
       "0           0      3            0                   0        3      2   \n",
       "1           1      3            0                   3        0      1   \n",
       "\n",
       "                                               tweet  \n",
       "0  !!! RT @mayasolovely: As a woman you shouldn't...  \n",
       "1  !!!!! RT @mleew17: boy dats cold...tyga dwn ba...  "
      ]
     },
     "execution_count": 2,
     "metadata": {},
     "output_type": "execute_result"
    }
   ],
   "source": [
    "dataset = pd.read_csv('labeled_data.csv', encoding='utf-8', sep=\",\")\n",
    "dataset.head(2)"
   ]
  },
  {
   "cell_type": "markdown",
   "metadata": {
    "_uuid": "47a3282cea9533edb03a8e3519ac0f4bc925c954"
   },
   "source": [
    "#### Guia de Legendas Iniciais:"
   ]
  },
  {
   "cell_type": "markdown",
   "metadata": {
    "_uuid": "9fb10fb400e8f7179cb3149c0a9e6fa2c2bfcda9"
   },
   "source": [
    "Os dados são armazenados como um CSV, contém 5 colunas:\n",
    "\n",
    "`count` = número de usuários do CrowdFlower que codificaram cada tweet.\n",
    "\n",
    "`hate_speech` = número de usuários que julgaram o tweet como discurso de ódio.\n",
    "\n",
    "`offensive_language` = número de usuários que julgaram o tweet ofensivo.\n",
    "\n",
    "`neither` = número de usuários que consideraram o tweet não ofensivo nem ofensivo.\n",
    "\n",
    "`class`= rótulo de classe para a maioria dos usuários de CF. 0 - discurso de ódio, 1 - linguagem ofensiva, 2 - neutros"
   ]
  },
  {
   "cell_type": "markdown",
   "metadata": {
    "_uuid": "d19f29432cb0843b0e348b669eb4063847b5903b"
   },
   "source": [
    "#### Exemplo (dataset original):"
   ]
  },
  {
   "cell_type": "code",
   "execution_count": 3,
   "metadata": {
    "_uuid": "8d1b496593e5c8893e723c12c358b3bfd733529e"
   },
   "outputs": [
    {
     "data": {
      "text/html": [
       "<div>\n",
       "<style scoped>\n",
       "    .dataframe tbody tr th:only-of-type {\n",
       "        vertical-align: middle;\n",
       "    }\n",
       "\n",
       "    .dataframe tbody tr th {\n",
       "        vertical-align: top;\n",
       "    }\n",
       "\n",
       "    .dataframe thead th {\n",
       "        text-align: right;\n",
       "    }\n",
       "</style>\n",
       "<table border=\"1\" class=\"dataframe\">\n",
       "  <thead>\n",
       "    <tr style=\"text-align: right;\">\n",
       "      <th></th>\n",
       "      <th>Unnamed: 0</th>\n",
       "      <th>count</th>\n",
       "      <th>hate_speech</th>\n",
       "      <th>offensive_language</th>\n",
       "      <th>neither</th>\n",
       "      <th>class</th>\n",
       "      <th>tweet</th>\n",
       "    </tr>\n",
       "  </thead>\n",
       "  <tbody>\n",
       "    <tr>\n",
       "      <th>0</th>\n",
       "      <td>0</td>\n",
       "      <td>3</td>\n",
       "      <td>0</td>\n",
       "      <td>0</td>\n",
       "      <td>3</td>\n",
       "      <td>2</td>\n",
       "      <td>!!! RT @mayasolovely: As a woman you shouldn't...</td>\n",
       "    </tr>\n",
       "  </tbody>\n",
       "</table>\n",
       "</div>"
      ],
      "text/plain": [
       "   Unnamed: 0  count  hate_speech  offensive_language  neither  class  \\\n",
       "0           0      3            0                   0        3      2   \n",
       "\n",
       "                                               tweet  \n",
       "0  !!! RT @mayasolovely: As a woman you shouldn't...  "
      ]
     },
     "execution_count": 3,
     "metadata": {},
     "output_type": "execute_result"
    }
   ],
   "source": [
    "dataset.head(1)"
   ]
  },
  {
   "cell_type": "markdown",
   "metadata": {
    "_uuid": "422fcdaba4974af40a9d908388e2e24f7377d291"
   },
   "source": [
    "Em relação a primeira linha do dataset:\n",
    "\n",
    "A quantidade de usuários que codificaram cada twitter na coluna *count* = 3\n",
    "\n",
    "Número de usuários que julgaram o tweet como discurso de ódio. = 0\n",
    "\n",
    "Número de usuários que julgaram o tweet como linguagem ofensiva. = 0\n",
    "\n",
    "Número de usuários  que consideraram o tweet como não ofensivo (nenhum). = 3\n",
    "\n",
    "A coluna *class* = rótulo de classe para a maioria dos usuários :\n",
    "0 - discurso de ódio\n",
    "1 - linguagem ofensiva\n",
    "2 - neutros\n",
    "\n",
    "Nesse caso o primeiro tweet vale 2, ou seja, ele foi julgado como não ofensivo (nenhum)."
   ]
  },
  {
   "cell_type": "markdown",
   "metadata": {
    "_uuid": "da9f2f68869913e4d906beef34478a39d6ce4b3f"
   },
   "source": [
    "***"
   ]
  },
  {
   "cell_type": "markdown",
   "metadata": {
    "_uuid": "dbab6ad7795c77d59e7cb12f94fb01fd2072fb09"
   },
   "source": [
    "### Questionamento 1:  Existe dados faltantes, espaços em brancos, tabulação, caracteres especiais? Realizar o tratamento dos dados."
   ]
  },
  {
   "cell_type": "code",
   "execution_count": 4,
   "metadata": {
    "_uuid": "55626e1161eaae02088aa17b9feb8f54b9fa37c4"
   },
   "outputs": [],
   "source": [
    "#criando backup orignal dos twittes\n",
    "dataset['tweet_original'] = dataset['tweet']\n",
    "\n",
    "#função para limpar os caracteres especiais\n",
    "def cleaning(s):\n",
    "    s = str(s)\n",
    "    s = s.lower()\n",
    "    s = s.strip()\n",
    "    s = re.sub('!','',s)\n",
    "    s = re.sub('\\W,\\s',' ',s)\n",
    "    s = re.sub(r'[^\\w]', ' ', s)\n",
    "    s = re.sub(\"\\d+\", \"\", s)\n",
    "    s = re.sub('\\s+',' ',s)\n",
    "    s = re.sub('[!@#$_]', '', s)\n",
    "    s = s.replace(\"co\",\"\")\n",
    "    s = s.replace(\"https\",\"\")\n",
    "    s = s.replace(\",\",\"\")\n",
    "    s = s.replace(\"[\\w*\",\" \")\n",
    "    s = s.replace(\"\\n\",\". \")\n",
    "    s = s.replace(\"\\t\",\". \")\n",
    "    s = s.replace(\"&amp;\",\" \")\n",
    "    return s\n",
    "\n",
    "#elimina no tweet o nome do usuario\n",
    "dataset['tweet'] = [s[(s.find(':') + 1):] for s in dataset['tweet']]\n",
    "dataset['tweet'] = [cleaning(s) for s in dataset['tweet']]"
   ]
  },
  {
   "cell_type": "code",
   "execution_count": 5,
   "metadata": {
    "_uuid": "d2323b775516f5f6cbd0b01ac18097d78163f10c"
   },
   "outputs": [
    {
     "data": {
      "text/plain": [
       "Unnamed: 0            0\n",
       "count                 0\n",
       "hate_speech           0\n",
       "offensive_language    0\n",
       "neither               0\n",
       "class                 0\n",
       "tweet                 0\n",
       "tweet_original        0\n",
       "dtype: int64"
      ]
     },
     "execution_count": 5,
     "metadata": {},
     "output_type": "execute_result"
    }
   ],
   "source": [
    "#verificando se existe dados nulos\n",
    "dataset.isnull().sum()"
   ]
  },
  {
   "cell_type": "markdown",
   "metadata": {
    "_uuid": "2c4caf8ffc6c1d2001a9d4303fd8f690c6a72ffa"
   },
   "source": [
    "### **Questionamento 2: Como saber os tipos de notícias falsas. O que são Farsas, ou \"hoaxes\", Cunho humorístico, Boatos?**"
   ]
  },
  {
   "cell_type": "code",
   "execution_count": 6,
   "metadata": {
    "_uuid": "b89b6989c745450e7d992bb9e71872590fa2a967"
   },
   "outputs": [],
   "source": [
    "# Verificando as classificações no dataset\n",
    "\n",
    "#Criando Nome para Classificação de acordo com as informações do dataset\n",
    "classificacao = {0:'Discurso de ódio', 1:'Linguagem ofensiva', 2:'Neutro'}\n",
    "dataset['class_desc'] = dataset['class'].apply(lambda x: classificacao[x])"
   ]
  },
  {
   "cell_type": "code",
   "execution_count": 7,
   "metadata": {
    "_uuid": "15d3fc8c90bf3916a4ec0958b5d5a7958d6ac0fb"
   },
   "outputs": [
    {
     "data": {
      "text/html": [
       "<div>\n",
       "<style scoped>\n",
       "    .dataframe tbody tr th:only-of-type {\n",
       "        vertical-align: middle;\n",
       "    }\n",
       "\n",
       "    .dataframe tbody tr th {\n",
       "        vertical-align: top;\n",
       "    }\n",
       "\n",
       "    .dataframe thead th {\n",
       "        text-align: right;\n",
       "    }\n",
       "</style>\n",
       "<table border=\"1\" class=\"dataframe\">\n",
       "  <thead>\n",
       "    <tr style=\"text-align: right;\">\n",
       "      <th></th>\n",
       "      <th>Unnamed: 0</th>\n",
       "      <th>count</th>\n",
       "      <th>hate_speech</th>\n",
       "      <th>offensive_language</th>\n",
       "      <th>neither</th>\n",
       "      <th>class</th>\n",
       "      <th>tweet</th>\n",
       "      <th>tweet_original</th>\n",
       "      <th>class_desc</th>\n",
       "    </tr>\n",
       "  </thead>\n",
       "  <tbody>\n",
       "    <tr>\n",
       "      <th>0</th>\n",
       "      <td>0</td>\n",
       "      <td>3</td>\n",
       "      <td>0</td>\n",
       "      <td>0</td>\n",
       "      <td>3</td>\n",
       "      <td>2</td>\n",
       "      <td>as a woman you shouldn t mplain about cleaning...</td>\n",
       "      <td>!!! RT @mayasolovely: As a woman you shouldn't...</td>\n",
       "      <td>Neutro</td>\n",
       "    </tr>\n",
       "    <tr>\n",
       "      <th>1</th>\n",
       "      <td>1</td>\n",
       "      <td>3</td>\n",
       "      <td>0</td>\n",
       "      <td>3</td>\n",
       "      <td>0</td>\n",
       "      <td>1</td>\n",
       "      <td>boy dats ld tyga dwn bad for cuffin dat hoe in...</td>\n",
       "      <td>!!!!! RT @mleew17: boy dats cold...tyga dwn ba...</td>\n",
       "      <td>Linguagem ofensiva</td>\n",
       "    </tr>\n",
       "  </tbody>\n",
       "</table>\n",
       "</div>"
      ],
      "text/plain": [
       "   Unnamed: 0  count  hate_speech  offensive_language  neither  class  \\\n",
       "0           0      3            0                   0        3      2   \n",
       "1           1      3            0                   3        0      1   \n",
       "\n",
       "                                               tweet  \\\n",
       "0  as a woman you shouldn t mplain about cleaning...   \n",
       "1  boy dats ld tyga dwn bad for cuffin dat hoe in...   \n",
       "\n",
       "                                      tweet_original          class_desc  \n",
       "0  !!! RT @mayasolovely: As a woman you shouldn't...              Neutro  \n",
       "1  !!!!! RT @mleew17: boy dats cold...tyga dwn ba...  Linguagem ofensiva  "
      ]
     },
     "execution_count": 7,
     "metadata": {},
     "output_type": "execute_result"
    }
   ],
   "source": [
    "dataset.head(2)"
   ]
  },
  {
   "cell_type": "code",
   "execution_count": 8,
   "metadata": {
    "_uuid": "3c26e2b15c76c83b31a33a8e72c75606a4c65540"
   },
   "outputs": [
    {
     "data": {
      "application/vnd.plotly.v1+json": {
       "data": [
        {
         "marker": {
          "color": [
           1430,
           4163,
           19190
          ],
          "colorscale": "Blues",
          "reversescale": true
         },
         "orientation": "h",
         "type": "bar",
         "uid": "6bfababa-1365-11e9-951c-9706a43b8540",
         "x": [
          1430,
          4163,
          19190
         ],
         "y": [
          "Discurso de ódio",
          "Neutro",
          "Linguagem ofensiva"
         ]
        }
       ],
       "layout": {
        "autosize": false,
        "height": 500,
        "margin": {
         "b": 100,
         "l": 200,
         "pad": 4,
         "r": 50,
         "t": 100
        },
        "paper_bgcolor": "#ffffff",
        "plot_bgcolor": "#ffffff",
        "title": "TOTAL DE TWITTES POR CLASSIFICAÇÃO",
        "width": 800
       }
      },
      "text/html": [
       "<div id=\"c603e7a4-612c-462d-acd5-c31cf8b6fd77\" style=\"height: 500px; width: 800px;\" class=\"plotly-graph-div\"></div><script type=\"text/javascript\">require([\"plotly\"], function(Plotly) { window.PLOTLYENV=window.PLOTLYENV || {};window.PLOTLYENV.BASE_URL=\"https://plot.ly\";Plotly.newPlot(\"c603e7a4-612c-462d-acd5-c31cf8b6fd77\", [{\"marker\": {\"color\": [1430, 4163, 19190], \"colorscale\": \"Blues\", \"reversescale\": true}, \"orientation\": \"h\", \"x\": [1430, 4163, 19190], \"y\": [\"Discurso de \\u00f3dio\", \"Neutro\", \"Linguagem ofensiva\"], \"type\": \"bar\", \"uid\": \"6bfababa-1365-11e9-951c-9706a43b8540\"}], {\"autosize\": false, \"height\": 500, \"margin\": {\"b\": 100, \"l\": 200, \"pad\": 4, \"r\": 50, \"t\": 100}, \"paper_bgcolor\": \"#ffffff\", \"plot_bgcolor\": \"#ffffff\", \"title\": \"TOTAL DE TWITTES POR CLASSIFICA\\u00c7\\u00c3O\", \"width\": 800}, {\"showLink\": true, \"linkText\": \"Export to plot.ly\"})});</script>"
      ],
      "text/vnd.plotly.v1+html": [
       "<div id=\"c603e7a4-612c-462d-acd5-c31cf8b6fd77\" style=\"height: 500px; width: 800px;\" class=\"plotly-graph-div\"></div><script type=\"text/javascript\">require([\"plotly\"], function(Plotly) { window.PLOTLYENV=window.PLOTLYENV || {};window.PLOTLYENV.BASE_URL=\"https://plot.ly\";Plotly.newPlot(\"c603e7a4-612c-462d-acd5-c31cf8b6fd77\", [{\"marker\": {\"color\": [1430, 4163, 19190], \"colorscale\": \"Blues\", \"reversescale\": true}, \"orientation\": \"h\", \"x\": [1430, 4163, 19190], \"y\": [\"Discurso de \\u00f3dio\", \"Neutro\", \"Linguagem ofensiva\"], \"type\": \"bar\", \"uid\": \"6bfababa-1365-11e9-951c-9706a43b8540\"}], {\"autosize\": false, \"height\": 500, \"margin\": {\"b\": 100, \"l\": 200, \"pad\": 4, \"r\": 50, \"t\": 100}, \"paper_bgcolor\": \"#ffffff\", \"plot_bgcolor\": \"#ffffff\", \"title\": \"TOTAL DE TWITTES POR CLASSIFICA\\u00c7\\u00c3O\", \"width\": 800}, {\"showLink\": true, \"linkText\": \"Export to plot.ly\"})});</script>"
      ]
     },
     "metadata": {},
     "output_type": "display_data"
    }
   ],
   "source": [
    "cnt_srs = dataset['class_desc'].value_counts()\n",
    "trace = go.Bar(\n",
    "    y=cnt_srs.index[::-1],\n",
    "    x=cnt_srs.values[::-1],\n",
    "    orientation = 'h',\n",
    "    marker=dict(\n",
    "        color=cnt_srs.values[::-1],\n",
    "        colorscale = 'Blues',\n",
    "        reversescale = True\n",
    "    ),\n",
    ")\n",
    "\n",
    "layout = go.Layout(\n",
    "    title='TOTAL DE TWITTES POR CLASSIFICAÇÃO',\n",
    "    autosize=False,\n",
    "    width=800,\n",
    "    height=500,\n",
    "    margin=go.layout.Margin(\n",
    "        l=200,\n",
    "        r=50,\n",
    "        b=100,\n",
    "        t=100,\n",
    "        pad=4\n",
    "    ),\n",
    "    paper_bgcolor='#ffffff',\n",
    "    plot_bgcolor='#ffffff'\n",
    ")\n",
    "data = [trace]\n",
    "fig = go.Figure(data=data, layout=layout)\n",
    "iplot(fig, filename=\"Ratings\")"
   ]
  },
  {
   "cell_type": "code",
   "execution_count": 9,
   "metadata": {
    "_uuid": "fb49792291d281f0597a85f0555cdea88f7a59e4"
   },
   "outputs": [
    {
     "data": {
      "application/vnd.plotly.v1+json": {
       "data": [
        {
         "name": "Discurso de Ódio",
         "type": "bar",
         "uid": "6c094a94-1365-11e9-b41c-9706a43b8540",
         "x": [
          "0",
          "1",
          "2",
          "3",
          "4",
          "5",
          "6",
          "7",
          "8",
          "9"
         ],
         "y": [
          19790,
          3419,
          1251,
          287,
          21,
          7,
          5,
          3
         ]
        },
        {
         "name": "Linguagem Ofensiva",
         "type": "bar",
         "uid": "6c094a95-1365-11e9-a943-9706a43b8540",
         "x": [
          "0",
          "1",
          "2",
          "3",
          "4",
          "5",
          "6",
          "7",
          "8",
          "9"
         ],
         "y": [
          3475,
          2066,
          4246,
          13383,
          251,
          369,
          857,
          33,
          37,
          66
         ]
        },
        {
         "name": "Neutro",
         "type": "bar",
         "uid": "6c094a96-1365-11e9-b367-9706a43b8540",
         "x": [
          "0",
          "1",
          "2",
          "3",
          "4",
          "5",
          "6",
          "7",
          "8",
          "9"
         ],
         "y": [
          18892,
          1694,
          1200,
          2790,
          35,
          54,
          103,
          5,
          5,
          5
         ]
        }
       ],
       "layout": {
        "autosize": false,
        "barmode": "group",
        "height": 500,
        "margin": {
         "b": 100,
         "l": 200,
         "pad": 4,
         "r": 50,
         "t": 100
        },
        "paper_bgcolor": "#ffffff",
        "plot_bgcolor": "#ffffff",
        "title": "VISUALIZANDO TWITTES JULGADOS",
        "width": 800,
        "xaxis": {
         "title": "NÚMEROS DE VOTOS POR TWITTER"
        },
        "yaxis": {
         "title": "QUANTIDADE DE VOTOS (dataset)"
        }
       }
      },
      "text/html": [
       "<div id=\"052115f7-41a8-4932-a323-4a23267651cc\" style=\"height: 500px; width: 800px;\" class=\"plotly-graph-div\"></div><script type=\"text/javascript\">require([\"plotly\"], function(Plotly) { window.PLOTLYENV=window.PLOTLYENV || {};window.PLOTLYENV.BASE_URL=\"https://plot.ly\";Plotly.newPlot(\"052115f7-41a8-4932-a323-4a23267651cc\", [{\"name\": \"Discurso de \\u00d3dio\", \"x\": [\"0\", \"1\", \"2\", \"3\", \"4\", \"5\", \"6\", \"7\", \"8\", \"9\"], \"y\": [19790, 3419, 1251, 287, 21, 7, 5, 3], \"type\": \"bar\", \"uid\": \"6c094a94-1365-11e9-b41c-9706a43b8540\"}, {\"name\": \"Linguagem Ofensiva\", \"x\": [\"0\", \"1\", \"2\", \"3\", \"4\", \"5\", \"6\", \"7\", \"8\", \"9\"], \"y\": [3475, 2066, 4246, 13383, 251, 369, 857, 33, 37, 66], \"type\": \"bar\", \"uid\": \"6c094a95-1365-11e9-a943-9706a43b8540\"}, {\"name\": \"Neutro\", \"x\": [\"0\", \"1\", \"2\", \"3\", \"4\", \"5\", \"6\", \"7\", \"8\", \"9\"], \"y\": [18892, 1694, 1200, 2790, 35, 54, 103, 5, 5, 5], \"type\": \"bar\", \"uid\": \"6c094a96-1365-11e9-b367-9706a43b8540\"}], {\"autosize\": false, \"barmode\": \"group\", \"height\": 500, \"margin\": {\"b\": 100, \"l\": 200, \"pad\": 4, \"r\": 50, \"t\": 100}, \"paper_bgcolor\": \"#ffffff\", \"plot_bgcolor\": \"#ffffff\", \"title\": \"VISUALIZANDO TWITTES JULGADOS\", \"width\": 800, \"xaxis\": {\"title\": \"N\\u00daMEROS DE VOTOS POR TWITTER\"}, \"yaxis\": {\"title\": \"QUANTIDADE DE VOTOS (dataset)\"}}, {\"showLink\": true, \"linkText\": \"Export to plot.ly\"})});</script>"
      ],
      "text/vnd.plotly.v1+html": [
       "<div id=\"052115f7-41a8-4932-a323-4a23267651cc\" style=\"height: 500px; width: 800px;\" class=\"plotly-graph-div\"></div><script type=\"text/javascript\">require([\"plotly\"], function(Plotly) { window.PLOTLYENV=window.PLOTLYENV || {};window.PLOTLYENV.BASE_URL=\"https://plot.ly\";Plotly.newPlot(\"052115f7-41a8-4932-a323-4a23267651cc\", [{\"name\": \"Discurso de \\u00d3dio\", \"x\": [\"0\", \"1\", \"2\", \"3\", \"4\", \"5\", \"6\", \"7\", \"8\", \"9\"], \"y\": [19790, 3419, 1251, 287, 21, 7, 5, 3], \"type\": \"bar\", \"uid\": \"6c094a94-1365-11e9-b41c-9706a43b8540\"}, {\"name\": \"Linguagem Ofensiva\", \"x\": [\"0\", \"1\", \"2\", \"3\", \"4\", \"5\", \"6\", \"7\", \"8\", \"9\"], \"y\": [3475, 2066, 4246, 13383, 251, 369, 857, 33, 37, 66], \"type\": \"bar\", \"uid\": \"6c094a95-1365-11e9-a943-9706a43b8540\"}, {\"name\": \"Neutro\", \"x\": [\"0\", \"1\", \"2\", \"3\", \"4\", \"5\", \"6\", \"7\", \"8\", \"9\"], \"y\": [18892, 1694, 1200, 2790, 35, 54, 103, 5, 5, 5], \"type\": \"bar\", \"uid\": \"6c094a96-1365-11e9-b367-9706a43b8540\"}], {\"autosize\": false, \"barmode\": \"group\", \"height\": 500, \"margin\": {\"b\": 100, \"l\": 200, \"pad\": 4, \"r\": 50, \"t\": 100}, \"paper_bgcolor\": \"#ffffff\", \"plot_bgcolor\": \"#ffffff\", \"title\": \"VISUALIZANDO TWITTES JULGADOS\", \"width\": 800, \"xaxis\": {\"title\": \"N\\u00daMEROS DE VOTOS POR TWITTER\"}, \"yaxis\": {\"title\": \"QUANTIDADE DE VOTOS (dataset)\"}}, {\"showLink\": true, \"linkText\": \"Export to plot.ly\"})});</script>"
      ]
     },
     "metadata": {},
     "output_type": "display_data"
    }
   ],
   "source": [
    "trace1 = go.Bar(\n",
    "    x=[\"0\",\"1\",\"2\",\"3\",\"4\",\"5\",\"6\",\"7\",\"8\",\"9\"],\n",
    "    y=dataset['hate_speech'].value_counts(sort=False),\n",
    "    name='Discurso de Ódio'\n",
    ")\n",
    "trace2 = go.Bar(\n",
    "    x=[\"0\",\"1\",\"2\",\"3\",\"4\",\"5\",\"6\",\"7\",\"8\",\"9\"],\n",
    "    y=dataset['offensive_language'].value_counts(sort=False),\n",
    "    name='Linguagem Ofensiva'\n",
    ")\n",
    "trace3 = go.Bar(\n",
    "    x=[\"0\",\"1\",\"2\",\"3\",\"4\",\"5\",\"6\",\"7\",\"8\",\"9\"],\n",
    "    y=dataset['neither'].value_counts(sort=False),\n",
    "    name='Neutro'\n",
    ")\n",
    "\n",
    "data = [trace1,trace2,trace3]\n",
    "\n",
    "layout = go.Layout(\n",
    "    barmode='group',\n",
    "    title= 'VISUALIZANDO TWITTES JULGADOS',\n",
    "    xaxis=dict(\n",
    "        title='NÚMEROS DE VOTOS POR TWITTER'\n",
    "    ),\n",
    "    yaxis=dict(\n",
    "        title='QUANTIDADE DE VOTOS (dataset)'\n",
    "    ),\n",
    "    autosize=False,\n",
    "    width=800,\n",
    "    height=500,\n",
    "    margin=go.layout.Margin(\n",
    "        l=200,\n",
    "        r=50,\n",
    "        b=100,\n",
    "        t=100,\n",
    "        pad=4\n",
    "    ),\n",
    "    paper_bgcolor='#ffffff',\n",
    "    plot_bgcolor='#ffffff'\n",
    ")\n",
    "\n",
    "fig = go.Figure(data=data, layout=layout)\n",
    "iplot(fig, filename='grouped-bar')"
   ]
  },
  {
   "cell_type": "markdown",
   "metadata": {
    "_uuid": "9f397867111842525fd8b28bab0b3fab1fb36120"
   },
   "source": [
    "***"
   ]
  },
  {
   "cell_type": "markdown",
   "metadata": {
    "_uuid": "da239db762b586cfd2d41733493ed1132510887a"
   },
   "source": [
    "### **Questionamento 3: Como evitar palavras repetida com inicial Maíscula e Minúscula?**"
   ]
  },
  {
   "cell_type": "code",
   "execution_count": 10,
   "metadata": {
    "_uuid": "319e1bfaec930dcca6645619e3f44443c29f1803"
   },
   "outputs": [],
   "source": [
    "dataset['tweet'] = [s.lower() for s in dataset['tweet']]"
   ]
  },
  {
   "cell_type": "code",
   "execution_count": 11,
   "metadata": {},
   "outputs": [
    {
     "data": {
      "text/html": [
       "<div>\n",
       "<style scoped>\n",
       "    .dataframe tbody tr th:only-of-type {\n",
       "        vertical-align: middle;\n",
       "    }\n",
       "\n",
       "    .dataframe tbody tr th {\n",
       "        vertical-align: top;\n",
       "    }\n",
       "\n",
       "    .dataframe thead th {\n",
       "        text-align: right;\n",
       "    }\n",
       "</style>\n",
       "<table border=\"1\" class=\"dataframe\">\n",
       "  <thead>\n",
       "    <tr style=\"text-align: right;\">\n",
       "      <th></th>\n",
       "      <th>Unnamed: 0</th>\n",
       "      <th>count</th>\n",
       "      <th>hate_speech</th>\n",
       "      <th>offensive_language</th>\n",
       "      <th>neither</th>\n",
       "      <th>class</th>\n",
       "      <th>tweet</th>\n",
       "      <th>tweet_original</th>\n",
       "      <th>class_desc</th>\n",
       "    </tr>\n",
       "  </thead>\n",
       "  <tbody>\n",
       "    <tr>\n",
       "      <th>0</th>\n",
       "      <td>0</td>\n",
       "      <td>3</td>\n",
       "      <td>0</td>\n",
       "      <td>0</td>\n",
       "      <td>3</td>\n",
       "      <td>2</td>\n",
       "      <td>as a woman you shouldn t mplain about cleaning...</td>\n",
       "      <td>!!! RT @mayasolovely: As a woman you shouldn't...</td>\n",
       "      <td>Neutro</td>\n",
       "    </tr>\n",
       "    <tr>\n",
       "      <th>1</th>\n",
       "      <td>1</td>\n",
       "      <td>3</td>\n",
       "      <td>0</td>\n",
       "      <td>3</td>\n",
       "      <td>0</td>\n",
       "      <td>1</td>\n",
       "      <td>boy dats ld tyga dwn bad for cuffin dat hoe in...</td>\n",
       "      <td>!!!!! RT @mleew17: boy dats cold...tyga dwn ba...</td>\n",
       "      <td>Linguagem ofensiva</td>\n",
       "    </tr>\n",
       "    <tr>\n",
       "      <th>2</th>\n",
       "      <td>2</td>\n",
       "      <td>3</td>\n",
       "      <td>0</td>\n",
       "      <td>3</td>\n",
       "      <td>0</td>\n",
       "      <td>1</td>\n",
       "      <td>you ever fuck a bitch and she start to cry you...</td>\n",
       "      <td>!!!!!!! RT @UrKindOfBrand Dawg!!!! RT @80sbaby...</td>\n",
       "      <td>Linguagem ofensiva</td>\n",
       "    </tr>\n",
       "    <tr>\n",
       "      <th>3</th>\n",
       "      <td>3</td>\n",
       "      <td>3</td>\n",
       "      <td>0</td>\n",
       "      <td>2</td>\n",
       "      <td>1</td>\n",
       "      <td>1</td>\n",
       "      <td>vivabased she look like a tranny</td>\n",
       "      <td>!!!!!!!!! RT @C_G_Anderson: @viva_based she lo...</td>\n",
       "      <td>Linguagem ofensiva</td>\n",
       "    </tr>\n",
       "    <tr>\n",
       "      <th>4</th>\n",
       "      <td>4</td>\n",
       "      <td>6</td>\n",
       "      <td>0</td>\n",
       "      <td>6</td>\n",
       "      <td>0</td>\n",
       "      <td>1</td>\n",
       "      <td>the shit you hear about me might be true or it...</td>\n",
       "      <td>!!!!!!!!!!!!! RT @ShenikaRoberts: The shit you...</td>\n",
       "      <td>Linguagem ofensiva</td>\n",
       "    </tr>\n",
       "  </tbody>\n",
       "</table>\n",
       "</div>"
      ],
      "text/plain": [
       "   Unnamed: 0  count  hate_speech  offensive_language  neither  class  \\\n",
       "0           0      3            0                   0        3      2   \n",
       "1           1      3            0                   3        0      1   \n",
       "2           2      3            0                   3        0      1   \n",
       "3           3      3            0                   2        1      1   \n",
       "4           4      6            0                   6        0      1   \n",
       "\n",
       "                                               tweet  \\\n",
       "0  as a woman you shouldn t mplain about cleaning...   \n",
       "1  boy dats ld tyga dwn bad for cuffin dat hoe in...   \n",
       "2  you ever fuck a bitch and she start to cry you...   \n",
       "3                   vivabased she look like a tranny   \n",
       "4  the shit you hear about me might be true or it...   \n",
       "\n",
       "                                      tweet_original          class_desc  \n",
       "0  !!! RT @mayasolovely: As a woman you shouldn't...              Neutro  \n",
       "1  !!!!! RT @mleew17: boy dats cold...tyga dwn ba...  Linguagem ofensiva  \n",
       "2  !!!!!!! RT @UrKindOfBrand Dawg!!!! RT @80sbaby...  Linguagem ofensiva  \n",
       "3  !!!!!!!!! RT @C_G_Anderson: @viva_based she lo...  Linguagem ofensiva  \n",
       "4  !!!!!!!!!!!!! RT @ShenikaRoberts: The shit you...  Linguagem ofensiva  "
      ]
     },
     "execution_count": 11,
     "metadata": {},
     "output_type": "execute_result"
    }
   ],
   "source": [
    "dataset.head(5)"
   ]
  },
  {
   "cell_type": "markdown",
   "metadata": {
    "_uuid": "e5de5722ec9eaa6107e26adf25a86c65f0ddd9f2"
   },
   "source": [
    "### **Questionamento 4: Porque definir as palavras de paradas, conhecido como stopwords?**[](http://)"
   ]
  },
  {
   "cell_type": "code",
   "execution_count": 50,
   "metadata": {
    "_uuid": "e134155afab35e0903418de8458f545229d4e427"
   },
   "outputs": [
    {
     "data": {
      "image/png": "[encoded data removed]",
      "text/plain": [
       "<Figure size 432x288 with 1 Axes>"
      ]
     },
     "metadata": {
      "needs_background": "light"
     },
     "output_type": "display_data"
    }
   ],
   "source": [
    "def wordcloud(dataframe):\n",
    "    stopwords = set(STOPWORDS)\n",
    "    wordcloud = WordCloud(background_color=\"white\",\n",
    "                          max_words=200,\n",
    "                          max_font_size=40, \n",
    "                          random_state=62,                          \n",
    "                          stopwords=stopwords\n",
    "                         ).generate(\" \".join([i for i in dataframe.str.upper()]))\n",
    "    \n",
    "    plt.imshow(wordcloud)\n",
    "    plt.axis(\"off\")\n",
    "    plt.title(\"Stop Words\")\n",
    "\n",
    "wordcloud(dataset['tweet'])"
   ]
  },
  {
   "cell_type": "markdown",
   "metadata": {
    "_uuid": "768007054c76e1f8d0e3c50928212a26e971c684"
   },
   "source": [
    "***"
   ]
  },
  {
   "cell_type": "markdown",
   "metadata": {
    "_uuid": "738c40f2cb9f8f1704845b365a244f6004d5f925"
   },
   "source": [
    "### **Questionamento 5: Como mapear distribuição de frequência de frases, expressões, pronomes, sujeito?**"
   ]
  },
  {
   "cell_type": "markdown",
   "metadata": {
    "_uuid": "5df809cfc78d82bc8d6416880d3859e3c3d6522c"
   },
   "source": [
    "**Frequência dos Pronomes**"
   ]
  },
  {
   "cell_type": "code",
   "execution_count": 13,
   "metadata": {
    "_uuid": "d82a65c28833856fd05b593cc7c5c2bc1cb3aabd"
   },
   "outputs": [],
   "source": [
    "pronomes_retos = {'i':0,'you':0,'he':0,'she':0,'it':0,'we':0,'you':0,'they':0}\n",
    "pronomes_obliquos = {'me':0,'you':0,'him':0,'her':0,'it':0,'us':0,'you':0,'them':0}\n",
    "adjetivos_possessivos = {'my':0,'your':0,'his':0,'her':0,'its':0,'our':0,'your':0,'their':0}\n",
    "pronomes_possessivos = {'mine':0,'yours':0,'his':0,'hers':0,'its':0,'ours':0,'yours':0,'theirs':0}\n",
    "pronomes_reflexives = {'myself':0,'yourself':0,'himself':0,'herself':0,'itself':0,'ourselves':0,'yourselves':0,'themselves':0}\n",
    "pronomes_reciprocos = {'each other':0,'one another':0}\n",
    "pronomes_demonstrativos = {'this':0,'these':0,'that':0,'those':0,'such':0,'the one':0,'the ones':0,'the former':0, 'the later':0}\n",
    "pronomes_indefinidos = {'some':0,'somebody':0,'someone':0,'something':0,'somewhere':0,'somehow':0,'any':0,'anybody':0,'anyone':0,'anything':0,'anywhere':0,'anyway':0,'no':0,'none':0,'nobody':0, 'no any':0, 'nothing':0,'nowhere':0}\n",
    "pronomes_relativos = {'who':0,'which':0,'that':0}\n",
    "pronomes_interrogativos = {'whose':0,'where':0,'when':0,'what':0,'which':0,'why':0,'who':0,'whom':0,'how':0}\n"
   ]
  },
  {
   "cell_type": "code",
   "execution_count": 14,
   "metadata": {
    "_uuid": "39e46e5a4d54f22987b18eef7f5ff236bce37247"
   },
   "outputs": [],
   "source": [
    "freq = pd.Series(' '.join(dataset['tweet']).split()).value_counts()\n",
    "freq = pd.DataFrame({'word':freq.index, 'count':freq.values})\n",
    "for index, row in freq.iterrows():\n",
    "    for kp, value in pronomes_retos.items():\n",
    "        if kp == row['word']:\n",
    "            pronomes_retos[kp] = row['count']\n",
    "            \n",
    "    for kp, value in pronomes_obliquos.items():\n",
    "        if kp == row['word']:\n",
    "            pronomes_obliquos[kp] = row['count']\n",
    "            \n",
    "    for kp, value in adjetivos_possessivos.items():\n",
    "        if kp == row['word']:\n",
    "            adjetivos_possessivos[kp] = row['count']\n",
    "            \n",
    "    for kp, value in pronomes_possessivos.items():\n",
    "        if kp == row['word']:\n",
    "            pronomes_possessivos[kp] = row['count']\n",
    "            \n",
    "    for kp, value in pronomes_reflexives.items():\n",
    "        if kp == row['word']:\n",
    "            pronomes_reflexives[kp] = row['count']\n",
    "            \n",
    "    for kp, value in pronomes_reciprocos.items():\n",
    "        if kp == row['word']:\n",
    "            pronomes_reciprocos[kp] = row['count']\n",
    "            \n",
    "    for kp, value in pronomes_demonstrativos.items():\n",
    "        if kp == row['word']:\n",
    "            pronomes_demonstrativos[kp] = row['count']\n",
    "            \n",
    "    for kp, value in pronomes_indefinidos.items():\n",
    "        if kp == row['word']:\n",
    "            pronomes_indefinidos[kp] = row['count']\n",
    "        \n",
    "    for kp, value in pronomes_relativos.items():\n",
    "        if kp == row['word']:\n",
    "            pronomes_relativos[kp] = row['count']\n",
    "            \n",
    "    for kp, value in pronomes_interrogativos.items():\n",
    "        if kp == row['word']:\n",
    "            pronomes_interrogativos[kp] = row['count']\n",
    "            \n",
    "            \n"
   ]
  },
  {
   "cell_type": "markdown",
   "metadata": {
    "_uuid": "bf9f6824b4faadde85d86c2a80040b503acd58fb"
   },
   "source": [
    "**Plotagem dos graficos com as frequências dos pronomes**"
   ]
  },
  {
   "cell_type": "code",
   "execution_count": 15,
   "metadata": {
    "_uuid": "2887c2ae9971eeccb6464fcab80c3ec876f01531"
   },
   "outputs": [
    {
     "data": {
      "application/vnd.plotly.v1+json": {
       "data": [
        {
         "type": "bar",
         "uid": "85a3bff8-1365-11e9-b654-9706a43b8540",
         "x": [
          "i",
          "you",
          "he",
          "she",
          "it",
          "we",
          "they"
         ],
         "y": [
          9366,
          6514,
          1048,
          1293,
          2566,
          755,
          1433
         ]
        }
       ],
       "layout": {
        "autosize": false,
        "height": 500,
        "margin": {
         "b": 100,
         "l": 200,
         "pad": 4,
         "r": 50,
         "t": 100
        },
        "paper_bgcolor": "#ffffff",
        "plot_bgcolor": "#ffffff",
        "title": "FREQUÊNCIA DE PRONOMES RETOS",
        "width": 800
       }
      },
      "text/html": [
       "<div id=\"0a8bcf6e-2b0d-4db3-8229-3d9ae174267b\" style=\"height: 500px; width: 800px;\" class=\"plotly-graph-div\"></div><script type=\"text/javascript\">require([\"plotly\"], function(Plotly) { window.PLOTLYENV=window.PLOTLYENV || {};window.PLOTLYENV.BASE_URL=\"https://plot.ly\";Plotly.newPlot(\"0a8bcf6e-2b0d-4db3-8229-3d9ae174267b\", [{\"x\": [\"i\", \"you\", \"he\", \"she\", \"it\", \"we\", \"they\"], \"y\": [9366, 6514, 1048, 1293, 2566, 755, 1433], \"type\": \"bar\", \"uid\": \"85a766fe-1365-11e9-a37b-9706a43b8540\"}], {\"autosize\": false, \"height\": 500, \"margin\": {\"b\": 100, \"l\": 200, \"pad\": 4, \"r\": 50, \"t\": 100}, \"paper_bgcolor\": \"#ffffff\", \"plot_bgcolor\": \"#ffffff\", \"title\": \"FREQU\\u00caNCIA DE PRONOMES RETOS\", \"width\": 800}, {\"showLink\": true, \"linkText\": \"Export to plot.ly\"})});</script>"
      ],
      "text/vnd.plotly.v1+html": [
       "<div id=\"0a8bcf6e-2b0d-4db3-8229-3d9ae174267b\" style=\"height: 500px; width: 800px;\" class=\"plotly-graph-div\"></div><script type=\"text/javascript\">require([\"plotly\"], function(Plotly) { window.PLOTLYENV=window.PLOTLYENV || {};window.PLOTLYENV.BASE_URL=\"https://plot.ly\";Plotly.newPlot(\"0a8bcf6e-2b0d-4db3-8229-3d9ae174267b\", [{\"x\": [\"i\", \"you\", \"he\", \"she\", \"it\", \"we\", \"they\"], \"y\": [9366, 6514, 1048, 1293, 2566, 755, 1433], \"type\": \"bar\", \"uid\": \"85a766fe-1365-11e9-a37b-9706a43b8540\"}], {\"autosize\": false, \"height\": 500, \"margin\": {\"b\": 100, \"l\": 200, \"pad\": 4, \"r\": 50, \"t\": 100}, \"paper_bgcolor\": \"#ffffff\", \"plot_bgcolor\": \"#ffffff\", \"title\": \"FREQU\\u00caNCIA DE PRONOMES RETOS\", \"width\": 800}, {\"showLink\": true, \"linkText\": \"Export to plot.ly\"})});</script>"
      ]
     },
     "metadata": {},
     "output_type": "display_data"
    }
   ],
   "source": [
    "sf_pronomes_retos  = pd.Series(pronomes_retos,index=pronomes_retos.keys())\n",
    "data = [go.Bar(\n",
    "            x = sf_pronomes_retos.keys(),\n",
    "            y = sf_pronomes_retos\n",
    "    )]\n",
    "\n",
    "layout = go.Layout(\n",
    "    title='FREQUÊNCIA DE PRONOMES RETOS',\n",
    "    autosize=False,\n",
    "    width=800,\n",
    "    height=500,\n",
    "    margin=go.layout.Margin(\n",
    "        l=200,\n",
    "        r=50,\n",
    "        b=100,\n",
    "        t=100,\n",
    "        pad=4\n",
    "    ),\n",
    "    paper_bgcolor='#ffffff',\n",
    "    plot_bgcolor='#ffffff'\n",
    ")\n",
    "\n",
    "fig = dict(data = data, layout = layout)\n",
    "iplot(fig, filename='basic-bar')"
   ]
  },
  {
   "cell_type": "code",
   "execution_count": 16,
   "metadata": {
    "_uuid": "bfa805030ec5ba69a7ec3f3509697a87b96fa20a"
   },
   "outputs": [
    {
     "data": {
      "application/vnd.plotly.v1+json": {
       "data": [
        {
         "type": "bar",
         "uid": "87acdb64-1365-11e9-9c3d-9706a43b8540",
         "x": [
          "me",
          "you",
          "him",
          "her",
          "it",
          "us",
          "them"
         ],
         "y": [
          2929,
          6514,
          271,
          1071,
          2566,
          167,
          692
         ]
        }
       ],
       "layout": {
        "autosize": false,
        "height": 500,
        "margin": {
         "b": 100,
         "l": 200,
         "pad": 4,
         "r": 50,
         "t": 100
        },
        "paper_bgcolor": "#ffffff",
        "plot_bgcolor": "#ffffff",
        "title": "FREQUÊNCIA DE PRONOMES OBLIQUOS",
        "width": 800
       }
      },
      "text/html": [
       "<div id=\"3e442cb1-d923-45d5-91b6-0c19bf488d7a\" style=\"height: 500px; width: 800px;\" class=\"plotly-graph-div\"></div><script type=\"text/javascript\">require([\"plotly\"], function(Plotly) { window.PLOTLYENV=window.PLOTLYENV || {};window.PLOTLYENV.BASE_URL=\"https://plot.ly\";Plotly.newPlot(\"3e442cb1-d923-45d5-91b6-0c19bf488d7a\", [{\"x\": [\"me\", \"you\", \"him\", \"her\", \"it\", \"us\", \"them\"], \"y\": [2929, 6514, 271, 1071, 2566, 167, 692], \"type\": \"bar\", \"uid\": \"87afe698-1365-11e9-9051-9706a43b8540\"}], {\"autosize\": false, \"height\": 500, \"margin\": {\"b\": 100, \"l\": 200, \"pad\": 4, \"r\": 50, \"t\": 100}, \"paper_bgcolor\": \"#ffffff\", \"plot_bgcolor\": \"#ffffff\", \"title\": \"FREQU\\u00caNCIA DE PRONOMES OBLIQUOS\", \"width\": 800}, {\"showLink\": true, \"linkText\": \"Export to plot.ly\"})});</script>"
      ],
      "text/vnd.plotly.v1+html": [
       "<div id=\"3e442cb1-d923-45d5-91b6-0c19bf488d7a\" style=\"height: 500px; width: 800px;\" class=\"plotly-graph-div\"></div><script type=\"text/javascript\">require([\"plotly\"], function(Plotly) { window.PLOTLYENV=window.PLOTLYENV || {};window.PLOTLYENV.BASE_URL=\"https://plot.ly\";Plotly.newPlot(\"3e442cb1-d923-45d5-91b6-0c19bf488d7a\", [{\"x\": [\"me\", \"you\", \"him\", \"her\", \"it\", \"us\", \"them\"], \"y\": [2929, 6514, 271, 1071, 2566, 167, 692], \"type\": \"bar\", \"uid\": \"87afe698-1365-11e9-9051-9706a43b8540\"}], {\"autosize\": false, \"height\": 500, \"margin\": {\"b\": 100, \"l\": 200, \"pad\": 4, \"r\": 50, \"t\": 100}, \"paper_bgcolor\": \"#ffffff\", \"plot_bgcolor\": \"#ffffff\", \"title\": \"FREQU\\u00caNCIA DE PRONOMES OBLIQUOS\", \"width\": 800}, {\"showLink\": true, \"linkText\": \"Export to plot.ly\"})});</script>"
      ]
     },
     "metadata": {},
     "output_type": "display_data"
    }
   ],
   "source": [
    "sf_pronomes_obliquos  = pd.Series(pronomes_obliquos,index=pronomes_obliquos.keys())\n",
    "data = [go.Bar(\n",
    "            x = sf_pronomes_obliquos.keys(),\n",
    "            y = sf_pronomes_obliquos\n",
    "    )]\n",
    "\n",
    "layout = go.Layout(\n",
    "    title='FREQUÊNCIA DE PRONOMES OBLIQUOS',\n",
    "    autosize=False,\n",
    "    width=800,\n",
    "    height=500,\n",
    "    margin=go.layout.Margin(\n",
    "        l=200,\n",
    "        r=50,\n",
    "        b=100,\n",
    "        t=100,\n",
    "        pad=4\n",
    "    ),\n",
    "    paper_bgcolor='#ffffff',\n",
    "    plot_bgcolor='#ffffff'\n",
    ")\n",
    "\n",
    "fig = dict(data = data, layout = layout)\n",
    "iplot(fig, filename='basic-bar')"
   ]
  },
  {
   "cell_type": "code",
   "execution_count": 17,
   "metadata": {
    "_uuid": "59bdf6e431a2a37a7b0e01ca8b6fd5bf7e507444"
   },
   "outputs": [
    {
     "data": {
      "application/vnd.plotly.v1+json": {
       "data": [
        {
         "type": "bar",
         "uid": "88db2bfa-1365-11e9-a89b-9706a43b8540",
         "x": [
          "my",
          "your",
          "his",
          "her",
          "its",
          "our",
          "their"
         ],
         "y": [
          3395,
          1488,
          510,
          1071,
          270,
          122,
          339
         ]
        }
       ],
       "layout": {
        "autosize": false,
        "height": 500,
        "margin": {
         "b": 100,
         "l": 200,
         "pad": 4,
         "r": 50,
         "t": 100
        },
        "paper_bgcolor": "#ffffff",
        "plot_bgcolor": "#ffffff",
        "title": "FREQUÊNCIA DE ADJETIVO POSSESSIVOS",
        "width": 800
       }
      },
      "text/html": [
       "<div id=\"c420ad3f-0e44-4fe8-b0e4-7dca3493cf91\" style=\"height: 500px; width: 800px;\" class=\"plotly-graph-div\"></div><script type=\"text/javascript\">require([\"plotly\"], function(Plotly) { window.PLOTLYENV=window.PLOTLYENV || {};window.PLOTLYENV.BASE_URL=\"https://plot.ly\";Plotly.newPlot(\"c420ad3f-0e44-4fe8-b0e4-7dca3493cf91\", [{\"x\": [\"my\", \"your\", \"his\", \"her\", \"its\", \"our\", \"their\"], \"y\": [3395, 1488, 510, 1071, 270, 122, 339], \"type\": \"bar\", \"uid\": \"88de8524-1365-11e9-9523-9706a43b8540\"}], {\"autosize\": false, \"height\": 500, \"margin\": {\"b\": 100, \"l\": 200, \"pad\": 4, \"r\": 50, \"t\": 100}, \"paper_bgcolor\": \"#ffffff\", \"plot_bgcolor\": \"#ffffff\", \"title\": \"FREQU\\u00caNCIA DE ADJETIVO POSSESSIVOS\", \"width\": 800}, {\"showLink\": true, \"linkText\": \"Export to plot.ly\"})});</script>"
      ],
      "text/vnd.plotly.v1+html": [
       "<div id=\"c420ad3f-0e44-4fe8-b0e4-7dca3493cf91\" style=\"height: 500px; width: 800px;\" class=\"plotly-graph-div\"></div><script type=\"text/javascript\">require([\"plotly\"], function(Plotly) { window.PLOTLYENV=window.PLOTLYENV || {};window.PLOTLYENV.BASE_URL=\"https://plot.ly\";Plotly.newPlot(\"c420ad3f-0e44-4fe8-b0e4-7dca3493cf91\", [{\"x\": [\"my\", \"your\", \"his\", \"her\", \"its\", \"our\", \"their\"], \"y\": [3395, 1488, 510, 1071, 270, 122, 339], \"type\": \"bar\", \"uid\": \"88de8524-1365-11e9-9523-9706a43b8540\"}], {\"autosize\": false, \"height\": 500, \"margin\": {\"b\": 100, \"l\": 200, \"pad\": 4, \"r\": 50, \"t\": 100}, \"paper_bgcolor\": \"#ffffff\", \"plot_bgcolor\": \"#ffffff\", \"title\": \"FREQU\\u00caNCIA DE ADJETIVO POSSESSIVOS\", \"width\": 800}, {\"showLink\": true, \"linkText\": \"Export to plot.ly\"})});</script>"
      ]
     },
     "metadata": {},
     "output_type": "display_data"
    }
   ],
   "source": [
    "sf_adjetivo_possessivos  = pd.Series(adjetivos_possessivos,index=adjetivos_possessivos.keys())\n",
    "data = [go.Bar(\n",
    "            x = sf_adjetivo_possessivos.keys(),\n",
    "            y = sf_adjetivo_possessivos\n",
    "    )]\n",
    "\n",
    "layout = go.Layout(\n",
    "    title='FREQUÊNCIA DE ADJETIVO POSSESSIVOS',\n",
    "    autosize=False,\n",
    "    width=800,\n",
    "    height=500,\n",
    "    margin=go.layout.Margin(\n",
    "        l=200,\n",
    "        r=50,\n",
    "        b=100,\n",
    "        t=100,\n",
    "        pad=4\n",
    "    ),\n",
    "    paper_bgcolor='#ffffff',\n",
    "    plot_bgcolor='#ffffff'\n",
    ")\n",
    "\n",
    "fig = dict(data = data, layout = layout)\n",
    "iplot(fig, filename='basic-bar')"
   ]
  },
  {
   "cell_type": "code",
   "execution_count": 18,
   "metadata": {
    "_uuid": "07fbce56b2b914c399f9d463b470289876982d14"
   },
   "outputs": [
    {
     "data": {
      "application/vnd.plotly.v1+json": {
       "data": [
        {
         "type": "bar",
         "uid": "8bfe8464-1365-11e9-bb21-9706a43b8540",
         "x": [
          "mine",
          "yours",
          "his",
          "hers",
          "its",
          "ours",
          "theirs"
         ],
         "y": [
          54,
          34,
          510,
          6,
          270,
          4,
          3
         ]
        }
       ],
       "layout": {
        "autosize": false,
        "height": 500,
        "margin": {
         "b": 100,
         "l": 200,
         "pad": 4,
         "r": 50,
         "t": 100
        },
        "paper_bgcolor": "#ffffff",
        "plot_bgcolor": "#ffffff",
        "title": "FREQUÊNCIA DE PRONOMES POSSESSIVOS",
        "width": 800
       }
      },
      "text/html": [
       "<div id=\"d29b28d7-c786-4f41-a519-66e65331e651\" style=\"height: 500px; width: 800px;\" class=\"plotly-graph-div\"></div><script type=\"text/javascript\">require([\"plotly\"], function(Plotly) { window.PLOTLYENV=window.PLOTLYENV || {};window.PLOTLYENV.BASE_URL=\"https://plot.ly\";Plotly.newPlot(\"d29b28d7-c786-4f41-a519-66e65331e651\", [{\"x\": [\"mine\", \"yours\", \"his\", \"hers\", \"its\", \"ours\", \"theirs\"], \"y\": [54, 34, 510, 6, 270, 4, 3], \"type\": \"bar\", \"uid\": \"8c027966-1365-11e9-b2a0-9706a43b8540\"}], {\"autosize\": false, \"height\": 500, \"margin\": {\"b\": 100, \"l\": 200, \"pad\": 4, \"r\": 50, \"t\": 100}, \"paper_bgcolor\": \"#ffffff\", \"plot_bgcolor\": \"#ffffff\", \"title\": \"FREQU\\u00caNCIA DE PRONOMES POSSESSIVOS\", \"width\": 800}, {\"showLink\": true, \"linkText\": \"Export to plot.ly\"})});</script>"
      ],
      "text/vnd.plotly.v1+html": [
       "<div id=\"d29b28d7-c786-4f41-a519-66e65331e651\" style=\"height: 500px; width: 800px;\" class=\"plotly-graph-div\"></div><script type=\"text/javascript\">require([\"plotly\"], function(Plotly) { window.PLOTLYENV=window.PLOTLYENV || {};window.PLOTLYENV.BASE_URL=\"https://plot.ly\";Plotly.newPlot(\"d29b28d7-c786-4f41-a519-66e65331e651\", [{\"x\": [\"mine\", \"yours\", \"his\", \"hers\", \"its\", \"ours\", \"theirs\"], \"y\": [54, 34, 510, 6, 270, 4, 3], \"type\": \"bar\", \"uid\": \"8c027966-1365-11e9-b2a0-9706a43b8540\"}], {\"autosize\": false, \"height\": 500, \"margin\": {\"b\": 100, \"l\": 200, \"pad\": 4, \"r\": 50, \"t\": 100}, \"paper_bgcolor\": \"#ffffff\", \"plot_bgcolor\": \"#ffffff\", \"title\": \"FREQU\\u00caNCIA DE PRONOMES POSSESSIVOS\", \"width\": 800}, {\"showLink\": true, \"linkText\": \"Export to plot.ly\"})});</script>"
      ]
     },
     "metadata": {},
     "output_type": "display_data"
    }
   ],
   "source": [
    "sf_pronomes_possessivos  = pd.Series(pronomes_possessivos,index=pronomes_possessivos.keys())\n",
    "data = [go.Bar(\n",
    "            x = sf_pronomes_possessivos.keys(),\n",
    "            y = sf_pronomes_possessivos\n",
    "    )]\n",
    "\n",
    "layout = go.Layout(\n",
    "    title='FREQUÊNCIA DE PRONOMES POSSESSIVOS',\n",
    "    autosize=False,\n",
    "    width=800,\n",
    "    height=500,\n",
    "    margin=go.layout.Margin(\n",
    "        l=200,\n",
    "        r=50,\n",
    "        b=100,\n",
    "        t=100,\n",
    "        pad=4\n",
    "    ),\n",
    "    paper_bgcolor='#ffffff',\n",
    "    plot_bgcolor='#ffffff'\n",
    ")\n",
    "\n",
    "fig = dict(data = data, layout = layout)\n",
    "iplot(fig, filename='basic-bar')"
   ]
  },
  {
   "cell_type": "code",
   "execution_count": 19,
   "metadata": {
    "_uuid": "1c24c15108ed89bced325368603fac303455084b"
   },
   "outputs": [
    {
     "data": {
      "application/vnd.plotly.v1+json": {
       "data": [
        {
         "type": "bar",
         "uid": "8eff680c-1365-11e9-93de-9706a43b8540",
         "x": [
          "myself",
          "yourself",
          "himself",
          "herself",
          "itself",
          "ourselves",
          "yourselves",
          "themselves"
         ],
         "y": [
          74,
          61,
          21,
          26,
          5,
          0,
          3,
          35
         ]
        }
       ],
       "layout": {
        "autosize": false,
        "height": 500,
        "margin": {
         "b": 100,
         "l": 200,
         "pad": 4,
         "r": 50,
         "t": 100
        },
        "paper_bgcolor": "#ffffff",
        "plot_bgcolor": "#ffffff",
        "title": "FREQUÊNCIA DE PRONOMES REFLEXIVES",
        "width": 800
       }
      },
      "text/html": [
       "<div id=\"f0a6f1af-dd42-4780-a3d2-4ec392f8c58a\" style=\"height: 500px; width: 800px;\" class=\"plotly-graph-div\"></div><script type=\"text/javascript\">require([\"plotly\"], function(Plotly) { window.PLOTLYENV=window.PLOTLYENV || {};window.PLOTLYENV.BASE_URL=\"https://plot.ly\";Plotly.newPlot(\"f0a6f1af-dd42-4780-a3d2-4ec392f8c58a\", [{\"x\": [\"myself\", \"yourself\", \"himself\", \"herself\", \"itself\", \"ourselves\", \"yourselves\", \"themselves\"], \"y\": [74, 61, 21, 26, 5, 0, 3, 35], \"type\": \"bar\", \"uid\": \"8f022548-1365-11e9-8177-9706a43b8540\"}], {\"autosize\": false, \"height\": 500, \"margin\": {\"b\": 100, \"l\": 200, \"pad\": 4, \"r\": 50, \"t\": 100}, \"paper_bgcolor\": \"#ffffff\", \"plot_bgcolor\": \"#ffffff\", \"title\": \"FREQU\\u00caNCIA DE PRONOMES REFLEXIVES\", \"width\": 800}, {\"showLink\": true, \"linkText\": \"Export to plot.ly\"})});</script>"
      ],
      "text/vnd.plotly.v1+html": [
       "<div id=\"f0a6f1af-dd42-4780-a3d2-4ec392f8c58a\" style=\"height: 500px; width: 800px;\" class=\"plotly-graph-div\"></div><script type=\"text/javascript\">require([\"plotly\"], function(Plotly) { window.PLOTLYENV=window.PLOTLYENV || {};window.PLOTLYENV.BASE_URL=\"https://plot.ly\";Plotly.newPlot(\"f0a6f1af-dd42-4780-a3d2-4ec392f8c58a\", [{\"x\": [\"myself\", \"yourself\", \"himself\", \"herself\", \"itself\", \"ourselves\", \"yourselves\", \"themselves\"], \"y\": [74, 61, 21, 26, 5, 0, 3, 35], \"type\": \"bar\", \"uid\": \"8f022548-1365-11e9-8177-9706a43b8540\"}], {\"autosize\": false, \"height\": 500, \"margin\": {\"b\": 100, \"l\": 200, \"pad\": 4, \"r\": 50, \"t\": 100}, \"paper_bgcolor\": \"#ffffff\", \"plot_bgcolor\": \"#ffffff\", \"title\": \"FREQU\\u00caNCIA DE PRONOMES REFLEXIVES\", \"width\": 800}, {\"showLink\": true, \"linkText\": \"Export to plot.ly\"})});</script>"
      ]
     },
     "metadata": {},
     "output_type": "display_data"
    }
   ],
   "source": [
    "sf_pronomes_reflexives  = pd.Series(pronomes_reflexives,index=pronomes_reflexives.keys())\n",
    "data = [go.Bar(\n",
    "            x = sf_pronomes_reflexives.keys(),\n",
    "            y = sf_pronomes_reflexives\n",
    "    )]\n",
    "\n",
    "layout = go.Layout(\n",
    "    title='FREQUÊNCIA DE PRONOMES REFLEXIVES',\n",
    "    autosize=False,\n",
    "    width=800,\n",
    "    height=500,\n",
    "    margin=go.layout.Margin(\n",
    "        l=200,\n",
    "        r=50,\n",
    "        b=100,\n",
    "        t=100,\n",
    "        pad=4\n",
    "    ),\n",
    "    paper_bgcolor='#ffffff',\n",
    "    plot_bgcolor='#ffffff'\n",
    ")\n",
    "\n",
    "fig = dict(data = data, layout = layout)\n",
    "iplot(fig, filename='basic-bar')"
   ]
  },
  {
   "cell_type": "code",
   "execution_count": 21,
   "metadata": {
    "_uuid": "14b6635a92770ad043dc901d34ef6262dcb5bcc7"
   },
   "outputs": [
    {
     "data": {
      "application/vnd.plotly.v1+json": {
       "data": [
        {
         "type": "bar",
         "uid": "93f52ec0-1365-11e9-846d-9706a43b8540",
         "x": [
          "each other",
          "one another"
         ],
         "y": [
          0,
          0
         ]
        }
       ],
       "layout": {
        "autosize": false,
        "height": 500,
        "margin": {
         "b": 100,
         "l": 200,
         "pad": 4,
         "r": 50,
         "t": 100
        },
        "paper_bgcolor": "#ffffff",
        "plot_bgcolor": "#ffffff",
        "title": "FREQUÊNCIA DE PRONOMES RECIPROCOS",
        "width": 800
       }
      },
      "text/html": [
       "<div id=\"36394c75-c0bc-4859-b988-5353cbab88a4\" style=\"height: 500px; width: 800px;\" class=\"plotly-graph-div\"></div><script type=\"text/javascript\">require([\"plotly\"], function(Plotly) { window.PLOTLYENV=window.PLOTLYENV || {};window.PLOTLYENV.BASE_URL=\"https://plot.ly\";Plotly.newPlot(\"36394c75-c0bc-4859-b988-5353cbab88a4\", [{\"x\": [\"each other\", \"one another\"], \"y\": [0, 0], \"type\": \"bar\", \"uid\": \"93f860f6-1365-11e9-8973-9706a43b8540\"}], {\"autosize\": false, \"height\": 500, \"margin\": {\"b\": 100, \"l\": 200, \"pad\": 4, \"r\": 50, \"t\": 100}, \"paper_bgcolor\": \"#ffffff\", \"plot_bgcolor\": \"#ffffff\", \"title\": \"FREQU\\u00caNCIA DE PRONOMES RECIPROCOS\", \"width\": 800}, {\"showLink\": true, \"linkText\": \"Export to plot.ly\"})});</script>"
      ],
      "text/vnd.plotly.v1+html": [
       "<div id=\"36394c75-c0bc-4859-b988-5353cbab88a4\" style=\"height: 500px; width: 800px;\" class=\"plotly-graph-div\"></div><script type=\"text/javascript\">require([\"plotly\"], function(Plotly) { window.PLOTLYENV=window.PLOTLYENV || {};window.PLOTLYENV.BASE_URL=\"https://plot.ly\";Plotly.newPlot(\"36394c75-c0bc-4859-b988-5353cbab88a4\", [{\"x\": [\"each other\", \"one another\"], \"y\": [0, 0], \"type\": \"bar\", \"uid\": \"93f860f6-1365-11e9-8973-9706a43b8540\"}], {\"autosize\": false, \"height\": 500, \"margin\": {\"b\": 100, \"l\": 200, \"pad\": 4, \"r\": 50, \"t\": 100}, \"paper_bgcolor\": \"#ffffff\", \"plot_bgcolor\": \"#ffffff\", \"title\": \"FREQU\\u00caNCIA DE PRONOMES RECIPROCOS\", \"width\": 800}, {\"showLink\": true, \"linkText\": \"Export to plot.ly\"})});</script>"
      ]
     },
     "metadata": {},
     "output_type": "display_data"
    }
   ],
   "source": [
    "sf_pronomes_reciprocos  = pd.Series(pronomes_reciprocos,index=pronomes_reciprocos.keys())\n",
    "data = [go.Bar(\n",
    "            x = sf_pronomes_reciprocos.keys(),\n",
    "            y = sf_pronomes_reciprocos\n",
    "    )]\n",
    "\n",
    "layout = go.Layout(\n",
    "    title='FREQUÊNCIA DE PRONOMES RECIPROCOS',\n",
    "    autosize=False,\n",
    "    width=800,\n",
    "    height=500,\n",
    "    margin=go.layout.Margin(\n",
    "        l=200,\n",
    "        r=50,\n",
    "        b=100,\n",
    "        t=100,\n",
    "        pad=4\n",
    "    ),\n",
    "    paper_bgcolor='#ffffff',\n",
    "    plot_bgcolor='#ffffff'\n",
    ")\n",
    "\n",
    "fig = dict(data = data, layout = layout)\n",
    "iplot(fig, filename='basic-bar')"
   ]
  },
  {
   "cell_type": "code",
   "execution_count": 22,
   "metadata": {
    "_uuid": "a61780a6622a390c17046eaf2eee45b9fcb77fa9"
   },
   "outputs": [
    {
     "data": {
      "application/vnd.plotly.v1+json": {
       "data": [
        {
         "type": "bar",
         "uid": "966d93be-1365-11e9-8b7b-9706a43b8540",
         "x": [
          "this",
          "these",
          "that",
          "those",
          "such",
          "the one",
          "the ones",
          "the former",
          "the later"
         ],
         "y": [
          1947,
          1256,
          3885,
          187,
          149,
          0,
          0,
          0,
          0
         ]
        }
       ],
       "layout": {
        "autosize": false,
        "height": 500,
        "margin": {
         "b": 100,
         "l": 200,
         "pad": 4,
         "r": 50,
         "t": 100
        },
        "paper_bgcolor": "#ffffff",
        "plot_bgcolor": "#ffffff",
        "title": "FREQUÊNCIA DE PRONOMES DEMONSTRATIVOS",
        "width": 800
       }
      },
      "text/html": [
       "<div id=\"d2171bf9-d3ec-4b45-a8f0-fd0c58b9a83f\" style=\"height: 500px; width: 800px;\" class=\"plotly-graph-div\"></div><script type=\"text/javascript\">require([\"plotly\"], function(Plotly) { window.PLOTLYENV=window.PLOTLYENV || {};window.PLOTLYENV.BASE_URL=\"https://plot.ly\";Plotly.newPlot(\"d2171bf9-d3ec-4b45-a8f0-fd0c58b9a83f\", [{\"x\": [\"this\", \"these\", \"that\", \"those\", \"such\", \"the one\", \"the ones\", \"the former\", \"the later\"], \"y\": [1947, 1256, 3885, 187, 149, 0, 0, 0, 0], \"type\": \"bar\", \"uid\": \"967161d8-1365-11e9-ba93-9706a43b8540\"}], {\"autosize\": false, \"height\": 500, \"margin\": {\"b\": 100, \"l\": 200, \"pad\": 4, \"r\": 50, \"t\": 100}, \"paper_bgcolor\": \"#ffffff\", \"plot_bgcolor\": \"#ffffff\", \"title\": \"FREQU\\u00caNCIA DE PRONOMES DEMONSTRATIVOS\", \"width\": 800}, {\"showLink\": true, \"linkText\": \"Export to plot.ly\"})});</script>"
      ],
      "text/vnd.plotly.v1+html": [
       "<div id=\"d2171bf9-d3ec-4b45-a8f0-fd0c58b9a83f\" style=\"height: 500px; width: 800px;\" class=\"plotly-graph-div\"></div><script type=\"text/javascript\">require([\"plotly\"], function(Plotly) { window.PLOTLYENV=window.PLOTLYENV || {};window.PLOTLYENV.BASE_URL=\"https://plot.ly\";Plotly.newPlot(\"d2171bf9-d3ec-4b45-a8f0-fd0c58b9a83f\", [{\"x\": [\"this\", \"these\", \"that\", \"those\", \"such\", \"the one\", \"the ones\", \"the former\", \"the later\"], \"y\": [1947, 1256, 3885, 187, 149, 0, 0, 0, 0], \"type\": \"bar\", \"uid\": \"967161d8-1365-11e9-ba93-9706a43b8540\"}], {\"autosize\": false, \"height\": 500, \"margin\": {\"b\": 100, \"l\": 200, \"pad\": 4, \"r\": 50, \"t\": 100}, \"paper_bgcolor\": \"#ffffff\", \"plot_bgcolor\": \"#ffffff\", \"title\": \"FREQU\\u00caNCIA DE PRONOMES DEMONSTRATIVOS\", \"width\": 800}, {\"showLink\": true, \"linkText\": \"Export to plot.ly\"})});</script>"
      ]
     },
     "metadata": {},
     "output_type": "display_data"
    }
   ],
   "source": [
    "sf_pronomes_demonstrativos  = pd.Series(pronomes_demonstrativos,index=pronomes_demonstrativos.keys())\n",
    "data = [go.Bar(\n",
    "            x = sf_pronomes_demonstrativos.keys(),\n",
    "            y = sf_pronomes_demonstrativos\n",
    "    )]\n",
    "\n",
    "layout = go.Layout(\n",
    "    title='FREQUÊNCIA DE PRONOMES DEMONSTRATIVOS',\n",
    "    autosize=False,\n",
    "    width=800,\n",
    "    height=500,\n",
    "    margin=go.layout.Margin(\n",
    "        l=200,\n",
    "        r=50,\n",
    "        b=100,\n",
    "        t=100,\n",
    "        pad=4\n",
    "    ),\n",
    "    paper_bgcolor='#ffffff',\n",
    "    plot_bgcolor='#ffffff'\n",
    ")\n",
    "\n",
    "fig = dict(data = data, layout = layout)\n",
    "iplot(fig, filename='basic-bar')"
   ]
  },
  {
   "cell_type": "code",
   "execution_count": 23,
   "metadata": {
    "_uuid": "7d580b3a022848ce332d444a2efdac9a7143dcf0"
   },
   "outputs": [
    {
     "data": {
      "application/vnd.plotly.v1+json": {
       "data": [
        {
         "type": "bar",
         "uid": "98545df6-1365-11e9-a014-9706a43b8540",
         "x": [
          "some",
          "somebody",
          "someone",
          "something",
          "somewhere",
          "somehow",
          "any",
          "anybody",
          "anyone",
          "anything",
          "anywhere",
          "anyway",
          "no",
          "none",
          "nobody",
          "no any",
          "nothing",
          "nowhere"
         ],
         "y": [
          863,
          70,
          194,
          175,
          21,
          5,
          165,
          22,
          57,
          103,
          9,
          35,
          1293,
          58,
          110,
          0,
          146,
          9
         ]
        }
       ],
       "layout": {
        "autosize": false,
        "height": 500,
        "margin": {
         "b": 100,
         "l": 200,
         "pad": 4,
         "r": 50,
         "t": 100
        },
        "paper_bgcolor": "#ffffff",
        "plot_bgcolor": "#ffffff",
        "title": "FREQUÊNCIA DE PRONOMES INDEFINIDOS",
        "width": 800
       }
      },
      "text/html": [
       "<div id=\"15287fba-eae7-4276-b092-67adc4179145\" style=\"height: 500px; width: 800px;\" class=\"plotly-graph-div\"></div><script type=\"text/javascript\">require([\"plotly\"], function(Plotly) { window.PLOTLYENV=window.PLOTLYENV || {};window.PLOTLYENV.BASE_URL=\"https://plot.ly\";Plotly.newPlot(\"15287fba-eae7-4276-b092-67adc4179145\", [{\"x\": [\"some\", \"somebody\", \"someone\", \"something\", \"somewhere\", \"somehow\", \"any\", \"anybody\", \"anyone\", \"anything\", \"anywhere\", \"anyway\", \"no\", \"none\", \"nobody\", \"no any\", \"nothing\", \"nowhere\"], \"y\": [863, 70, 194, 175, 21, 5, 165, 22, 57, 103, 9, 35, 1293, 58, 110, 0, 146, 9], \"type\": \"bar\", \"uid\": \"9856cd4a-1365-11e9-a2e1-9706a43b8540\"}], {\"autosize\": false, \"height\": 500, \"margin\": {\"b\": 100, \"l\": 200, \"pad\": 4, \"r\": 50, \"t\": 100}, \"paper_bgcolor\": \"#ffffff\", \"plot_bgcolor\": \"#ffffff\", \"title\": \"FREQU\\u00caNCIA DE PRONOMES INDEFINIDOS\", \"width\": 800}, {\"showLink\": true, \"linkText\": \"Export to plot.ly\"})});</script>"
      ],
      "text/vnd.plotly.v1+html": [
       "<div id=\"15287fba-eae7-4276-b092-67adc4179145\" style=\"height: 500px; width: 800px;\" class=\"plotly-graph-div\"></div><script type=\"text/javascript\">require([\"plotly\"], function(Plotly) { window.PLOTLYENV=window.PLOTLYENV || {};window.PLOTLYENV.BASE_URL=\"https://plot.ly\";Plotly.newPlot(\"15287fba-eae7-4276-b092-67adc4179145\", [{\"x\": [\"some\", \"somebody\", \"someone\", \"something\", \"somewhere\", \"somehow\", \"any\", \"anybody\", \"anyone\", \"anything\", \"anywhere\", \"anyway\", \"no\", \"none\", \"nobody\", \"no any\", \"nothing\", \"nowhere\"], \"y\": [863, 70, 194, 175, 21, 5, 165, 22, 57, 103, 9, 35, 1293, 58, 110, 0, 146, 9], \"type\": \"bar\", \"uid\": \"9856cd4a-1365-11e9-a2e1-9706a43b8540\"}], {\"autosize\": false, \"height\": 500, \"margin\": {\"b\": 100, \"l\": 200, \"pad\": 4, \"r\": 50, \"t\": 100}, \"paper_bgcolor\": \"#ffffff\", \"plot_bgcolor\": \"#ffffff\", \"title\": \"FREQU\\u00caNCIA DE PRONOMES INDEFINIDOS\", \"width\": 800}, {\"showLink\": true, \"linkText\": \"Export to plot.ly\"})});</script>"
      ]
     },
     "metadata": {},
     "output_type": "display_data"
    }
   ],
   "source": [
    "sf_pronomes_indefinidos  = pd.Series(pronomes_indefinidos,index=pronomes_indefinidos.keys())\n",
    "data = [go.Bar(\n",
    "            x = sf_pronomes_indefinidos.keys(),\n",
    "            y = sf_pronomes_indefinidos\n",
    "    )]\n",
    "\n",
    "layout = go.Layout(\n",
    "    title='FREQUÊNCIA DE PRONOMES INDEFINIDOS',\n",
    "    autosize=False,\n",
    "    width=800,\n",
    "    height=500,\n",
    "    margin=go.layout.Margin(\n",
    "        l=200,\n",
    "        r=50,\n",
    "        b=100,\n",
    "        t=100,\n",
    "        pad=4\n",
    "    ),\n",
    "    paper_bgcolor='#ffffff',\n",
    "    plot_bgcolor='#ffffff'\n",
    ")\n",
    "\n",
    "fig = dict(data = data, layout = layout)\n",
    "iplot(fig, filename='basic-bar')"
   ]
  },
  {
   "cell_type": "code",
   "execution_count": 24,
   "metadata": {
    "_uuid": "ec6ce02b30506db383cdd89ca16edd6fc1d80cef"
   },
   "outputs": [
    {
     "data": {
      "application/vnd.plotly.v1+json": {
       "data": [
        {
         "type": "bar",
         "uid": "999c36f8-1365-11e9-9046-9706a43b8540",
         "x": [
          "who",
          "which",
          "that"
         ],
         "y": [
          683,
          45,
          3885
         ]
        }
       ],
       "layout": {
        "autosize": false,
        "height": 500,
        "margin": {
         "b": 100,
         "l": 200,
         "pad": 4,
         "r": 50,
         "t": 100
        },
        "paper_bgcolor": "#ffffff",
        "plot_bgcolor": "#ffffff",
        "title": "FREQUÊNCIA DE PRONOMES RELATIVOS",
        "width": 800
       }
      },
      "text/html": [
       "<div id=\"6b8d02b2-1234-4fe9-b3d2-1679e7ca59dc\" style=\"height: 500px; width: 800px;\" class=\"plotly-graph-div\"></div><script type=\"text/javascript\">require([\"plotly\"], function(Plotly) { window.PLOTLYENV=window.PLOTLYENV || {};window.PLOTLYENV.BASE_URL=\"https://plot.ly\";Plotly.newPlot(\"6b8d02b2-1234-4fe9-b3d2-1679e7ca59dc\", [{\"x\": [\"who\", \"which\", \"that\"], \"y\": [683, 45, 3885], \"type\": \"bar\", \"uid\": \"999ecd42-1365-11e9-bb66-9706a43b8540\"}], {\"autosize\": false, \"height\": 500, \"margin\": {\"b\": 100, \"l\": 200, \"pad\": 4, \"r\": 50, \"t\": 100}, \"paper_bgcolor\": \"#ffffff\", \"plot_bgcolor\": \"#ffffff\", \"title\": \"FREQU\\u00caNCIA DE PRONOMES RELATIVOS\", \"width\": 800}, {\"showLink\": true, \"linkText\": \"Export to plot.ly\"})});</script>"
      ],
      "text/vnd.plotly.v1+html": [
       "<div id=\"6b8d02b2-1234-4fe9-b3d2-1679e7ca59dc\" style=\"height: 500px; width: 800px;\" class=\"plotly-graph-div\"></div><script type=\"text/javascript\">require([\"plotly\"], function(Plotly) { window.PLOTLYENV=window.PLOTLYENV || {};window.PLOTLYENV.BASE_URL=\"https://plot.ly\";Plotly.newPlot(\"6b8d02b2-1234-4fe9-b3d2-1679e7ca59dc\", [{\"x\": [\"who\", \"which\", \"that\"], \"y\": [683, 45, 3885], \"type\": \"bar\", \"uid\": \"999ecd42-1365-11e9-bb66-9706a43b8540\"}], {\"autosize\": false, \"height\": 500, \"margin\": {\"b\": 100, \"l\": 200, \"pad\": 4, \"r\": 50, \"t\": 100}, \"paper_bgcolor\": \"#ffffff\", \"plot_bgcolor\": \"#ffffff\", \"title\": \"FREQU\\u00caNCIA DE PRONOMES RELATIVOS\", \"width\": 800}, {\"showLink\": true, \"linkText\": \"Export to plot.ly\"})});</script>"
      ]
     },
     "metadata": {},
     "output_type": "display_data"
    }
   ],
   "source": [
    "sf_pronomes_relativos  = pd.Series(pronomes_relativos,index=pronomes_relativos.keys())\n",
    "data = [go.Bar(\n",
    "            x = sf_pronomes_relativos.keys(),\n",
    "            y = sf_pronomes_relativos\n",
    "    )]\n",
    "\n",
    "layout = go.Layout(\n",
    "    title='FREQUÊNCIA DE PRONOMES RELATIVOS',\n",
    "    autosize=False,\n",
    "    width=800,\n",
    "    height=500,\n",
    "    margin=go.layout.Margin(\n",
    "        l=200,\n",
    "        r=50,\n",
    "        b=100,\n",
    "        t=100,\n",
    "        pad=4\n",
    "    ),\n",
    "    paper_bgcolor='#ffffff',\n",
    "    plot_bgcolor='#ffffff'\n",
    ")\n",
    "\n",
    "fig = dict(data = data, layout = layout)\n",
    "iplot(fig, filename='basic-bar')"
   ]
  },
  {
   "cell_type": "code",
   "execution_count": 25,
   "metadata": {
    "_uuid": "ba33d50096444e6c43445b5fa0d46d27b6aaec62"
   },
   "outputs": [
    {
     "data": {
      "application/vnd.plotly.v1+json": {
       "data": [
        {
         "type": "bar",
         "uid": "9ac7257e-1365-11e9-abbe-9706a43b8540",
         "x": [
          "whose",
          "where",
          "when",
          "what",
          "which",
          "why",
          "who",
          "whom",
          "how"
         ],
         "y": [
          6,
          262,
          1257,
          906,
          45,
          553,
          683,
          3,
          677
         ]
        }
       ],
       "layout": {
        "autosize": false,
        "height": 500,
        "margin": {
         "b": 100,
         "l": 200,
         "pad": 4,
         "r": 50,
         "t": 100
        },
        "paper_bgcolor": "#ffffff",
        "plot_bgcolor": "#ffffff",
        "title": "FREQUÊNCIA DE PRONOMES INTERROGATIVOS",
        "width": 800
       }
      },
      "text/html": [
       "<div id=\"f9db5e3c-4592-4f7e-b6a1-ec2d2e44681f\" style=\"height: 500px; width: 800px;\" class=\"plotly-graph-div\"></div><script type=\"text/javascript\">require([\"plotly\"], function(Plotly) { window.PLOTLYENV=window.PLOTLYENV || {};window.PLOTLYENV.BASE_URL=\"https://plot.ly\";Plotly.newPlot(\"f9db5e3c-4592-4f7e-b6a1-ec2d2e44681f\", [{\"x\": [\"whose\", \"where\", \"when\", \"what\", \"which\", \"why\", \"who\", \"whom\", \"how\"], \"y\": [6, 262, 1257, 906, 45, 553, 683, 3, 677], \"type\": \"bar\", \"uid\": \"9ac96de2-1365-11e9-8bf0-9706a43b8540\"}], {\"autosize\": false, \"height\": 500, \"margin\": {\"b\": 100, \"l\": 200, \"pad\": 4, \"r\": 50, \"t\": 100}, \"paper_bgcolor\": \"#ffffff\", \"plot_bgcolor\": \"#ffffff\", \"title\": \"FREQU\\u00caNCIA DE PRONOMES INTERROGATIVOS\", \"width\": 800}, {\"showLink\": true, \"linkText\": \"Export to plot.ly\"})});</script>"
      ],
      "text/vnd.plotly.v1+html": [
       "<div id=\"f9db5e3c-4592-4f7e-b6a1-ec2d2e44681f\" style=\"height: 500px; width: 800px;\" class=\"plotly-graph-div\"></div><script type=\"text/javascript\">require([\"plotly\"], function(Plotly) { window.PLOTLYENV=window.PLOTLYENV || {};window.PLOTLYENV.BASE_URL=\"https://plot.ly\";Plotly.newPlot(\"f9db5e3c-4592-4f7e-b6a1-ec2d2e44681f\", [{\"x\": [\"whose\", \"where\", \"when\", \"what\", \"which\", \"why\", \"who\", \"whom\", \"how\"], \"y\": [6, 262, 1257, 906, 45, 553, 683, 3, 677], \"type\": \"bar\", \"uid\": \"9ac96de2-1365-11e9-8bf0-9706a43b8540\"}], {\"autosize\": false, \"height\": 500, \"margin\": {\"b\": 100, \"l\": 200, \"pad\": 4, \"r\": 50, \"t\": 100}, \"paper_bgcolor\": \"#ffffff\", \"plot_bgcolor\": \"#ffffff\", \"title\": \"FREQU\\u00caNCIA DE PRONOMES INTERROGATIVOS\", \"width\": 800}, {\"showLink\": true, \"linkText\": \"Export to plot.ly\"})});</script>"
      ]
     },
     "metadata": {},
     "output_type": "display_data"
    }
   ],
   "source": [
    "sf_pronomes_interrogativos  = pd.Series(pronomes_interrogativos,index=pronomes_interrogativos.keys())\n",
    "data = [go.Bar(\n",
    "            x = sf_pronomes_interrogativos.keys(),\n",
    "            y = sf_pronomes_interrogativos\n",
    "    )]\n",
    "\n",
    "layout = go.Layout(\n",
    "    title='FREQUÊNCIA DE PRONOMES INTERROGATIVOS',\n",
    "    autosize=False,\n",
    "    width=800,\n",
    "    height=500,\n",
    "    margin=go.layout.Margin(\n",
    "        l=200,\n",
    "        r=50,\n",
    "        b=100,\n",
    "        t=100,\n",
    "        pad=4\n",
    "    ),\n",
    "    paper_bgcolor='#ffffff',\n",
    "    plot_bgcolor='#ffffff'\n",
    ")\n",
    "\n",
    "fig = dict(data = data, layout = layout)\n",
    "iplot(fig, filename='basic-bar')"
   ]
  },
  {
   "cell_type": "markdown",
   "metadata": {
    "_uuid": "73ff248233d89ffe14cf8cccaf06e0d747787772"
   },
   "source": [
    "**Frequência das palavras**"
   ]
  },
  {
   "cell_type": "code",
   "execution_count": 26,
   "metadata": {
    "_uuid": "389a19fe06d25d72b701925e888f5d71f270ff36"
   },
   "outputs": [
    {
     "data": {
      "application/vnd.plotly.v1+json": {
       "data": [
        {
         "type": "bar",
         "uid": "9d0a5758-1365-11e9-b561-9706a43b8540",
         "x": [
          "as",
          "a",
          "woman",
          "you",
          "shouldn",
          "t",
          "mplain",
          "about",
          "cleaning",
          "up"
         ],
         "y": [
          9366,
          9114,
          7977,
          6805,
          6785,
          6514,
          5115,
          3885,
          3799,
          3395
         ]
        }
       ],
       "layout": {
        "autosize": false,
        "height": 500,
        "margin": {
         "b": 100,
         "l": 200,
         "pad": 4,
         "r": 50,
         "t": 100
        },
        "paper_bgcolor": "#ffffff",
        "plot_bgcolor": "#ffffff",
        "title": "TOP 10 PALAVRAS MAIS UTILIZADAS",
        "width": 800
       }
      },
      "text/html": [
       "<div id=\"30abcb80-f0fc-4374-a2a7-4692c73a1d97\" style=\"height: 500px; width: 800px;\" class=\"plotly-graph-div\"></div><script type=\"text/javascript\">require([\"plotly\"], function(Plotly) { window.PLOTLYENV=window.PLOTLYENV || {};window.PLOTLYENV.BASE_URL=\"https://plot.ly\";Plotly.newPlot(\"30abcb80-f0fc-4374-a2a7-4692c73a1d97\", [{\"x\": [\"as\", \"a\", \"woman\", \"you\", \"shouldn\", \"t\", \"mplain\", \"about\", \"cleaning\", \"up\"], \"y\": [9366, 9114, 7977, 6805, 6785, 6514, 5115, 3885, 3799, 3395], \"type\": \"bar\", \"uid\": \"9d0c9fba-1365-11e9-b6d1-9706a43b8540\"}], {\"autosize\": false, \"height\": 500, \"margin\": {\"b\": 100, \"l\": 200, \"pad\": 4, \"r\": 50, \"t\": 100}, \"paper_bgcolor\": \"#ffffff\", \"plot_bgcolor\": \"#ffffff\", \"title\": \"TOP 10 PALAVRAS MAIS UTILIZADAS\", \"width\": 800}, {\"showLink\": true, \"linkText\": \"Export to plot.ly\"})});</script>"
      ],
      "text/vnd.plotly.v1+html": [
       "<div id=\"30abcb80-f0fc-4374-a2a7-4692c73a1d97\" style=\"height: 500px; width: 800px;\" class=\"plotly-graph-div\"></div><script type=\"text/javascript\">require([\"plotly\"], function(Plotly) { window.PLOTLYENV=window.PLOTLYENV || {};window.PLOTLYENV.BASE_URL=\"https://plot.ly\";Plotly.newPlot(\"30abcb80-f0fc-4374-a2a7-4692c73a1d97\", [{\"x\": [\"as\", \"a\", \"woman\", \"you\", \"shouldn\", \"t\", \"mplain\", \"about\", \"cleaning\", \"up\"], \"y\": [9366, 9114, 7977, 6805, 6785, 6514, 5115, 3885, 3799, 3395], \"type\": \"bar\", \"uid\": \"9d0c9fba-1365-11e9-b6d1-9706a43b8540\"}], {\"autosize\": false, \"height\": 500, \"margin\": {\"b\": 100, \"l\": 200, \"pad\": 4, \"r\": 50, \"t\": 100}, \"paper_bgcolor\": \"#ffffff\", \"plot_bgcolor\": \"#ffffff\", \"title\": \"TOP 10 PALAVRAS MAIS UTILIZADAS\", \"width\": 800}, {\"showLink\": true, \"linkText\": \"Export to plot.ly\"})});</script>"
      ]
     },
     "metadata": {},
     "output_type": "display_data"
    }
   ],
   "source": [
    "freq = pd.Series(' '.join(dataset['tweet']).split()).value_counts()\n",
    "data = [go.Bar(\n",
    "            x = pd.Series(' '.join(dataset['tweet']).split()).head(10),\n",
    "            y = freq.head(10)\n",
    "    )]\n",
    "\n",
    "layout = go.Layout(\n",
    "    title='TOP 10 PALAVRAS MAIS UTILIZADAS',\n",
    "    autosize=False,\n",
    "    width=800,\n",
    "    height=500,\n",
    "    margin=go.layout.Margin(\n",
    "        l=200,\n",
    "        r=50,\n",
    "        b=100,\n",
    "        t=100,\n",
    "        pad=4\n",
    "    ),\n",
    "    paper_bgcolor='#ffffff',\n",
    "    plot_bgcolor='#ffffff'\n",
    ")\n",
    "\n",
    "fig = dict(data = data, layout = layout)\n",
    "iplot(fig, filename='basic-bar')"
   ]
  },
  {
   "cell_type": "markdown",
   "metadata": {
    "_uuid": "15d1f9146de3a20b359aa688779cfc84712c177e"
   },
   "source": [
    "**Número de Palavras**"
   ]
  },
  {
   "cell_type": "code",
   "execution_count": 27,
   "metadata": {
    "_uuid": "492fadb0844ba16e70aca3d5f184d45cb2cfc2ff"
   },
   "outputs": [
    {
     "data": {
      "text/html": [
       "<div>\n",
       "<style scoped>\n",
       "    .dataframe tbody tr th:only-of-type {\n",
       "        vertical-align: middle;\n",
       "    }\n",
       "\n",
       "    .dataframe tbody tr th {\n",
       "        vertical-align: top;\n",
       "    }\n",
       "\n",
       "    .dataframe thead th {\n",
       "        text-align: right;\n",
       "    }\n",
       "</style>\n",
       "<table border=\"1\" class=\"dataframe\">\n",
       "  <thead>\n",
       "    <tr style=\"text-align: right;\">\n",
       "      <th></th>\n",
       "      <th>tweet</th>\n",
       "      <th>word_count</th>\n",
       "    </tr>\n",
       "  </thead>\n",
       "  <tbody>\n",
       "    <tr>\n",
       "      <th>0</th>\n",
       "      <td>as a woman you shouldn t mplain about cleaning...</td>\n",
       "      <td>24</td>\n",
       "    </tr>\n",
       "    <tr>\n",
       "      <th>1</th>\n",
       "      <td>boy dats ld tyga dwn bad for cuffin dat hoe in...</td>\n",
       "      <td>14</td>\n",
       "    </tr>\n",
       "  </tbody>\n",
       "</table>\n",
       "</div>"
      ],
      "text/plain": [
       "                                               tweet  word_count\n",
       "0  as a woman you shouldn t mplain about cleaning...          24\n",
       "1  boy dats ld tyga dwn bad for cuffin dat hoe in...          14"
      ]
     },
     "execution_count": 27,
     "metadata": {},
     "output_type": "execute_result"
    }
   ],
   "source": [
    "dataset['word_count'] = dataset['tweet'].apply(lambda x: len(str(x).split(\" \")))\n",
    "dataset[['tweet','word_count']].head(2)"
   ]
  },
  {
   "cell_type": "markdown",
   "metadata": {
    "_uuid": "ae67dfbdef80d3222cb186abeb1b148499e218c9"
   },
   "source": [
    "**Número de caracteres**"
   ]
  },
  {
   "cell_type": "code",
   "execution_count": 28,
   "metadata": {
    "_uuid": "1eccca63fe657b586a8d0e760fed0a644ebcadea"
   },
   "outputs": [
    {
     "data": {
      "text/html": [
       "<div>\n",
       "<style scoped>\n",
       "    .dataframe tbody tr th:only-of-type {\n",
       "        vertical-align: middle;\n",
       "    }\n",
       "\n",
       "    .dataframe tbody tr th {\n",
       "        vertical-align: top;\n",
       "    }\n",
       "\n",
       "    .dataframe thead th {\n",
       "        text-align: right;\n",
       "    }\n",
       "</style>\n",
       "<table border=\"1\" class=\"dataframe\">\n",
       "  <thead>\n",
       "    <tr style=\"text-align: right;\">\n",
       "      <th></th>\n",
       "      <th>tweet</th>\n",
       "      <th>char_count</th>\n",
       "    </tr>\n",
       "  </thead>\n",
       "  <tbody>\n",
       "    <tr>\n",
       "      <th>0</th>\n",
       "      <td>as a woman you shouldn t mplain about cleaning...</td>\n",
       "      <td>111</td>\n",
       "    </tr>\n",
       "    <tr>\n",
       "      <th>1</th>\n",
       "      <td>boy dats ld tyga dwn bad for cuffin dat hoe in...</td>\n",
       "      <td>59</td>\n",
       "    </tr>\n",
       "    <tr>\n",
       "      <th>2</th>\n",
       "      <td>you ever fuck a bitch and she start to cry you...</td>\n",
       "      <td>64</td>\n",
       "    </tr>\n",
       "    <tr>\n",
       "      <th>3</th>\n",
       "      <td>vivabased she look like a tranny</td>\n",
       "      <td>33</td>\n",
       "    </tr>\n",
       "    <tr>\n",
       "      <th>4</th>\n",
       "      <td>the shit you hear about me might be true or it...</td>\n",
       "      <td>95</td>\n",
       "    </tr>\n",
       "  </tbody>\n",
       "</table>\n",
       "</div>"
      ],
      "text/plain": [
       "                                               tweet  char_count\n",
       "0  as a woman you shouldn t mplain about cleaning...         111\n",
       "1  boy dats ld tyga dwn bad for cuffin dat hoe in...          59\n",
       "2  you ever fuck a bitch and she start to cry you...          64\n",
       "3                   vivabased she look like a tranny          33\n",
       "4  the shit you hear about me might be true or it...          95"
      ]
     },
     "execution_count": 28,
     "metadata": {},
     "output_type": "execute_result"
    }
   ],
   "source": [
    "dataset['char_count'] = dataset['tweet'].str.len() ## isso também inclui espaços\n",
    "dataset[['tweet', 'char_count']].head()"
   ]
  },
  {
   "cell_type": "markdown",
   "metadata": {
    "_uuid": "d1fe536cda95aae2a0a7710256bc036d8a8a04a9"
   },
   "source": [
    "**Número de palavras irrelevantes**"
   ]
  },
  {
   "cell_type": "code",
   "execution_count": 29,
   "metadata": {
    "_uuid": "0b5edac241b8dffc5152ba1f4702ca8183c89704"
   },
   "outputs": [
    {
     "data": {
      "text/html": [
       "<div>\n",
       "<style scoped>\n",
       "    .dataframe tbody tr th:only-of-type {\n",
       "        vertical-align: middle;\n",
       "    }\n",
       "\n",
       "    .dataframe tbody tr th {\n",
       "        vertical-align: top;\n",
       "    }\n",
       "\n",
       "    .dataframe thead th {\n",
       "        text-align: right;\n",
       "    }\n",
       "</style>\n",
       "<table border=\"1\" class=\"dataframe\">\n",
       "  <thead>\n",
       "    <tr style=\"text-align: right;\">\n",
       "      <th></th>\n",
       "      <th>tweet</th>\n",
       "      <th>stopwords</th>\n",
       "    </tr>\n",
       "  </thead>\n",
       "  <tbody>\n",
       "    <tr>\n",
       "      <th>0</th>\n",
       "      <td>as a woman you shouldn t mplain about cleaning...</td>\n",
       "      <td>14</td>\n",
       "    </tr>\n",
       "    <tr>\n",
       "      <th>1</th>\n",
       "      <td>boy dats ld tyga dwn bad for cuffin dat hoe in...</td>\n",
       "      <td>3</td>\n",
       "    </tr>\n",
       "  </tbody>\n",
       "</table>\n",
       "</div>"
      ],
      "text/plain": [
       "                                               tweet  stopwords\n",
       "0  as a woman you shouldn t mplain about cleaning...         14\n",
       "1  boy dats ld tyga dwn bad for cuffin dat hoe in...          3"
      ]
     },
     "execution_count": 29,
     "metadata": {},
     "output_type": "execute_result"
    }
   ],
   "source": [
    "dataset['stopwords'] = dataset['tweet'].apply(lambda x: len([x for x in x.split() if x in stop]))\n",
    "dataset[['tweet','stopwords']].head(2)"
   ]
  },
  {
   "cell_type": "markdown",
   "metadata": {
    "_uuid": "5b582465c4e6f14a680491412f21de05c121dc2a"
   },
   "source": [
    "****"
   ]
  },
  {
   "cell_type": "markdown",
   "metadata": {
    "_uuid": "6a28ce15cd29484301a1b5b37b05e804f957731b"
   },
   "source": [
    "### **Questionamento 6: O que é um bom valor nGram e como devo levar isso em conta ao usar uma ferramenta como o TextBlob?**"
   ]
  },
  {
   "cell_type": "code",
   "execution_count": 30,
   "metadata": {
    "_uuid": "d76df9e99c6aa5bd92de0e1630c315dbc2288141"
   },
   "outputs": [
    {
     "data": {
      "text/plain": [
       "[WordList(['as', 'a', 'woman']),\n",
       " WordList(['a', 'woman', 'you']),\n",
       " WordList(['woman', 'you', 'shouldn']),\n",
       " WordList(['you', 'shouldn', 't']),\n",
       " WordList(['shouldn', 't', 'mplain']),\n",
       " WordList(['t', 'mplain', 'about']),\n",
       " WordList(['mplain', 'about', 'cleaning']),\n",
       " WordList(['about', 'cleaning', 'up']),\n",
       " WordList(['cleaning', 'up', 'your']),\n",
       " WordList(['up', 'your', 'house']),\n",
       " WordList(['your', 'house', 'amp']),\n",
       " WordList(['house', 'amp', 'as']),\n",
       " WordList(['amp', 'as', 'a']),\n",
       " WordList(['as', 'a', 'man']),\n",
       " WordList(['a', 'man', 'you']),\n",
       " WordList(['man', 'you', 'should']),\n",
       " WordList(['you', 'should', 'always']),\n",
       " WordList(['should', 'always', 'take']),\n",
       " WordList(['always', 'take', 'the']),\n",
       " WordList(['take', 'the', 'trash']),\n",
       " WordList(['the', 'trash', 'out'])]"
      ]
     },
     "execution_count": 30,
     "metadata": {},
     "output_type": "execute_result"
    }
   ],
   "source": [
    "TextBlob(dataset['tweet'][0]).ngrams(3)"
   ]
  },
  {
   "cell_type": "markdown",
   "metadata": {
    "_uuid": "d8d15ff095ad86949419b1e444ae4dd0f660462d"
   },
   "source": [
    "**Frequência do termo**"
   ]
  },
  {
   "cell_type": "markdown",
   "metadata": {
    "_uuid": "46fd4746d78c3779e3047ae7df5ed282d1291fc7"
   },
   "source": [
    "Frequência de termo é simplesmente a razão entre a contagem de uma palavra presente em uma frase e a duração da sentença.\n",
    "\n",
    "`TF` = (Número de vezes que o termo T aparece na linha em particular) / (número de termos nessa linha)"
   ]
  },
  {
   "cell_type": "markdown",
   "metadata": {
    "_uuid": "1bb94e41c0fdb351cffea7cb7811762f30bccf4f"
   },
   "source": [
    "**Tabela de frequência do termo de um tweet**"
   ]
  },
  {
   "cell_type": "code",
   "execution_count": 35,
   "metadata": {
    "_uuid": "1c9eb07baa7024ab8f4c072b86e140ef787ece93"
   },
   "outputs": [],
   "source": [
    "tf1 = (dataset['tweet'][1:2]).apply(lambda x: pd.value_counts(x.split(\" \"))).sum(axis = 0).reset_index()\n",
    "tf1.columns = ['tweet','tf']"
   ]
  },
  {
   "cell_type": "markdown",
   "metadata": {
    "_uuid": "eeefdbcce82d340cf6fb1ab34a49f647b354f1c0"
   },
   "source": [
    "**Freqüência de Documento Inverso**"
   ]
  },
  {
   "cell_type": "markdown",
   "metadata": {
    "_uuid": "7cebee895bfe9f183a64dda98e7ab232499c745d"
   },
   "source": [
    "A intuição por trás da frequência inversa de documentos (IDF) é que uma palavra não é muito útil para nós se estiver aparecendo em todos os documentos.\n",
    "\n",
    "`IDF` = log (N / n) , onde, N é o número total de linhas e n é o número de linhas nas quais a palavra estava presente.\n",
    "\n",
    "OBS:Quanto mais o valor do IDF, mais exclusivo é a palavra."
   ]
  },
  {
   "cell_type": "code",
   "execution_count": 36,
   "metadata": {
    "_uuid": "c2e94d202545a024f5de6b54ec0de6d6f526bd19"
   },
   "outputs": [],
   "source": [
    "for i,word in enumerate(tf1['tweet']):\n",
    "  tf1.loc[i, 'idf'] = np.log(dataset.shape[0]/(len(dataset[dataset['tweet'].str.contains(word)])))"
   ]
  },
  {
   "cell_type": "markdown",
   "metadata": {
    "_uuid": "722a29b53e32ecbeccacd7764e59f449656a36c6"
   },
   "source": [
    "**Frequência de Termo - Frequência de Documento Inversa (TF-IDF)**"
   ]
  },
  {
   "cell_type": "code",
   "execution_count": 37,
   "metadata": {
    "_uuid": "fe4bc965b90aea20041d95ce54243e99e8ceac9a"
   },
   "outputs": [],
   "source": [
    "tf1['tfidf'] = tf1['tf'] * tf1['idf']"
   ]
  },
  {
   "cell_type": "code",
   "execution_count": 38,
   "metadata": {
    "_uuid": "e4052cf7f5777a2d5f0c6ff3493032c067a66a29"
   },
   "outputs": [
    {
     "data": {
      "application/vnd.plotly.v1+json": {
       "data": [
        {
         "cells": {
          "align": [
           "left",
           "left",
           "left",
           "left",
           "left"
          ],
          "fill": {
           "color": "#EDFAFF"
          },
          "line": {
           "color": "#7D7F80"
          },
          "values": [
           [
            "dats",
            "place",
            "in",
            "boy",
            "bad",
            "the",
            "tyga",
            "st",
            "dwn",
            "for",
            "ld",
            "cuffin",
            "hoe",
            "dat"
           ],
           [
            1,
            1,
            1,
            1,
            1,
            1,
            1,
            1,
            1,
            1,
            1,
            1,
            1,
            1
           ],
           [
            7.026870759872299,
            5.711193965966362,
            0.6715525521265431,
            4.019838931064375,
            3.6801615634942135,
            1.0006754595167566,
            7.122180939676624,
            1.2143697775658953,
            9.42476603267067,
            2.341797736131873,
            2.5205168930178203,
            7.173474234064175,
            1.8351773330288608,
            4.082431780705859
           ],
           [
            7.026870759872299,
            5.711193965966362,
            0.6715525521265431,
            4.019838931064375,
            3.6801615634942135,
            1.0006754595167566,
            7.122180939676624,
            1.2143697775658953,
            9.42476603267067,
            2.341797736131873,
            2.5205168930178203,
            7.173474234064175,
            1.8351773330288608,
            4.082431780705859
           ]
          ]
         },
         "header": {
          "align": [
           "left",
           "left",
           "left",
           "left",
           "left"
          ],
          "fill": {
           "color": "#a1c3d1"
          },
          "line": {
           "color": "#7D7F80"
          },
          "values": [
           "tweet",
           "tf",
           "idf",
           "tfidf"
          ]
         },
         "type": "table",
         "uid": "b39e52ca-1365-11e9-81b0-9706a43b8540"
        }
       ],
       "layout": {
        "height": 500,
        "width": 800
       }
      },
      "text/html": [
       "<div id=\"57c7083a-a91c-4046-8b8b-2dc832227003\" style=\"height: 500px; width: 800px;\" class=\"plotly-graph-div\"></div><script type=\"text/javascript\">require([\"plotly\"], function(Plotly) { window.PLOTLYENV=window.PLOTLYENV || {};window.PLOTLYENV.BASE_URL=\"https://plot.ly\";Plotly.newPlot(\"57c7083a-a91c-4046-8b8b-2dc832227003\", [{\"cells\": {\"align\": [\"left\", \"left\", \"left\", \"left\", \"left\"], \"fill\": {\"color\": \"#EDFAFF\"}, \"line\": {\"color\": \"#7D7F80\"}, \"values\": [[\"dats\", \"place\", \"in\", \"boy\", \"bad\", \"the\", \"tyga\", \"st\", \"dwn\", \"for\", \"ld\", \"cuffin\", \"hoe\", \"dat\"], [1, 1, 1, 1, 1, 1, 1, 1, 1, 1, 1, 1, 1, 1], [7.026870759872299, 5.711193965966362, 0.6715525521265431, 4.019838931064375, 3.6801615634942135, 1.0006754595167566, 7.122180939676624, 1.2143697775658953, 9.42476603267067, 2.341797736131873, 2.5205168930178203, 7.173474234064175, 1.8351773330288608, 4.082431780705859], [7.026870759872299, 5.711193965966362, 0.6715525521265431, 4.019838931064375, 3.6801615634942135, 1.0006754595167566, 7.122180939676624, 1.2143697775658953, 9.42476603267067, 2.341797736131873, 2.5205168930178203, 7.173474234064175, 1.8351773330288608, 4.082431780705859]]}, \"header\": {\"align\": [\"left\", \"left\", \"left\", \"left\", \"left\"], \"fill\": {\"color\": \"#a1c3d1\"}, \"line\": {\"color\": \"#7D7F80\"}, \"values\": [\"tweet\", \"tf\", \"idf\", \"tfidf\"]}, \"type\": \"table\", \"uid\": \"b3a136fa-1365-11e9-bfc2-9706a43b8540\"}], {\"height\": 500, \"width\": 800}, {\"showLink\": true, \"linkText\": \"Export to plot.ly\"})});</script>"
      ],
      "text/vnd.plotly.v1+html": [
       "<div id=\"57c7083a-a91c-4046-8b8b-2dc832227003\" style=\"height: 500px; width: 800px;\" class=\"plotly-graph-div\"></div><script type=\"text/javascript\">require([\"plotly\"], function(Plotly) { window.PLOTLYENV=window.PLOTLYENV || {};window.PLOTLYENV.BASE_URL=\"https://plot.ly\";Plotly.newPlot(\"57c7083a-a91c-4046-8b8b-2dc832227003\", [{\"cells\": {\"align\": [\"left\", \"left\", \"left\", \"left\", \"left\"], \"fill\": {\"color\": \"#EDFAFF\"}, \"line\": {\"color\": \"#7D7F80\"}, \"values\": [[\"dats\", \"place\", \"in\", \"boy\", \"bad\", \"the\", \"tyga\", \"st\", \"dwn\", \"for\", \"ld\", \"cuffin\", \"hoe\", \"dat\"], [1, 1, 1, 1, 1, 1, 1, 1, 1, 1, 1, 1, 1, 1], [7.026870759872299, 5.711193965966362, 0.6715525521265431, 4.019838931064375, 3.6801615634942135, 1.0006754595167566, 7.122180939676624, 1.2143697775658953, 9.42476603267067, 2.341797736131873, 2.5205168930178203, 7.173474234064175, 1.8351773330288608, 4.082431780705859], [7.026870759872299, 5.711193965966362, 0.6715525521265431, 4.019838931064375, 3.6801615634942135, 1.0006754595167566, 7.122180939676624, 1.2143697775658953, 9.42476603267067, 2.341797736131873, 2.5205168930178203, 7.173474234064175, 1.8351773330288608, 4.082431780705859]]}, \"header\": {\"align\": [\"left\", \"left\", \"left\", \"left\", \"left\"], \"fill\": {\"color\": \"#a1c3d1\"}, \"line\": {\"color\": \"#7D7F80\"}, \"values\": [\"tweet\", \"tf\", \"idf\", \"tfidf\"]}, \"type\": \"table\", \"uid\": \"b3a136fa-1365-11e9-bfc2-9706a43b8540\"}], {\"height\": 500, \"width\": 800}, {\"showLink\": true, \"linkText\": \"Export to plot.ly\"})});</script>"
      ]
     },
     "metadata": {},
     "output_type": "display_data"
    }
   ],
   "source": [
    "trace = go.Table(\n",
    "    header=dict(values=['tweet', 'tf', 'idf', 'tfidf'],\n",
    "                line = dict(color='#7D7F80'),\n",
    "                fill = dict(color='#a1c3d1'),\n",
    "                align = ['left'] * 5),\n",
    "    cells=dict(values=[tf1['tweet'],tf1['tf'],tf1['idf'], tf1['tfidf']],\n",
    "               line = dict(color='#7D7F80'),\n",
    "               fill = dict(color='#EDFAFF'),\n",
    "               align = ['left'] * 5))\n",
    "\n",
    "layout = dict(width=800, height=500)\n",
    "data = [trace]\n",
    "fig = dict(data=data, layout=layout)\n",
    "iplot(fig, filename = 'styled_table')"
   ]
  },
  {
   "cell_type": "markdown",
   "metadata": {
    "_uuid": "2ff725733c4ed63b133310eef69f3a58276bebfa"
   },
   "source": [
    "Podemos ver que o TF-IDF penalizou palavras como 'NOT', 'COULD NOT' e 'USE' porque são palavras comuns. No entanto, ele deu um alto peso para \"decepcionado\", pois isso será muito útil para determinar o sentimento do tweet."
   ]
  },
  {
   "cell_type": "code",
   "execution_count": 39,
   "metadata": {
    "_uuid": "c236a92f6adb725ce064e53a1b3582a524f9dc0c"
   },
   "outputs": [
    {
     "data": {
      "text/plain": [
       "<24783x1000 sparse matrix of type '<class 'numpy.float64'>'\n",
       "\twith 109598 stored elements in Compressed Sparse Row format>"
      ]
     },
     "execution_count": 39,
     "metadata": {},
     "output_type": "execute_result"
    }
   ],
   "source": [
    "tfidf = TfidfVectorizer(max_features=1000, lowercase=True, analyzer='word',\n",
    " stop_words= 'english',ngram_range=(1,1))\n",
    "train_vect = tfidf.fit_transform(dataset['tweet'])\n",
    "\n",
    "train_vect"
   ]
  },
  {
   "cell_type": "markdown",
   "metadata": {
    "_uuid": "2caad90868b2796701b29597f6071995344159b7"
   },
   "source": [
    "Não temos que calcular TF e IDF todas as vezes antes e depois multiplicá-las para obter o TF-IDF. Em vez disso, o sklearn  tem uma função separada para obtê-lo diretamente:"
   ]
  },
  {
   "cell_type": "markdown",
   "metadata": {
    "_uuid": "1ac9e46cc68805428dc86b9b0631ac08f327feba"
   },
   "source": [
    "***"
   ]
  },
  {
   "cell_type": "markdown",
   "metadata": {
    "_uuid": "a02d4eead2094877fad6d48dba8ad41beb0c5951"
   },
   "source": [
    "### **4. Para cada uma das questões que você elaborou no exercício 2, escreva uma breve conclusão após as observações feitas no exercício 3. Seja realista, tome suas conclusões com base nos dados e tome cuidado para não fazer afirmações difíceis de serem suportadas pelas suas análises.**\n"
   ]
  },
  {
   "cell_type": "markdown",
   "metadata": {
    "_uuid": "695b1a1f8138dd3304643b2ee43cbbd7bc16048b"
   },
   "source": [
    "**QUESTIONAMENTO 1:** Existe dados faltantes, espaços em brancos, tabulação, caracteres especiais? Realizar o tratamento dos dados.\n",
    "\n",
    "\n",
    "**RESPOSTA:** Realizamos tratamento dos caracteres especiais e a verificação de dados faltantes. Não foi encontrado dados faltantes neste dataset"
   ]
  },
  {
   "cell_type": "markdown",
   "metadata": {
    "_uuid": "bae0e53a9b6f976a3e42dcac649f174e38c6ddba"
   },
   "source": [
    "**QUESTIONAMENTO 2:** Como saber os tipos de notícias falsas. O que são Farsas, ou \"hoaxes\", Cunho humorístico, Boatos?\n",
    "\n",
    "\n",
    "**RESPOSTA:** Os dados deste dataset estão separados por: discurso de ódio, linguagem ofensiva e neutro. Eles são numerados de 1 a até no máximo 8, em relação ao número de usuários do CF (CrowdFlower), que julgaram o conteúdo."
   ]
  },
  {
   "cell_type": "markdown",
   "metadata": {
    "_uuid": "d906a2fbfc02662219a15cbd590ac73ed4115634"
   },
   "source": [
    "**QUESTIONAMENTO 3:** Como evitar palavras repetida com inicial Maíscula e Minúscula?\n",
    "\n",
    "\n",
    "**RESPOSTA:** A primeira etapa de pré-processamento que faremos é transformar nossos tweets em minúsculas. Isso evita conter várias cópias das mesmas palavras. Por exemplo, ao calcular a contagem de palavras, \"Analytics\" e \"analytics\" serão considerados palavras diferentes.\n"
   ]
  },
  {
   "cell_type": "markdown",
   "metadata": {
    "_uuid": "217c0b192e6d8fb291eeb2bf9993349db9145926"
   },
   "source": [
    "**QUESTIONAMENTO 4:** Porque definir as palavras de paradas, conhecido como stopwords?\n",
    "\n",
    "\n",
    "**RESPOSTA:** Stopwords - palavras de paradas. São palavras que podem ser consideradas irrelevantes para o conjunto de resultados, entretanto, utilizaremos principalmente para nos dar uma noção de negação a ofensa."
   ]
  },
  {
   "cell_type": "markdown",
   "metadata": {
    "_uuid": "b3d2d704b2096e6f06114462aa5eb97ff5181b06",
    "hide_input": true
   },
   "source": [
    "**QUESTIONAMENTO 5:** Como mapear distribuição de frequência de frases, expressões, pronomes, sujeito?\n",
    "\n",
    "\n",
    "**RESPOSTA:** Utilizaremos a biblioteca Natural Language Toolkit — NLTK"
   ]
  },
  {
   "cell_type": "markdown",
   "metadata": {
    "_uuid": "a15111d19dc08227e06f0d42392227320b0b27fc"
   },
   "source": [
    "**QUESTIONAMENTO 6:** O que é um bom valor nGram e como devo levar isso em conta ao usar uma ferramenta como o TextBlob?\n",
    "\n",
    "\n",
    "\n",
    "**RESPOSTA:** Stopwords são palavras que podem ser consideradas irrelevantes para o conjunto de resultados. Exemplos: as, e, os, de, para, com, sem, foi. E como estamos fazendo análise de sentimentos e ofensas, fazer utilização do método de stopwords irá mudar a sentença das frases, por isso não iremos utilizar.\n",
    "\n"
   ]
  },
  {
   "cell_type": "markdown",
   "metadata": {
    "_uuid": "855f55da9a5f570965d5e9170b2f73f7c6f08789"
   },
   "source": [
    "***"
   ]
  },
  {
   "cell_type": "markdown",
   "metadata": {
    "_uuid": "4d783016556bd67e75f597be19af5858b12af3b6",
    "hide_input": true
   },
   "source": [
    "> ```\n",
    "@inproceedings{hateoffensive, \n",
    "  title={Automated Hate Speech Detection and the Problem of Offensive Language}, \n",
    "  author={Davidson, Thomas and Warmsley, Dana and Macy, Michael and Weber, Ingmar}, \n",
    "  booktitle={Proceedings of the 11th International AAAI Conference on Weblogs and Social Media}, \n",
    "  series={ICWSM '17}, \n",
    "  year={2017}, \n",
    "  location = {Montreal, Canada} \n",
    "  }\n",
    "> ```"
   ]
  },
  {
   "cell_type": "markdown",
   "metadata": {
    "_uuid": "09813e73eb6c590c8e77e73870208ae86bb79fd2"
   },
   "source": [
    "Repositório para Thomas Davidson, Dana Warmsley, Michael Macy e Ingmar Weber. 2017. \"Detecção automática de fala de ódio e o problema da linguagem ofensiva\". ICWSM. Você leu o artigo [aqui](https://aaai.org/ocs/index.php/ICWSM/ICWSM17/paper/view/15665) ou a nossa pré-impressão no [Arxiv](https://arxiv.org/abs/1703.04009) . Você pode encontrar mais informações na nossa [página do Github](https://github.com/t-davidson/hate-speech-and-offensive-language) ."
   ]
  },
  {
   "cell_type": "markdown",
   "metadata": {
    "_uuid": "9ca16f2b6b1795832d3945ec63dcd994ad04c7ef"
   },
   "source": [
    "***"
   ]
  }
 ],
 "metadata": {
  "colab": {
   "name": "Classificação_tweets.ipynb",
   "provenance": [],
   "version": "0.3.2"
  },
  "kernelspec": {
   "display_name": "Python 3",
   "language": "python",
   "name": "python3"
  },
  "language_info": {
   "codemirror_mode": {
    "name": "ipython",
    "version": 3
   },
   "file_extension": ".py",
   "mimetype": "text/x-python",
   "name": "python",
   "nbconvert_exporter": "python",
   "pygments_lexer": "ipython3",
   "version": "3.6.8"
  }
 },
 "nbformat": 4,
 "nbformat_minor": 1
}
