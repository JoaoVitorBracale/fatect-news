{
 "cells": [
  {
   "cell_type": "markdown",
   "metadata": {},
   "source": [
    "<p>&nbsp;</p>\n",
    "</p><h1 style=\"text-align: center;\"><strong>Detecção de fake news com aprendizado de redes profundas</strong></h1>\n",
    "<p>&nbsp;</p><p>&nbsp;</p>"
   ]
  },
  {
   "cell_type": "markdown",
   "metadata": {},
   "source": [
    "</p><h4 style=\"text-align: center;\"><strong>Proposta de Tema para Trabalho de Conclusão do Curso de Especialização em Ciência de Dados.</strong></h4>"
   ]
  },
  {
   "cell_type": "markdown",
   "metadata": {},
   "source": [
    "</p><h3 style=\"text-align: center;\"><strong>Faculdade de Engenharia de Sorocaba</strong></h3>"
   ]
  },
  {
   "cell_type": "markdown",
   "metadata": {},
   "source": [
    "Proposto por:\n",
    "\n",
    "Alex Cozer Abrantes RA:183150\n",
    "\n",
    "Bruno Alves Comitre RA:183141"
   ]
  },
  {
   "cell_type": "markdown",
   "metadata": {},
   "source": [
    "***"
   ]
  },
  {
   "cell_type": "markdown",
   "metadata": {},
   "source": [
    "# 1. Motivação:"
   ]
  },
  {
   "cell_type": "markdown",
   "metadata": {},
   "source": [
    "<p style=\"text-align: justify;\">Atualmente estamos num período conturbado em todo mundo. Em períodos como de eleição e combate a desigualdade, estamos se alimentando com informação que muitas das vezes são notícias falsas, as chamadas de \"FAKE NEWS\".</p>\n",
    "<p style=\"text-align: justify;\">Com o avanço das mídias sociais ficou fácil expôr as opiniões e se ocultar delas, e não é dificil encontrar algum grupo disseminando ataques com notícias enganosas e polêmicas, ou muita das vezes racistas e preconceituosas. Esse tipo de mensagem sempre se destina a desfavorecer grupos de forma potencialmente prejudicial, como celebridades ou pessoas ligadas a governo, entidade governamental ou privada. Mas, como identificar uma notícia falsa? Como impedir uma dissiminação viral? O que constitui o discurso de ódio?</p>"
   ]
  },
  {
   "cell_type": "markdown",
   "metadata": {},
   "source": [
    "# 2. Objetivos:"
   ]
  },
  {
   "cell_type": "markdown",
   "metadata": {},
   "source": [
    "<p style=\"text-align: justify;\">\n",
    "    O objetivo desse estudo é desenvolver um algorítmo de processamento de línguagem natural, conhecido como NLP ( Natural Linguage Processing ). Esse tipo de algoritmo nos ajuda a resolver problemas da geração e compreensão automática de línguas humanas naturais.</p>\n",
    "<p style=\"text-align: justify;\">O desafio será criar um modelo em inteligência artificial para reconhecimento de línguagem humana ou natural sobre um conjunto de dados que contenha textos, e deverá ser capaz de identificar se o texto se referência a notícia verdadeira ou se trata-se de uma \"fake news\".</p>"
   ]
  },
  {
   "cell_type": "markdown",
   "metadata": {},
   "source": [
    "# 3. Fonte de Dados:"
   ]
  },
  {
   "cell_type": "markdown",
   "metadata": {},
   "source": [
    "<p style=\"text-align: justify;\">\n",
    "    No início dos estudos nosso desafio era extrair tais informações por meio de scraping em sites jornalísticos e blogs, mas, entendemos que a demanda de tempo seria grande e o foco do trabalho é o desenvolvendo de um modelo para aprendizado de máquina que seja capaz de identificar uma notícia falsa, então a tarefa de scraping foi cancelada e procuramos encontrar algum conjunto de dados que atenda a estrutura que havíamos planejado: </p>\n",
    "<pre>\n",
    "{\n",
    " \"article\": {\n",
    "   \"id\": \"number sequencial\",\n",
    "   \"type\": \"object\",\n",
    "   \"url\": \"string\",\n",
    "   \"base_url\": \"string\",\n",
    "   \"main_language\": \"string\",\n",
    "   \"authors\": \"string\",\n",
    "   \"title\": \"string\",\n",
    "   \"subtitle\": \"string\",\n",
    "   \"body\": {\n",
    "        \"paragraphs\": \"qtdy paragraphs\",\n",
    "        \"paragraphs_body\": \"array each paragraphs\",\n",
    "        \"paragraphs_main_entities\": \"array each main entities\",\n",
    "        \"number_of_words\": \"string\",\n",
    "        \"tags\": \"string\",\n",
    "        \"images_url\": \"string\",\n",
    "        \"image_legends\": \"string\",\n",
    "        \"datetime\": \"string\"\n",
    "    }\n",
    " }\n",
    "}\n",
    "</pre>\n",
    "<p style=\"text-align: justify;\">Segundo Victoria L. Rubin et al. 9 pontos são importantes para a coleta dos dados:</p>\n",
    "<p style=\"text-align: justify;\">\n",
    "<li>\n",
    "    <ul>- Paridade de notícias verdadeiras e falsas</ul>\n",
    "    <ul>- Notícias em versão texto</ul>\n",
    "    <ul>- Possibilidade de confirmar a verdade</ul>\n",
    "    <ul>- Homogeneidade no tamanho dos artigos</ul>\n",
    "    <ul>- Homogeneidade no estilo de escrita</ul>\n",
    "    <ul>- Janela de tempo bem definida para coleta</ul>\n",
    "    <ul>- Definir o estilo de notícia</ul>\n",
    "    <ul>- Fatores pragmáticos, como custo de aquisição e disponibilidade das notícias</ul>\n",
    "    <ul>- Definir idioma e cultura das notícias</ul>\n",
    "</li>\n",
    "</p>\n",
    "<p style=\"text-align: justify;\"> A base dos estudos estão nos conjuntos de dados extraídos por meio dos sites abaixo, no qual se encontram pesquisas com dados de notícias de âmbito político falsos ou verdadeiros. Estas pesquisas estão no idioma Inglês e portanto, todo o estudo será com base neste idioma. \n",
    "<p style=\"text-align: justify;\">\n",
    "<li>\n",
    "    <ul><div class=\"alert alert-danger\" role=\"alert\">\n",
    "          <a href=\"https://www.kaggle.com/mrisdal/fake-news\"><b>Getting Real about Fake News</b></a> - 13k de dados extraídos na web com texto e metadados de fontes de notícias falsas e tendenciosas.\n",
    "        </div>\n",
    "    </ul>\n",
    "    <ul><div class=\"alert alert-danger\" role=\"alert\">\n",
    "          <a href=\"https://www.kaggle.com/c/fake-news/data\"><b>Fake News</b></a> - 20k de dados extraídos na web rotulados como confiável e não confiável.\n",
    "        </div>\n",
    "    </ul>\n",
    "</li>\n",
    "<br />\n",
    "<p><b>Schema json do conjunto de dados:</b></p>\n",
    "<pre>\n",
    "{\n",
    " \"article\": {\n",
    "   \"id\": \"number sequencial\",\n",
    "   \"author\": \"string\",\n",
    "   \"title\": \"string\",\n",
    "   \"text\": \"string\",\n",
    "   \"target\": \"boolean\"\n",
    " }\n",
    "}\n",
    "</pre>"
   ]
  },
  {
   "cell_type": "markdown",
   "metadata": {},
   "source": [
    "<div class=\"alert alert-block alert-info\">\n",
    "<b>Dica:</b> Os conjuntos de dados estão dentro da pasta Datasets\n",
    "</div>"
   ]
  },
  {
   "cell_type": "markdown",
   "metadata": {},
   "source": [
    "# Referências"
   ]
  },
  {
   "cell_type": "markdown",
   "metadata": {},
   "source": [
    "[1] SANTANA, Felipe. Fake news, notícias em texto e oportunidades. 2018. Disponível em: <http://minerandodados.com.br/index.php/2018/10/09/fake-news-noticias-em-texto-e-oportunidades/>. Acesso em: 12 out. 2018.\n",
    "\n",
    "[2] PEREZ-ROSAS, Verônica et al. Automatic Detection of Fake News. 2016. 10 f. Department of Psychology (Computer Science and Engineering,) - University of Michigan, [S.l.], 2016.\n",
    "\n",
    "[3] W. PENNEBAKER, James. Lying Words: Predicting Deception From Linguistic Styles. In: L. NEWMAN, Mathew et al. Lying Words: Predicting Deception From Linguistic Styles. 2003. ed. [S.l.]: PSPB, 2009. p. 665-675. v. 1.\n",
    "\n",
    "[4] PEREZ-ROSAS, Verônica; MIHALCEA, Rada. Experiments in Open Domain Deception Detection. 2008. 6 p. Computer Science (Computer Science and Engineering) - University of Michigan, [S.l.], 2008.\n",
    "\n",
    "[5] DA ROCHA, Bernardo Abbad et al. O avanço das fake news e sua retratação na mídia de referência. 2018. 15 p. Sociedade Brasileira de Estudos Interdisciplinares da Comunicação (Congresso de Ciências da Comunicação na Região Sul) - Universidade Federal de Santa Maria, Santa Maria, RS, Cascavel-PR, 2018.\n",
    "\n",
    "[6] RUBIN, Victoria L. et al. Fake News or Truth? Using Satirical Cues to Detect Potentially Misleading News. 2015. 11 p. Language and Information Technology Research Lab (Faculty of Information and Media Studies) - University of Western Ontario, London, Ontario, CANADA, 2015.\n",
    "\n",
    "[7] SHAFQAT, Wafa et al. The Language of Deceivers: Linguistic Features of Crowdfunding Scams. 2015. 2 p. Sangmyung University (Sangmyung University)- Sangmyung University, Cheonan, South Korea, 2015.\n",
    "\n",
    "[8] CONROY, Niall J.; RUBIN, Victoria L.; CHEN, Yimin. Automatic Deception Detection: Methods for Finding Fake News. 2014. 4 f. Language and Information Technology Research Lab (LIT.RL) (Faculty of Information and Media Studies) - University of Western Ontario, London, Ontario, CANADA, 2014.\n",
    "\n",
    "[9] DAVIDSON, Thomas et al. Automated Hate Speech Detection and the Problem of Offensive Language. 2013. 4 f. Department of Applied Mathematics (Qatar Computing Research Institute) - Cornell University, 3Department of Information Science, Ithaca, NY, USA, 2013."
   ]
  },
  {
   "cell_type": "code",
   "execution_count": null,
   "metadata": {},
   "outputs": [],
   "source": []
  }
 ],
 "metadata": {
  "kernelspec": {
   "display_name": "Python 3",
   "language": "python",
   "name": "python3"
  },
  "language_info": {
   "codemirror_mode": {
    "name": "ipython",
    "version": 3
   },
   "file_extension": ".py",
   "mimetype": "text/x-python",
   "name": "python",
   "nbconvert_exporter": "python",
   "pygments_lexer": "ipython3",
   "version": "3.7.1"
  }
 },
 "nbformat": 4,
 "nbformat_minor": 2
}
