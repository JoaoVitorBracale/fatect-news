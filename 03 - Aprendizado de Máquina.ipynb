{
 "cells": [
  {
   "cell_type": "markdown",
   "metadata": {
    "colab_type": "text",
    "id": "TqV8VH_OdqTM"
   },
   "source": [
    "<p>&nbsp;</p>\n",
    "</p><h1 style=\"text-align: center;\"><strong>DETEC&Ccedil;&Atilde;O AUTUMATIZADA DE FAKE NEWS</strong></h1>\n",
    "<h1 style=\"text-align: center;\"><strong>E O PROBLEMA DA LINGUAGEM OFENSIVA</strong></h1>\n",
    "<p>&nbsp;</p><p>&nbsp;</p>"
   ]
  },
  {
   "cell_type": "markdown",
   "metadata": {
    "colab_type": "text",
    "id": "bRBk4PjedqTS"
   },
   "source": [
    "</p><h4 style=\"text-align: center;\"><strong>Proposta de Tema para Trabalho de Conclusão do Curso de Especialização em Ciência de Dados.</strong></h4>"
   ]
  },
  {
   "cell_type": "markdown",
   "metadata": {
    "colab_type": "text",
    "id": "c1pQPFNhdqTV"
   },
   "source": [
    "</p><h3 style=\"text-align: center;\"><strong>Faculdade de Engenharia de Sorocaba - FACENS</strong></h3>"
   ]
  },
  {
   "cell_type": "markdown",
   "metadata": {
    "colab_type": "text",
    "id": "OqneZ-BPdqTY"
   },
   "source": [
    "Proposto por:\n",
    "\n",
    "Alex Cozer Abrantes RA:183150\n",
    "\n",
    "Bruno Alves Comitre RA:183141"
   ]
  },
  {
   "cell_type": "markdown",
   "metadata": {
    "colab_type": "text",
    "id": "_8ICgHkadqTb"
   },
   "source": [
    "***"
   ]
  },
  {
   "cell_type": "markdown",
   "metadata": {
    "colab_type": "text",
    "id": "0qymbTMWdqTg"
   },
   "source": [
    "# Índice"
   ]
  },
  {
   "cell_type": "markdown",
   "metadata": {
    "colab_type": "text",
    "id": "3ymnXx94dqTk"
   },
   "source": [
    "<ul>\n",
    "    <li><a href='#imports'>1. Imports</a></li>\n",
    "    <li><a href='#recebendo_dados'>2. Recebendo Conjunto de Dados</a></li>\n",
    "    <li><a href='#classificacao_variaveis'>3. Classificação da Variáveis</a></li>\n",
    "    <li><a href='#dicionario_dados'>4. Dicionário dos Dados</a></li>\n",
    "    <li><a href='#conjunto_dados'>5. Perfil do Conjunto de Dados</a></li>\n",
    "    <li><a href='#aprendizado_deep'>6. Aprendizado de Máquina com Deep Learning</a></li>\n",
    "    <ul>\n",
    "        <li><a href='#resultado_deep'>6.1 Resultado</a></li>\n",
    "    </ul>\n",
    "    <li><a href='#testando'>7. Testando Modelo</a></li>\n",
    "</ul>"
   ]
  },
  {
   "cell_type": "markdown",
   "metadata": {
    "colab_type": "text",
    "id": "hpzPjxP9dqTn"
   },
   "source": [
    "<a id='imports'></a>\n",
    "<h2><strong>1. Imports</strong></h2>"
   ]
  },
  {
   "cell_type": "code",
   "execution_count": 1,
   "metadata": {
    "colab": {},
    "colab_type": "code",
    "id": "Jd0PGahidqTp"
   },
   "outputs": [],
   "source": [
    "import numpy as np\n",
    "import pandas as pd\n",
    "from sklearn.model_selection import train_test_split"
   ]
  },
  {
   "cell_type": "markdown",
   "metadata": {
    "colab_type": "text",
    "id": "HP7kYBpGdqT5"
   },
   "source": [
    "<a id='recebendo_dados'></a>\n",
    "<h2><strong>2. Recebendo Conjunto de Dados</strong></h2>"
   ]
  },
  {
   "cell_type": "code",
   "execution_count": 2,
   "metadata": {
    "colab": {},
    "colab_type": "code",
    "id": "Vf9u8PiOdqT9"
   },
   "outputs": [],
   "source": [
    "path_train = 'train.csv'\n",
    "\n",
    "train_data = pd.read_csv(path_train, encoding='utf-8')"
   ]
  },
  {
   "cell_type": "markdown",
   "metadata": {
    "colab_type": "text",
    "id": "Eie4Lq_IdqUE"
   },
   "source": [
    "<a id='classificacao_variaveis'></a>\n",
    "<h2><strong>3. Classifica&ccedil;&atilde;o da Vari&aacute;veis</strong></h2>"
   ]
  },
  {
   "cell_type": "code",
   "execution_count": 3,
   "metadata": {
    "colab": {
     "base_uri": "https://localhost:8080/",
     "height": 206
    },
    "colab_type": "code",
    "id": "A23OzhqMdqUH",
    "outputId": "4b24b6fb-29d6-4765-d559-d37f8a6740af"
   },
   "outputs": [
    {
     "data": {
      "text/html": [
       "<div>\n",
       "<style scoped>\n",
       "    .dataframe tbody tr th:only-of-type {\n",
       "        vertical-align: middle;\n",
       "    }\n",
       "\n",
       "    .dataframe tbody tr th {\n",
       "        vertical-align: top;\n",
       "    }\n",
       "\n",
       "    .dataframe thead th {\n",
       "        text-align: right;\n",
       "    }\n",
       "</style>\n",
       "<table border=\"1\" class=\"dataframe\">\n",
       "  <thead>\n",
       "    <tr style=\"text-align: right;\">\n",
       "      <th></th>\n",
       "      <th>Variável</th>\n",
       "      <th>Classificação</th>\n",
       "    </tr>\n",
       "  </thead>\n",
       "  <tbody>\n",
       "    <tr>\n",
       "      <th>0</th>\n",
       "      <td>id</td>\n",
       "      <td>Nominal Qualitativo</td>\n",
       "    </tr>\n",
       "    <tr>\n",
       "      <th>1</th>\n",
       "      <td>title</td>\n",
       "      <td>Nominal Qualitativo</td>\n",
       "    </tr>\n",
       "    <tr>\n",
       "      <th>2</th>\n",
       "      <td>author</td>\n",
       "      <td>Nominal Qualitativo</td>\n",
       "    </tr>\n",
       "    <tr>\n",
       "      <th>3</th>\n",
       "      <td>text</td>\n",
       "      <td>Nominal Qualitativo</td>\n",
       "    </tr>\n",
       "    <tr>\n",
       "      <th>4</th>\n",
       "      <td>label</td>\n",
       "      <td>Quantitativo Discreto</td>\n",
       "    </tr>\n",
       "  </tbody>\n",
       "</table>\n",
       "</div>"
      ],
      "text/plain": [
       "  Variável          Classificação\n",
       "0       id    Nominal Qualitativo\n",
       "1    title    Nominal Qualitativo\n",
       "2   author    Nominal Qualitativo\n",
       "3     text    Nominal Qualitativo\n",
       "4    label  Quantitativo Discreto"
      ]
     },
     "execution_count": 3,
     "metadata": {},
     "output_type": "execute_result"
    }
   ],
   "source": [
    "table = [[\"id\",\"Nominal Qualitativo\"],[\"title\",\"Nominal Qualitativo\"],\n",
    "         [\"author\",\"Nominal Qualitativo\"],[\"text\",\"Nominal Qualitativo\"],\n",
    "         [\"label\",\"Quantitativo Discreto\"]]\n",
    "\n",
    "filing = pd.DataFrame(table, columns=[\"Variável\", \"Classificação\"])\n",
    "filing"
   ]
  },
  {
   "cell_type": "markdown",
   "metadata": {
    "colab_type": "text",
    "id": "FexNEBledqUO"
   },
   "source": [
    "<a id='dicionario_dados'></a>\n",
    "<h2><strong>4. Dicion&aacute;rio dos Dados</strong></h2>"
   ]
  },
  {
   "cell_type": "markdown",
   "metadata": {
    "colab_type": "text",
    "id": "JoII-P7rdqUR"
   },
   "source": [
    "- **ID:** ID exclusivo para um artigo de notícias\n",
    "\n",
    "\n",
    "- **TITLE:** título de uma notícia\n",
    "\n",
    "\n",
    "- **AUTHOR:** autor da notícia\n",
    "\n",
    "\n",
    "- **TEXT:** texto do artigo (pode estar incompleto)\n",
    "\n",
    "\n",
    "- **LABEL:** rótulo que marca se a notícia é potencialmente não confiável\n",
    " - 1: não confiável\n",
    " - 0: confiável"
   ]
  },
  {
   "cell_type": "markdown",
   "metadata": {
    "colab_type": "text",
    "id": "Fx0IWRkLdqUS"
   },
   "source": [
    "<a id='conjunto_dados'></a>\n",
    "<h2><strong>5. Perfil do Conjunto de Dados</strong></h2>"
   ]
  },
  {
   "cell_type": "markdown",
   "metadata": {
    "colab_type": "text",
    "id": "0W6HycLqdqUT"
   },
   "source": [
    "<p>Visualizando os cinco primeiros registros</p>"
   ]
  },
  {
   "cell_type": "code",
   "execution_count": 4,
   "metadata": {
    "colab": {
     "base_uri": "https://localhost:8080/",
     "height": 98
    },
    "colab_type": "code",
    "id": "c9F-j3ZEdqUX",
    "outputId": "c5db6a03-3a64-421b-f738-559d2f7d6fcc"
   },
   "outputs": [
    {
     "data": {
      "text/html": [
       "<div>\n",
       "<style scoped>\n",
       "    .dataframe tbody tr th:only-of-type {\n",
       "        vertical-align: middle;\n",
       "    }\n",
       "\n",
       "    .dataframe tbody tr th {\n",
       "        vertical-align: top;\n",
       "    }\n",
       "\n",
       "    .dataframe thead th {\n",
       "        text-align: right;\n",
       "    }\n",
       "</style>\n",
       "<table border=\"1\" class=\"dataframe\">\n",
       "  <thead>\n",
       "    <tr style=\"text-align: right;\">\n",
       "      <th></th>\n",
       "      <th>id</th>\n",
       "      <th>title</th>\n",
       "      <th>author</th>\n",
       "      <th>text</th>\n",
       "      <th>label</th>\n",
       "    </tr>\n",
       "  </thead>\n",
       "  <tbody>\n",
       "    <tr>\n",
       "      <th>0</th>\n",
       "      <td>0</td>\n",
       "      <td>House Dem Aide: We Didn’t Even See Comey’s Let...</td>\n",
       "      <td>Darrell Lucus</td>\n",
       "      <td>House Dem Aide: We Didn’t Even See Comey’s Let...</td>\n",
       "      <td>1</td>\n",
       "    </tr>\n",
       "    <tr>\n",
       "      <th>1</th>\n",
       "      <td>1</td>\n",
       "      <td>FLYNN: Hillary Clinton, Big Woman on Campus - ...</td>\n",
       "      <td>Daniel J. Flynn</td>\n",
       "      <td>Ever get the feeling your life circles the rou...</td>\n",
       "      <td>0</td>\n",
       "    </tr>\n",
       "    <tr>\n",
       "      <th>2</th>\n",
       "      <td>2</td>\n",
       "      <td>Why the Truth Might Get You Fired</td>\n",
       "      <td>Consortiumnews.com</td>\n",
       "      <td>Why the Truth Might Get You Fired October 29, ...</td>\n",
       "      <td>1</td>\n",
       "    </tr>\n",
       "    <tr>\n",
       "      <th>3</th>\n",
       "      <td>3</td>\n",
       "      <td>15 Civilians Killed In Single US Airstrike Hav...</td>\n",
       "      <td>Jessica Purkiss</td>\n",
       "      <td>Videos 15 Civilians Killed In Single US Airstr...</td>\n",
       "      <td>1</td>\n",
       "    </tr>\n",
       "    <tr>\n",
       "      <th>4</th>\n",
       "      <td>4</td>\n",
       "      <td>Iranian woman jailed for fictional unpublished...</td>\n",
       "      <td>Howard Portnoy</td>\n",
       "      <td>Print \\nAn Iranian woman has been sentenced to...</td>\n",
       "      <td>1</td>\n",
       "    </tr>\n",
       "  </tbody>\n",
       "</table>\n",
       "</div>"
      ],
      "text/plain": [
       "   id                                              title              author  \\\n",
       "0   0  House Dem Aide: We Didn’t Even See Comey’s Let...       Darrell Lucus   \n",
       "1   1  FLYNN: Hillary Clinton, Big Woman on Campus - ...     Daniel J. Flynn   \n",
       "2   2                  Why the Truth Might Get You Fired  Consortiumnews.com   \n",
       "3   3  15 Civilians Killed In Single US Airstrike Hav...     Jessica Purkiss   \n",
       "4   4  Iranian woman jailed for fictional unpublished...      Howard Portnoy   \n",
       "\n",
       "                                                text  label  \n",
       "0  House Dem Aide: We Didn’t Even See Comey’s Let...      1  \n",
       "1  Ever get the feeling your life circles the rou...      0  \n",
       "2  Why the Truth Might Get You Fired October 29, ...      1  \n",
       "3  Videos 15 Civilians Killed In Single US Airstr...      1  \n",
       "4  Print \\nAn Iranian woman has been sentenced to...      1  "
      ]
     },
     "execution_count": 4,
     "metadata": {},
     "output_type": "execute_result"
    }
   ],
   "source": [
    "train_data.head()"
   ]
  },
  {
   "cell_type": "markdown",
   "metadata": {
    "colab_type": "text",
    "id": "YsBkMTw0dqUe"
   },
   "source": [
    "<p style=\"text-align: justify;\">Vamos criar duas novas colunas, denominadas \"title_author_text\" e \"len_title_author_text\", para armazenar a concatena&ccedil;&atilde;o do t&iacute;tulo, autor, texto e tamanho do recurso.</p>"
   ]
  },
  {
   "cell_type": "code",
   "execution_count": 5,
   "metadata": {
    "colab": {},
    "colab_type": "code",
    "id": "MIo0E0L4dqUj"
   },
   "outputs": [],
   "source": [
    "train_data['title_author_text'] = train_data['title'] + ' ' + train_data['author'] + ' ' + train_data['text']\n",
    "train_data['len_title_author_text'] = [len(str(x)) for x in train_data['title_author_text']]"
   ]
  },
  {
   "cell_type": "code",
   "execution_count": 6,
   "metadata": {
    "colab": {
     "base_uri": "https://localhost:8080/",
     "height": 182
    },
    "colab_type": "code",
    "id": "vL9safIcdqUs",
    "outputId": "455fbd9f-02ff-477b-d770-8a101117d3d5"
   },
   "outputs": [
    {
     "name": "stdout",
     "output_type": "stream",
     "text": [
      "count     20800.000000\n",
      "mean       4301.178654\n",
      "std        5154.196565\n",
      "min           3.000000\n",
      "25%        1275.000000\n",
      "50%        3146.500000\n",
      "75%        6186.250000\n",
      "max      143053.000000\n",
      "Name: len_title_author_text, dtype: float64\n"
     ]
    }
   ],
   "source": [
    "detail = train_data['len_title_author_text'].describe()\n",
    "print(detail)"
   ]
  },
  {
   "cell_type": "markdown",
   "metadata": {
    "colab_type": "text",
    "id": "1oIY260mdqU1"
   },
   "source": [
    "<a id='aprendizado_deep'></a>\n",
    "<h2><strong>6. Aprendizado de Máquina com Deep Learning</strong></h2>"
   ]
  },
  {
   "cell_type": "markdown",
   "metadata": {
    "colab_type": "text",
    "id": "wNxTmDj5dqU4"
   },
   "source": [
    "<p style=\"text-align: justify;\">\n",
    "No primeiro teste foi utilizado Deep Learning para treinar uma rede LSTM (Long Short Term Memory), uma variação de rede neural recorrente (RNN) utilizado em processamento de linguagem natural.\n",
    "</p>\n",
    "<p style=\"text-align: justify;\">\n",
    "Inicialmente o conjunto de dados foi divididos em 80% de treinamento e 20% de teste. O conjunto de dados que têm 15.848 registros, ficou 12.678 registros para treinamento e 3.170 registros para testes.\n",
    "</p>\n",
    "<p style=\"text-align: justify;\">\n",
    "Na tokenização das palavras, definiu-se um dicionário com no máximo 6.550 palavras, resultante valor do 3º quartil obtido na análise descritiva da feature 'len_title_author_text'. Com o auxílio do histograma na etapa de análise exploratória pôde observar a concentração da maior parte dos registros.  As sequências de entrada foram truncadas para ter o mesmo comprimento de 6.550, isso é necessário para executar o cálculo em Keras.\n",
    "</p>\n",
    "<p style=\"text-align: justify;\">\n",
    "O modelo terá duas camadas LSTM, sendo uma com 128 e a outra com 64 unidades de memória <b>(LSTM(128)), (LSTM(64))</b> e adicionado uma camada incorporada que utiliza 32 vetores por palavras <b>(embedding_vector_length = 32)</b>.\n",
    "</p>\n",
    "<p style=\"text-align: justify;\">\n",
    "A escolha de 128 e 64, se refere sobre o número de células utilizadas, pois muitas podem se desajustar e poucas podem se desajustar, então, segundo LSTM pode dar mais potência ao modelo, mas também pode super ajustá-lo. Nesse quesito a atenção é essa nova tecnologia que pode ser aplicada a uma RNN simples, pois, ajuda mais em longas cadeias de dados, como nesse estudo, onde uma RNN normal dá toda a responsabilidade de detectar o sinal para a última célula, gerando assim mais atenção as informações.\n",
    "</p>\n",
    "<p style=\"text-align: justify;\">\n",
    "Para o Keras realizar o treinamento com duas camadas LSTM é necessário utilizar o parâmetro <b>(return_sequences = True)</b> responsável por permitir a conectividade entre camadas LSTM.\n",
    "</p>\n",
    "<p style=\"text-align: justify;\">\n",
    "Como se trata de redes neurais recorrentes, geralmente têm o problema de sobreajuste (overfitting), para diminuir esse problema foi adicionado duas camadas de eliminação <b>(dropout = 0.2)</b>.\n",
    "</p>\n",
    "<p style=\"text-align: justify;\">\n",
    "Em nosso problema queremos descobrir se determinado texto é Confiável ou Não Confiável, ou seja, estamos diante de um problema de classificação. Para realizar as previsões 0 ou 1 para as classes (0 - Não confiável e 1 - Confiável) adicionou-se uma camada densa com 64 neurônios intermediários <b>(Dense(64, activation='relu'))</b>, e um único neurônio de saída com função de ativação sigmóide <b>(Dense(1, activation='sigmoid'))</b>. \n",
    "</p>\n",
    "<p style=\"text-align: justify;\"> \n",
    "Um intermediário totalmente conectado <b>(Dense(64))</b> pode ajudar a lidar com saídas não lineares. E uma classificação binária <b>(Dense(1))</b>, é terminada com a saída, referenciada(1,), assim sendo o fator chave para a compilação das métricas abordadas.\n",
    "</p>\n",
    "<p style=\"text-align: justify;\">\n",
    "As métricas utilizadas nas análises foram o logloss e acurácia e para compilação o algoritmo de otimização do ADAM <b>(loss='binary_crossentropy', optimizer='adam', metrics=['accuracy'])</b>\n",
    "</p>\n",
    "<p style=\"text-align: justify;\">\n",
    "O treinamento será feito em 3 épocas com lote de 64 classificações para espaçar as atualizações de pesos:\n",
    "</p>\n",
    "<b>(X_train_seq, y_train, nb_epoch=3, batch_size=64,validation_data=(X_test_seq,y_test))</b>"
   ]
  },
  {
   "cell_type": "code",
   "execution_count": 7,
   "metadata": {
    "colab": {
     "base_uri": "https://localhost:8080/",
     "height": 35
    },
    "colab_type": "code",
    "id": "MKFEYOzCdqU5",
    "outputId": "151673f6-54cc-4894-c155-c67ba2b47b19"
   },
   "outputs": [
    {
     "name": "stderr",
     "output_type": "stream",
     "text": [
      "Using TensorFlow backend.\n"
     ]
    }
   ],
   "source": [
    "from keras.models import Sequential\n",
    "from keras.layers import Dense\n",
    "from keras.layers import LSTM\n",
    "from keras.layers import Dropout\n",
    "from keras.layers.embeddings import Embedding\n",
    "from keras.preprocessing import sequence\n",
    "from keras.preprocessing.text import Tokenizer\n",
    "\n",
    "# Corrigir seed aleatório para qualidade de reprodução\n",
    "# Este método é chamado quando o RandomState é inicializado.\n",
    "np.random.seed(7)"
   ]
  },
  {
   "cell_type": "code",
   "execution_count": 8,
   "metadata": {
    "colab": {
     "base_uri": "https://localhost:8080/",
     "height": 109
    },
    "colab_type": "code",
    "id": "pQHvCCR9dqU_",
    "outputId": "eb09014b-f5bc-44eb-c97c-218bfb119b5d"
   },
   "outputs": [
    {
     "name": "stdout",
     "output_type": "stream",
     "text": [
      "Dados de Treino - Feature: 16640\n",
      "Dados de Treino - Label: 16640\n",
      " \n",
      "Dados de Teste - Feature: 4160\n",
      "Dados de Teste - Label: 4160\n"
     ]
    }
   ],
   "source": [
    "train_features = train_data['title_author_text']\n",
    "train_targets = train_data['label']\n",
    "\n",
    "X_train, X_test, y_train, y_test = train_test_split(train_features, train_targets, test_size=0.2, random_state=42)\n",
    "\n",
    "print('Dados de Treino - Feature: {}'.format(len(X_train)))\n",
    "print('Dados de Treino - Label: {}'.format(len(y_train)))\n",
    "print(' ')\n",
    "print('Dados de Teste - Feature: {}'.format(len(X_test)))\n",
    "print('Dados de Teste - Label: {}'.format(len(y_test)))"
   ]
  },
  {
   "cell_type": "code",
   "execution_count": 9,
   "metadata": {
    "colab": {},
    "colab_type": "code",
    "id": "Z2LC1ZHwdqVK",
    "scrolled": true
   },
   "outputs": [],
   "source": [
    "num_token = int(detail['75%'])\n",
    "token = Tokenizer(num_words = num_token, filters = '!\"#$%&()*+,-./:;<=>?@[\\\\]^_`{|}~\\t\\n')\n",
    "token.fit_on_texts(X_train.astype(str))"
   ]
  },
  {
   "cell_type": "code",
   "execution_count": 10,
   "metadata": {
    "colab": {},
    "colab_type": "code",
    "id": "LFwGFukWdqVQ"
   },
   "outputs": [],
   "source": [
    "max_review_length = int(detail['75%'])\n",
    "\n",
    "x_train_token = token.texts_to_sequences(X_train.astype(str))\n",
    "x_test_token = token.texts_to_sequences(X_test.astype(str))\n",
    "\n",
    "X_train_seq = sequence.pad_sequences(x_train_token, maxlen=max_review_length)\n",
    "X_test_seq = sequence.pad_sequences(x_test_token, maxlen=max_review_length)"
   ]
  },
  {
   "cell_type": "code",
   "execution_count": 21,
   "metadata": {
    "colab": {
     "base_uri": "https://localhost:8080/",
     "height": 570
    },
    "colab_type": "code",
    "id": "AVdQ6gJ-dqVn",
    "outputId": "a8d492fa-8504-4e34-afd2-99371f643bf9",
    "scrolled": true
   },
   "outputs": [
    {
     "name": "stdout",
     "output_type": "stream",
     "text": [
      "_________________________________________________________________\n",
      "Layer (type)                 Output Shape              Param #   \n",
      "=================================================================\n",
      "embedding_11 (Embedding)     (None, 6186, 32)          197952    \n",
      "_________________________________________________________________\n",
      "lstm_21 (LSTM)               (None, 6186, 128)         82432     \n",
      "_________________________________________________________________\n",
      "dropout_27 (Dropout)         (None, 6186, 128)         0         \n",
      "_________________________________________________________________\n",
      "lstm_22 (LSTM)               (None, 64)                49408     \n",
      "_________________________________________________________________\n",
      "dropout_28 (Dropout)         (None, 64)                0         \n",
      "_________________________________________________________________\n",
      "dense_21 (Dense)             (None, 64)                4160      \n",
      "_________________________________________________________________\n",
      "dropout_29 (Dropout)         (None, 64)                0         \n",
      "_________________________________________________________________\n",
      "dense_22 (Dense)             (None, 1)                 65        \n",
      "=================================================================\n",
      "Total params: 334,017\n",
      "Trainable params: 334,017\n",
      "Non-trainable params: 0\n",
      "_________________________________________________________________\n",
      "None\n",
      "WARNING:tensorflow:From C:\\Users\\cliente\\Anaconda3\\envs\\University\\lib\\site-packages\\tensorflow\\python\\ops\\math_ops.py:3066: to_int32 (from tensorflow.python.ops.math_ops) is deprecated and will be removed in a future version.\n",
      "Instructions for updating:\n",
      "Use tf.cast instead.\n"
     ]
    },
    {
     "name": "stderr",
     "output_type": "stream",
     "text": [
      "C:\\Users\\cliente\\Anaconda3\\envs\\University\\lib\\site-packages\\ipykernel_launcher.py:21: UserWarning: The `nb_epoch` argument in `fit` has been renamed `epochs`.\n"
     ]
    },
    {
     "name": "stdout",
     "output_type": "stream",
     "text": [
      "Train on 16640 samples, validate on 4160 samples\n",
      "Epoch 1/3\n",
      "16640/16640 [==============================] - 5122s 308ms/step - loss: 0.4004 - acc: 0.7989 - val_loss: 0.2237 - val_acc: 0.9156\n",
      "Epoch 2/3\n",
      "16640/16640 [==============================] - 5209s 313ms/step - loss: 0.1676 - acc: 0.9408 - val_loss: 0.1494 - val_acc: 0.9555\n",
      "Epoch 3/3\n",
      "16640/16640 [==============================] - 5107s 307ms/step - loss: 0.2961 - acc: 0.8793 - val_loss: 0.1869 - val_acc: 0.9356\n"
     ]
    }
   ],
   "source": [
    "embedding_vector_length = 32\n",
    "dropout = 0.3\n",
    "batch_size = 64\n",
    "epochs = 3\n",
    "\n",
    "model_lstm = Sequential()\n",
    "model_lstm.add(Embedding(input_dim=num_token, output_dim=embedding_vector_length, input_length=max_review_length))\n",
    "model_lstm.add(LSTM(128,return_sequences=True))\n",
    "model_lstm.add(Dropout(dropout))\n",
    "model_lstm.add(LSTM(64))\n",
    "model_lstm.add(Dropout(dropout))\n",
    "model_lstm.add(Dense(64, activation='relu'))\n",
    "model_lstm.add(Dropout(dropout))\n",
    "model_lstm.add(Dense(1, activation='sigmoid'))\n",
    "model_lstm.compile(loss='binary_crossentropy', optimizer='adam', metrics=['accuracy'] )\n",
    "print(model_lstm.summary())\n",
    "\n",
    "\n",
    "history = model_lstm.fit( X_train_seq, y_train,\n",
    "                         nb_epoch=epochs, batch_size=batch_size,\n",
    "                         validation_data=(X_test_seq,y_test))"
   ]
  },
  {
   "cell_type": "markdown",
   "metadata": {},
   "source": [
    "<p style=\"text-align: justify;\">\n",
    "No primeiro modelo temos uma camada de incorporação antes do LSTM, responsável por armazenar em um vetor as palavras de entrada.\n",
    "</p>\n",
    "<p style=\"text-align: justify;\">\n",
    "A primeira etapa criará uma matriz de embedding_vector_length (32) e terá a matriz max_review_length (6186).\n",
    "</p>\n",
    "<p style=\"text-align: justify;\">\n",
    "Na segunda etapa selecionará uma matriz correspondente de 1x32 para cada palavra.\n",
    "</p>\n",
    "<p style=\"text-align: justify;\">\n",
    "Agora, se considerar uma revisão (lembre-se de que agora são sequências de números), a camada de incorporação repetirá o segundo etapa para cada palavra e fornecerá uma matriz de 6186 x 32.\n",
    "</p>\n",
    "<p style=\"text-align: justify;\">\n",
    "Então, se considerar um conjunto de dados de treino de 16640 análises, o processo terá 16640 x 6186 x 32. Isso será alimentado na camada LSTM.\n",
    "</p>\n",
    "<p style=\"text-align: justify;\">\n",
    "Um modelo é treinado e o histórico de perdas é capturado.\n",
    "</p>"
   ]
  },
  {
   "cell_type": "markdown",
   "metadata": {},
   "source": [
    "**Serializar modelo para JSON**"
   ]
  },
  {
   "cell_type": "code",
   "execution_count": 23,
   "metadata": {},
   "outputs": [],
   "source": [
    "model_json = model_lstm.to_json()\n",
    "with open(\"model_lstm.json\", \"w\") as json_file:\n",
    "    json_file.write(model_json)"
   ]
  },
  {
   "cell_type": "markdown",
   "metadata": {},
   "source": [
    "**Serializar pesos em HDF5**"
   ]
  },
  {
   "cell_type": "code",
   "execution_count": 25,
   "metadata": {},
   "outputs": [
    {
     "name": "stdout",
     "output_type": "stream",
     "text": [
      "Modelo Salvo\n"
     ]
    }
   ],
   "source": [
    "model_lstm.save_weights(\"model_ltsm.h5\")\n",
    "print(\"Modelo Salvo\")"
   ]
  },
  {
   "cell_type": "markdown",
   "metadata": {},
   "source": [
    "**Verificação dos Históricos**"
   ]
  },
  {
   "cell_type": "code",
   "execution_count": 26,
   "metadata": {
    "colab": {
     "base_uri": "https://localhost:8080/",
     "height": 35
    },
    "colab_type": "code",
    "id": "f8VTCrlCdqVs",
    "outputId": "0a395adc-749b-474b-b586-a304358d7733"
   },
   "outputs": [
    {
     "name": "stdout",
     "output_type": "stream",
     "text": [
      "dict_keys(['val_loss', 'val_acc', 'loss', 'acc'])\n"
     ]
    }
   ],
   "source": [
    "print(history.history.keys())"
   ]
  },
  {
   "cell_type": "markdown",
   "metadata": {},
   "source": [
    "**Verificação Resultados modo Gráfico**"
   ]
  },
  {
   "cell_type": "code",
   "execution_count": 28,
   "metadata": {
    "colab": {
     "base_uri": "https://localhost:8080/",
     "height": 573
    },
    "colab_type": "code",
    "id": "lf95JCksdqVz",
    "outputId": "cd42cb08-e478-49c2-9eff-06ade043037b"
   },
   "outputs": [
    {
     "data": {
      "image/png": "[encoded data removed]",
      "text/plain": [
       "<Figure size 432x288 with 1 Axes>"
      ]
     },
     "metadata": {
      "needs_background": "light"
     },
     "output_type": "display_data"
    },
    {
     "data": {
      "image/png": "[encoded data removed]",
      "text/plain": [
       "<Figure size 432x288 with 1 Axes>"
      ]
     },
     "metadata": {
      "needs_background": "light"
     },
     "output_type": "display_data"
    }
   ],
   "source": [
    "import matplotlib.pyplot as plt\n",
    "from matplotlib.legend_handler import HandlerLine2D\n",
    "\n",
    "# resumir o histórico para precisão (accuracy)\n",
    "plt.plot(history.history['acc'])\n",
    "plt.plot(history.history['val_acc'])\n",
    "plt.title('model accuracy')\n",
    "plt.ylabel('acc')\n",
    "plt.xlabel('epoch')\n",
    "plt.legend(['train', 'test'], loc='upper left')\n",
    "plt.show()\n",
    "\n",
    "# resumir o histórico de perda (loss)\n",
    "plt.plot(history.history['loss'])\n",
    "plt.plot(history.history['val_loss'])\n",
    "plt.title('model loss')\n",
    "plt.ylabel('loss')\n",
    "plt.xlabel('epoch')\n",
    "plt.legend(['train', 'test'], loc='upper left')\n",
    "plt.show()"
   ]
  },
  {
   "cell_type": "markdown",
   "metadata": {
    "colab_type": "text",
    "id": "2kXgBm-IdqV8"
   },
   "source": [
    "<a id='resultado_um'></a>\n",
    "<h3><strong>6.1 Resultado</strong></h3>"
   ]
  },
  {
   "cell_type": "code",
   "execution_count": 29,
   "metadata": {
    "colab": {
     "base_uri": "https://localhost:8080/",
     "height": 35
    },
    "colab_type": "code",
    "id": "AUP0Q2XLdqV9",
    "outputId": "03028707-4d47-4ea0-c6f6-23ece7d9d285"
   },
   "outputs": [
    {
     "name": "stdout",
     "output_type": "stream",
     "text": [
      "Accuracy: 93.56%\n"
     ]
    }
   ],
   "source": [
    "scores = model_lstm.evaluate(X_test_seq, y_test, verbose=0)\n",
    "print(\"Accuracy: %.2f%%\" % (scores[1]*100))"
   ]
  },
  {
   "cell_type": "markdown",
   "metadata": {
    "colab_type": "text",
    "id": "aowF7H-KnntL"
   },
   "source": [
    "<a id='testando'></a>\n",
    "<h2><strong>7. Testando Modelo</strong></h2>"
   ]
  },
  {
   "cell_type": "markdown",
   "metadata": {},
   "source": [
    "<p style=\"text-align: justify;\">\n",
    "Para teste da Rede Neural Recorrente, foi criado um pequeno conjunto de dados para testes, composto de 20 notícias, sendo elas 10 notícias consideradas verdades e de meios de comunicação confiáveis como CNN, The New York Times, Aljazeera, Bloomberg, Reuters, e 10 notícias vindo de sites não conhecidos, ou pouco confiáveis como, Viral Cord, The Onion, Real News Right Now, Empire News, National Report.\n",
    "</p>\n",
    "<p style=\"text-align: justify;\">\n",
    "Estas notícias foram retiradas do site chamado FACTITIOUS, uma plataforma de jogos, onde o desafio é através de notícias selecionadas aleatoriamente do site, o seu objetivo é acertar se elas são notícias falsas ou não, e com isso a cada vez que jogamos e a notícia que foi identificada como falsa, nós acessavamos o site e coletavamos a matéria e as informações necessárias para criar o conjunto de dados.\n",
    "</p>\n",
    "<p style=\"text-align: justify;\">\n",
    "Como se trata de Creative Commons, utilizamos todas as 10 noticias retiradas deste site, segue em referência para estudos futuros.\n",
    "</p>\n",
    "<p style=\"text-align: justify;\">\n",
    "A estrutura do conjunto de dados para teste segue abaixo:\n",
    "</p>\n",
    "\n",
    "  id  |  title  |  author  |  text  |    label    |  journal  |\n",
    "----- | ------- | -------- | ------ | ----------- | --------- |\n",
    " 0-20 | notícia | escritor | matéria| fake ou não |   local   |\n",
    "\n"
   ]
  },
  {
   "cell_type": "markdown",
   "metadata": {},
   "source": [
    "**Recebendo Conjunto de Dados**"
   ]
  },
  {
   "cell_type": "code",
   "execution_count": 30,
   "metadata": {},
   "outputs": [
    {
     "data": {
      "text/html": [
       "<div>\n",
       "<style scoped>\n",
       "    .dataframe tbody tr th:only-of-type {\n",
       "        vertical-align: middle;\n",
       "    }\n",
       "\n",
       "    .dataframe tbody tr th {\n",
       "        vertical-align: top;\n",
       "    }\n",
       "\n",
       "    .dataframe thead th {\n",
       "        text-align: right;\n",
       "    }\n",
       "</style>\n",
       "<table border=\"1\" class=\"dataframe\">\n",
       "  <thead>\n",
       "    <tr style=\"text-align: right;\">\n",
       "      <th></th>\n",
       "      <th>id</th>\n",
       "      <th>title</th>\n",
       "      <th>author</th>\n",
       "      <th>text</th>\n",
       "      <th>label</th>\n",
       "      <th>journal</th>\n",
       "    </tr>\n",
       "  </thead>\n",
       "  <tbody>\n",
       "    <tr>\n",
       "      <th>0</th>\n",
       "      <td>0</td>\n",
       "      <td>Bernie Sanders had a heart attack</td>\n",
       "      <td>Deanna Hackney and Caroline Kelly</td>\n",
       "      <td>(CNN)Democratic presidential candidate Sen. Be...</td>\n",
       "      <td>0</td>\n",
       "      <td>cnn</td>\n",
       "    </tr>\n",
       "    <tr>\n",
       "      <th>1</th>\n",
       "      <td>1</td>\n",
       "      <td>Alabama Requires Birth Certificate To Use Publ...</td>\n",
       "      <td>Viral Cords</td>\n",
       "      <td>Alabama is the first country to enact insane b...</td>\n",
       "      <td>1</td>\n",
       "      <td>Viral Cords</td>\n",
       "    </tr>\n",
       "    <tr>\n",
       "      <th>2</th>\n",
       "      <td>2</td>\n",
       "      <td>Iranian Hackers Target Trump Campaign as Threa...</td>\n",
       "      <td>Nicole Perlroth and David E. Sanger</td>\n",
       "      <td>SAN FRANCISCO  The 2020 presidential election...</td>\n",
       "      <td>0</td>\n",
       "      <td>the new york times</td>\n",
       "    </tr>\n",
       "    <tr>\n",
       "      <th>3</th>\n",
       "      <td>3</td>\n",
       "      <td>Buckingham Palace Guards Impressed By First La...</td>\n",
       "      <td>the onion</td>\n",
       "      <td>LONDONSaying the first ladys skills were of ...</td>\n",
       "      <td>1</td>\n",
       "      <td>the onion</td>\n",
       "    </tr>\n",
       "    <tr>\n",
       "      <th>4</th>\n",
       "      <td>4</td>\n",
       "      <td>Los Angeles Tap Water Contains 18% Xanax and 7...</td>\n",
       "      <td>Viral Cords</td>\n",
       "      <td>In new Environmental Protection Agency (EPA) f...</td>\n",
       "      <td>1</td>\n",
       "      <td>Viral Cords</td>\n",
       "    </tr>\n",
       "  </tbody>\n",
       "</table>\n",
       "</div>"
      ],
      "text/plain": [
       "   id                                              title  \\\n",
       "0   0                  Bernie Sanders had a heart attack   \n",
       "1   1  Alabama Requires Birth Certificate To Use Publ...   \n",
       "2   2  Iranian Hackers Target Trump Campaign as Threa...   \n",
       "3   3  Buckingham Palace Guards Impressed By First La...   \n",
       "4   4  Los Angeles Tap Water Contains 18% Xanax and 7...   \n",
       "\n",
       "                                author  \\\n",
       "0    Deanna Hackney and Caroline Kelly   \n",
       "1                          Viral Cords   \n",
       "2  Nicole Perlroth and David E. Sanger   \n",
       "3                            the onion   \n",
       "4                          Viral Cords   \n",
       "\n",
       "                                                text  label  \\\n",
       "0  (CNN)Democratic presidential candidate Sen. Be...      0   \n",
       "1  Alabama is the first country to enact insane b...      1   \n",
       "2  SAN FRANCISCO  The 2020 presidential election...      0   \n",
       "3  LONDONSaying the first ladys skills were of ...      1   \n",
       "4  In new Environmental Protection Agency (EPA) f...      1   \n",
       "\n",
       "              journal  \n",
       "0                 cnn  \n",
       "1         Viral Cords  \n",
       "2  the new york times  \n",
       "3           the onion  \n",
       "4         Viral Cords  "
      ]
     },
     "execution_count": 30,
     "metadata": {},
     "output_type": "execute_result"
    }
   ],
   "source": [
    "path_test = 'resources/datasets/test.csv'\n",
    "test_data = pd.read_csv(path_test, header=0, encoding = 'unicode_escape',sep=';')\n",
    "test_data.head()"
   ]
  },
  {
   "cell_type": "code",
   "execution_count": 31,
   "metadata": {
    "colab": {
     "base_uri": "https://localhost:8080/",
     "height": 182
    },
    "colab_type": "code",
    "id": "JWt8_QpsnsqA",
    "outputId": "0a5b9896-fcde-48cb-f6b9-3274d5cbb690"
   },
   "outputs": [],
   "source": [
    "test_data ['title_author_text'] = test_data ['title'] + ' ' + test_data ['author'] + ' ' + test_data ['text']\n",
    "test_data ['len_title_author_text'] = [len(str(x)) for x in test_data ['title_author_text']]"
   ]
  },
  {
   "cell_type": "markdown",
   "metadata": {},
   "source": [
    "**Detalhes do Dataset**"
   ]
  },
  {
   "cell_type": "code",
   "execution_count": 32,
   "metadata": {},
   "outputs": [
    {
     "name": "stdout",
     "output_type": "stream",
     "text": [
      "count      20.000000\n",
      "mean     3441.100000\n",
      "std      2768.796126\n",
      "min       908.000000\n",
      "25%      1437.500000\n",
      "50%      2155.500000\n",
      "75%      4816.500000\n",
      "max      9677.000000\n",
      "Name: len_title_author_text, dtype: float64\n"
     ]
    }
   ],
   "source": [
    "detail = test_data['len_title_author_text'].describe()\n",
    "print(detail)"
   ]
  },
  {
   "cell_type": "markdown",
   "metadata": {},
   "source": [
    "**Separação**"
   ]
  },
  {
   "cell_type": "code",
   "execution_count": 33,
   "metadata": {},
   "outputs": [],
   "source": [
    "X_test = test_data['title_author_text']\n",
    "Y_test = test_data['label']"
   ]
  },
  {
   "cell_type": "markdown",
   "metadata": {},
   "source": [
    "**Tokenização**"
   ]
  },
  {
   "cell_type": "code",
   "execution_count": 34,
   "metadata": {
    "colab": {},
    "colab_type": "code",
    "id": "ZTVORJaanxF6"
   },
   "outputs": [],
   "source": [
    "num_token = 6186\n",
    "token = Tokenizer(num_words = num_token, filters = '!\"#$%&()*+,-./:;<=>?@[\\\\]^_`{|}~\\t\\n')\n",
    "token.fit_on_texts(X_train.astype(str))"
   ]
  },
  {
   "cell_type": "markdown",
   "metadata": {},
   "source": [
    "**Sequência**"
   ]
  },
  {
   "cell_type": "code",
   "execution_count": 35,
   "metadata": {},
   "outputs": [],
   "source": [
    "max_review_length = 6186\n",
    "\n",
    "X_train_token = token.texts_to_sequences(X_train.astype(str))\n",
    "X_test_token = token.texts_to_sequences(X_test.astype(str))\n",
    "\n",
    "X_train_seq = sequence.pad_sequences(X_train_token, maxlen=max_review_length)\n",
    "X_test_seq = sequence.pad_sequences(X_test_token, maxlen=max_review_length)"
   ]
  },
  {
   "cell_type": "markdown",
   "metadata": {},
   "source": [
    "**Utilizando Modelo**"
   ]
  },
  {
   "cell_type": "code",
   "execution_count": 36,
   "metadata": {
    "colab": {
     "base_uri": "https://localhost:8080/",
     "height": 54
    },
    "colab_type": "code",
    "id": "EHhu0B2pnxyK",
    "outputId": "143507e3-559b-4df6-d0f3-e3cbf046e625"
   },
   "outputs": [
    {
     "name": "stdout",
     "output_type": "stream",
     "text": [
      "Modelo carregado do Arquivo\n"
     ]
    }
   ],
   "source": [
    "from keras.models import model_from_json\n",
    "\n",
    "json_file = open('model_lstm.json', 'r')\n",
    "loaded_model_json = json_file.read()\n",
    "json_file.close()\n",
    "loaded_model = model_from_json(loaded_model_json)\n",
    "\n",
    "loaded_model.load_weights(\"model_ltsm.h5\")\n",
    "print(\"Modelo carregado do Arquivo\")\n",
    "\n",
    "loaded_model.compile(loss='binary_crossentropy', optimizer='adam', metrics=['accuracy'])"
   ]
  },
  {
   "cell_type": "markdown",
   "metadata": {},
   "source": [
    "**Resultado**"
   ]
  },
  {
   "cell_type": "code",
   "execution_count": 37,
   "metadata": {},
   "outputs": [
    {
     "name": "stdout",
     "output_type": "stream",
     "text": [
      "acc: 80.00%\n"
     ]
    }
   ],
   "source": [
    "scores = loaded_model.evaluate(X_test_seq, Y_test, verbose=0)\n",
    "print(\"%s: %.2f%%\" % (loaded_model.metrics_names[1], scores[1]*100))"
   ]
  },
  {
   "cell_type": "markdown",
   "metadata": {},
   "source": [
    "**Predição**"
   ]
  },
  {
   "cell_type": "code",
   "execution_count": 38,
   "metadata": {
    "colab": {},
    "colab_type": "code",
    "id": "5GHLFN4Wn0pg"
   },
   "outputs": [],
   "source": [
    "predictions = loaded_model.predict_classes(X_test_seq)"
   ]
  },
  {
   "cell_type": "code",
   "execution_count": 39,
   "metadata": {
    "colab": {},
    "colab_type": "code",
    "id": "CWg7f-Dcn3yr"
   },
   "outputs": [
    {
     "name": "stdout",
     "output_type": "stream",
     "text": [
      "(20, 1)\n"
     ]
    }
   ],
   "source": [
    "print(predictions.shape)"
   ]
  },
  {
   "cell_type": "code",
   "execution_count": 40,
   "metadata": {},
   "outputs": [
    {
     "data": {
      "text/plain": [
       "[array([0]),\n",
       " array([1]),\n",
       " array([0]),\n",
       " array([0]),\n",
       " array([1]),\n",
       " array([1]),\n",
       " array([1]),\n",
       " array([1]),\n",
       " array([1]),\n",
       " array([1]),\n",
       " array([1]),\n",
       " array([0]),\n",
       " array([1]),\n",
       " array([1]),\n",
       " array([0]),\n",
       " array([1]),\n",
       " array([0]),\n",
       " array([1]),\n",
       " array([0]),\n",
       " array([0])]"
      ]
     },
     "execution_count": 40,
     "metadata": {},
     "output_type": "execute_result"
    }
   ],
   "source": [
    "rounded = [np.round(x) for x in predictions]\n",
    "rounded"
   ]
  },
  {
   "cell_type": "markdown",
   "metadata": {
    "colab_type": "text",
    "id": "qEEM2Al7dqWE"
   },
   "source": [
    "<p style=\"text-align: justify;\">\n",
    "Os dados tem a seguinte informação:\n",
    "</p>\n",
    "\n",
    "- 0 Notícia Verdadeira\n",
    "- 1 Notícia Falsa\n",
    "\n",
    "\n",
    "  id |   Dado do Dataset  |  Resultado do Teste  | \n",
    " --- | ------------------ | -------------------- |\n",
    "   0 |          0         |           0          |\n",
    "   1 |          1         |           1          |\n",
    "   2 |          0         |           0          |\n",
    "   3 |          1         |           0          |\n",
    "   4 |          1         |           1          |\n",
    "   5 |          0         |           1          |\n",
    "   6 |          1         |           1          |\n",
    "   7 |          1         |           1          |\n",
    "   8 |          0         |           1          |\n",
    "   9 |          1         |           1          |\n",
    "  10 |          1         |           1          |\n",
    "  11 |          0         |           0          |\n",
    "  12 |          0         |           1          |\n",
    "  13 |          1         |           1          |\n",
    "  14 |          0         |           0          |\n",
    "  15 |          1         |           1          |\n",
    "  16 |          0         |           0          |\n",
    "  17 |          1         |           1          |\n",
    "  18 |          0         |           0          |\n",
    "  19 |          0         |           0          |\n",
    "  \n",
    "<p style=\"text-align: justify;\">\n",
    "Conforme visto acima obtivemos 16 acertos de 20. Um resultado satisfatório para o projeto proposto.\n",
    "</p>"
   ]
  },
  {
   "cell_type": "markdown",
   "metadata": {
    "colab_type": "text",
    "id": "4Ki5dDUfdqWG"
   },
   "source": [
    "<h2>&nbsp;</h2>"
   ]
  },
  {
   "cell_type": "markdown",
   "metadata": {
    "colab_type": "text",
    "id": "R0y0X7exdqWI"
   },
   "source": [
    "<h2><p style=\"text-align: left;\"><strong>REFER&Ecirc;NCIAS</strong></p></h2>"
   ]
  },
  {
   "cell_type": "markdown",
   "metadata": {
    "colab_type": "text",
    "id": "wUqSUcV6dqWL"
   },
   "source": [
    "<p style=\"text-align: justify;\">[1] UTK Machine Learning Club. Fake News - Build a system to identify unreliable news articles. 2017. Dispon&iacute;vel em: &lt;https://www.kaggle.com/c/fake-news/data.&gt;. Acesso em: 28 jul. 2019.</p>\n",
    "\n",
    "<p style=\"text-align: justify;\">[2] BROWNLEE, Jason. Display Deep Learning Model Training History in Keras. Dispon&iacute;vel em: &lt;https://machinelearningmastery.com/display-deep-learning-model-training-history-in-keras/. Acesso em: 02 out. 2019.</p>\n",
    "\n",
    "<p style=\"text-align: justify;\">[3] AQUINO, Bruno. 5-fold LSTM Attention (fully commented). Dispon&iacute;vel em: &lt;https://www.kaggle.com/braquino/5-fold-lstm-attention-fully-commented-0-694/. Acesso em: 03 out. 2019.</p>\n",
    "\n",
    "<p style=\"text-align: justify;\">[4] AU Game Lab, the JoLT program. factitious project. Dispon&iacute;vel em: &lt;http://factitious.augamestudio.com/#/. Acesso em: 04 out. 2019.</p>\n",
    "\n",
    "<p style=\"text-align: justify;\">[5] SUHANKO, Djames. Como salvar um model treinado com Keras. Dispon&iacute;vel em: &lt;https://www.dobitaobyte.com.br/como-salvar-um-model-treinado-com-keras/. Acesso em: 04 out. 2019.</p>"
   ]
  },
  {
   "cell_type": "markdown",
   "metadata": {
    "colab_type": "text",
    "id": "ywd1ROxPdqWN"
   },
   "source": [
    "<h2>&nbsp;</h2>"
   ]
  },
  {
   "cell_type": "markdown",
   "metadata": {},
   "source": [
    "*INSTALLED VERSIONS*"
   ]
  },
  {
   "cell_type": "code",
   "execution_count": 41,
   "metadata": {},
   "outputs": [
    {
     "name": "stdout",
     "output_type": "stream",
     "text": [
      "\n",
      "INSTALLED VERSIONS\n",
      "------------------\n",
      "commit: None\n",
      "python: 3.7.1.final.0\n",
      "python-bits: 64\n",
      "OS: Windows\n",
      "OS-release: 10\n",
      "machine: AMD64\n",
      "processor: AMD64 Family 23 Model 8 Stepping 2, AuthenticAMD\n",
      "byteorder: little\n",
      "LC_ALL: None\n",
      "LANG: None\n",
      "LOCALE: None.None\n",
      "\n",
      "pandas: 0.24.2\n",
      "pytest: 5.0.1\n",
      "pip: 19.1.1\n",
      "setuptools: 41.0.1\n",
      "Cython: None\n",
      "numpy: 1.16.4\n",
      "scipy: 1.2.1\n",
      "pyarrow: None\n",
      "xarray: None\n",
      "IPython: 7.5.0\n",
      "sphinx: None\n",
      "patsy: None\n",
      "dateutil: 2.8.0\n",
      "pytz: 2019.1\n",
      "blosc: None\n",
      "bottleneck: None\n",
      "tables: None\n",
      "numexpr: None\n",
      "feather: None\n",
      "matplotlib: 3.1.1\n",
      "openpyxl: None\n",
      "xlrd: None\n",
      "xlwt: None\n",
      "xlsxwriter: None\n",
      "lxml.etree: 4.3.4\n",
      "bs4: None\n",
      "html5lib: None\n",
      "sqlalchemy: None\n",
      "pymysql: None\n",
      "psycopg2: None\n",
      "jinja2: 2.10.1\n",
      "s3fs: None\n",
      "fastparquet: None\n",
      "pandas_gbq: None\n",
      "pandas_datareader: None\n",
      "gcsfs: None\n"
     ]
    }
   ],
   "source": [
    "pd.show_versions()"
   ]
  },
  {
   "cell_type": "markdown",
   "metadata": {},
   "source": [
    "<h2>&nbsp;</h2>"
   ]
  },
  {
   "cell_type": "markdown",
   "metadata": {},
   "source": [
    "***"
   ]
  }
 ],
 "metadata": {
  "colab": {
   "name": "03 - Aprendizado de Máquina.ipynb",
   "provenance": [],
   "toc_visible": true
  },
  "kernelspec": {
   "display_name": "Python 3",
   "language": "python",
   "name": "python3"
  },
  "language_info": {
   "codemirror_mode": {
    "name": "ipython",
    "version": 3
   },
   "file_extension": ".py",
   "mimetype": "text/x-python",
   "name": "python",
   "nbconvert_exporter": "python",
   "pygments_lexer": "ipython3",
   "version": "3.7.1"
  }
 },
 "nbformat": 4,
 "nbformat_minor": 1
}
