{
 "cells": [
  {
   "cell_type": "markdown",
   "metadata": {},
   "source": [
    "<p style=\"text-align: center;\"><strong> FACULDADE DE ENGENHARIA DE SOROCABA - FACENS</strong>\n",
    "    <br />\n",
    "    PÓS GRADUAÇÃO EM ESPECIALIZAÇÃO EM CIÊNCIA DE DADOS\n",
    "</p>\n",
    "<h2>&nbsp;</h2>"
   ]
  },
  {
   "cell_type": "markdown",
   "metadata": {},
   "source": [
    "<p style=\"text-align: center;\"><strong>ALEX COELHO ABRANTES</strong></p>\n",
    "<p style=\"text-align: center;\"><strong>BRUNO ALVES COMITRE</strong></p>\n",
    "<p style=\"text-align: center;\"><strong>DETECÇÃO AUTOMATIZADA DE NOTÍCIAS FALSAS:</strong></p>\n",
    "<p style=\"text-align: center;\"><strong>PESQUISA COM RECONHECIMENTO DE INTEGRIDADE DAS INFORMAÇÕES</strong></p>\n",
    "<h2>&nbsp;</h2>"
   ]
  },
  {
   "cell_type": "markdown",
   "metadata": {},
   "source": [
    "<p style=\"text-align: right;\">Tese apresentada ao Programa de P&oacute;s-Gradua&ccedil;&atilde;o <br />\n",
    "em Ci&ecirc;ncias de Dados da Faculdade de Engenharia de <br />\n",
    "Sorocaba - FACENS, como requisito parcial para a obten&ccedil;&atilde;o <br />\n",
    "do t&iacute;tulo de P&oacute;s Graduado em Ci&ecirc;ncia de Dados. <br />\n",
    "</p>\n",
    "\n",
    "<p style=\"text-align: right;\"> Orientado: Prof. Matheus Mota</p>\n",
    "<p style=\"text-align: right;\"> Coord.: Prof. Fernando Vieira da Silva </p>\n",
    "<h2>&nbsp;</h2>"
   ]
  },
  {
   "cell_type": "markdown",
   "metadata": {},
   "source": [
    "<p style=\"text-align: center;\">SOROCABA</p>\n",
    "<p style=\"text-align: center;\">2019</p>\n",
    "<h2>&nbsp;</h2>"
   ]
  },
  {
   "cell_type": "markdown",
   "metadata": {},
   "source": [
    "***"
   ]
  },
  {
   "cell_type": "markdown",
   "metadata": {},
   "source": [
    "<p style=\"text-align: center;\"><strong>DEDICAT&Oacute;RIA</strong></p>\n",
    "<p style=\"text-align: center;\">&nbsp;</p>\n",
    "<p style=\"text-align: justify;\">Dedicamos esta tese a Alan Turing, que proporcionou o campo da ciência da computação, onde podemos ter toda evolução tecnológica mencionada de forma que foi possível a criação do que temos como evolução tecnológica hoje e que e podemos sonhar com todos os avanços tecnológicos ao qual seres humanos consegue criar; e aos nossos pais, que a despeito das nossas muitas ausências, sempre estiveram ao nosso lado.</p>\n",
    "<h2>&nbsp;</h2>"
   ]
  },
  {
   "cell_type": "markdown",
   "metadata": {},
   "source": [
    "<p style=\"text-align: center;\"><strong>AGRADECIMENTOS</strong></p>\n",
    "<p style=\"text-align: center;\">&nbsp;</p>\n",
    "<p style=\"text-align: justify;\">\n",
    "À Universidade gostaríamos de deixar uma palavra de gratidão por ter recebido de braços abertos e com todas as condições que nos proporcionaram dias de aprendizagem muito ricos, durante todos os períodos.\n",
    "</p>\n",
    "<p style=\"text-align: justify;\">\n",
    "Aos professores reconhecemos o esforço gigante com muita paciência e sabedoria. Foram eles que nos deram recursos e ferramentas para evoluir um pouco mais todos os dias.\n",
    "</p>\n",
    "<p style=\"text-align: justify;\">\n",
    "É claro que não podemos esquecer família e amigos, porque foram eles que incentivaram e inspiraram através de gestos e palavras a superar todas as dificuldades e ausências.\n",
    "</p>\n",
    "<p style=\"text-align: justify;\">\n",
    "A todas as pessoas que alguma forma nos ajudaram a acreditar que o esforço valia a pena, queremos deixar um agradecimento.\n",
    "</p>\n",
    "<h2>&nbsp;</h2>"
   ]
  },
  {
   "cell_type": "markdown",
   "metadata": {},
   "source": [
    "<p style=\"text-align: center;\"><strong>RESUMO</strong></p>\n",
    "<p style=\"text-align: center;\">&nbsp;</p>\n",
    "\n",
    "<p style=\"text-align: justify;\">\n",
    "Com o avanço das mídias sociais, o  acesso à informação e o acesso à diversas opiniões, trouxe o surgimento de diversos grupos disseminando ataques com notícias enganosas e polêmicas, ou muita das vezes racistas e preconceituosas. Existe uma preocupação global no combate dessas \"fábricas de mentiras\". Esse tipo de mensagem sempre se destina a desfavorecer grupos de forma potencialmente prejudicial, como celebridades ou pessoas ligadas a governo, entidade governamental ou privada. Mas, como identificar uma notícia falsa? Como impedir uma disseminação viral de notícias? O que constitui o discurso de ódio, e o que constituí informação?\n",
    "</p>\n",
    "\n",
    "<b>PRECISA MELHORAR ESSE TEXTO ABAIXO\n",
    "<p style=\"text-align: justify;\">Este trabalho tem por objetivo utilizar a tecnologia relacionada as Redes Neurais Recorrentes para reconhecimento de padrões das fontes de notícias americanas, mais especificamente, os grandes sites de notícias. A partir do conjunto de dados utilizados, e através de métodos de recuperação de informação destes textos buscou-se desenvolver padrões baseados em conceitos sintáticos e semânticos, aumentando a efetividade do algoritmo. Onde o intuito maior do trabalho é desenvolver uma ferramenta que possa realizar reconhecimento de notícias falsas por meio de dados de todos os meios de notícias WEB, através das entradas fornecidas pelos textos, ou por links de notícias, ao qual possamos montar padrões de texto que possam ser subdivididos em um sistema como termômetro para indicar o grau de qual verídica é a informação apresentada, ao qual essa estrutura, ou aplicação possa ser utilizado por sites de busca para aperfeiçoar o filtro de informações na WEB. </p></b>\n",
    "\n",
    "\n",
    "<p style=\"text-align: justify;\">&nbsp;</p>\n",
    "<p><strong>PALAVRAS-CHAVE: <em>Fake News</em>. Dados. Comunicação. Aprendizado de Máquina.</strong></p>\n",
    "<h2>&nbsp;</h2>"
   ]
  },
  {
   "cell_type": "markdown",
   "metadata": {},
   "source": [
    "<p style=\"text-align: center;\"><strong>ABSTRACT</strong></p>\n",
    "<p style=\"text-align: center;\">&nbsp;</p>\n",
    "\n",
    "<p style=\"text-align: justify;\">\n",
    "We are currently in a troubled period around the world. In economies such as selection and tackling inequality, we are feeding on information that is often false, such as <em>Fake News</em> and offensive and sodium speeches.\n",
    "</p>\n",
    "<p style=\"text-align: justify;\">\n",
    "With the advancement of social media, access to information, and access to diverse opinions, it is not difficult to find some dissemination group of attacks with misleading and political news, or often racist and prejudiced. This type of message is always meant to undo groups that are potentially harmful, such as celebrities or people linked to the government, government or private entity. But how to identify <em>Fake News</em>? How to prevent a viral spread of news? What is hate speech, and what constitutes information?\n",
    "</p>\n",
    "<p style=\"text-align: justify;\">\n",
    "The purpose of this study is to develop a natural language processing algorithm known as NLP (Natural Language Processing). This type of algorithm can help solve problems of automatic generation and understanding of natural human languages.\n",
    "</p>\n",
    "<p style=\"text-align: justify;\">\n",
    "The challenge will be to create a machine learning model for recognizing human or natural language over a data set that contains text, and you can identify a text or a reference to a true story or a <em>Fake News</em>.\n",
    "</p>\n",
    "\n",
    "<p><strong>KEYWORDS: Fake News. Data. Communication. Machine Learning.</strong></p>\n",
    "<h2>&nbsp;</h2>"
   ]
  },
  {
   "cell_type": "markdown",
   "metadata": {},
   "source": [
    "<p style=\"text-align: center;\"><strong>SUMÁRIO</strong></p>\n",
    "<p style=\"text-align: center;\">&nbsp;</p>\n",
    "<ul>\n",
    "    <li><a href='#introducao'>1. INTRODUÇÃO</a></li>\n",
    "    <li><a href='#fake_news'>2. FAKE NEWS</a></li>\n",
    "    <li><a href='#redes_neurais'>3. REDES NEURAIS</a></li>\n",
    "    <ul>\n",
    "        <li><a href='#rnn'>3.1 Redes Neurais Recorrentes</a></li>\n",
    "        <li><a href='#aprendizado'>3.2 Métodos de Aprendizado</a></li>\n",
    "        <li><a href='#lstm'>3.3. LSTM</a></li>\n",
    "        <li><a href='#padrao_texto'>3.4 Padrões de Texto com Python</a></li>        \n",
    "    </ul>\n",
    "    <li><a href='#informacao'>4. RECUPERAÇÃO DE INFORMAÇÃO</a></li>\n",
    "    <li><a href='#implementacao'>5. IMPLEMENTAÇÃO</a></li>\n",
    "    <li><a href='#resultados'>6. RESULTADOS</a></li>\n",
    "    <li><a href='#conclusao'>7. CONCLUSÃO</a></li>\n",
    "    <li><a href='#referencias'>REFERÊNCIAS</a></li>\n",
    "</ul>\n",
    "<p style=\"text-align: justify;\">&nbsp;</p>\n",
    "<h2>&nbsp;</h2>"
   ]
  },
  {
   "cell_type": "markdown",
   "metadata": {},
   "source": [
    "***"
   ]
  },
  {
   "cell_type": "markdown",
   "metadata": {},
   "source": [
    "<a id='introducao'></a>\n",
    "<p style=\"text-align: left;\"><strong>1 INTRODUÇÃO</strong></p>\n",
    "\n",
    "<p style=\"text-align: justify;\">Réflexions d’Un Historien Sur les Fausses Nouvelles de la Guerre, que em português significa (“Reflexões de um historiador sobre as falsas notícias da guerra” , Allia, 2012) é o título de um texto publicado originalmente em 1921 por Marc Bloch, um dos mais influentes historiadores do século XX, após retornar da Primeira Guerra Mundial alucinado com a importância que as notícias falsas haviam tido, ao refletir sobre escreveu: “Histórias falsas aumentaram a multidão. As notícias falsas, em toda a multiplicidade de suas formas - contos simples, imposturas, lendas - encheram a vida da humanidade.“, continuou, “Como elas nascem? De quais elementos elas extraem? Como elas se espalham, ganhando impulso quando passam de boca em boca ou escrevendo por escrito? Não há dúvida mais do que aqueles que merecem fascinar quem gosta de pensar em história.” e afirmou, “Um erro só se propaga e se amplifica, só ganha vida com uma condição: encontrar um caldo de cultivo favorável na sociedade onde se expande. Nele, de forma inconsciente, os homens expressam seus preconceitos, seus ódios, seus temores, todas as suas emoções”. Em outras palavras, as notícias falsas necessitam de pessoas que preferem informações que confirmam suas atitudes preexistentes, veem as informações consistentes com suas crenças como mais persuasivas do que as dissonantes e tendem a aceitar informações que as agradam.</p>\n",
    "\n",
    "<p style=\"text-align: justify;\">Um estudo que avaliou a divulgação de importantes notícias falsas estimou que o americano encontrou entre uma a três notícias falsas durante o mês anterior às eleições americanas de 2016. Outro estudo relatou que informações falsas no Twitter são normalmente retuitadas por muito mais pessoas, e muito mais rapidamente, do que informações verdadeiras, especialmente quando o assunto é política, as pessoas têm muito mais probabilidade de acreditar em histórias que favorecem seu candidato preferido. Pesquisadores das universidades do Sul da Califórnia e de Indiana estimaram que haja entre 9% a 15% de robôs no Twitter e o Facebook estimou que 60 milhões de bots podem estar infestando sua plataforma. Eles foram responsáveis por uma parte substancial do conteúdo político publicado durante a campanha nos EUA de 2016, e alguns dos mesmos bots foram usados mais tarde para tentar influenciar a eleição francesa de 2017. Portanto, a identificação dessas notícias falsas e a tentativa de impedir que não se tornem virais nas mídias sociais, é um grande desafio de pesquisa.</p>\n",
    "\n",
    "<p style=\"text-align: justify;\">\n",
    "O desafio proposto é criar um modelo em aprendizado de máquina para reconhecimento de linguagem humana ou natural sobre um conjunto de dados que contenha textos, e seja capaz de identificar se o texto se referência a notícia verdadeira ou se trata de uma notícia falsa, as chamadas <b>Fake News</b>.\n",
    "</p>\n",
    "\n",
    "<p style=\"text-align: justify;\">\n",
    "    No início dos estudos nosso desafio era extrair tais informações por meio de sites jornalísticos e blogs, mas, entendemos que a demanda de tempo seria grande e o foco do trabalho é o desenvolvendo de um modelo para aprendizado de máquina que seja capaz de identificar uma notícia falsa, então a tarefa de scraping foi cancelada e procuramos encontrar algum conjunto de dados que atendesse a estrutura que havíamos planejado: </p>\n",
    "<pre>\n",
    "{\n",
    " \"article\": {\n",
    "   \"id\": \"number sequencial\",\n",
    "   \"type\": \"object\",\n",
    "   \"url\": \"string\",\n",
    "   \"base_url\": \"string\",\n",
    "   \"main_language\": \"string\",\n",
    "   \"authors\": \"string\",\n",
    "   \"title\": \"string\",\n",
    "   \"subtitle\": \"string\",\n",
    "   \"body\": {\n",
    "        \"paragraphs\": \"qtdy paragraphs\",\n",
    "        \"paragraphs_body\": \"array each paragraphs\",\n",
    "        \"paragraphs_main_entities\": \"array each main entities\",\n",
    "        \"number_of_words\": \"string\",\n",
    "        \"tags\": \"string\",\n",
    "        \"images_url\": \"string\",\n",
    "        \"image_legends\": \"string\",\n",
    "        \"datetime\": \"string\"\n",
    "    }\n",
    " }\n",
    "}\n",
    "</pre>\n",
    "<p style=\"text-align: justify;\">Segundo Victoria L. Rubin et al. 9 pontos são importantes para a coleta dos dados:</p>\n",
    "<p style=\"text-align: justify;\">\n",
    "<li>\n",
    "    <ul>- Paridade de notícias verdadeiras e falsas</ul>\n",
    "    <ul>- Notícias em versão texto</ul>\n",
    "    <ul>- Possibilidade de confirmar a verdade</ul>\n",
    "    <ul>- Homogeneidade no tamanho dos artigos</ul>\n",
    "    <ul>- Homogeneidade no estilo de escrita</ul>\n",
    "    <ul>- Janela de tempo bem definida para coleta</ul>\n",
    "    <ul>- Definir o estilo de notícia</ul>\n",
    "    <ul>- Fatores pragmáticos, como custo de aquisição e disponibilidade das notícias</ul>\n",
    "    <ul>- Definir idioma e cultura das notícias</ul>\n",
    "</li>\n",
    "</p>\n",
    "\n",
    "\n",
    "<p style=\"text-align: justify;\">\n",
    "A base dos estudos estão nos conjuntos de dados extraídos por meio dos sites abaixo, no qual se encontram pesquisas com dados de notícias de âmbito político falsos ou verdadeiros, discursos de ódio e linguagem ofensiva. Estas pesquisas estão no idioma Inglês e portanto, todo o estudo será com base neste idioma.\n",
    "</p>\n",
    "\n",
    "<p style=\"text-align: justify;\">\n",
    "<li>\n",
    "    <ul><div class=\"alert alert-danger\" role=\"alert\">\n",
    "          <a href=\"https://data.world/thomasrdavidson/hate-speech-and-offensive-language/workspace/file?filename=labeled_data.csv\"><b>Hate Speech and Offensive Language</b></a> - 24k tweets rotulados como discurso de ódio, linguagem ofensiva ou nenhum.\n",
    "        </div>\n",
    "    </ul>\n",
    "    <ul><div class=\"alert alert-danger\" role=\"alert\">\n",
    "          <a href=\"https://www.kaggle.com/mrisdal/fake-news\"><b>Getting Real about Fake News</b></a> - 13k de dados extraídos na web com texto e metadados de fontes de notícias falsas e tendenciosas.\n",
    "        </div>\n",
    "    </ul>\n",
    "    <ul><div class=\"alert alert-danger\" role=\"alert\">\n",
    "          <a href=\"https://www.kaggle.com/c/fake-news/data\"><b>Fake News</b></a> - 20k de dados extraídos na web rotulados como confiável e não confiável.\n",
    "        </div>\n",
    "    </ul>\n",
    "</li>\n",
    "</p>\n",
    "\n",
    "<br />\n",
    "\n",
    "\n",
    "<p style=\"text-align: justify;\"> Encontramos um conjunto de dados em um desafio do site Kaggle, intitulado: Fake News - Build a system to identify unreliable news articles. A pesquisa contém 20.000 dados extraídos na web rotulados como confiável e não confiável de âmbito político. Estes artigos estão no idioma Inglês e, portanto todo o estudo será com base neste idioma. \n",
    "<p style=\"text-align: justify;\">\n",
    "<li>\n",
    "    <ul><div class=\"alert alert-block alert-info\" role=\"alert\">\n",
    "          <a href=\"https://www.kaggle.com/c/fake-news/data\"><b>Link: https://www.kaggle.com/c/fake-news/data</b></a>\n",
    "        </div>\n",
    "    </ul>\n",
    "</li>\n",
    "</p>\n",
    "<p>O Schema do conjunto de dados se aproximou com o que estávamos planejando, e por esse motivo nos ajudou na escolha desse desafio:</b></p>\n",
    "<pre>\n",
    "{\n",
    " \"article\": {\n",
    "   \"id\": \"number sequencial\",\n",
    "   \"author\": \"string\",\n",
    "   \"title\": \"string\",\n",
    "   \"text\": \"string\",\n",
    "   \"target\": \"boolean\"\n",
    " }\n",
    "}\n",
    "</pre>\n",
    "\n",
    "<h2>&nbsp;</h2>"
   ]
  },
  {
   "cell_type": "markdown",
   "metadata": {},
   "source": [
    "<fake_newsa id='fake_news'></a>\n",
    "<p style=\"text-align: left;\"><strong>2 FAKE NEWS</strong></p>"
   ]
  },
  {
   "cell_type": "markdown",
   "metadata": {},
   "source": [
    "<p style=\"text-align: justify;\">\n",
    "Temos como definição de notícias falsas, em inglês Fake News como a propagação de informações em meios de comunicação que na forma que tem como intenção a propagação de notícias que imitam ou tendem a querer camuflar notícias. Afetando por sua vez todos os meios de comunicação, que carecem de normas e processos editoriais da mídia para garantir a precisão e credibilidade das informações. Estas notícias atraem um grupo de pessoas que buscam a princípio a atenção por notícias rápidas e curtas, ou seja, notícias prontas sobre determinados assuntos que explanar toda informação e opinião em algumas poucas linhas. Abordadas principalmente no contexto político, cientifico, social e valores cívicos. Tem como forma a abordagem de assuntos reais e em alta na sociedade, e que contenha informações que possam de certa forma conter um embasamento científico, ao qual camuflam essas informações reais sobre os assuntos, para com os aspectos enviesados do tema proposto por opiniões do escritor que tendem ou como se tratam de notícias falsas serem mentiras, serem invenções do escritor ou do grupo representante do tema.\n",
    "</p>\n",
    "<p style=\"text-align: justify;\">\n",
    "Notícias falsas são uma oportunidade de polarização da sociedade por isso, quanto mais informação for verificada por e maior for a frequência de verificação das notícias falsas, o seu impacto nas pessoas será minimizado, pois, teremos mais respostas científicas para essas questões básicas. \n",
    "</p>\n",
    "<p style=\"text-align: justify;\">\n",
    "Entretanto, na ausência de métodos para derivar essa diferença, a propagação de notícias falsas tendem a continuar se propagando, junto a questão dos bots de internet.\n",
    "</p>\n",
    "<p style=\"text-align: justify;\">\n",
    "Atualmente vemos além da propagação de notícias falas na internet por meio de comunicação, temos também a propagação das mesmas notícias por meio de votos de internet. Ao qual um número grande, mas desconhecido, de bots semelhantes a humanos pode não ser detectado. Além do alto impacto de propagação, bots de internet são quase invencíveis, uma vez que com pouco processamento computacional possa ser criado em diversos ambientes de votos e os já conhecidos computadores infectados atuando como se fossem máquinas zumbis, em prol desse tipo de atividade. A questão agora está em como intervir para se não acabar, diminuir esse tipo de propagação.\n",
    "</p>\n",
    "<p style=\"text-align: justify;\">\n",
    "Além do contexto educacional e familiar, temos como abordagem deste trabalho a detecção e intervenção com base em algoritmo de aprendizado de máquina e futuramente os próprios bots. A internet não apenas fornece um meio para publicar notícias falsas, mas também oferece ferramentas para promover ativamente o combate às mesmas. Como a Internet e as plataformas de mídia social ajudam a reduzir a propagação e o impacto de notícias falsas, utilizamos assim de modelos estatísticos complexos para prever e maximizar o envolvimento com o conteúdo falso e enganoso. \n",
    "</p>\n",
    "<p style=\"text-align: justify;\">\n",
    "É possível combater com as próprias armas que nos atacam. No entanto, é possível registrar o que os pesquisadores precisam realizar uma auditoria rigorosa e contínua de como as principais plataformas filtram as informações. Esses desafios precisam ser abordados pela comunidade científica sob as perspectivas da indústria e da academia. Com a responsabilidade ética e social, de que o trabalho não caia em proporções que acabe sendo ele próprio uma notícia falsa. Agora temos como ideia futura promover uma pesquisa interdisciplinar para reduzir a disseminação de notícias falsas e abordar as patologias subjacentes que ela revelou. \n",
    "</p>\n",
    "<p style=\"text-align: justify;\">\n",
    "Notícias falsas tem falhas, e são nestas falhas e incongruências que podemos atacar. Precisamos de um sistema de informações no século XXI e de âmbito global, pois, muitos países, alguns dos quais nunca desenvolveram um ecossistema de notícias robusto, enfrentam desafios em torno de propagação de notícias falsas. De maneira mais ampla, devemos responder a uma pergunta fundamental para este e para os debates futuros: De como podemos criar um ecossistema anti Fake News, e como fazer com que a sociedade entenda que devemos valorizar apenas meios de comunicação que se submetem a tal teste para com a verdade, independente de viés ideológico, político, ou cultural para valorizar a verdade?\n",
    "</p>\n",
    "\n",
    "<h2>&nbsp;</h2>"
   ]
  },
  {
   "cell_type": "markdown",
   "metadata": {},
   "source": [
    "<a id='redes_neurais'></a>\n",
    "<p style=\"text-align: left;\"><strong>3 REDES NEURAIS</strong></p>"
   ]
  },
  {
   "cell_type": "markdown",
   "metadata": {},
   "source": [
    "<p style=\"text-align: justify;\">\n",
    "Biologicamente o cérebro humano ao qual possui bilhões de neurônios conectados entre si, constituído por um corpo celular ligado por ramificações, chamadas de dendritos, onde conhecidos como axônio, possuem um terminal denominado de telodendro. E esta sinapse que faz a ligação entre dois neurônios, ligados e através de pulsos nervosos se comunicam. Estes impulsos recebidos são processados até atingir um limiar de ação, que produz uma substância neurotransmissora que flui do corpo celular para o axônio que esta conectada a um dendrito de outro neurônio. Inspirado pelo sistema nervoso central a ciência da computação desenvolveu técnicas computacionais que apresentam modelos matemáticos capazes de adquirirem conhecimentos através de experiências e padrões.\n",
    "</p>\n",
    "<p style=\"text-align: justify;\">\n",
    "O reconhecimento de padrões funciona como um algoritmo de aprendizado de máquina que ajustam a saída para que os neurônios ou nós interconectados entre si, formam uma rede complexa de processamento ao qual essas informações a fim de serem utilizadas para aplicações em controle de processos em diversas áreas, desde o reconhecimento de fala, quanto escrita e padrões.\n",
    "</p>\n",
    "\n",
    "<h2>&nbsp;</h2>"
   ]
  },
  {
   "cell_type": "markdown",
   "metadata": {},
   "source": [
    "<a id='rnn'></a>\n",
    "<p style=\"text-align: left;\"><strong>3.1 Redes Neurais Recorrentes</strong></p>\n",
    "\n",
    "<p style=\"text-align: justify;\">\n",
    "Através dos estudos das Redes Neurais biológicas caracterizaram-se as Redes Neurais Recorrentes (RNN). Perceberam que com esta metodologia poderia resolver problemas de finalidades não algorítmicas ao simular reconhecimento de resolução de problemas que apenas o cérebro humano seria capaz de realizar. Com isso criou-se o conceito das RNNs. Geralmente esta rede é conectada por canais de comunicação associados em operações de entrada e saída entre as conexões, gerando interações entre os nós desta rede a fim de criar um comportamento inteligente. As Redes Neurais Recorrentes têm como características sua capacidade de fazer armazenamento associativo.\n",
    "</p> \n",
    "<p style=\"text-align: justify;\">\n",
    "O objetivo do campo é criar modelos que se aproximem do funcionamento de sistemas biológicos dos seres humanos. E para isso são realizados modelos de redes neurais voltados a teoria biológica para o aprendizado estatístico e teoria da informação.\n",
    "</p>\n",
    "\n",
    "<h2>&nbsp;</h2>"
   ]
  },
  {
   "cell_type": "markdown",
   "metadata": {},
   "source": [
    "<a id='aprendizado'></a>\n",
    "<p style=\"text-align: left;\"><strong>3.2 Métodos de Aprendizado</strong></p>\n",
    "\n",
    "<p style=\"text-align: justify;\">\n",
    "Existem inúmeros tipos de algoritmo de aprendizado de máquinas e ao estudo de RNNs. Estes algoritmos se diferenciam entre si pelo método de classificação e modificação dos pesos de suas conexões. Entre os métodos mais conhecidos podemos ter como referências:\n",
    "</p>\n",
    "\n",
    "<p style=\"text-align: justify;\">\n",
    "    \n",
    "- Aprendizado Supervisionado;\n",
    "- Aprendizado Não Supervisionado;\n",
    "- Aprendizado Hebbiano;\n",
    "- Aprendizado por Reforço;\n",
    "- Aprendizado por Competição.\n",
    "</p>\n",
    "\n",
    "<p style=\"text-align: justify;\">O método utilizado nesta pesquisa teve como base o aprendizado de máquina supervisionado e por reforço.</p>\n",
    "\n",
    "<h2>&nbsp;</h2>"
   ]
  },
  {
   "cell_type": "markdown",
   "metadata": {},
   "source": [
    "<a id='lstm'></a>\n",
    "<p style=\"text-align: left;\"><strong>3.3 LSTM</strong></p>\n",
    "\n",
    "<p style=\"text-align: justify;\">\n",
    "A sigla LSTM, em inglês (Long Short Term Memory), é  a arquitetura de rede neural recorrente de memória  longa, ou seja,  em determinado intervalo arbitrário de valores, é guardado valores antigos, ao qual a rede “lembra\" destes valores. Sendo assim a rede recorrente de longo prazo é adequada para classificar, processar e prever séries temporais com intervalos de tempo de duração desconhecida.\n",
    "</p>\n",
    "\n",
    "<p style=\"text-align: justify;\">\n",
    "Assim sendo uma vantagem da LSTM em relação a RNNs tradicionais. Uma arquitetura comum em LSTM é composta por uma célula (a parte da memória da unidade LSTM) e três \"reguladores\", do fluxo de informações dentro da unidade LSTM, composta ainda por uma porta de entrada, uma porta de saída e uma porta de esquecimento . \n",
    "</p>\n",
    "\n",
    "<p style=\"text-align: justify;\">\n",
    "Existem variações, este não é um modelo exclusivo de uso, possuindo assim mais portões ou mais saídas. Algumas das famosas aplicações das LSTMs incluem, Modelagem de Linguagem, Tradução de Idiomas, Legendas em Imagens, Geração de Texto, e Chatbots.\n",
    "</p>\n",
    "\n",
    "<h2>&nbsp;</h2>\n",
    "\n",
    "![title](LSTM.png)\n",
    "\n",
    "<h2>&nbsp;</h2>"
   ]
  },
  {
   "cell_type": "markdown",
   "metadata": {},
   "source": [
    "<a id='padrao_texto'></a>\n",
    "<p style=\"text-align: left;\"><strong>3.4 Padrões de Texto com Python</strong></p>\n",
    "\n",
    "<p style=\"text-align: justify;\">\n",
    "Este trabalho utilizou a linguagem de programação Python. Assim como nos gráficos, insights e no modelo de aprendizagem de máquina para o reconhecimento de padrões de texto e caracteres utilizados a fim identificar de forma mais abstrato conceitos linguísticos com a abordagem das RNNs para separar orações completas e através de neurônios de saída e assim classificar seus significados. \n",
    "</p>\n",
    "\n",
    "<h2>&nbsp;</h2>"
   ]
  },
  {
   "cell_type": "markdown",
   "metadata": {},
   "source": [
    "<a id='informacao'></a>\n",
    "<p style=\"text-align: left;\"><strong>4 RECUPERAÇÃO DE INFORMAÇÃO</strong></p>\n",
    "\n",
    "<p style=\"text-align: justify;\">\n",
    "O objetivo inicial que motivou este trabalho seria obter um sistema que pudesse através de um texto simples, determinar se tratava de uma notícia verídica ou uma notícia falsa do documento. Porém, como temos visto ao longo de todo o estudo as redes neurais artificiais trabalham com números (binários ou não), pois, até mesmo porque os computadores ou unidade de processamento são feitos para cálculos numéricos. E com isso se fez necessário pensar em técnicas como a one-hot-encoding que transforma as colunas (variáveis) em tabelas de 0 e 1, que são uma maneira de converter o texto em uma assinatura numérica que representasse um padrão compreendido pela RNN.\n",
    "</p>\n",
    "\n",
    "<h2>&nbsp;</h2>"
   ]
  },
  {
   "cell_type": "markdown",
   "metadata": {},
   "source": [
    "<a id='implementacao'></a>\n",
    "<p style=\"text-align: left;\"><strong>5 IMPLEMENTAÇÃO</strong></p>\n",
    "\n",
    "<p style=\"text-align: justify;\">\n",
    "Pensou-se em criar um banco de dados onde cada linha continha teria um schema json com informações tabuladas para treinamento e estudo de casos. Porém, no momento da aplicação não se viu necessária a criação desta base, pois, o programa desenvolvido para radicalizar e calcular a frequência dos termos, apresentou seu resultado satisfatório ao fim.\n",
    "</p>\n",
    "\n",
    "<h2>&nbsp;</h2>"
   ]
  },
  {
   "cell_type": "markdown",
   "metadata": {},
   "source": [
    "<a id='resultados'></a>\n",
    "<p style=\"text-align: left;\"><strong>6 RESULTADOS</strong></p>\n",
    "\n",
    "<p style=\"text-align: justify;\">\n",
    "Após construir o modelo de treinamento, foi possível demonstrar os resultados conforme nosso Kernel, onde obtivemos resultados satisfatórios para a pesquisa.\n",
    "</p>\n",
    "<p style=\"text-align: justify;\">\n",
    "Para melhor resultados optamos por utilizar usar a função logloss (binary_crossentropy) e o algoritmo de otimização do ADAM. O modelo é adequado para apenas duas épocas com um lote de 64 classificações para espaçar as atualizações de peso.\n",
    "<p style=\"text-align: justify;\">\n",
    "Conforme testes durante a criação do modelo diverso resultados puderam ser encontrados, porém, de acordo com as observações feitas após diversos testes, esta foi a configuração que mais se encaixou com a necessidade de nossa aplicação. Em momento algum descartamos que ao usar uma gama maior de notícias e atributos distintos de análise sintática e semântica poderíamos necessitar de modificações neste escopo. Porém, em alguns métodos como de soma de sufixo, onde se soma sempre o vetor da próxima palavra observamos problemas em relação a tempo de execução. Infelizmente por falta de tempo hábil não foi possível representar esta funcionalidade neste trabalho.\n",
    "</p>\n",
    "<p style=\"text-align: justify;\">\n",
    "Mas como visto foi possível provar que através de um mapa auto-organizável de uma Rede Neural Recorrente podemos separar textos através de seus padrões de entrada e desta forma gerar classificações semelhantes as apresentadas no córtex cerebral humano.\n",
    "</p>\n",
    "\n",
    "<h2>&nbsp;</h2>"
   ]
  },
  {
   "cell_type": "markdown",
   "metadata": {},
   "source": [
    "<a id='conclusao'></a>\n",
    "<p style=\"text-align: left;\"><strong>7 CONCLUSÃO</strong></p>\n",
    "\n",
    "<p style=\"text-align: justify;\"></p>\n",
    "Com base nos critérios e resultados do presente estudo, onde o objetivo era apresentar uma maneira de classificar noticias falsas, utilizando para isso Redes Neurais Recorrentes, constatou-se que o objetivo foi alcançado de maneira satisfatória. Através dos conceitos aplicados e nos agrupamentos das informações, foi possível verificar que ao apresentar um padrão de limpeza nos dados, e que existe associação entre termos, e padrões verbais, conseguimos um resultado bem sucedido na classificação, de forma que será possível classificar uma informação sendo como noticia falsa ou não.\n",
    "</p>\n",
    "<p style=\"text-align: justify;\">\n",
    "Para que isso fosse possível reproduziu-se em linguagem Python a função de redes de memória de longo prazo – geralmente chamadas de LSTM, o que também era esperado que fosse apresentado no trabalho, por fim todos os processos foram executados com sucesso.\n",
    "</p>\n",
    "<p style=\"text-align: justify;\">\n",
    "O que reforça a afirmação feita no início deste trabalho quando classificou que redes neurais recorrentes permitem um reconhecimento  padrões de texto, sempre.com uma alta taxa de acertividade.\n",
    "</p>\n",
    "\n",
    "<h2>&nbsp;</h2>"
   ]
  },
  {
   "cell_type": "markdown",
   "metadata": {},
   "source": [
    "<a id='referencias'></a>\n",
    "<p style=\"text-align: left;\"><strong>REFER&Ecirc;NCIAS</strong></p>"
   ]
  },
  {
   "cell_type": "markdown",
   "metadata": {},
   "source": [
    "<p style=\"text-align: justify;\">[1] DAVIDSON, Thomas et al. Hate Speech and Offensive Language: 24k tweets labeled as hate speech, offensive language, or neither. 2017. Dispon&iacute;vel em: &lt;https://data.world/thomasrdavidson/hate-speech-and-offensive-language&gt;. Acesso em: 14 set. 2018.</p>\n",
    "<p style=\"text-align: justify;\">[2] SANTANA, Felipe. Fake news, not&iacute;cias em texto e oportunidades. 2018. Dispon&iacute;vel em: &lt;http://minerandodados.com.br/index.php/2018/10/09/fake-news-noticias-em-texto-e-oportunidades/&gt;. Acesso em: 12 out. 2018.</p>\n",
    "<p style=\"text-align: justify;\">[3] PEREZ-ROSAS, Ver&ocirc;nica et al. Automatic Detection of Fake News. 2016. 10 f. Department of Psychology (Computer Science and Engineering,) - University of Michigan, [S.l.], 2016.</p>\n",
    "<p style=\"text-align: justify;\">[4] W. PENNEBAKER, James. Lying Words: Predicting Deception From Linguistic Styles. In: L. NEWMAN, Mathew et al. Lying Words: Predicting Deception From Linguistic Styles. 2003. ed. [S.l.]: PSPB, 2009. p. 665-675. v. 1.</p>\n",
    "<p style=\"text-align: justify;\">[5] PEREZ-ROSAS, Ver&ocirc;nica; MIHALCEA, Rada. Experiments in Open Domain Deception Detection. 2008. 6 p. Computer Science (Computer Science and Engineering) - University of Michigan, [S.l.], 2008.</p>\n",
    "<p style=\"text-align: justify;\">[6] DA ROCHA, Bernardo Abbad et al. O avan&ccedil;o das fake news e sua retrata&ccedil;&atilde;o na m&iacute;dia de refer&ecirc;ncia. 2018. 15 p. Sociedade Brasileira de Estudos Interdisciplinares da Comunica&ccedil;&atilde;o (Congresso de Ci&ecirc;ncias da Comunica&ccedil;&atilde;o na Regi&atilde;o Sul) - Universidade Federal de Santa Maria, Santa Maria, RS, Cascavel-PR, 2018.</p>\n",
    "<p style=\"text-align: justify;\">[7] RUBIN, Victoria L. et al. Fake News or Truth? Using Satirical Cues to Detect Potentially Misleading News. 2015. 11 p. Language and Information Technology Research Lab (Faculty of Information and Media Studies) - University of Western Ontario, London, Ontario, CANADA, 2015.</p>\n",
    "<p style=\"text-align: justify;\">[8] SHAFQAT, Wafa et al. The Language of Deceivers: Linguistic Features of Crowdfunding Scams. 2015. 2 p. Sangmyung University (Sangmyung University)- Sangmyung University, Cheonan, South Korea, 2015.</p>\n",
    "<p style=\"text-align: justify;\">[9] CONROY, Niall J.; RUBIN, Victoria L.; CHEN, Yimin. Automatic Deception Detection: Methods for Finding Fake News. 2014. 4 f. Language and Information Technology Research Lab (LIT.RL) (Faculty of Information and Media Studies) - University of Western Ontario, London, Ontario, CANADA, 2014.</p>\n",
    "<p style=\"text-align: justify;\">[10] DAVIDSON, Thomas et al. Automated Hate Speech Detection and the Problem of Offensive Language. 2013. 4 f. Department of Applied Mathematics (Qatar Computing Research Institute) - Cornell University, 3Department of Information Science, Ithaca, NY, USA, 2013.</p>\n",
    "<p style=\"text-align: justify;\">[11] MIN H. Kao Department of Electrical Engineering &amp; Computer Science. [S. l.], 2019. Available in: https://www.eecs.utk.edu/people/student-organizations/. Accessed in: 9 jul. 2019.</p>\n",
    "<p style=\"text-align: justify;\">[12] BROWNLEE , Jason. A Gentle Introduction to the Rectified Linear Unit (ReLU). [S. l.], 9 jan. 2019. Available in: https://machinelearningmastery.com/rectified-linear-activation-function-for-deep-learning-neural-networks/. Accessed in: 9 jul. 2019.</p>\n",
    "<p style=\"text-align: justify;\">[13] DEPARTMENT of Electrical Engineering and Computer Science - UTK. [S. l.], 2019. Dispon&iacute;vel em: https://www.facebook.com/EECS.UTK/. Accessed in: 9 jul. 2019.</p>\n",
    "<p style=\"text-align: justify;\">[14] BROWNLEE, Jason. Dropout Regularization in Deep Learning Models With Keras. [S. l.], 20 jun. 2016. Available in: https://machinelearningmastery.com/dropout-regularization-deep-learning-models-keras/. Accessed in: 9 jul. 2019.</p>\n",
    "<p style=\"text-align: justify;\">[15] BIDIRECTIONAL Long Short-Term Memory (BI-LSTM) with Attention Mechanism. [S. l.], 30 jun. 2019. Available in: http://primo.ai/index.php?title=Bidirectional_Long_Short-Term_Memory_(BI-LSTM)_with_Attention_Mechanism. Accessed in: 9 jul. 2019.</p>\n",
    "<p style=\"text-align: justify;\">[16] BROWNLEE, Jason. Sequence Classification with LSTM Recurrent Neural Networks in Python with Keras. [S. l.], 26 jul. 2016. Available in: https://machinelearningmastery.com/sequence-classification-lstm-recurrent-neural-networks-python-keras/. Accessed in: 9 jul. 2019.</p>\n",
    "<p style=\"text-align: justify;\">[17] BIDIRECTIONAL recurrent neural networks. [S. l.], 7 jul. 2019. Available in: https://en.wikipedia.org/wiki/Bidirectional_recurrent_neural_networks. Accessed in: 9 jul. 2019.</p>\n",
    "<p style=\"text-align: justify;\">[18] A BEGINNER&lsquo;S Guide to LSTMs and Recurrent Neural Networks. [S. l.], 2019. Available in: https://skymind.ai/wiki/lstm. Accessed in: 9 jul. 2019.</p>\n",
    "<p style=\"text-align: justify;\">[19] OLAH, Christopher. Understanding LSTM Networks. [S. l.], 27 ago. 2015. Available in: https://colah.github.io/posts/2015-08-Understanding-LSTMs/. Accessed in: 9 jul. 2019.</p>\n",
    "<p style=\"text-align: justify;\">[20] HE, Lang He et al. Multimodal Affective Dimension Prediction Using Deep Bidirectional Long Short-Term Memory Recurrent Neural Networks. Proceeding AVEC &lsquo;15 Proceedings of the 5th International Workshop on Audio/Visual Emotion Challenge Pages 73-80, 26 out. 2015. Available in: https://dl.acm.org/citation.cfm?id=2811641. Accessed in: 9 jul. 2019.</p>\n",
    "<p style=\"text-align: justify;\">[21] GUAN, Zhonghui et al. Integration of Long-Term-Memory-Related SynapticPlasticity Involves Bidirectional Regulationof Gene Expression and Chromatin Structure. [S. l.], 15 nov. 2002. Dispon&iacute;vel em: https://reader.elsevier.com/reader/sd/pii/S0092867402010747?token=73DB87FE6A1527FD3EF86124A1AC74C4D12672A129141DEEE0E768066DC0E8118D7D\n",
    "E4A039BB31A75FE45A3EE126C6C3. Accessed in: 9 jul. 2019.</p>\n",
    "<p style=\"text-align: justify;\">[22] LIWICKI, Marcus et al. A Novel Approach to On-Line Handwriting Recognition Based on Bidirectional Long Short-Term Memory Networks. [S. l.], 2019. Available in: https://mediatum.ub.tum.de/doc/1289961/file.pdf. Accessed in: 9 jul. 2019.</p>\n",
    "<p style=\"text-align: justify;\">[23] ZHOU, Peng et al. Attention-Based Bidirectional Long Short-Term Memory Networks for Relation Classification. [S. l.], 2019. Dispon&iacute;vel em: https://www.aclweb.org/anthology/P16-2034. Accessed in: 9 jul. 2019.</p>\n",
    "<p style=\"text-align: justify;\">[24] Frei , Lukas. Speed Up Your Exploratory Data Analysis With Pandas-Profiling. [S. l.], 25 apr. 2019. Available in: https://towardsdatascience.com/speed-up-your-exploratory-data-analysis-with-pandas-profiling-88b33dc53625. Accessed in: 9 jul. 2019.</p>\n",
    "\n",
    "[25] Lucendo, Guillermo Altares. A longa história das notícias falsas, 18 jun 2018. Available in: https://brasil.elpais.com/brasil/2018/06/08/cultura/1528467298_389944.html. Accessed in: 01 out. 2019.\n",
    "\n",
    "[26] Réflexions d’un historien sur les fausses nouvelles de la guerre. Available in: https://fr.wikisource.org/wiki/R%C3%A9flexions_d%E2%80%99un_historien_sur_les_fausses_nouvelles_de_la_guerre. Accessed in: 01 out. 2019.\n",
    "\n",
    "[27] David M. J. Lazer, Matthew A. Baum, Yochai Benkler, Adam J. Berinsky, Kelly M. Greenhill, Filippo Menczer, Miriam J.Metzger, Brendan Nyhan, Gordon Pennycook, David Rothschild, Michael Schudson, Steven A. Sloman, Cass R. Sunstein, Emily A. Thorson, Duncan J. Watts and Jonathan L. Zittrain. The science of fake news. Available in: https://scholar.harvard.edu/files/mbaum/files/science_of_fake_news.pdf. Accessed in: 01 out. 2019."
   ]
  },
  {
   "cell_type": "markdown",
   "metadata": {},
   "source": [
    "<h2>&nbsp;</h2>"
   ]
  },
  {
   "cell_type": "markdown",
   "metadata": {},
   "source": [
    "***"
   ]
  }
 ],
 "metadata": {
  "kernelspec": {
   "display_name": "Python 3",
   "language": "python",
   "name": "python3"
  },
  "language_info": {
   "codemirror_mode": {
    "name": "ipython",
    "version": 3
   },
   "file_extension": ".py",
   "mimetype": "text/x-python",
   "name": "python",
   "nbconvert_exporter": "python",
   "pygments_lexer": "ipython3",
   "version": "3.7.1"
  }
 },
 "nbformat": 4,
 "nbformat_minor": 2
}
