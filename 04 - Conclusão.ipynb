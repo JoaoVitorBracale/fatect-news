{
 "cells": [
  {
   "cell_type": "markdown",
   "metadata": {},
   "source": [
    "<p style=\"text-align: center;\"><strong> FACULDADE DE ENGENHARIA DE SOROCABA - FACENS</strong>\n",
    "    <br />\n",
    "    PÓS GRADUAÇÃO EM ESPECIALIZAÇÃO EM CIÊNCIA DE DADOS\n",
    "</p>\n",
    "<h2>&nbsp;</h2>"
   ]
  },
  {
   "cell_type": "markdown",
   "metadata": {},
   "source": [
    "<p style=\"text-align: center;\"><strong>ALEX COELHO ABRANTES</strong></p>\n",
    "<p style=\"text-align: center;\"><strong>BRUNO ALVES COMITRE</strong></p>\n",
    "<p style=\"text-align: center;\"><strong>DETEC&Ccedil;&Atilde;O AUTOMATIZADA DE FAKE NEWS E O PROBLEMA DA LINGUAGEM OFENSIVA</strong></p>\n",
    "<h2>&nbsp;</h2>"
   ]
  },
  {
   "cell_type": "markdown",
   "metadata": {},
   "source": [
    "<p style=\"text-align: right;\">Tese apresentada ao Programa de P&oacute;s-Gradua&ccedil;&atilde;o <br />\n",
    "em Ci&ecirc;ncias de Dados da Faculdade de Engenharia de <br />\n",
    "Sorocaba - FACENS, como requisito parcial para a obten&ccedil;&atilde;o <br />\n",
    "do t&iacute;tulo de P&oacute;s Graduado em Ci&ecirc;ncia de Dados. <br />\n",
    "</p>\n",
    "\n",
    "<p style=\"text-align: right;\"> Orientado: Prof. Matheus Mota</p>\n",
    "<p style=\"text-align: right;\"> Coord.: Prof. Fernando Vieira da Silva </p>\n",
    "<h2>&nbsp;</h2>"
   ]
  },
  {
   "cell_type": "markdown",
   "metadata": {},
   "source": [
    "<p style=\"text-align: center;\">SOROCABA</p>\n",
    "<p style=\"text-align: center;\">201</p>\n",
    "<h2>&nbsp;</h2>"
   ]
  },
  {
   "cell_type": "markdown",
   "metadata": {},
   "source": [
    "***"
   ]
  },
  {
   "cell_type": "markdown",
   "metadata": {},
   "source": [
    "<p style=\"text-align: center;\"><strong>DEDICAT&Oacute;RIA</strong></p>\n",
    "<p style=\"text-align: center;\">&nbsp;</p>\n",
    "<p style=\"text-align: justify;\">Dedico esta tese a Alan Turing, que me fortaleceu e me aben&ccedil;oou muito al&eacute;m daquilo que podia sonhar; e aos nossos pais, que a despeito das nossas muitas aus&ecirc;ncias, sempre estiveram ao nosso lado.</p>\n",
    "<h2>&nbsp;</h2>"
   ]
  },
  {
   "cell_type": "markdown",
   "metadata": {},
   "source": [
    "<p style=\"text-align: center;\"><strong>AGRADECIMENTOS</strong></p>\n",
    "<p style=\"text-align: center;\">&nbsp;</p>\n",
    "\n",
    "<p style=\"text-align: justify;\">&Agrave; Universidade gostariamos de deixar uma palavra de gratid&atilde;o por ter recebido de bra&ccedil;os abertos e com todas as condi&ccedil;&otilde;es que nos proporcionaram dias de aprendizagem muito ricos, durante todos os periodos.</p>\n",
    "<p style=\"text-align: justify;\">Aos professores reconhe&ccedil;o um esfor&ccedil;o gigante com muita paci&ecirc;ncia e sabedoria. Foram eles que nos deram recursos e ferramentas para evoluir um pouco mais todos os dias.</p>\n",
    "<p style=\"text-align: justify;\">&Eacute; claro que n&atilde;o pdemos esquecer fam&iacute;lia e amigos, porque foram eles que me incentivaram e inspiraram atrav&eacute;s de gestos e palavras a superar todas as dificuldades e aus&ecirc;ncias.</p>\n",
    "<p style=\"text-align: justify;\">A todas as pessoas que de uma alguma forma nos ajudaram a acreditar que o esfor&ccedil;o valia a pena, queremos deixar um agradecimento.</p>\n",
    "<h2>&nbsp;</h2>"
   ]
  },
  {
   "cell_type": "markdown",
   "metadata": {},
   "source": [
    "<p style=\"text-align: center;\"><strong>RESUMO</strong></p>\n",
    "<p style=\"text-align: center;\">&nbsp;</p>\n",
    "\n",
    "<p style=\"text-align: justify;\">Atualmente estamos num período conturbado em todo mundo. Em períodos como de eleição e combate a desigualdade, estamos se alimentando com informação que muitas das vezes são notícias falsas, as chamadas de \"FAKE NEWS\" e discursos ofensivos e de ódio.</p>\n",
    "<p style=\"text-align: justify;\">Com o avanço das mídias sociais ficou fácil expôr as opiniões e se ocultar delas, e não é dificil encontrar algum grupo disseminando ataques com notícias enganosas e polêmicas, ou muita das vezes racistas e preconceituosas. Esse tipo de mensagem sempre se destina a desfavorecer grupos de forma potencialmente prejudicial, como celebridades ou pessoas ligadas a governo, entidade governamental ou privada. Mas, como identificar uma notícia falsa? Como impedir uma dissiminação viral? O que constitui o discurso de ódio?</p>\n",
    "<p style=\"text-align: justify;\">O objetivo desse estudo é desenvolver um algorítmo de processamento de línguagem natural, conhecido como NLP ( Natural Linguage Processing ). Esse tipo de algoritmo nos ajuda a resolver problemas da geração e compreensão automática de línguas humanas naturais.</p>\n",
    "<p style=\"text-align: justify;\">O desafio será criar um modelo em inteligência artificial para reconhecimento de línguagem humana ou natural sobre um conjunto de dados que contenha textos, e deverá ser capaz de identificar se o texto se referência a notícia verdadeira ou se trata-se de uma \"fake news\".</p>\n",
    "\n",
    "<p style=\"text-align: justify;\">&nbsp;</p>\n",
    "<p><strong>PALAVRAS-CHAVE: <em>Fake News</em>. Dados. Comunica&ccedil;&atilde;o. Aprendizado de M&aacute;quina.</strong></p>\n",
    "<h2>&nbsp;</h2>"
   ]
  },
  {
   "cell_type": "markdown",
   "metadata": {},
   "source": [
    "<p style=\"text-align: center;\"><strong>ABSTRACT</strong></p>\n",
    "<p style=\"text-align: center;\">&nbsp;</p>\n",
    "\n",
    "<p style=\"text-align: justify;\">We are currently in a troubled period around the world. In times such as election and fighting inequality, we are feeding on information that is often fake news, so-called \"FAKE NEWS\" and offensive and hate speech.</p>\n",
    "<p style=\"text-align: justify;\">With the advancement of social media it has become easy to expose opinions and hide from them, and it is not difficult to find any group spreading attacks with misleading and controversial, or often racist and biased, news. This type of message is always intended to disadvantage groups that are potentially harmful, such as celebrities or people linked to government, government or private entities. But how to identify fake news? How to prevent a viral breakdown? What constitutes hate speech?</p>\n",
    "<p style=\"text-align: justify;\">The aim of this study is to develop a natural language processing algorithm known as NLP (Natural Linguage Processing). This kind of algorithm helps us solve problems of automatic generation and understanding of natural human languages.</p>\n",
    "<p style=\"text-align: justify;\">The challenge will be to create an artificial intelligence model for recognizing human or natural language over a data set containing texts, and should be able to identify whether the text refers to true news or is fake news.</p>\n",
    "\n",
    "<p><strong>KEYWORDS: Fake News. Data. Communication. Machibe Learning.</strong></p>\n",
    "<h2>&nbsp;</h2>"
   ]
  },
  {
   "cell_type": "markdown",
   "metadata": {},
   "source": [
    "<p style=\"text-align: center;\"><strong>SUMÁRIO</strong></p>\n",
    "<p style=\"text-align: center;\">&nbsp;</p>\n",
    "<p style=\"text-align: justify;\">CRIAR SUMÁRIO</p>\n",
    "<p style=\"text-align: justify;\">&nbsp;</p>\n",
    "<h2>&nbsp;</h2>"
   ]
  },
  {
   "cell_type": "markdown",
   "metadata": {},
   "source": [
    "***"
   ]
  },
  {
   "cell_type": "markdown",
   "metadata": {},
   "source": [
    "<p style=\"text-align: left;\"><strong>1 INTRODU&Ccedil;&Atilde;O</strong></p>\n",
    "<h2>&nbsp;</h2>"
   ]
  },
  {
   "cell_type": "markdown",
   "metadata": {},
   "source": [
    "<p style=\"text-align: left;\"><strong>2 ANCORAGEM METODOL&Oacute;GICA: COMO (N&Atilde;O) FALAR DO SOCIAL</strong></p>\n",
    "<h2>&nbsp;</h2>"
   ]
  },
  {
   "cell_type": "markdown",
   "metadata": {},
   "source": [
    "<p style=\"text-align: left;\"><strong>2.1 OS MEDIADORES, OS RASTROS E AS INCERTEZAS QUE DEVEM SER SUPERADAS</strong></p>\n",
    "<h2>&nbsp;</h2>"
   ]
  },
  {
   "cell_type": "markdown",
   "metadata": {},
   "source": [
    "<p style=\"text-align: left;\"><strong>3 AO ENCONTRO DOS PIRATAS DO HUMANO</strong></p>\n",
    "<h2>&nbsp;</h2>"
   ]
  },
  {
   "cell_type": "markdown",
   "metadata": {},
   "source": [
    "<p style=\"text-align: left;\"><strong>3.1 DELIMITA&Ccedil;&Otilde;ES DO MOVIMENTO BODY HACKTIVISM</strong></p>\n",
    "<h2>&nbsp;</h2>"
   ]
  },
  {
   "cell_type": "markdown",
   "metadata": {},
   "source": [
    "<p style=\"text-align: left;\"><strong>3.1.1 O Manifesto Body Hacktivism e o individualismo extremo</strong></p>\n",
    "<h2>&nbsp;</h2>"
   ]
  },
  {
   "cell_type": "markdown",
   "metadata": {},
   "source": [
    "<p style=\"text-align: left;\"><strong>4 A LIVRE ASSOCIA&Ccedil;&Atilde;O ENTRE O HOMEM E A T&Eacute;CNICA: OS PRECURSORES &ldquo;CIBORGUES&rdquo;</strong></p>\n",
    "<h2>&nbsp;</h2>"
   ]
  },
  {
   "cell_type": "markdown",
   "metadata": {},
   "source": [
    "<p style=\"text-align: left;\"><strong>4.1 SEGUINDO OS ATORES,TRA&Ccedil;ANDO AS REDES</strong></p>\n",
    "<h2>&nbsp;</h2>"
   ]
  },
  {
   "cell_type": "markdown",
   "metadata": {},
   "source": [
    "<p style=\"text-align: left;\"><strong>4.2 OS BODY HACKTIVISTS E AS PERFORMANCES</strong></p>\n",
    "<h2>&nbsp;</h2>"
   ]
  },
  {
   "cell_type": "markdown",
   "metadata": {},
   "source": [
    "<p style=\"text-align: left;\"><strong>4.2.1 Cyber&eacute;sth&eacute;sie: explora&ccedil;&atilde;o real da sensualidade virtual</strong></p>\n",
    "<h2>&nbsp;</h2>"
   ]
  },
  {
   "cell_type": "markdown",
   "metadata": {},
   "source": [
    "<p style=\"text-align: left;\"><strong>5 AS NOVAS VIAS DE ASSOCIA&Ccedil;&Atilde;O DO HOMEM COM A TECNOLOGIA</strong></p>\n",
    "<h2>&nbsp;</h2>"
   ]
  },
  {
   "cell_type": "markdown",
   "metadata": {},
   "source": [
    "<p style=\"text-align: left;\"><strong>5.1 O MICROCHIP ELETR&Ocirc;NICO UTILIZADO EM SERES HUMANOS</strong></p>\n",
    "<h2>&nbsp;</h2>"
   ]
  },
  {
   "cell_type": "markdown",
   "metadata": {},
   "source": [
    "<p style=\"text-align: left;\"><strong>5.1.1 O microchip e as possibilidades de vigil&acirc;ncia</strong></p>\n",
    "<h2>&nbsp;</h2>"
   ]
  },
  {
   "cell_type": "markdown",
   "metadata": {},
   "source": [
    "<p style=\"text-align: left;\"><strong>5.1.2 As controv&eacute;rsias do microchip</strong></p>\n",
    "<h2>&nbsp;</h2>"
   ]
  },
  {
   "cell_type": "markdown",
   "metadata": {},
   "source": [
    "<p style=\"text-align: left;\"><strong>5.2 IMPLANTE, AFETA&Ccedil;&Atilde;O CORPORAL, INOVA&Ccedil;&Atilde;O E RISCO</strong></p>\n",
    "<h2>&nbsp;</h2>"
   ]
  },
  {
   "cell_type": "markdown",
   "metadata": {},
   "source": [
    "<p style=\"text-align: left;\"><strong>6 CONSIDERA&Ccedil;&Otilde;ES FINAIS</strong></p>\n",
    "<h2>&nbsp;</h2>"
   ]
  },
  {
   "cell_type": "markdown",
   "metadata": {},
   "source": [
    "<p style=\"text-align: left;\"><strong>REFER&Ecirc;NCIAS</strong></p>"
   ]
  },
  {
   "cell_type": "markdown",
   "metadata": {},
   "source": [
    "<p style=\"text-align: justify;\">[1] DAVIDSON, Thomas et al. Hate Speech and Offensive Language: 24k tweets labeled as hate speech, offensive language, or neither. 2017. Dispon&iacute;vel em: &lt;https://data.world/thomasrdavidson/hate-speech-and-offensive-language&gt;. Acesso em: 14 set. 2018.</p>\n",
    "<p style=\"text-align: justify;\">[2] SANTANA, Felipe. Fake news, not&iacute;cias em texto e oportunidades. 2018. Dispon&iacute;vel em: &lt;http://minerandodados.com.br/index.php/2018/10/09/fake-news-noticias-em-texto-e-oportunidades/&gt;. Acesso em: 12 out. 2018.</p>\n",
    "<p style=\"text-align: justify;\">[3] PEREZ-ROSAS, Ver&ocirc;nica et al. Automatic Detection of Fake News. 2016. 10 f. Department of Psychology (Computer Science and Engineering,) - University of Michigan, [S.l.], 2016.</p>\n",
    "<p style=\"text-align: justify;\">[4] W. PENNEBAKER, James. Lying Words: Predicting Deception From Linguistic Styles. In: L. NEWMAN, Mathew et al. Lying Words: Predicting Deception From Linguistic Styles. 2003. ed. [S.l.]: PSPB, 2009. p. 665-675. v. 1.</p>\n",
    "<p style=\"text-align: justify;\">[5] PEREZ-ROSAS, Ver&ocirc;nica; MIHALCEA, Rada. Experiments in Open Domain Deception Detection. 2008. 6 p. Computer Science (Computer Science and Engineering) - University of Michigan, [S.l.], 2008.</p>\n",
    "<p style=\"text-align: justify;\">[6] DA ROCHA, Bernardo Abbad et al. O avan&ccedil;o das fake news e sua retrata&ccedil;&atilde;o na m&iacute;dia de refer&ecirc;ncia. 2018. 15 p. Sociedade Brasileira de Estudos Interdisciplinares da Comunica&ccedil;&atilde;o (Congresso de Ci&ecirc;ncias da Comunica&ccedil;&atilde;o na Regi&atilde;o Sul) - Universidade Federal de Santa Maria, Santa Maria, RS, Cascavel-PR, 2018.</p>\n",
    "<p style=\"text-align: justify;\">[7] RUBIN, Victoria L. et al. Fake News or Truth? Using Satirical Cues to Detect Potentially Misleading News. 2015. 11 p. Language and Information Technology Research Lab (Faculty of Information and Media Studies) - University of Western Ontario, London, Ontario, CANADA, 2015.</p>\n",
    "<p style=\"text-align: justify;\">[8] SHAFQAT, Wafa et al. The Language of Deceivers: Linguistic Features of Crowdfunding Scams. 2015. 2 p. Sangmyung University (Sangmyung University)- Sangmyung University, Cheonan, South Korea, 2015.</p>\n",
    "<p style=\"text-align: justify;\">[9] CONROY, Niall J.; RUBIN, Victoria L.; CHEN, Yimin. Automatic Deception Detection: Methods for Finding Fake News. 2014. 4 f. Language and Information Technology Research Lab (LIT.RL) (Faculty of Information and Media Studies) - University of Western Ontario, London, Ontario, CANADA, 2014.</p>\n",
    "<p style=\"text-align: justify;\">[10] DAVIDSON, Thomas et al. Automated Hate Speech Detection and the Problem of Offensive Language. 2013. 4 f. Department of Applied Mathematics (Qatar Computing Research Institute) - Cornell University, 3Department of Information Science, Ithaca, NY, USA, 2013.</p>\n",
    "<p style=\"text-align: justify;\">[11] MIN H. Kao Department of Electrical Engineering &amp; Computer Science. [S. l.], 2019. Available in: https://www.eecs.utk.edu/people/student-organizations/. Accessed in: 9 jul. 2019.</p>\n",
    "<p style=\"text-align: justify;\">[12] BROWNLEE , Jason. A Gentle Introduction to the Rectified Linear Unit (ReLU). [S. l.], 9 jan. 2019. Available in: https://machinelearningmastery.com/rectified-linear-activation-function-for-deep-learning-neural-networks/. Accessed in: 9 jul. 2019.</p>\n",
    "<p style=\"text-align: justify;\">[13] DEPARTMENT of Electrical Engineering and Computer Science - UTK. [S. l.], 2019. Dispon&iacute;vel em: https://www.facebook.com/EECS.UTK/. Accessed in: 9 jul. 2019.</p>\n",
    "<p style=\"text-align: justify;\">[14] BROWNLEE, Jason. Dropout Regularization in Deep Learning Models With Keras. [S. l.], 20 jun. 2016. Available in: https://machinelearningmastery.com/dropout-regularization-deep-learning-models-keras/. Accessed in: 9 jul. 2019.</p>\n",
    "<p style=\"text-align: justify;\">[15] BIDIRECTIONAL Long Short-Term Memory (BI-LSTM) with Attention Mechanism. [S. l.], 30 jun. 2019. Available in: http://primo.ai/index.php?title=Bidirectional_Long_Short-Term_Memory_(BI-LSTM)_with_Attention_Mechanism. Accessed in: 9 jul. 2019.</p>\n",
    "<p style=\"text-align: justify;\">[16] BROWNLEE, Jason. Sequence Classification with LSTM Recurrent Neural Networks in Python with Keras. [S. l.], 26 jul. 2016. Available in: https://machinelearningmastery.com/sequence-classification-lstm-recurrent-neural-networks-python-keras/. Accessed in: 9 jul. 2019.</p>\n",
    "<p style=\"text-align: justify;\">[17] BIDIRECTIONAL recurrent neural networks. [S. l.], 7 jul. 2019. Available in: https://en.wikipedia.org/wiki/Bidirectional_recurrent_neural_networks. Accessed in: 9 jul. 2019.</p>\n",
    "<p style=\"text-align: justify;\">[18] A BEGINNER&lsquo;S Guide to LSTMs and Recurrent Neural Networks. [S. l.], 2019. Available in: https://skymind.ai/wiki/lstm. Accessed in: 9 jul. 2019.</p>\n",
    "<p style=\"text-align: justify;\">[19] OLAH, Christopher. Understanding LSTM Networks. [S. l.], 27 ago. 2015. Available in: https://colah.github.io/posts/2015-08-Understanding-LSTMs/. Accessed in: 9 jul. 2019.</p>\n",
    "<p style=\"text-align: justify;\">[20] HE, Lang He et al. Multimodal Affective Dimension Prediction Using Deep Bidirectional Long Short-Term Memory Recurrent Neural Networks. Proceeding AVEC &lsquo;15 Proceedings of the 5th International Workshop on Audio/Visual Emotion Challenge Pages 73-80, 26 out. 2015. Available in: https://dl.acm.org/citation.cfm?id=2811641. Accessed in: 9 jul. 2019.</p>\n",
    "<p style=\"text-align: justify;\">[21] GUAN, Zhonghui et al. Integration of Long-Term-Memory-Related SynapticPlasticity Involves Bidirectional Regulationof Gene Expression and Chromatin Structure. [S. l.], 15 nov. 2002. Dispon&iacute;vel em: https://reader.elsevier.com/reader/sd/pii/S0092867402010747?token=73DB87FE6A1527FD3EF86124A1AC74C4D12672A129141DEEE0E768066DC0E8118D7DE4A039BB31A75FE45A3EE126C6C3. Accessed in: 9 jul. 2019.</p>\n",
    "<p style=\"text-align: justify;\">[22] LIWICKI, Marcus et al. A Novel Approach to On-Line Handwriting Recognition Based on Bidirectional Long Short-Term Memory Networks. [S. l.], 2019. Available in: https://mediatum.ub.tum.de/doc/1289961/file.pdf. Accessed in: 9 jul. 2019.</p>\n",
    "<p style=\"text-align: justify;\">[23] ZHOU, Peng et al. Attention-Based Bidirectional Long Short-Term Memory Networks for Relation Classification. [S. l.], 2019. Dispon&iacute;vel em: https://www.aclweb.org/anthology/P16-2034. Accessed in: 9 jul. 2019.</p>\n",
    "<p style=\"text-align: justify;\">[24] Frei , Lukas. Speed Up Your Exploratory Data Analysis With Pandas-Profiling. [S. l.], 25 apr. 2019. Available in: https://towardsdatascience.com/speed-up-your-exploratory-data-analysis-with-pandas-profiling-88b33dc53625. Accessed in: 9 jul. 2019.</p>"
   ]
  },
  {
   "cell_type": "markdown",
   "metadata": {},
   "source": [
    "<h2>&nbsp;</h2>"
   ]
  },
  {
   "cell_type": "markdown",
   "metadata": {},
   "source": [
    "***"
   ]
  }
 ],
 "metadata": {
  "kernelspec": {
   "display_name": "Python [conda env:Programming]",
   "language": "python",
   "name": "conda-env-Programming-py"
  },
  "language_info": {
   "codemirror_mode": {
    "name": "ipython",
    "version": 3
   },
   "file_extension": ".py",
   "mimetype": "text/x-python",
   "name": "python",
   "nbconvert_exporter": "python",
   "pygments_lexer": "ipython3",
   "version": "3.7.1"
  }
 },
 "nbformat": 4,
 "nbformat_minor": 2
}
