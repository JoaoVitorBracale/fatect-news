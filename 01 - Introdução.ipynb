{
 "cells": [
  {
   "cell_type": "markdown",
   "metadata": {},
   "source": [
    "<p>&nbsp;</p>\n",
    "</p><h1 style=\"text-align: center;\"><strong>Detec&ccedil;&atilde;o automatizada de Fake News</strong></h1>\n",
    "<h1 style=\"text-align: center;\"><strong>e o problema da linguagem ofensiva</strong></h1>\n",
    "<h1 style=\"text-align: center;\"><strong>e &oacute;dio</strong></h1>\n",
    "<p>&nbsp;</p><p>&nbsp;</p>"
   ]
  },
  {
   "cell_type": "markdown",
   "metadata": {},
   "source": [
    "</p><h4 style=\"text-align: center;\"><strong>Proposta de Tema para Trabalho de Conclusão do Curso de Especialização em Ciência de Dados.</strong></h4>"
   ]
  },
  {
   "cell_type": "markdown",
   "metadata": {},
   "source": [
    "</p><h3 style=\"text-align: center;\"><strong>Faculdade de Engenharia de Sorocaba</strong></h3>"
   ]
  },
  {
   "cell_type": "markdown",
   "metadata": {},
   "source": [
    "Proposto por:\n",
    "\n",
    "Alex Cozer Abrantes RA:183150\n",
    "\n",
    "Bruno Alves Comitre RA:183141"
   ]
  },
  {
   "cell_type": "markdown",
   "metadata": {},
   "source": [
    "***"
   ]
  },
  {
   "cell_type": "markdown",
   "metadata": {},
   "source": [
    "# Índice"
   ]
  },
  {
   "cell_type": "markdown",
   "metadata": {},
   "source": [
    "<ul>\n",
    "    <li><a href='#motivacao'>1. Motivação</a></li>\n",
    "    <li><a href='#objetivos'>2. Objetivos</a></li>\n",
    "    <li><a href='#fonte_dados'>3. Fonte de Dados</a></li>\n",
    "    <li><a href='#referencias'>4. Referências</a></li>\n",
    "</ul>    "
   ]
  },
  {
   "cell_type": "markdown",
   "metadata": {},
   "source": [
    "<a id='motivacao'></a>\n",
    "# 1. Motivação:"
   ]
  },
  {
   "cell_type": "markdown",
   "metadata": {},
   "source": [
    "<p style=\"text-align: justify;\">Réflexions d’Un Historien Sur les Fausses Nouvelles de la Guerre, que em português significa (“Reflexões de um historiador sobre as falsas notícias da guerra” , Allia, 2012) é o título de um texto publicado originalmente em 1921 por Marc Bloch, um dos mais influentes historiador do século XX, após retornar da Primeira Guerra Mundial alucinado com a importância que as notícias falsas haviam tido, ao refletir sobre escreveu: “Histórias falsas aumentaram a multidão. As notícias falsas, em toda a multiplicidade de suas formas - contos simples, imposturas, lendas - encheram a vida da humanidade. “, continuou, “Como eles nascem? De quais elementos eles extraem? como eles se espalham, ganhando impulso quando passam de boca em boca ou escrevendo por escrito? Não há dúvida mais do que aqueles que merecem fascinar quem gosta de pensar em história.” e afirmou, “Um erro só se propaga e se amplifica, só ganha vida com uma condição: encontrar um caldo de cultivo favorável na sociedade onde se expande. Nele, de forma inconsciente, os homens expressam seus preconceitos, seus ódios, seus temores, todas as suas emoções”. Em outras palavras, as notícias falsas necessitam de pessoas que preferem informações que confirmam suas atitudes preexistentes, veem as informações consistentes com suas crenças como mais persuasivas do que as dissonantes e tendem a aceitar informações que as agradam.</p>\n",
    "<p style=\"text-align: justify;\">Um estudo que avaliou a divulgação de importantes notícias falsas estimou que o americano encontrou entre uma a três notícias falsas durante o mês anterior às eleições americanas de 2016. Outro estudo relatou que informações falsas no Twitter são normalmente retuítadas por muito mais pessoas, e muito mais rapidamente, do que informações verdadeiras, especialmente quando o assunto é política, as pessoas têm muito mais probabilidade de acreditar em histórias que favorecem seu candidato preferido. Pesquisadores das universidades do Sul da Califórnia e de Indiana estimaram que haja entre 9% a 15% de robôs no Twitter e o Facebook estimou que 60 milhões de bots podem estar infestando sua plataforma. Eles foram responsáveis por uma parte substancial do conteúdo político publicado durante a campanha nos EUA de 2016, e alguns dos mesmos bots foram usados mais tarde para tentar influenciar a eleição francesa de 2017. Portanto, a identificação de bots será um grande desafio de pesquisa.</p>\n",
    "<p style=\"text-align: justify;\">CONTINUAÇÃO.....</p>\n"
   ]
  },
  {
   "cell_type": "markdown",
   "metadata": {},
   "source": [
    "<a id='objetivos'></a>\n",
    "# 2. Objetivos:"
   ]
  },
  {
   "cell_type": "markdown",
   "metadata": {},
   "source": [
    "<p style=\"text-align: justify;\">\n",
    "    O objetivo desse estudo é desenvolver um algorítmo de processamento de línguagem natural, conhecido como NLP ( Natural Linguage Processing ). Esse tipo de algoritmo nos ajuda a resolver problemas da geração e compreensão automática de línguas humanas naturais.</p>\n",
    "<p style=\"text-align: justify;\">O desafio será criar um modelo em inteligência artificial para reconhecimento de línguagem humana ou natural sobre um conjunto de dados que contenha textos, e deverá ser capaz de identificar se o texto se referência a notícia verdadeira ou se trata-se de uma <b>notícia falsa</b>.</p>"
   ]
  },
  {
   "cell_type": "markdown",
   "metadata": {},
   "source": [
    "<a id='fonte_dados'></a>\n",
    "# 3. Fonte de Dados:"
   ]
  },
  {
   "cell_type": "markdown",
   "metadata": {},
   "source": [
    "<p style=\"text-align: justify;\">\n",
    "    No início dos estudos nosso desafio era extrair tais informações por meio de scraping em sites jornalísticos e blogs, mas, entendemos que a demanda de tempo seria grande e o foco do trabalho é o desenvolvendo de um modelo para aprendizado de máquina que seja capaz de identificar uma notícia falsa, então a tarefa de scraping foi cancelada e procuramos encontrar algum conjunto de dados que atenda a estrutura que havíamos planejado: </p>\n",
    "<pre>\n",
    "{\n",
    " \"article\": {\n",
    "   \"id\": \"number sequencial\",\n",
    "   \"type\": \"object\",\n",
    "   \"url\": \"string\",\n",
    "   \"base_url\": \"string\",\n",
    "   \"main_language\": \"string\",\n",
    "   \"authors\": \"string\",\n",
    "   \"title\": \"string\",\n",
    "   \"subtitle\": \"string\",\n",
    "   \"body\": {\n",
    "        \"paragraphs\": \"qtdy paragraphs\",\n",
    "        \"paragraphs_body\": \"array each paragraphs\",\n",
    "        \"paragraphs_main_entities\": \"array each main entities\",\n",
    "        \"number_of_words\": \"string\",\n",
    "        \"tags\": \"string\",\n",
    "        \"images_url\": \"string\",\n",
    "        \"image_legends\": \"string\",\n",
    "        \"datetime\": \"string\"\n",
    "    }\n",
    " }\n",
    "}\n",
    "</pre>\n",
    "<p style=\"text-align: justify;\">Segundo Victoria L. Rubin et al. 9 pontos são importantes para a coleta dos dados:</p>\n",
    "<p style=\"text-align: justify;\">\n",
    "<li>\n",
    "    <ul>- Paridade de notícias verdadeiras e falsas</ul>\n",
    "    <ul>- Notícias em versão texto</ul>\n",
    "    <ul>- Possibilidade de confirmar a verdade</ul>\n",
    "    <ul>- Homogeneidade no tamanho dos artigos</ul>\n",
    "    <ul>- Homogeneidade no estilo de escrita</ul>\n",
    "    <ul>- Janela de tempo bem definida para coleta</ul>\n",
    "    <ul>- Definir o estilo de notícia</ul>\n",
    "    <ul>- Fatores pragmáticos, como custo de aquisição e disponibilidade das notícias</ul>\n",
    "    <ul>- Definir idioma e cultura das notícias</ul>\n",
    "</li>\n",
    "</p>\n",
    "<p style=\"text-align: justify;\"> A base dos estudos está no conjunto de dados extraído por meio do site Kaggle, no qual se encontram pesquisas com dados de notícias falsas ou verdadeiros de âmbito político. Estas pesquisas estão no idioma Inglês e portanto, todo o estudo será com base neste idioma. \n",
    "<p style=\"text-align: justify;\">\n",
    "<li>\n",
    "    <ul><div class=\"alert alert-danger\" role=\"alert\">\n",
    "          <a href=\"https://www.kaggle.com/c/fake-news/data\"><b>Fake News</b></a> - 20k de dados extraídos na web rotulados como confiável e não confiável.\n",
    "        </div>\n",
    "    </ul>\n",
    "</li>\n",
    "<br />\n",
    "<p><b>Schema json do conjunto de dados:</b></p>\n",
    "<pre>\n",
    "{\n",
    " \"article\": {\n",
    "   \"id\": \"number sequencial\",\n",
    "   \"author\": \"string\",\n",
    "   \"title\": \"string\",\n",
    "   \"text\": \"string\",\n",
    "   \"target\": \"boolean\"\n",
    " }\n",
    "}\n",
    "</pre>"
   ]
  },
  {
   "cell_type": "markdown",
   "metadata": {},
   "source": [
    "<div class=\"alert alert-block alert-info\">\n",
    "<b>Dica:</b> Os conjuntos de dados estão dentro da pasta Datasets\n",
    "</div>"
   ]
  },
  {
   "cell_type": "markdown",
   "metadata": {},
   "source": [
    "<a id='referencias'></a>\n",
    "# 4. Referências:"
   ]
  },
  {
   "cell_type": "markdown",
   "metadata": {},
   "source": [
    "[1] DAVIDSON, Thomas et al. Hate Speech and Offensive Language: 24k tweets labeled as hate speech, offensive language, or neither. 2017. Disponível em: <https://data.world/thomasrdavidson/hate-speech-and-offensive-language>. Acesso em: 14 set. 2018.\n",
    "\n",
    "[2] SANTANA, Felipe. Fake news, notícias em texto e oportunidades. 2018. Disponível em: <http://minerandodados.com.br/index.php/2018/10/09/fake-news-noticias-em-texto-e-oportunidades/>. Acesso em: 12 out. 2018.\n",
    "\n",
    "[3] PEREZ-ROSAS, Verônica et al. Automatic Detection of Fake News. 2016. 10 f. Department of Psychology (Computer Science and Engineering,) - University of Michigan, [S.l.], 2016.\n",
    "\n",
    "[4] W. PENNEBAKER, James. Lying Words: Predicting Deception From Linguistic Styles. In: L. NEWMAN, Mathew et al. Lying Words: Predicting Deception From Linguistic Styles. 2003. ed. [S.l.]: PSPB, 2009. p. 665-675. v. 1.\n",
    "\n",
    "[5] PEREZ-ROSAS, Verônica; MIHALCEA, Rada. Experiments in Open Domain Deception Detection. 2008. 6 p. Computer Science (Computer Science and Engineering) - University of Michigan, [S.l.], 2008.\n",
    "\n",
    "[6] DA ROCHA, Bernardo Abbad et al. O avanço das fake news e sua retratação na mídia de referência. 2018. 15 p. Sociedade Brasileira de Estudos Interdisciplinares da Comunicação (Congresso de Ciências da Comunicação na Região Sul) - Universidade Federal de Santa Maria, Santa Maria, RS, Cascavel-PR, 2018.\n",
    "\n",
    "[7] RUBIN, Victoria L. et al. Fake News or Truth? Using Satirical Cues to Detect Potentially Misleading News. 2015. 11 p. Language and Information Technology Research Lab (Faculty of Information and Media Studies) - University of Western Ontario, London, Ontario, CANADA, 2015.\n",
    "\n",
    "[8] SHAFQAT, Wafa et al. The Language of Deceivers: Linguistic Features of Crowdfunding Scams. 2015. 2 p. Sangmyung University (Sangmyung University)- Sangmyung University, Cheonan, South Korea, 2015.\n",
    "\n",
    "[9] CONROY, Niall J.; RUBIN, Victoria L.; CHEN, Yimin. Automatic Deception Detection: Methods for Finding Fake News. 2014. 4 f. Language and Information Technology Research Lab (LIT.RL) (Faculty of Information and Media Studies) - University of Western Ontario, London, Ontario, CANADA, 2014.\n",
    "\n",
    "[10] DAVIDSON, Thomas et al. Automated Hate Speech Detection and the Problem of Offensive Language. 2013. 4 f. Department of Applied Mathematics (Qatar Computing Research Institute) - Cornell University, 3Department of Information Science, Ithaca, NY, USA, 2013.\n",
    "\n",
    "[11] MIN H. Kao Department of Electrical Engineering & Computer Science. [S. l.], 2019. Available in: https://www.eecs.utk.edu/people/student-organizations/. Accessed in: 9 jul. 2019.\n",
    "\n",
    "[12] BROWNLEE , Jason. A Gentle Introduction to the Rectified Linear Unit (ReLU). [S. l.], 9 jan. 2019. Available in: https://machinelearningmastery.com/rectified-linear-activation-function-for-deep-learning-neural-networks/. Accessed in: 9 jul. 2019.\n",
    "\n",
    "[13] DEPARTMENT of Electrical Engineering and Computer Science - UTK. [S. l.], 2019. Disponível em: https://www.facebook.com/EECS.UTK/. Accessed in: 9 jul. 2019.\n",
    "\n",
    "[14] BROWNLEE, Jason. Dropout Regularization in Deep Learning Models With Keras. [S. l.], 20 jun. 2016. Available in: https://machinelearningmastery.com/dropout-regularization-deep-learning-models-keras/. Accessed in: 9 jul. 2019.\n",
    "\n",
    "[15] BIDIRECTIONAL Long Short-Term Memory (BI-LSTM) with Attention Mechanism. [S. l.], 30 jun. 2019. Available in: http://primo.ai/index.php?title=Bidirectional_Long_Short-Term_Memory_(BI-LSTM)_with_Attention_Mechanism. Accessed in: 9 jul. 2019.\n",
    "\n",
    "[16] BROWNLEE, Jason. Sequence Classification with LSTM Recurrent Neural Networks in Python with Keras. [S. l.], 26 jul. 2016. Available in: https://machinelearningmastery.com/sequence-classification-lstm-recurrent-neural-networks-python-keras/. Accessed in: 9 jul. 2019.\n",
    "\n",
    "[17] BIDIRECTIONAL recurrent neural networks. [S. l.], 7 jul. 2019. Available in: https://en.wikipedia.org/wiki/Bidirectional_recurrent_neural_networks. Accessed in: 9 jul. 2019.\n",
    "\n",
    "[18] A BEGINNER‘S Guide to LSTMs and Recurrent Neural Networks. [S. l.], 2019. Available in: https://skymind.ai/wiki/lstm. Accessed in: 9 jul. 2019.\n",
    "\n",
    "[19] OLAH, Christopher. Understanding LSTM Networks. [S. l.], 27 ago. 2015. Available in: https://colah.github.io/posts/2015-08-Understanding-LSTMs/. Accessed in: 9 jul. 2019.\n",
    "\n",
    "[20] HE, Lang He et al. Multimodal Affective Dimension Prediction Using Deep Bidirectional Long Short-Term Memory Recurrent Neural Networks. Proceeding AVEC ‘15 Proceedings of the 5th International Workshop on Audio/Visual Emotion Challenge Pages 73-80, 26 out. 2015. Available in: https://dl.acm.org/citation.cfm?id=2811641. Accessed in: 9 jul. 2019.\n",
    "\n",
    "[21] GUAN, Zhonghui et al. Integration of Long-Term-Memory-Related SynapticPlasticity Involves Bidirectional Regulationof Gene Expression and Chromatin Structure. [S. l.], 15 nov. 2002. Disponível em: https://reader.elsevier.com/reader/sd/pii/S0092867402010747?token=73DB87FE6A1527FD3EF86124A1AC74C4D12672A129141DEEE0E768066DC0E8118D7DE4A039BB31A75FE45A3EE126C6C3. Accessed in: 9 jul. 2019.\n",
    "\n",
    "[22] LIWICKI, Marcus et al. A Novel Approach to On-Line Handwriting Recognition Based on Bidirectional Long Short-Term Memory Networks. [S. l.], 2019. Available in: https://mediatum.ub.tum.de/doc/1289961/file.pdf. Accessed in: 9 jul. 2019.\n",
    "\n",
    "[23] ZHOU, Peng et al. Attention-Based Bidirectional Long Short-Term Memory Networks for Relation Classification. [S. l.], 2019. Disponível em: https://www.aclweb.org/anthology/P16-2034. Accessed in: 9 jul. 2019.\n",
    "\n",
    "[24] Frei , Lukas. Speed Up Your Exploratory Data Analysis With Pandas-Profiling. [S. l.], 25 apr. 2019. Available in: https://towardsdatascience.com/speed-up-your-exploratory-data-analysis-with-pandas-profiling-88b33dc53625. Accessed in: 9 jul. 2019.\n",
    "\n",
    "[25] Lucendo, Guillermo Altares. A longa história das notícias falsas, 18 jun 2018. Available in: https://brasil.elpais.com/brasil/2018/06/08/cultura/1528467298_389944.html. Accessed in: 01 out. 2019.\n",
    "\n",
    "[26] Réflexions d’un historien sur les fausses nouvelles de la guerre. Available in: https://fr.wikisource.org/wiki/R%C3%A9flexions_d%E2%80%99un_historien_sur_les_fausses_nouvelles_de_la_guerre. Accessed in: 01 out. 2019.\n",
    "\n",
    "[27] David M. J. Lazer, Matthew A. Baum, Yochai Benkler, Adam J. Berinsky, Kelly M. Greenhill, Filippo Menczer, Miriam J.Metzger, Brendan Nyhan, Gordon Pennycook, David Rothschild, Michael Schudson, Steven A. Sloman, Cass R. Sunstein, Emily A. Thorson, Duncan J. Watts and Jonathan L. Zittrain. The science of fake news. Available in: https://scholar.harvard.edu/files/mbaum/files/science_of_fake_news.pdf. Accessed in: 01 out. 2019."
   ]
  }
 ],
 "metadata": {
  "kernelspec": {
   "display_name": "Python 3",
   "language": "python",
   "name": "python3"
  },
  "language_info": {
   "codemirror_mode": {
    "name": "ipython",
    "version": 3
   },
   "file_extension": ".py",
   "mimetype": "text/x-python",
   "name": "python",
   "nbconvert_exporter": "python",
   "pygments_lexer": "ipython3",
   "version": "3.7.3"
  }
 },
 "nbformat": 4,
 "nbformat_minor": 2
}
