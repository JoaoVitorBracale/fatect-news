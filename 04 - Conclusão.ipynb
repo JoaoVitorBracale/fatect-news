{
 "cells": [
  {
   "cell_type": "markdown",
   "metadata": {},
   "source": [
    "<p style=\"text-align: center;\"><strong> FACULDADE DE ENGENHARIA DE SOROCABA - FACENS</strong>\n",
    "    <br />\n",
    "    PÓS GRADUAÇÃO EM ESPECIALIZAÇÃO EM CIÊNCIA DE DADOS\n",
    "</p>\n",
    "<h2>&nbsp;</h2>"
   ]
  },
  {
   "cell_type": "markdown",
   "metadata": {},
   "source": [
    "<p style=\"text-align: center;\"><strong>ALEX COELHO ABRANTES</strong></p>\n",
    "<p style=\"text-align: center;\"><strong>BRUNO ALVES COMITRE</strong></p>\n",
    "<p style=\"text-align: center;\"><strong>DETEC&Ccedil;&Atilde;O AUTOMATIZADA DE FAKE NEWS E O PROBLEMA DA LINGUAGEM OFENSIVA</strong></p>\n",
    "<h2>&nbsp;</h2>"
   ]
  },
  {
   "cell_type": "markdown",
   "metadata": {},
   "source": [
    "<p style=\"text-align: right;\">Tese apresentada ao Programa de P&oacute;s-Gradua&ccedil;&atilde;o <br />\n",
    "em Ci&ecirc;ncias de Dados da Faculdade de Engenharia de <br />\n",
    "Sorocaba - FACENS, como requisito parcial para a obten&ccedil;&atilde;o <br />\n",
    "do t&iacute;tulo de P&oacute;s Graduado em Ci&ecirc;ncia de Dados. <br />\n",
    "</p>\n",
    "\n",
    "<p style=\"text-align: right;\"> Orientado: Prof. Matheus Mota</p>\n",
    "<p style=\"text-align: right;\"> Coord.: Prof. Fernando Vieira da Silva </p>\n",
    "<h2>&nbsp;</h2>"
   ]
  },
  {
   "cell_type": "markdown",
   "metadata": {},
   "source": [
    "<p style=\"text-align: center;\">SOROCABA</p>\n",
    "<p style=\"text-align: center;\">201</p>\n",
    "<h2>&nbsp;</h2>"
   ]
  },
  {
   "cell_type": "markdown",
   "metadata": {},
   "source": [
    "***"
   ]
  },
  {
   "cell_type": "markdown",
   "metadata": {},
   "source": [
    "<p style=\"text-align: center;\"><strong>DEDICAT&Oacute;RIA</strong></p>\n",
    "<p style=\"text-align: center;\">&nbsp;</p>\n",
    "<p style=\"text-align: justify;\">Dedico esta tese a Alan Turing, que me fortaleceu e me aben&ccedil;oou muito al&eacute;m daquilo que podia sonhar; e aos nossos pais, que a despeito das nossas muitas aus&ecirc;ncias, sempre estiveram ao nosso lado.</p>\n",
    "<h2>&nbsp;</h2>"
   ]
  },
  {
   "cell_type": "markdown",
   "metadata": {},
   "source": [
    "<p style=\"text-align: center;\"><strong>AGRADECIMENTOS</strong></p>\n",
    "<p style=\"text-align: center;\">&nbsp;</p>\n",
    "\n",
    "<p style=\"text-align: justify;\">&Agrave; Universidade gostariamos de deixar uma palavra de gratid&atilde;o por ter recebido de bra&ccedil;os abertos e com todas as condi&ccedil;&otilde;es que nos proporcionaram dias de aprendizagem muito ricos, durante todos os periodos.</p>\n",
    "<p style=\"text-align: justify;\">Aos professores reconhe&ccedil;o um esfor&ccedil;o gigante com muita paci&ecirc;ncia e sabedoria. Foram eles que nos deram recursos e ferramentas para evoluir um pouco mais todos os dias.</p>\n",
    "<p style=\"text-align: justify;\">&Eacute; claro que n&atilde;o pdemos esquecer fam&iacute;lia e amigos, porque foram eles que me incentivaram e inspiraram atrav&eacute;s de gestos e palavras a superar todas as dificuldades e aus&ecirc;ncias.</p>\n",
    "<p style=\"text-align: justify;\">A todas as pessoas que de uma alguma forma nos ajudaram a acreditar que o esfor&ccedil;o valia a pena, queremos deixar um agradecimento.</p>\n",
    "<h2>&nbsp;</h2>"
   ]
  },
  {
   "cell_type": "markdown",
   "metadata": {},
   "source": [
    "<p style=\"text-align: center;\"><strong>RESUMO</strong></p>\n",
    "<p style=\"text-align: center;\">&nbsp;</p>\n",
    "\n",
    "<p style=\"text-align: justify;\">Atualmente estamos num período conturbado em todo mundo. Em períodos como de eleição e combate a desigualdade, estamos se alimentando com informação que muitas das vezes são notícias falsas, as chamadas de \"FAKE NEWS\" e discursos ofensivos e de ódio.</p>\n",
    "<p style=\"text-align: justify;\">Com o avanço das mídias sociais ficou fácil expôr as opiniões e se ocultar delas, e não é dificil encontrar algum grupo disseminando ataques com notícias enganosas e polêmicas, ou muita das vezes racistas e preconceituosas. Esse tipo de mensagem sempre se destina a desfavorecer grupos de forma potencialmente prejudicial, como celebridades ou pessoas ligadas a governo, entidade governamental ou privada. Mas, como identificar uma notícia falsa? Como impedir uma dissiminação viral? O que constitui o discurso de ódio?</p>\n",
    "<p style=\"text-align: justify;\">O objetivo desse estudo é desenvolver um algorítmo de processamento de línguagem natural, conhecido como NLP ( Natural Linguage Processing ). Esse tipo de algoritmo nos ajuda a resolver problemas da geração e compreensão automática de línguas humanas naturais.</p>\n",
    "<p style=\"text-align: justify;\">O desafio será criar um modelo em inteligência artificial para reconhecimento de línguagem humana ou natural sobre um conjunto de dados que contenha textos, e deverá ser capaz de identificar se o texto se referência a notícia verdadeira ou se trata-se de uma \"fake news\".</p>\n",
    "\n",
    "<p style=\"text-align: justify;\">&nbsp;</p>\n",
    "<p><strong>PALAVRAS-CHAVE: <em>Fake News</em>. Dados. Comunica&ccedil;&atilde;o. Aprendizado de M&aacute;quina.</strong></p>\n",
    "<h2>&nbsp;</h2>"
   ]
  },
  {
   "cell_type": "markdown",
   "metadata": {},
   "source": [
    "<p style=\"text-align: center;\"><strong>ABSTRACT</strong></p>\n",
    "<p style=\"text-align: center;\">&nbsp;</p>\n",
    "\n",
    "<p style=\"text-align: justify;\">We are currently in a troubled period around the world. In times such as election and fighting inequality, we are feeding on information that is often fake news, so-called \"FAKE NEWS\" and offensive and hate speech.</p>\n",
    "<p style=\"text-align: justify;\">With the advancement of social media it has become easy to expose opinions and hide from them, and it is not difficult to find any group spreading attacks with misleading and controversial, or often racist and biased, news. This type of message is always intended to disadvantage groups that are potentially harmful, such as celebrities or people linked to government, government or private entities. But how to identify fake news? How to prevent a viral breakdown? What constitutes hate speech?</p>\n",
    "<p style=\"text-align: justify;\">The aim of this study is to develop a natural language processing algorithm known as NLP (Natural Linguage Processing). This kind of algorithm helps us solve problems of automatic generation and understanding of natural human languages.</p>\n",
    "<p style=\"text-align: justify;\">The challenge will be to create an artificial intelligence model for recognizing human or natural language over a data set containing texts, and should be able to identify whether the text refers to true news or is fake news.</p>\n",
    "\n",
    "<p><strong>KEYWORDS: Fake News. Data. Communication. Machine Learning.</strong></p>\n",
    "<h2>&nbsp;</h2>"
   ]
  },
  {
   "cell_type": "markdown",
   "metadata": {},
   "source": [
    "<p style=\"text-align: center;\"><strong>SUMÁRIO</strong></p>\n",
    "<p style=\"text-align: center;\">&nbsp;</p>\n",
    "<ul>\n",
    "    <li><a href='#introducao'>1. INTRODUÇÃO</a></li>\n",
    "    <li><a href='#objetivo'>2. OBJETIVO</a></li>\n",
    "    <li><a href='#fundamentos_biologicos'>3. FUNDAMENTOS BIOLÓGICOS</a></li>\n",
    "    <ul>\n",
    "        <li><a href='#rnn'>3.1 Métodos de Aprendizado</a></li>\n",
    "        <li><a href='#aprendizado'>3.2 Métodos de Aprendizado</a></li>\n",
    "        <li><a href='#padrao_texto'>3.3 Padrões de Texto com Python</a></li>\n",
    "    </ul>\n",
    "    <li><a href='#lstm'>4. LSTM</a></li>\n",
    "    <li><a href='#informacao'>5. RECUPERAÇÃO DE INFORMAÇÃO</a></li>\n",
    "    <li><a href='#implementacao'>6. IMPLEMENTAÇÃO</a></li>\n",
    "    <li><a href='#resultados'>7. RESULTADOS</a></li>\n",
    "    <li><a href='#conclusao'>8. CONCLUSÃO</a></li>\n",
    "    <li><a href='#referencias'>REFERÊNCIAS</a></li>\n",
    "</ul>\n",
    "<p style=\"text-align: justify;\">&nbsp;</p>\n",
    "<h2>&nbsp;</h2>"
   ]
  },
  {
   "cell_type": "markdown",
   "metadata": {},
   "source": [
    "***"
   ]
  },
  {
   "cell_type": "markdown",
   "metadata": {},
   "source": [
    "<a id='introducao'></a>\n",
    "<p style=\"text-align: left;\"><strong>1 INTRODU&Ccedil;&Atilde;O</strong></p>\n",
    "\n",
    "<p style=\"text-align: justify;\">\n",
    "Atualmente, vemos estudos de Redes Neurais vem sendo uma das melhores opções dentre as possíveis ferramentas de reconhecimento de padrões, dentre eles o reconhecimento de padrões de fala, escrita, caracteres e símbolos, sendo estes padrões gerados pela integração de processamento realizado pelos neurônios artificiais, a fim de simular ou se inspirar na capacidade cerebral humana.\n",
    "</p>\n",
    "<p style=\"text-align: justify;\">\n",
    "O reconhecimento de padrões tem a função de utilizar-se de algoritmos de aprendizagem a fim de ajustar a saída para que os neurônios ou nós interconectados entre si formam uma rede complexa de processamento ao qual essas informações a fim de serem utilizadas para aplicações em controle de processos em diversas áreas, desde o reconhecimento de fala, quanto escrita e padrões.\n",
    "</p>\n",
    "<p style=\"text-align: justify;\">\n",
    "As redes neurais, (explicar)\n",
    "</p>\n",
    "<p style=\"text-align: justify;\">\n",
    "Referente ao estudo relacionado as noticias falas, temos como base grandes sites de noticias ao qual possuem integridade e fundamentos para com o jornalismo para disseminar informações reais. Dado ao grande Boom de noticias falas, o uso  de algoritmos relacionado a aprendizado de máquina se faz necessário. E é nesta prática que se estrutura este trabalho.\n",
    "</p>\n",
    "\n",
    "<h2>&nbsp;</h2>"
   ]
  },
  {
   "cell_type": "markdown",
   "metadata": {},
   "source": [
    "<a id='objetivo'></a>\n",
    "<p style=\"text-align: left;\"><strong>2 OBJETIVO</strong></p>\n",
    "\n",
    "<p style=\"text-align: justify;\">\n",
    "Este trabalho tem por objetivo utilizar a tecnologia relacionada a Redes Neurais Artificiais para reconhecimento de padrões das fontes de notícias americanas, mais especificamente, os grandes sites de notícias.\n",
    "</p>\n",
    "<p style=\"text-align: justify;\">\n",
    "A partir do conjunto de dados utilizados, e através de métodos de recuperação de informação destes textos buscou-se desenvolver padrões de entrada baseados em conceitos semânticos, aumentando a efetividade da aplicação.\n",
    "</p>\n",
    "<p style=\"text-align: justify;\">\n",
    "O intuito maior do trabalho é desenvolver uma ferramenta que possa realizar reconhecimento de notícias falasa por meio de alimentação, utilizando todos os meios de notícias WEB. Através das entradas fornecidas pelos textos, ou por links de notícias, ao qual possamos montar padrões de texto que possam ser subdivididos em um sistema como termometro para indicar o grau de qual veridica é a informação apresentada, ao qual essa estrutura, ou aplicação poss ser utilizado por sites de busca para aperfeiçoar o filtro de informações na WEB.\n",
    "</p>\n",
    "\n",
    "<h2>&nbsp;</h2>"
   ]
  },
  {
   "cell_type": "markdown",
   "metadata": {},
   "source": [
    "<a id='fundamentos_biologicos'></a>\n",
    "<p style=\"text-align: left;\"><strong>3 FUNDAMENTOS BIOLÓGICOS</strong></p>\n",
    "\n",
    "<p style=\"text-align: justify;\">\n",
    "Temos como entendimento, o cérebro humano ao qual possui bilhões de neurônios conectados entre si. O neurônio biológico, é constituído por um corpo celular ligado por ramificações, chamadas de dendritos. Deste corpo sai uma extensão chamada axônio, que possui um terminal denominado de telodentro.\n",
    "</p>\n",
    "<p style=\"text-align: justify;\">\n",
    "Sinapse é a seção onde dois neurônios estão ligados e através de pulsos nervosos se comunicam. E esatres impulsos recebidos são processados até atingir um limiar de ação, que produz uma substância neutransmissora que flui do corpo celular para o axônio que esta conectado a um dendrito de outro neurônio.\n",
    "</p>\n",
    "\n",
    "<h2>&nbsp;</h2>"
   ]
  },
  {
   "cell_type": "markdown",
   "metadata": {},
   "source": [
    "<a id='rnn'></a>\n",
    "<p style=\"text-align: left;\"><strong>3.1 Redes Neurais Artificiais</strong></p>\n",
    "\n",
    "<p style=\"text-align: justify;\">\n",
    "Através dos estudos das Redes Neurais biológicas caracterizaram-se as Redes Neurais Recorrentes (RNN). Perceberam que com esta metodologia poderiam resolver problemas de finalidades não algorítmicas ao simular reconhecimento de resolução de problemas que apenas o cérebro humano seria capaz de realizar.\n",
    "</p>\n",
    "<p style=\"text-align: justify;\">\n",
    "O ácido ribonucleico ou é um tipo de ácido nucleico, uma molécula polimérica linear formada por unidades menores chamadas nucleótidos. Intervém em várias funções biológicas importantes como a codificação genética, e a descodificação durante a tradução de proteínas, regulação e expressão dos genes.\n",
    "</p>\n",
    "<p style=\"text-align: justify;\">\n",
    "Com isso criou-se o conceito das RNNs. Geralmente esta rede é conectada por canais de comunicação associados com pesos. As unidades fazem as operações de entrada tendo como base as conexões, gerando interações entre os nós desta rede a fim de criar um comportamento inteligente. As Redes Neurais Artificiais tem como características sua capacidades de fazer armazenamento associativo de informações, Robustez, Modelos adaptativos através de treinamento, capacidade de generalizar informações incompletas e grande paralelismo.\n",
    "</p> \n",
    "<p style=\"text-align: justify;\">\n",
    "O objetivo do campo é criar modelos  que se aproximeno do funcionamento de sistemas biológicos reais. E para se chegar a esse nível de precisão, são realizados modelos de redes neurais biológicase teoria voltado ao aprendizado estatístico e teoria da informação.\n",
    "</p>\n",
    "\n",
    "<h2>&nbsp;</h2>"
   ]
  },
  {
   "cell_type": "markdown",
   "metadata": {},
   "source": [
    "<a id='aprendizado'></a>\n",
    "<p style=\"text-align: left;\"><strong>3.2 Métodos de Aprendizado</strong></p>\n",
    "\n",
    "<p style=\"text-align: justify;\">\n",
    "Existem inúmeros tipos de algoritmo de aprendizadovoltado ao estudo de RNNs. Estes algoritmos se diferenciam entre si pelo método de classificação e modificação dos pesos de suas conexões.\n",
    "Entre os métodos de aprendizado podemos destacar:\n",
    "</p>\n",
    "\n",
    "<p style=\"text-align: justify;\">\n",
    "    \n",
    "- Aprendizado Supervisionado;\n",
    "- Aprendizado Não Supervisionado;\n",
    "- Aprendizado Hebbiano;\n",
    "- Aprendizado por Reforço;\n",
    "- Aprendizado por Competição.\n",
    "</p>\n",
    "\n",
    "<h2>&nbsp;</h2>"
   ]
  },
  {
   "cell_type": "markdown",
   "metadata": {},
   "source": [
    "<a id='padrao_texto'></a>\n",
    "<p style=\"text-align: left;\"><strong>3.3 Padrões de Texto com Python</strong></p>\n",
    "\n",
    "<p style=\"text-align: justify;\">\n",
    "Este trabalho visa utilizar aplicar o reconhecimento de palavras para montar agrupamentos a partir de orações identificadas em notícias. Para alcançar este objetivo serão utilizadas as ferramentas de desenvolvimento Python.\n",
    "</p>    \n",
    "<p style=\"text-align: justify;\">\n",
    "Assim como o reconhecimento de caracteres, os padrões de texto podem ser utilizados não só para especificar e identificar uma simbologia, mas de forma mais abstrata utilizar esta capacidade das RNNs para separar orações completas e através de neurônios de saída classificar seus significados.\n",
    "</p>\n",
    "<p style=\"text-align: justify;\">\n",
    "O “Aprendizado” inicialmente deve ser “Supervisionado” ou de “Reforço” e quando uma grande quantidade de informações estiver disposta na rede, o mesmo pode ser alterado para “Não-Supervisionado”, compreendendo que a cada iteração da rede a mesma deverá se aproximar do significado desejado na oração de entrada, dependendo do método escolhido para a aplicação.\n",
    "</p>\n",
    "<p style=\"text-align: justify;\">\n",
    "Como iniciativa buscou-se simulações simples processadas através de camadas incorporada que usa 32 vetores de comprimento para representar cada palavra. A pr&oacute;xima camada &eacute; a camada LSTM com 100 unidades de mem&oacute;ria. Como este &eacute; um problema de classifica&ccedil;&atilde;o, usamos uma camada de sa&iacute;da Densa com um &uacute;nico neur&ocirc;nio e uma fun&ccedil;&atilde;o de ativa&ccedil;&atilde;o sigm&oacute;ide para fazer as previs&otilde;es 0 ou 1 para as duas classes (N&atilde;o Confi&aacute;vel e Confi&aacute;vel).\n",
    "</p>\n",
    "\n",
    "<h2>&nbsp;</h2>"
   ]
  },
  {
   "cell_type": "markdown",
   "metadata": {},
   "source": [
    "<a id='lstm'></a>\n",
    "<p style=\"text-align: left;\"><strong>4 LSTM</strong></p>\n",
    "\n",
    "<p style=\"text-align: justify;\">\n",
    "A LSTM é uma arquitetura de rede neural recorrente (RNN) que “lembra” valores em intervalos arbitrários. A LSTM é bem adequada para classificar, processar e prever séries temporais com intervalos de tempo de duração desconhecida. A insensibilidade relativa ao comprimento do gap dá uma vantagem à LSTM em relação a RNNs tradicionais (também chamadas “vanilla”), Modelos Ocultos de Markov (MOM) e outros métodos de aprendizado de sequências.\n",
    "</p>\n",
    "<p style=\"text-align: justify;\">\n",
    "Existem várias arquiteturas de unidades LSTM. Uma arquitetura comum é composta por uma célula (a parte da memória da unidade LSTM) e três \"reguladores\", geralmente chamados de portões, do fluxo de informações dentro da unidade LSTM: uma porta de entrada , uma porta de saída e uma porta de esquecimento . Algumas variações da unidade LSTM não possuem um ou mais desses portões ou talvez tenham outros portões. Por exemplo, as unidades recorrentes fechadas (GRUs) não possuem uma porta de saída.\n",
    "</p>\n",
    "<p style=\"text-align: justify;\">\n",
    "Algumas das famosas aplicações das LSTMs incluem, modelagem de Linguagem, tradução de Idiomas, Legendas em Imagens, Geração de Texto, e Chatbots.\n",
    "</p>\n",
    "\n",
    "<h2>&nbsp;</h2>"
   ]
  },
  {
   "cell_type": "markdown",
   "metadata": {},
   "source": [
    "<a id='informacao'></a>\n",
    "<p style=\"text-align: left;\"><strong>5 RECUPERAÇÃO DE INFORMAÇÃO</strong></p>\n",
    "\n",
    "<p style=\"text-align: justify;\">\n",
    "O objetivo inicial que motivou este trabalho seria obter um sistema que pudesse através de um texto simples, determinar o assunto recorrente do documento. Porém como temos visto ao longo de todo o estudo as redes neurais artificiais trabalham com números (binários ou não), até mesmo porque os computadores ou unidade de processamento são feitos para cálculos numéricos.\n",
    "Sendo assim foi necessário pensar em uma maneira de converter o texto em uma assinatura numérica que representasse um padrão de entrada que fosse compreendido pela RNN.\n",
    "</p>\n",
    "\n",
    "<h2>&nbsp;</h2>"
   ]
  },
  {
   "cell_type": "markdown",
   "metadata": {},
   "source": [
    "<a id='implementacao'></a>\n",
    "<p style=\"text-align: left;\"><strong>6 IMPLEMENTAÇÃO</strong></p>\n",
    "\n",
    "<p style=\"text-align: justify;\">\n",
    "Pensou-se em criar um banco de dados onde cada linha continha tertia um schema json com informações tabuladas para treinamento e estudo de casos. Porém no momento da aplicação não se viu necessária a criação desta base, pois o programa desenvolvido para radicalizar e calcular a frequência dos termos, apresentou seu resultado satisfatório ao fim.\n",
    "</p>\n",
    "\n",
    "<h2>&nbsp;</h2>"
   ]
  },
  {
   "cell_type": "markdown",
   "metadata": {},
   "source": [
    "<a id='resultados'></a>\n",
    "<p style=\"text-align: left;\"><strong>7 RESULTADOS</strong></p>\n",
    "\n",
    "<p style=\"text-align: justify;\">\n",
    "Após construir o modelo de treinamento, foi possivel demonstrar os resultados conforme nosso Kernel, onde obtivemos resultados satisfatórios para a pesquisa.\n",
    "</p>\n",
    "<p style=\"text-align: justify;\">\n",
    "Para melhor resultados optamos por utilizar usar a função logloss (binary_crossentropy) e o algoritmo de otimização do ADAM. O modelo é adequado para apenas duas épocas com um lote de 64 classificações para espaçar as atualizações de peso.\n",
    "</p>\n",
    "<p style=\"text-align: justify;\">\n",
    "Distintos resultados podem ser encontrados alterando estes valores, porém de acordo com as observações feitas após diversos testes, esta foi a configuração que mais se encaixou com a necessidade de nossa aplicação. Em momento algum descartamos que ao usar uma gama maior de palavras e atributos distintos poderíamos necessitar de modificações neste escopo.\n",
    "<p style=\"text-align: justify;\">\n",
    "Existem alguns métodos que podem melhorar estes resultados, um deles é criar um vetor que representando a palavra de maneira individual em n e concatenar com o vetor de atributos. E ainda utilizar o método de soma de sufixo, onde se soma sempre o vetor da próxima palavra no texto afim de gerar uma correlação entre elas. (corrigir)\n",
    "</p>\n",
    "<p style=\"text-align: justify;\">\n",
    "Resumindo, a cada palavra que se verifica dentro do texto, soma-se ao seu vetor de palavra o vetor da próxima palavra, gerando um novo vetor para esta primeira. Este processo é feito para cada vez que a palavra aparecer no texto. Infelizmente por falta de tempo hábil não foi possível representar esta funcionalidade neste trabalho.\n",
    "</p>\n",
    "<p style=\"text-align: justify;\">\n",
    "Mas como visto foi possível provar que através de um mapa auto- organizável de uma Rede Neural Artificial podemos separar textos através de seus padrões de entrada e desta forma gerar classificações semelhantes as apresentadas no córtex cerebral humano.\n",
    "</p>\n",
    "\n",
    "<h2>&nbsp;</h2>"
   ]
  },
  {
   "cell_type": "markdown",
   "metadata": {},
   "source": [
    "<a id='conclusao'></a>\n",
    "<p style=\"text-align: left;\"><strong>8 CONCLUSÃO</strong></p>\n",
    "\n",
    "<p style=\"text-align: justify;\"></p>\n",
    "Com base nos critérios e resultados do presente estudo, onde o objetivo era apresentar uma maneira de classificar noticias, utilizando para isso Redes Neurais Artificiais, constatou-se que o objetivo foi alcançado de maneira satisfatória. Através dos conceitos aplicados e nos agrupamentos, foi possível verificar que ao apresentar um ppadrçao de limpeza nos dados, em que existe associação entre termos, e padrões verbais, seremos bem sucedidos na classificação das diretivas em textos, de forma que será possível classificar uma informação sendo como noticia falsa ou não.\n",
    "</p>\n",
    "<p style=\"text-align: justify;\">\n",
    "Para que isso fosse possível reproduziu-se em linguagem Python a função de redes de memória de longo prazo – geralmente chamadas de “LSTMs”, o que também era esperado que fosse apresentado no trabalho, por fim todos os processos foram executados com sucesso.\n",
    "</p>\n",
    "<p style=\"text-align: justify;\">\n",
    "O que reforça a afirmação feita no início deste trabalho quando classificou as Rede neural recorrente (RNN). Permitindo ser aplica também para seleção de padrões de texto.\n",
    "</p>\n",
    "\n",
    "<h2>&nbsp;</h2>"
   ]
  },
  {
   "cell_type": "markdown",
   "metadata": {},
   "source": [
    "<a id='referencias'></a>\n",
    "<p style=\"text-align: left;\"><strong>REFER&Ecirc;NCIAS</strong></p>"
   ]
  },
  {
   "cell_type": "markdown",
   "metadata": {},
   "source": [
    "<p style=\"text-align: justify;\">[1] DAVIDSON, Thomas et al. Hate Speech and Offensive Language: 24k tweets labeled as hate speech, offensive language, or neither. 2017. Dispon&iacute;vel em: &lt;https://data.world/thomasrdavidson/hate-speech-and-offensive-language&gt;. Acesso em: 14 set. 2018.</p>\n",
    "<p style=\"text-align: justify;\">[2] SANTANA, Felipe. Fake news, not&iacute;cias em texto e oportunidades. 2018. Dispon&iacute;vel em: &lt;http://minerandodados.com.br/index.php/2018/10/09/fake-news-noticias-em-texto-e-oportunidades/&gt;. Acesso em: 12 out. 2018.</p>\n",
    "<p style=\"text-align: justify;\">[3] PEREZ-ROSAS, Ver&ocirc;nica et al. Automatic Detection of Fake News. 2016. 10 f. Department of Psychology (Computer Science and Engineering,) - University of Michigan, [S.l.], 2016.</p>\n",
    "<p style=\"text-align: justify;\">[4] W. PENNEBAKER, James. Lying Words: Predicting Deception From Linguistic Styles. In: L. NEWMAN, Mathew et al. Lying Words: Predicting Deception From Linguistic Styles. 2003. ed. [S.l.]: PSPB, 2009. p. 665-675. v. 1.</p>\n",
    "<p style=\"text-align: justify;\">[5] PEREZ-ROSAS, Ver&ocirc;nica; MIHALCEA, Rada. Experiments in Open Domain Deception Detection. 2008. 6 p. Computer Science (Computer Science and Engineering) - University of Michigan, [S.l.], 2008.</p>\n",
    "<p style=\"text-align: justify;\">[6] DA ROCHA, Bernardo Abbad et al. O avan&ccedil;o das fake news e sua retrata&ccedil;&atilde;o na m&iacute;dia de refer&ecirc;ncia. 2018. 15 p. Sociedade Brasileira de Estudos Interdisciplinares da Comunica&ccedil;&atilde;o (Congresso de Ci&ecirc;ncias da Comunica&ccedil;&atilde;o na Regi&atilde;o Sul) - Universidade Federal de Santa Maria, Santa Maria, RS, Cascavel-PR, 2018.</p>\n",
    "<p style=\"text-align: justify;\">[7] RUBIN, Victoria L. et al. Fake News or Truth? Using Satirical Cues to Detect Potentially Misleading News. 2015. 11 p. Language and Information Technology Research Lab (Faculty of Information and Media Studies) - University of Western Ontario, London, Ontario, CANADA, 2015.</p>\n",
    "<p style=\"text-align: justify;\">[8] SHAFQAT, Wafa et al. The Language of Deceivers: Linguistic Features of Crowdfunding Scams. 2015. 2 p. Sangmyung University (Sangmyung University)- Sangmyung University, Cheonan, South Korea, 2015.</p>\n",
    "<p style=\"text-align: justify;\">[9] CONROY, Niall J.; RUBIN, Victoria L.; CHEN, Yimin. Automatic Deception Detection: Methods for Finding Fake News. 2014. 4 f. Language and Information Technology Research Lab (LIT.RL) (Faculty of Information and Media Studies) - University of Western Ontario, London, Ontario, CANADA, 2014.</p>\n",
    "<p style=\"text-align: justify;\">[10] DAVIDSON, Thomas et al. Automated Hate Speech Detection and the Problem of Offensive Language. 2013. 4 f. Department of Applied Mathematics (Qatar Computing Research Institute) - Cornell University, 3Department of Information Science, Ithaca, NY, USA, 2013.</p>\n",
    "<p style=\"text-align: justify;\">[11] MIN H. Kao Department of Electrical Engineering &amp; Computer Science. [S. l.], 2019. Available in: https://www.eecs.utk.edu/people/student-organizations/. Accessed in: 9 jul. 2019.</p>\n",
    "<p style=\"text-align: justify;\">[12] BROWNLEE , Jason. A Gentle Introduction to the Rectified Linear Unit (ReLU). [S. l.], 9 jan. 2019. Available in: https://machinelearningmastery.com/rectified-linear-activation-function-for-deep-learning-neural-networks/. Accessed in: 9 jul. 2019.</p>\n",
    "<p style=\"text-align: justify;\">[13] DEPARTMENT of Electrical Engineering and Computer Science - UTK. [S. l.], 2019. Dispon&iacute;vel em: https://www.facebook.com/EECS.UTK/. Accessed in: 9 jul. 2019.</p>\n",
    "<p style=\"text-align: justify;\">[14] BROWNLEE, Jason. Dropout Regularization in Deep Learning Models With Keras. [S. l.], 20 jun. 2016. Available in: https://machinelearningmastery.com/dropout-regularization-deep-learning-models-keras/. Accessed in: 9 jul. 2019.</p>\n",
    "<p style=\"text-align: justify;\">[15] BIDIRECTIONAL Long Short-Term Memory (BI-LSTM) with Attention Mechanism. [S. l.], 30 jun. 2019. Available in: http://primo.ai/index.php?title=Bidirectional_Long_Short-Term_Memory_(BI-LSTM)_with_Attention_Mechanism. Accessed in: 9 jul. 2019.</p>\n",
    "<p style=\"text-align: justify;\">[16] BROWNLEE, Jason. Sequence Classification with LSTM Recurrent Neural Networks in Python with Keras. [S. l.], 26 jul. 2016. Available in: https://machinelearningmastery.com/sequence-classification-lstm-recurrent-neural-networks-python-keras/. Accessed in: 9 jul. 2019.</p>\n",
    "<p style=\"text-align: justify;\">[17] BIDIRECTIONAL recurrent neural networks. [S. l.], 7 jul. 2019. Available in: https://en.wikipedia.org/wiki/Bidirectional_recurrent_neural_networks. Accessed in: 9 jul. 2019.</p>\n",
    "<p style=\"text-align: justify;\">[18] A BEGINNER&lsquo;S Guide to LSTMs and Recurrent Neural Networks. [S. l.], 2019. Available in: https://skymind.ai/wiki/lstm. Accessed in: 9 jul. 2019.</p>\n",
    "<p style=\"text-align: justify;\">[19] OLAH, Christopher. Understanding LSTM Networks. [S. l.], 27 ago. 2015. Available in: https://colah.github.io/posts/2015-08-Understanding-LSTMs/. Accessed in: 9 jul. 2019.</p>\n",
    "<p style=\"text-align: justify;\">[20] HE, Lang He et al. Multimodal Affective Dimension Prediction Using Deep Bidirectional Long Short-Term Memory Recurrent Neural Networks. Proceeding AVEC &lsquo;15 Proceedings of the 5th International Workshop on Audio/Visual Emotion Challenge Pages 73-80, 26 out. 2015. Available in: https://dl.acm.org/citation.cfm?id=2811641. Accessed in: 9 jul. 2019.</p>\n",
    "<p style=\"text-align: justify;\">[21] GUAN, Zhonghui et al. Integration of Long-Term-Memory-Related SynapticPlasticity Involves Bidirectional Regulationof Gene Expression and Chromatin Structure. [S. l.], 15 nov. 2002. Dispon&iacute;vel em: https://reader.elsevier.com/reader/sd/pii/S0092867402010747?token=73DB87FE6A1527FD3EF86124A1AC74C4D12672A129141DEEE0E768066DC0E8118D7D\n",
    "E4A039BB31A75FE45A3EE126C6C3. Accessed in: 9 jul. 2019.</p>\n",
    "<p style=\"text-align: justify;\">[22] LIWICKI, Marcus et al. A Novel Approach to On-Line Handwriting Recognition Based on Bidirectional Long Short-Term Memory Networks. [S. l.], 2019. Available in: https://mediatum.ub.tum.de/doc/1289961/file.pdf. Accessed in: 9 jul. 2019.</p>\n",
    "<p style=\"text-align: justify;\">[23] ZHOU, Peng et al. Attention-Based Bidirectional Long Short-Term Memory Networks for Relation Classification. [S. l.], 2019. Dispon&iacute;vel em: https://www.aclweb.org/anthology/P16-2034. Accessed in: 9 jul. 2019.</p>\n",
    "<p style=\"text-align: justify;\">[24] Frei , Lukas. Speed Up Your Exploratory Data Analysis With Pandas-Profiling. [S. l.], 25 apr. 2019. Available in: https://towardsdatascience.com/speed-up-your-exploratory-data-analysis-with-pandas-profiling-88b33dc53625. Accessed in: 9 jul. 2019.</p>"
   ]
  },
  {
   "cell_type": "markdown",
   "metadata": {},
   "source": [
    "<h2>&nbsp;</h2>"
   ]
  },
  {
   "cell_type": "markdown",
   "metadata": {},
   "source": [
    "***"
   ]
  }
 ],
 "metadata": {
  "kernelspec": {
   "display_name": "Python [conda env:Programming]",
   "language": "python",
   "name": "conda-env-Programming-py"
  },
  "language_info": {
   "codemirror_mode": {
    "name": "ipython",
    "version": 3
   },
   "file_extension": ".py",
   "mimetype": "text/x-python",
   "name": "python",
   "nbconvert_exporter": "python",
   "pygments_lexer": "ipython3",
   "version": "3.7.1"
  }
 },
 "nbformat": 4,
 "nbformat_minor": 2
}
